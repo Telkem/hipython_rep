{
 "cells": [
  {
   "cell_type": "code",
   "execution_count": 3,
   "id": "875f0c2e-fdd6-4423-9640-a540713fb74e",
   "metadata": {},
   "outputs": [
    {
     "name": "stdout",
     "output_type": "stream",
     "text": [
      "0\n"
     ]
    }
   ],
   "source": [
    "#변수 number가 주어졌을 때, 숫자가 양수인지 음수인지 또는 0인지 판별하고, 해당 결과를 출력하는 코드를 작성하세요.\n",
    "number = 0\n",
    "print(\"양수\" if number > 0 else \"음수\" if number < 0 else \"0\")"
   ]
  },
  {
   "cell_type": "code",
   "execution_count": 4,
   "id": "0f37fbb3-9b6d-4589-8504-c8b7fbf90cb3",
   "metadata": {},
   "outputs": [
    {
     "name": "stdout",
     "output_type": "stream",
     "text": [
      "52는 짝수입니다.\n"
     ]
    }
   ],
   "source": [
    "#변수 number가 주어졌을 때, 숫자가 짝수인지 홀수인지 판별하고, 해당 결과를 출력하는 코드를 작성하세요.\n",
    "number = 52\n",
    "print(f\"{number}는 짝수입니다.\" if number % 2 == 0 else f\"{number}는 홀수입니다.\")"
   ]
  },
  {
   "cell_type": "code",
   "execution_count": 5,
   "id": "2f0b98b2-8cdf-4a77-9d32-9e4abd7cce08",
   "metadata": {},
   "outputs": [
    {
     "name": "stdout",
     "output_type": "stream",
     "text": [
      "B\n"
     ]
    }
   ],
   "source": [
    "#변수 score가 주어졌을 때, 다음 기준에 따라 학점을 출력하는 코드를 작성하세요.\n",
    "# 90점 이상: A\n",
    "# 80점 이상 90점 미만: B\n",
    "# 70점 이상 80점 미만: C\n",
    "# 70점 미만: F\n",
    "score = 86\n",
    "if score >= 90:\n",
    "    print(\"A\")\n",
    "elif score >= 80:\n",
    "    print(\"B\")\n",
    "elif score >= 70:\n",
    "    print(\"C\")\n",
    "else:\n",
    "    print(\"F\")"
   ]
  },
  {
   "cell_type": "code",
   "execution_count": 7,
   "id": "00359986-8804-4bd5-9bdd-2d116ddac085",
   "metadata": {},
   "outputs": [
    {
     "name": "stdout",
     "output_type": "stream",
     "text": [
      "90.0\n"
     ]
    }
   ],
   "source": [
    "#변수 price와 is_discount가 주어졌을 때, is_discount가 True이면 가격에 10% 할인을 적용하고, 그렇지 않으면 원래 가격을 출력하는 코드를 작성하세요.\n",
    "price = 100\n",
    "is_discount = True\n",
    "print(f\"{price * 0.9}\" if is_discount else f\"{price}\")"
   ]
  },
  {
   "cell_type": "code",
   "execution_count": 8,
   "id": "666761f8-9c5d-4936-ac4d-961cc39df262",
   "metadata": {},
   "outputs": [
    {
     "name": "stdout",
     "output_type": "stream",
     "text": [
      "1\n",
      "2\n",
      "3\n",
      "4\n",
      "5\n",
      "6\n",
      "7\n",
      "8\n",
      "9\n",
      "10\n"
     ]
    }
   ],
   "source": [
    "#반복문을 사용하여 1부터 10까지의 숫자를 출력하는 코드를 작성하세요.\n",
    "for i in range(1,11):\n",
    "    print(i)"
   ]
  },
  {
   "cell_type": "code",
   "execution_count": 15,
   "id": "0ed0c783-fba1-4d57-b539-81f64d3fe4e3",
   "metadata": {},
   "outputs": [
    {
     "name": "stdout",
     "output_type": "stream",
     "text": [
      "[2, 4, 6, 8, 10]\n"
     ]
    }
   ],
   "source": [
    "#위 반복문(1~10) 숫자 중, 짝수의 값만 출력하는 코드를 작성하세요.\n",
    "# for i in range(1,11):\n",
    "#     if i % 2 == 0:\n",
    "#         print(i)\n",
    "\n",
    "even = [i for i in range(1,11) if i % 2 == 0] #Comprehension\n",
    "print(even)"
   ]
  },
  {
   "cell_type": "code",
   "execution_count": 18,
   "id": "08492fb5-974a-40cc-b1e2-38b7f9a76b63",
   "metadata": {},
   "outputs": [
    {
     "name": "stdout",
     "output_type": "stream",
     "text": [
      "founded\n"
     ]
    }
   ],
   "source": [
    "#리스트 items와 변수 target이 주어졌을 때, for 반복문을 사용하여 target이 리스트에 있는지 확인하고, 결과를 출력하는 코드를 작성하세요.\n",
    "items = [\"apple\", \"banana\", \"cherry\"]\n",
    "target = \"banana\"\n",
    "found = False\n",
    "for item in items:\n",
    "    if target == item:\n",
    "        found = True\n",
    "        break\n",
    "if found:\n",
    "    print(\"founded\")\n",
    "else:\n",
    "    print(\"not founded\")"
   ]
  },
  {
   "cell_type": "code",
   "execution_count": 25,
   "id": "8a983451-c00f-4dba-be08-8414a85512b1",
   "metadata": {},
   "outputs": [
    {
     "data": {
      "text/plain": [
       "(False, True)"
      ]
     },
     "execution_count": 25,
     "metadata": {},
     "output_type": "execute_result"
    }
   ],
   "source": [
    "list_1 = []\n",
    "list_2 = [1,2,3]\n",
    "bool(list_1), bool(list_2)"
   ]
  },
  {
   "cell_type": "code",
   "execution_count": 26,
   "id": "8ea6ccbb-b895-46bc-8a19-3978a0ad4c93",
   "metadata": {},
   "outputs": [
    {
     "name": "stdout",
     "output_type": "stream",
     "text": [
      "not founded\n"
     ]
    }
   ],
   "source": [
    "items = [\"apple\", \"banana\", \"cherry\"]\n",
    "target = \"grape\"\n",
    "found = True if [item for item in items if item == target] else False\n",
    "if found:\n",
    "    print(\"founded\")\n",
    "else:\n",
    "    print(\"not founded\")"
   ]
  },
  {
   "cell_type": "code",
   "execution_count": 12,
   "id": "5dd599c9-f0a9-4fd3-a155-2f6f511d746e",
   "metadata": {},
   "outputs": [
    {
     "name": "stdout",
     "output_type": "stream",
     "text": [
      "2 * 1 = 2\n",
      "2 * 2 = 4\n",
      "2 * 3 = 6\n",
      "2 * 4 = 8\n",
      "2 * 5 = 10\n",
      "2 * 6 = 12\n",
      "2 * 7 = 14\n",
      "2 * 8 = 16\n",
      "2 * 9 = 18\n"
     ]
    }
   ],
   "source": [
    "#for 반복문을 사용하여 구구단 2단의 결과물을 출력하는 코드를 작성하세요.\n",
    "for i in range(1,10):\n",
    "    print(f\"2 * {i} = {2 * i}\")"
   ]
  },
  {
   "cell_type": "code",
   "execution_count": 13,
   "id": "c3d493b1-bb96-4481-bf1a-1247898c94fc",
   "metadata": {},
   "outputs": [
    {
     "name": "stdout",
     "output_type": "stream",
     "text": [
      "무료\n",
      "무료\n",
      "무료\n",
      "5달러\n",
      "5달러\n",
      "10달러\n",
      "10달러\n",
      "10달러\n",
      "10달러\n",
      "12달러\n",
      "12달러\n",
      "12달러\n",
      "사용할 수 없음\n"
     ]
    }
   ],
   "source": [
    "# 나이에 따라 다음과 같은 입장료를 받고 있다고 할 때, 반복문을 이용하여 1세부터 13세까지의 전체 가격표를 만드는 코드를 작성하세요.\n",
    "# 3세 이하: 무료\n",
    "# 3세에서 5세: 5달러\n",
    "# 5세에서 9세: 10달러\n",
    "# 9세에서 12세: 12달러\n",
    "# 13세 이상: 사용할 수 없음 (프로그램 종료)\n",
    "for i in range(1, 14):\n",
    "    if i <= 3:\n",
    "        print(\"무료\")\n",
    "    elif i <= 5:\n",
    "        print(\"5달러\")\n",
    "    elif i <= 9:\n",
    "        print(\"10달러\")\n",
    "    elif i <= 12:\n",
    "        print(\"12달러\")\n",
    "    else:\n",
    "        print(\"사용할 수 없음\")\n",
    "        break"
   ]
  },
  {
   "cell_type": "code",
   "execution_count": 62,
   "id": "b414db2f-cc4e-4854-9977-530c63a8fd0d",
   "metadata": {},
   "outputs": [
    {
     "name": "stdin",
     "output_type": "stream",
     "text": [
      "휴대전화 번호 입력:  01616515\n"
     ]
    },
    {
     "name": "stdout",
     "output_type": "stream",
     "text": [
      "당신은 KT 이용자입니다.\n"
     ]
    }
   ],
   "source": [
    "# 휴대폰 번호 앞자리에 따라 통신사는 아래와 같이 구분된다.\n",
    "# 사용자로부터 휴대전화 번호를 입력 받고, 통신사를 출력하는 프로그램을 작성하라.\n",
    "# 번호 통신사\n",
    "# 011 SKT\n",
    "# 016 KT\n",
    "# 019 LGU\n",
    "# 010 알수없음\n",
    "\n",
    "phone_number = input(\"휴대전화 번호 입력: \")\n",
    "# tele = \"SKT\" if phone_number[:3] == \"011\" else \"KT\" if phone_number[:3] == \"016\" else \"LGU\" if phone_number[:3] == \"019\" else \"알수없음\" if phone_number[:3] == \"010\" else \"\"\n",
    "# print(tele)\n",
    "\n",
    "# number = phone_number[:3]\n",
    "number = phone_number.split(\"-\")[0] if \"-\" in phone_number else phone_number[:3]\n",
    "\n",
    "tel_com = {\"011\" : \"SKT\", \"016\": \"KT\", \"019\" : \"LGU\", \"010\" : \"알수없음\"}\n",
    "com = tel_com.get(number, \"못찾았음\")\n",
    "print(f\"당신은 {com} 이용자입니다.\")"
   ]
  },
  {
   "cell_type": "code",
   "execution_count": 73,
   "id": "2ececcce-dc52-4be9-868e-36d4ef582d98",
   "metadata": {},
   "outputs": [
    {
     "name": "stdin",
     "output_type": "stream",
     "text": [
      "주민등록번호: (-포함) \n"
     ]
    },
    {
     "name": "stdout",
     "output_type": "stream",
     "text": [
      "잘못된 입력입니다.\n"
     ]
    }
   ],
   "source": [
    "# 주민등록번호는 13자리로 구성되는데 마지막 자리수는 주민등록번호의 유효성을 체크하는데 사용된다.\n",
    "# 먼저 앞에서부터 12자리의 숫자에 2, 3, 4, 5, 6, 7, 8, 9, 2, 3, 4, 5를 차례로 곱한 뒤 그 값을 전부 더한다.\n",
    "# 연산 결과 값을 11로 나누면 나머지가 나오는데 11에서 나머지를 뺀 값이 주민등록번호의 마지막 번호가 된다.\n",
    "id_num = input(\"주민등록번호: (-포함)\")\n",
    "if len(id_num) !=  14 or id_num.count(\"-\") != 1:\n",
    "    print(\"잘못된 입력입니다.\")\n",
    "else:\n",
    "    tmp = 2\n",
    "    total = 0\n",
    "    for i in range(13):\n",
    "        if id_num[i] != \"-\":\n",
    "            total += int(id_num[i]) * tmp\n",
    "            tmp += 1\n",
    "            if tmp >= 10:\n",
    "                tmp = 2\n",
    "    if int(id_num[-1]) == 11 - (total % 11):\n",
    "        print(\"유효한 주민등록번호입니다.\")\n",
    "    else:\n",
    "        print(\"유효하지 않은 주민등록번호입니다.\")"
   ]
  },
  {
   "cell_type": "code",
   "execution_count": 80,
   "id": "b6f51160-91fa-4fdb-9671-159a70919d7a",
   "metadata": {},
   "outputs": [
    {
     "name": "stdin",
     "output_type": "stream",
     "text": [
      "주민등록번호: (-포함) 821010-1635214\n"
     ]
    },
    {
     "name": "stdout",
     "output_type": "stream",
     "text": [
      "유효한 주민등록번호입니다.\n"
     ]
    }
   ],
   "source": [
    "while True:\n",
    "    id_num = input(\"주민등록번호: (-포함)\")\n",
    "    if len(id_num) !=  14 or id_num.count(\"-\") != 1:\n",
    "        print(\"잘못된 입력입니다.\")\n",
    "        continue\n",
    "    tmp = 2\n",
    "    total = 0\n",
    "    for i in range(13):\n",
    "        if id_num[i] != \"-\":\n",
    "            total += int(id_num[i]) * tmp\n",
    "            tmp += 1\n",
    "            if tmp >= 10:\n",
    "                tmp = 2\n",
    "    if int(id_num[-1]) == (11 - (total % 11) % 10):\n",
    "        print(\"유효한 주민등록번호입니다.\")\n",
    "    else:\n",
    "        print(\"유효하지 않은 주민등록번호입니다.\")\n",
    "    break"
   ]
  },
  {
   "cell_type": "code",
   "execution_count": 82,
   "id": "cc11cb3f-a6a2-45b5-9858-ea1daa40db45",
   "metadata": {},
   "outputs": [
    {
     "name": "stdout",
     "output_type": "stream",
     "text": [
      "상승장\n"
     ]
    }
   ],
   "source": [
    "# btc 딕셔너리 안에는 시가, 종가, 최고가, 최저가 등이 저장되어 있다.\n",
    "# 최고가와 최저가의 차이를 변동폭으로 정의할 때 (시가 + 변동폭)이 최고가 보다 높을 경우 \"상승장\",\n",
    "# 그렇지 않은 경우 \"하락장\" 문자열을 출력하라\n",
    "\n",
    "import requests\n",
    "btc = requests.get(\"https://api.bithumb.com/public/ticker/\").json()['data']\n",
    "opening_price = float(btc['opening_price'])\n",
    "max_price = float(btc['max_price'])\n",
    "min_price = float(btc['min_price'])\n",
    "if opening_price + max_price - min_price > max_price: #opening_price - min_price > 0\n",
    "    print(\"상승장\")\n",
    "else:\n",
    "    print(\"하락장\")"
   ]
  },
  {
   "cell_type": "code",
   "execution_count": 87,
   "id": "d2d5a4a7-f8ff-4ca7-9454-0ef5235094f6",
   "metadata": {},
   "outputs": [
    {
     "name": "stdout",
     "output_type": "stream",
     "text": [
      "0\n"
     ]
    }
   ],
   "source": [
    "# 리스트에는 3일 간의 ohlc 데이터가 저장돼 있다. 종가에 매수해서 시가에 매도 했을 경우 총 수익금을 계산하라.,\n",
    "\n",
    "ohlc = [[\"open\", \"high\", \"low\", \"close\"],\n",
    "        [100, 110, 70, 100],\n",
    "        [200, 210, 180, 190],\n",
    "        [300, 310, 300, 310]]\n",
    "   \n",
    "total = 0\n",
    "# for i in range(1,len(ohlc)):\n",
    "#     total += ohlc[i][3] - ohlc[i][0]\n",
    "\n",
    "for a in ohlc[1:]:\n",
    "    total += a[3] - a[0]\n",
    "print(total)\n",
    "# 1일차 수익 0원 (100 - 100), 2일차 수익 -10원 (190 - 200), 3일차 수익 10원 (310 - 300) 이다."
   ]
  }
 ],
 "metadata": {
  "kernelspec": {
   "display_name": "Python 3 (ipykernel)",
   "language": "python",
   "name": "python3"
  },
  "language_info": {
   "codemirror_mode": {
    "name": "ipython",
    "version": 3
   },
   "file_extension": ".py",
   "mimetype": "text/x-python",
   "name": "python",
   "nbconvert_exporter": "python",
   "pygments_lexer": "ipython3",
   "version": "3.12.9"
  }
 },
 "nbformat": 4,
 "nbformat_minor": 5
}
