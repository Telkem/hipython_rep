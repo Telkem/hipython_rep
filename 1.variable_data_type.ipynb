{
 "cells": [
  {
   "cell_type": "markdown",
   "id": "72fb59b4-c9b2-4419-a8bb-af6f538b3a6e",
   "metadata": {},
   "source": [
    "# 들어가기 : 주석"
   ]
  },
  {
   "cell_type": "code",
   "execution_count": null,
   "id": "47cf6bbe-9fca-4304-88c1-ce8a4d7cf556",
   "metadata": {},
   "outputs": [],
   "source": [
    "# 이 코드는 실행되지 않습니다. ctrl + / 자동 주석\n",
    "# age = input()\n",
    "# age\n",
    "\n"
   ]
  },
  {
   "cell_type": "code",
   "execution_count": null,
   "id": "0933b7ed-7e6c-4a2a-8c33-7e8a6d40faa5",
   "metadata": {},
   "outputs": [],
   "source": [
    "def calculate_sum(a, b):\n",
    "    result = a + b\n",
    "    return result\n",
    "print(calculate_sum(5, 6))"
   ]
  },
  {
   "cell_type": "markdown",
   "id": "e1ea2cc5-1300-4d9d-8c9b-1e5336eaf57e",
   "metadata": {},
   "source": [
    "# 표준 입력과 표준 출력"
   ]
  },
  {
   "cell_type": "code",
   "execution_count": null,
   "id": "fcb3d89e-2696-4d1a-99ff-ff405feab9e6",
   "metadata": {},
   "outputs": [],
   "source": [
    "12345\n",
    "10\n",
    "# ipython 라이브러리의 기본 기능\n",
    "# 마지막에 있는 변수 출력"
   ]
  },
  {
   "cell_type": "code",
   "execution_count": null,
   "id": "7149f8e6-4ded-41fa-adfc-461a6034081b",
   "metadata": {},
   "outputs": [],
   "source": [
    "print(12345)\n",
    "10"
   ]
  },
  {
   "cell_type": "code",
   "execution_count": null,
   "id": "a52b4515-4041-48a7-816a-1b5594a9a072",
   "metadata": {},
   "outputs": [],
   "source": [
    "\"12345\" # 문자열 str"
   ]
  },
  {
   "cell_type": "code",
   "execution_count": null,
   "id": "b9218c09-59d6-406a-a9b8-74c5bbdb48f4",
   "metadata": {},
   "outputs": [],
   "source": [
    "type('12345')"
   ]
  },
  {
   "cell_type": "code",
   "execution_count": null,
   "id": "ee36cfb6-9c35-4f41-8d5c-8c04120be19e",
   "metadata": {},
   "outputs": [],
   "source": [
    "12345 + 10"
   ]
  },
  {
   "cell_type": "code",
   "execution_count": null,
   "id": "d13d0934-bff7-417f-a1d8-e66abc035d78",
   "metadata": {},
   "outputs": [],
   "source": [
    "'12345' + '10'"
   ]
  },
  {
   "cell_type": "code",
   "execution_count": null,
   "id": "6bb96631-6a67-4a18-93a2-74a97ae32e44",
   "metadata": {},
   "outputs": [],
   "source": [
    "'12345' * 3"
   ]
  },
  {
   "cell_type": "code",
   "execution_count": null,
   "id": "ec1958f6-98ce-4cc7-9bfc-a659f5034709",
   "metadata": {},
   "outputs": [],
   "source": [
    "name = input(\"당신의 이름을 입력하세요\")"
   ]
  },
  {
   "cell_type": "code",
   "execution_count": null,
   "id": "d16a75f0-1aa9-4c00-ad19-302e272aa53a",
   "metadata": {},
   "outputs": [],
   "source": [
    "age = input(\"당신의 나이를 입력하세요\")\n",
    "age"
   ]
  },
  {
   "cell_type": "code",
   "execution_count": null,
   "id": "74e26429-44ee-40c0-8ecd-22eac3e87dc6",
   "metadata": {},
   "outputs": [],
   "source": [
    "age"
   ]
  },
  {
   "cell_type": "code",
   "execution_count": null,
   "id": "2295c8a3-2101-477a-bebd-097a86736e2c",
   "metadata": {},
   "outputs": [],
   "source": [
    "name"
   ]
  },
  {
   "cell_type": "code",
   "execution_count": null,
   "id": "ecf48f80-4132-4fc0-bf15-d4dfdcf971dc",
   "metadata": {},
   "outputs": [],
   "source": [
    "print(age, name)\n",
    "age, name"
   ]
  },
  {
   "cell_type": "code",
   "execution_count": null,
   "id": "ec2f39cb-6d76-4f1d-b79c-a4ae3ca4790f",
   "metadata": {},
   "outputs": [],
   "source": [
    "print(\"나는 \" + name + \"이고, 나이는 \" + age + \"입니다.\") "
   ]
  },
  {
   "cell_type": "code",
   "execution_count": null,
   "id": "803b0214-b4d5-404f-961d-b778ec0ba645",
   "metadata": {},
   "outputs": [],
   "source": [
    "age = int(age)\n",
    "age + 10"
   ]
  },
  {
   "cell_type": "markdown",
   "id": "c5c905c1-61a2-4414-9b13-260fb3657cf4",
   "metadata": {},
   "source": [
    "# 연습"
   ]
  },
  {
   "cell_type": "code",
   "execution_count": null,
   "id": "386c1530-481c-4925-8f96-0768ca906778",
   "metadata": {},
   "outputs": [],
   "source": [
    "first = input(\"조 : \")\n",
    "second = input(\"설 : \")\n",
    "third = input(\"훈 : \")\n",
    "print(first)\n",
    "print(second)\n",
    "print(third)"
   ]
  },
  {
   "cell_type": "code",
   "execution_count": null,
   "id": "d1a97d67-b1d3-4e41-b744-38bcc17d6211",
   "metadata": {},
   "outputs": [],
   "source": [
    "print(first, second, third, sep=\"\\n\")"
   ]
  },
  {
   "cell_type": "code",
   "execution_count": null,
   "id": "df5c2317-df1c-41ef-bcd0-fdcacb621bc5",
   "metadata": {},
   "outputs": [],
   "source": [
    "삼행시 = first + \"\\n\" + second + \"\\n\" + third\n",
    "print(삼행시)"
   ]
  },
  {
   "cell_type": "markdown",
   "id": "489aa2ef-a83d-4e1b-ad35-635e16f65fd9",
   "metadata": {},
   "source": [
    "# 변수"
   ]
  },
  {
   "cell_type": "markdown",
   "id": "c6ae789a-615d-4e6b-802c-7767d5b4620f",
   "metadata": {},
   "source": [
    "변수 type safe   \n",
    "변수를 선언할 때 type을 지정하지 않아도 됨   \n",
    "변수명 = 값   \n",
    "\n",
    "## 변수의 명명 규칙\n",
    "1. 문자, 숫자, 밑줄(_)을 가지고 만든다\n",
    "2. 숫자로 시작 X\n",
    "3. 대소문자 구분\n",
    "4. 예약어, 특수기호, 공백 X"
   ]
  },
  {
   "cell_type": "code",
   "execution_count": null,
   "id": "45383f4c-dbca-4ae3-8428-4fe578c55920",
   "metadata": {},
   "outputs": [],
   "source": [
    "x = 10\n",
    "y = \"hello\"\n",
    "z = 3.141592\n",
    "x, y, z"
   ]
  },
  {
   "cell_type": "code",
   "execution_count": null,
   "id": "73ca097d-9e94-4127-a47e-2e8713771dd3",
   "metadata": {},
   "outputs": [],
   "source": [
    "print(type(x), type(y), type(z))"
   ]
  },
  {
   "cell_type": "code",
   "execution_count": null,
   "id": "503b7d26-648c-4408-90e0-2b9893a75dde",
   "metadata": {},
   "outputs": [],
   "source": [
    "a, b, c = 10, 20, 30\n",
    "a, b, c"
   ]
  },
  {
   "cell_type": "code",
   "execution_count": null,
   "id": "cd8e73f3-6fa7-4b3a-b2d0-b6a217cc2e47",
   "metadata": {},
   "outputs": [],
   "source": [
    "a = 10; b = 20; c= 30"
   ]
  },
  {
   "cell_type": "code",
   "execution_count": null,
   "id": "8d02b103-c0b2-4192-8a64-0c826291c218",
   "metadata": {},
   "outputs": [],
   "source": [
    "a = b = c = 40\n",
    "a,b,c"
   ]
  },
  {
   "cell_type": "code",
   "execution_count": null,
   "id": "f248995c-4b48-4c98-89b7-0cfe06433dd6",
   "metadata": {},
   "outputs": [],
   "source": [
    "d = True # bool형\n",
    "e = None # type이 없음 NoneType\n",
    "d, e"
   ]
  },
  {
   "cell_type": "code",
   "execution_count": null,
   "id": "a6d9315c-1104-41d2-9ffa-67047f0bf8fc",
   "metadata": {},
   "outputs": [],
   "source": [
    "a = 10\n",
    "b = a\n",
    "print(a, b)\n",
    "id(a), id(b)"
   ]
  },
  {
   "cell_type": "code",
   "execution_count": null,
   "id": "210b1da1-2190-4e15-9342-f3a0c5128cf8",
   "metadata": {},
   "outputs": [],
   "source": [
    "aa = 10\n",
    "bb = 20\n",
    "print(aa, bb)\n",
    "id(aa), id(bb)"
   ]
  },
  {
   "cell_type": "code",
   "execution_count": null,
   "id": "d5e8164f-b063-4bee-8643-909bf678ca20",
   "metadata": {},
   "outputs": [],
   "source": [
    "#의미 부여가 어려운 변수명 > 수식이 아닌 경우는 사용하지 않음\n",
    "x = 100\n",
    "y = 100\n",
    "\n",
    "#의미 있는 변수명\n",
    "age = 20\n",
    "name = \"홍길동\"\n",
    "user_name = \"hong\"\n",
    "\n",
    "#대문자 UPPER-case 상수에 사용\n",
    "PI = 3.141592\n",
    "MAX_CONNECTIONS = 10 #최대 연결 수\n",
    "MIN_VALEU = 0 #최소값"
   ]
  },
  {
   "cell_type": "markdown",
   "id": "afb77c54-21df-415a-beb6-96e885296a79",
   "metadata": {},
   "source": [
    "## NAME_SPACE\n",
    "   \n",
    "변수가 최초로 정의된 영역에 따라 유효범위가 결정됨\n",
    "   \n",
    "-지역변수 : 함수 영역 내에서 선언한 변수   \n",
    "-전역변수 : 함수 영역 밖에서 선언한 변수, global 키워드를 사용   \n",
    "-정적변수 : 클래스에서 사용하는 변수   "
   ]
  },
  {
   "cell_type": "code",
   "execution_count": null,
   "id": "09a19c59-19fe-491c-aec6-e2191b9de7c5",
   "metadata": {},
   "outputs": [],
   "source": [
    "#지역변수\n",
    "def local_example():\n",
    "    local_var = 100\n",
    "    print(\"여기는 함수의 영역입니다.\", local_var)\n",
    "\n",
    "#local_var NameError: name 'local_var' is not defined\n",
    "local_example()"
   ]
  },
  {
   "cell_type": "code",
   "execution_count": null,
   "id": "b177dbe6-88e6-48ab-ba25-c343578a1eeb",
   "metadata": {},
   "outputs": [],
   "source": [
    "#전역변수\n",
    "global_var = \"나는 전역이다.\"\n",
    "print(global_var)\n",
    "\n",
    "def global_example():\n",
    "    print(global_var)\n",
    "\n",
    "global_example()"
   ]
  },
  {
   "cell_type": "code",
   "execution_count": null,
   "id": "3d97893d-4ed5-47d4-8be1-5afc7234fe26",
   "metadata": {},
   "outputs": [],
   "source": [
    "#전역변수\n",
    "var_test = \"나는 전역이다.\"\n",
    "print(var_test)\n",
    "\n",
    "def global_example():\n",
    "    global var_test\n",
    "    var_test = 100\n",
    "    print(var_test)\n",
    "\n",
    "global_example()\n",
    "print(var_test)"
   ]
  },
  {
   "cell_type": "code",
   "execution_count": null,
   "id": "aebab39e-4367-455b-a83d-b626227fcb3a",
   "metadata": {},
   "outputs": [],
   "source": [
    "#변수 영역 연습\n",
    "\n",
    "counter = 0\n",
    "def increment_counter():\n",
    "    global counter\n",
    "    counter += 1\n",
    "    print(\"카운터 : \", counter)\n",
    "\n",
    "for i in range(3):\n",
    "    increment_counter()"
   ]
  },
  {
   "cell_type": "markdown",
   "id": "5d82320a-51a1-41af-b8aa-c2150431f5d3",
   "metadata": {},
   "source": [
    "# 교재 변수 연습"
   ]
  },
  {
   "cell_type": "code",
   "execution_count": null,
   "id": "ad8010c6-0635-42f2-9086-b3f5546fd30c",
   "metadata": {},
   "outputs": [],
   "source": [
    "a = 1\n",
    "b = \"python\"\n",
    "c = [1,2,3]\n",
    "print(a, b,c )"
   ]
  },
  {
   "cell_type": "code",
   "execution_count": null,
   "id": "da704a3d-b92e-447e-8992-097e2610fb90",
   "metadata": {},
   "outputs": [],
   "source": [
    "a = [1, 2, 3]\n",
    "b = a\n",
    "b.append(4)\n",
    "print(a)"
   ]
  },
  {
   "cell_type": "markdown",
   "id": "1ba6677b-a25b-465e-9348-c164ec83e900",
   "metadata": {},
   "source": [
    "# 자료형\n",
    "\n",
    "- 기본 자료형 : 숫자형, 문자열형, 부울형\n",
    "- 복합 자료형 : 리스트, 셋, 튜플, 딕셔너리"
   ]
  },
  {
   "cell_type": "markdown",
   "id": "f3c01c81-ccbd-466d-98c4-ed513894dbc6",
   "metadata": {},
   "source": [
    "| type | 설명 | 예 |\n",
    "|--------|--------|--------|\n",
    "| 정수형 (int) | 정수를 저장하는 자료형 | 1, 5, -100 |\n",
    "| 실수형 (float) | 실수를 저장하는 자료형 | 3.14, -0.1 |\n",
    "| 문자열 (str) | 텍스트를 저장하는 자료형 | \"Hello\", \"파이썬\" |\n",
    "| 논리형 (bool) | 참/거짓값을 저장하는 자료형 | True, False |"
   ]
  },
  {
   "cell_type": "markdown",
   "id": "a128fd2a-c770-46e1-a7fd-6615fa414b1e",
   "metadata": {},
   "source": [
    "- 수정 불가능한 데이터 타입 : 수치형, 부울형, 문자열, 튜플\n",
    "- 수정 가능한 데이터 타입 : 리스트, 딕셔너리, 셋"
   ]
  },
  {
   "cell_type": "code",
   "execution_count": null,
   "id": "3b1fc2b5-9cbc-4ff7-833e-544c1bf7dfd4",
   "metadata": {},
   "outputs": [],
   "source": [
    "#수치형 - int\n",
    "20, type(20)"
   ]
  },
  {
   "cell_type": "code",
   "execution_count": null,
   "id": "d0f0a078-50ee-4c92-bc89-d0242e9362b0",
   "metadata": {},
   "outputs": [],
   "source": [
    "age = 20\n",
    "type(age)"
   ]
  },
  {
   "cell_type": "markdown",
   "id": "d4c1d0ae-ce8f-4f4e-bb1f-9ccf61309719",
   "metadata": {},
   "source": [
    "1. 진법 : 10진수, 2진수, 8진수, 16진수\n",
    "2. 입력하는 방법은 다르지만. print로 출력하면 결과는 동일"
   ]
  },
  {
   "cell_type": "code",
   "execution_count": null,
   "id": "d36d35e2-fc7b-47a9-92e4-a135c86eda3e",
   "metadata": {},
   "outputs": [],
   "source": [
    "a = 10\n",
    "b = 0b1010 # 2진수\n",
    "c = 0o12   # 8진수\n",
    "d = 0xA    # 16진수\n",
    "a,b,c,d"
   ]
  },
  {
   "cell_type": "code",
   "execution_count": null,
   "id": "0d663f9d-0a24-47df-a822-3bc8e3b150d6",
   "metadata": {},
   "outputs": [],
   "source": [
    "#float\n",
    "b = 3.14\n",
    "b, type(b)"
   ]
  },
  {
   "cell_type": "markdown",
   "id": "532bddf4-96d4-4ae8-9f9c-bb6007420546",
   "metadata": {},
   "source": [
    "지수의 표기      \n",
    "\n",
    "숫자e2 -> 10^2 10**2   \n",
    "숫자e-2 -> 10^-2 10**-2"
   ]
  },
  {
   "cell_type": "code",
   "execution_count": null,
   "id": "4e71677f-fd93-4f05-9ea5-932eac3ef578",
   "metadata": {},
   "outputs": [],
   "source": [
    "fa = 10e2\n",
    "fa"
   ]
  },
  {
   "cell_type": "code",
   "execution_count": null,
   "id": "5220c5c0-c52f-4871-b92e-8efc74415942",
   "metadata": {},
   "outputs": [],
   "source": [
    "fb = 10e-2\n",
    "fb"
   ]
  },
  {
   "cell_type": "code",
   "execution_count": null,
   "id": "0ddf5066-e049-443f-8209-78d1258aedd9",
   "metadata": {},
   "outputs": [],
   "source": [
    "fc = 3.1415e9\n",
    "fc"
   ]
  },
  {
   "cell_type": "code",
   "execution_count": null,
   "id": "c9fe7371-0cd3-41de-bd73-1a0504f9658f",
   "metadata": {},
   "outputs": [],
   "source": [
    "#BOOLEAN - True, False\n",
    "논리연산, 비교연산"
   ]
  },
  {
   "cell_type": "code",
   "execution_count": null,
   "id": "7a9d73d2-d9c0-4a59-85ea-8b0db7eea860",
   "metadata": {},
   "outputs": [],
   "source": [
    "ba = True\n",
    "# bb = true\n",
    "type(ba)"
   ]
  },
  {
   "cell_type": "code",
   "execution_count": null,
   "id": "394f3a23-0f87-4cdf-9fc3-db57be23d8a8",
   "metadata": {},
   "outputs": [],
   "source": [
    "ba == 1"
   ]
  },
  {
   "cell_type": "code",
   "execution_count": null,
   "id": "69b0eab3-9041-4ecb-930b-0cb0991aa9bd",
   "metadata": {},
   "outputs": [],
   "source": [
    "#논리 연산자 - and, ,or, not\n",
    "\n",
    "bc = 1\n",
    "ba and bc"
   ]
  },
  {
   "cell_type": "code",
   "execution_count": null,
   "id": "7fc66ffc-1a79-41e0-b419-4117c6c6530d",
   "metadata": {},
   "outputs": [],
   "source": [
    "#사칙연산 + - * / // %\n",
    "a = 2\n",
    "b = 3"
   ]
  },
  {
   "cell_type": "code",
   "execution_count": null,
   "id": "910a0fbd-d801-4ae6-8d34-40974e361a19",
   "metadata": {},
   "outputs": [],
   "source": [
    "a + b\n",
    "a - b\n",
    "a * b\n",
    "a / b, a//b, a%b #//몫, %나머지"
   ]
  },
  {
   "cell_type": "code",
   "execution_count": null,
   "id": "8de9ad64-b4b5-4a67-b764-1574d6027e5c",
   "metadata": {},
   "outputs": [],
   "source": [
    "#비교연산자\n",
    "1 + 2 == 3\n",
    "1 + 2 != 3\n",
    "1 + 3 > 3\n",
    "1 + 3 <= 4"
   ]
  },
  {
   "cell_type": "code",
   "execution_count": null,
   "id": "f00bda5b-32c7-493f-bf71-cd1c075f1efb",
   "metadata": {},
   "outputs": [],
   "source": [
    "#비교연산자와 논리연산자의 결합\n",
    "10 % 2 == 0 and 12 % 3 == 0"
   ]
  },
  {
   "cell_type": "code",
   "execution_count": null,
   "id": "bbbc95bf-998f-4085-b76a-af045c96aae9",
   "metadata": {},
   "outputs": [],
   "source": [
    "a = '1234'\n",
    "b = '5678'\n",
    "a, b, id(a), id(b)"
   ]
  },
  {
   "cell_type": "code",
   "execution_count": null,
   "id": "3ac3da1e-3a4e-406d-a9fe-8c3da5647907",
   "metadata": {},
   "outputs": [],
   "source": [
    "id(a) == id(b)"
   ]
  },
  {
   "cell_type": "code",
   "execution_count": null,
   "id": "559f6ef4-e3a1-4b79-bd0c-9d9d1a128905",
   "metadata": {},
   "outputs": [],
   "source": [
    "#대입연산자\n",
    "a = 10\n",
    "b = a + 2\n",
    "a,b"
   ]
  },
  {
   "cell_type": "code",
   "execution_count": null,
   "id": "fb5b971f-a682-4e54-bd32-52b065d0425f",
   "metadata": {},
   "outputs": [],
   "source": [
    "a = 20\n",
    "a += 1\n",
    "a"
   ]
  },
  {
   "cell_type": "code",
   "execution_count": null,
   "id": "e687313b-9878-4a8e-ac29-04ff4a6800ed",
   "metadata": {},
   "outputs": [],
   "source": [
    "a -= 1\n",
    "a"
   ]
  },
  {
   "cell_type": "code",
   "execution_count": null,
   "id": "b5cbfbd4-e303-485c-9f98-d9b399ce0dff",
   "metadata": {},
   "outputs": [],
   "source": [
    "a = 3\n",
    "b = 2\n",
    "a += 2 + b\n",
    "a"
   ]
  },
  {
   "cell_type": "markdown",
   "id": "532d3484-7ffc-4eda-92ff-142d2216a15a",
   "metadata": {},
   "source": [
    "# 문자열 str\n",
    "' ', \" \", \"\"\" \"\"\", ''' ''' docstring"
   ]
  },
  {
   "cell_type": "markdown",
   "id": "2854f449-798c-4d09-a81d-e4f712ad1569",
   "metadata": {},
   "source": [
    "유니코드 문자 표준\n",
    "영어는 ascii -> 유니코드\n",
    "한국어도 유니코드\n",
    "\n",
    "유니코드가 글자의 크기에 따라 utf-8, utf-16, utf-32\n",
    "\n",
    "파이썬의 문자열 str -> unicode 기반이다.\n",
    "\n",
    "euc-kr : 예전에 우리나라에서 쓰던 한글 코드\n",
    "cp949 : MS 윈도우즈에서 쓰던 한글 코드"
   ]
  },
  {
   "cell_type": "code",
   "execution_count": 1,
   "id": "7b8db48c-5eea-4c7c-b0b0-4c007f08cdaf",
   "metadata": {},
   "outputs": [
    {
     "name": "stdout",
     "output_type": "stream",
     "text": [
      "파이썬 python\n",
      "54028\n"
     ]
    }
   ],
   "source": [
    "text = \"파이썬 python\"\n",
    "print(text)\n",
    "print(ord('파'))"
   ]
  },
  {
   "cell_type": "code",
   "execution_count": null,
   "id": "5ae09183-54eb-49fa-abfd-fa2aec5c0354",
   "metadata": {},
   "outputs": [],
   "source": [
    "#인코딩\n",
    "enc_text = text.encode(\"euc-kr\")\n",
    "enc_text"
   ]
  },
  {
   "cell_type": "code",
   "execution_count": null,
   "id": "45d909f2-7404-407b-89ef-3ded3bbfbf1b",
   "metadata": {},
   "outputs": [],
   "source": [
    "#디코딩\n",
    "dec_text = enc_text.decode(\"cp949\")\n",
    "dec_text"
   ]
  },
  {
   "cell_type": "code",
   "execution_count": null,
   "id": "7cfcb474-9134-4d5f-9e51-47a498fce597",
   "metadata": {},
   "outputs": [],
   "source": []
  },
  {
   "cell_type": "code",
   "execution_count": null,
   "id": "4c9e0825-de65-412e-89ef-7c682477528c",
   "metadata": {},
   "outputs": [],
   "source": [
    "a = \"hello\"\n",
    "b = \"python\"\n",
    "a + b"
   ]
  },
  {
   "cell_type": "code",
   "execution_count": null,
   "id": "3f4ce4c3-2dcd-4006-a0a1-b4f622f5a9a3",
   "metadata": {},
   "outputs": [],
   "source": [
    "c = '*'\n",
    "c * 10"
   ]
  },
  {
   "cell_type": "code",
   "execution_count": null,
   "id": "0d480e42-ca0f-4149-aecd-c940c8bdaa67",
   "metadata": {},
   "outputs": [],
   "source": [
    "d = \"Kim's family\"\n",
    "d"
   ]
  },
  {
   "cell_type": "markdown",
   "id": "67160199-278b-454d-9b92-dd9078e943f7",
   "metadata": {},
   "source": [
    "파이썬의 인덱스는 0부터 시작\n",
    "음수인덱스 : 뒤에서부터 -1"
   ]
  },
  {
   "cell_type": "code",
   "execution_count": null,
   "id": "c83139f7-7611-49fd-a231-63b475d4651e",
   "metadata": {},
   "outputs": [],
   "source": [
    "#문자열은 리스트, 열거형\n",
    "a = \"124i9r0weuf9\"\n",
    "a[0] #인덱싱"
   ]
  },
  {
   "cell_type": "code",
   "execution_count": null,
   "id": "59113078-71f1-4778-8e7d-e4df925a42b5",
   "metadata": {},
   "outputs": [],
   "source": [
    "a[0:4] #연속된 영역을 지정할 때 콜론(:) 사용, 슬라이싱\n",
    "a[:4]\n",
    "a[8:] #index는 0부터 시작한다"
   ]
  },
  {
   "cell_type": "code",
   "execution_count": null,
   "id": "0d32e203-8fb6-44b8-b315-df5624b35ae1",
   "metadata": {},
   "outputs": [],
   "source": [
    "s = \"i9r0\"\n",
    "s is a"
   ]
  },
  {
   "cell_type": "code",
   "execution_count": null,
   "id": "e7faa551-8bd2-446a-89ca-5d9cf3935272",
   "metadata": {},
   "outputs": [],
   "source": [
    "b = s[:]\n",
    "a = s\n",
    "a is s"
   ]
  },
  {
   "cell_type": "code",
   "execution_count": null,
   "id": "70de9574-4d12-41c6-beb4-d89766fae7a0",
   "metadata": {},
   "outputs": [],
   "source": [
    "b = s[:]\n",
    "a is b"
   ]
  },
  {
   "cell_type": "code",
   "execution_count": null,
   "id": "c429e8e0-131e-4d7f-bfc7-bac27728a777",
   "metadata": {},
   "outputs": [],
   "source": [
    "s1 = '1' * 10000\n",
    "b = s1[:]\n",
    "s1 is b"
   ]
  },
  {
   "cell_type": "code",
   "execution_count": null,
   "id": "830d702f-d0e7-4f2c-837e-a3cee471cb7f",
   "metadata": {},
   "outputs": [],
   "source": [
    "a = \"abc\"\n",
    "b = \"abcdefg\"\n",
    "a in b"
   ]
  },
  {
   "cell_type": "markdown",
   "id": "c8e9f6cc-24b2-4ae6-80aa-2d01060889d4",
   "metadata": {},
   "source": [
    "'''docstring \\n\n",
    "start \\n\n",
    "end \\n\n",
    "'''\n",
    "\n",
    "\"\"\" \"\"\"   \n",
    "shift + tab키를 누르면 함수의 문자가 나온다"
   ]
  },
  {
   "cell_type": "code",
   "execution_count": 49,
   "id": "f8b2c702-d22e-4eef-bc92-759bfe13b777",
   "metadata": {},
   "outputs": [
    {
     "name": "stdout",
     "output_type": "stream",
     "text": [
      "docstring\n",
      "start\n",
      "end\n",
      "\n"
     ]
    },
    {
     "data": {
      "text/plain": [
       "'docstring\\nstart\\nend\\n'"
      ]
     },
     "execution_count": 49,
     "metadata": {},
     "output_type": "execute_result"
    }
   ],
   "source": [
    "doc_string = '''docstring\n",
    "start\n",
    "end\n",
    "'''\n",
    "print(doc_string)\n",
    "doc_string"
   ]
  },
  {
   "cell_type": "code",
   "execution_count": null,
   "id": "e0f1d37f-662d-4b9e-85e8-1e8d7d618f3f",
   "metadata": {},
   "outputs": [],
   "source": [
    "type(text)"
   ]
  },
  {
   "cell_type": "markdown",
   "id": "ec2323ec-0c68-48d1-81f0-a49f37dcb969",
   "metadata": {},
   "source": [
    "# str의 함수\n",
    "\n",
    "dir()"
   ]
  },
  {
   "cell_type": "code",
   "execution_count": 5,
   "id": "a87061fc-2f18-48e3-88a9-49d52afa8f54",
   "metadata": {
    "collapsed": true,
    "jupyter": {
     "outputs_hidden": true
    }
   },
   "outputs": [
    {
     "data": {
      "text/plain": [
       "['__add__',\n",
       " '__class__',\n",
       " '__contains__',\n",
       " '__delattr__',\n",
       " '__dir__',\n",
       " '__doc__',\n",
       " '__eq__',\n",
       " '__format__',\n",
       " '__ge__',\n",
       " '__getattribute__',\n",
       " '__getitem__',\n",
       " '__getnewargs__',\n",
       " '__getstate__',\n",
       " '__gt__',\n",
       " '__hash__',\n",
       " '__init__',\n",
       " '__init_subclass__',\n",
       " '__iter__',\n",
       " '__le__',\n",
       " '__len__',\n",
       " '__lt__',\n",
       " '__mod__',\n",
       " '__mul__',\n",
       " '__ne__',\n",
       " '__new__',\n",
       " '__reduce__',\n",
       " '__reduce_ex__',\n",
       " '__repr__',\n",
       " '__rmod__',\n",
       " '__rmul__',\n",
       " '__setattr__',\n",
       " '__sizeof__',\n",
       " '__str__',\n",
       " '__subclasshook__',\n",
       " 'capitalize',\n",
       " 'casefold',\n",
       " 'center',\n",
       " 'count',\n",
       " 'encode',\n",
       " 'endswith',\n",
       " 'expandtabs',\n",
       " 'find',\n",
       " 'format',\n",
       " 'format_map',\n",
       " 'index',\n",
       " 'isalnum',\n",
       " 'isalpha',\n",
       " 'isascii',\n",
       " 'isdecimal',\n",
       " 'isdigit',\n",
       " 'isidentifier',\n",
       " 'islower',\n",
       " 'isnumeric',\n",
       " 'isprintable',\n",
       " 'isspace',\n",
       " 'istitle',\n",
       " 'isupper',\n",
       " 'join',\n",
       " 'ljust',\n",
       " 'lower',\n",
       " 'lstrip',\n",
       " 'maketrans',\n",
       " 'partition',\n",
       " 'removeprefix',\n",
       " 'removesuffix',\n",
       " 'replace',\n",
       " 'rfind',\n",
       " 'rindex',\n",
       " 'rjust',\n",
       " 'rpartition',\n",
       " 'rsplit',\n",
       " 'rstrip',\n",
       " 'split',\n",
       " 'splitlines',\n",
       " 'startswith',\n",
       " 'strip',\n",
       " 'swapcase',\n",
       " 'title',\n",
       " 'translate',\n",
       " 'upper',\n",
       " 'zfill']"
      ]
     },
     "execution_count": 5,
     "metadata": {},
     "output_type": "execute_result"
    }
   ],
   "source": [
    "dir(text)"
   ]
  },
  {
   "cell_type": "code",
   "execution_count": 3,
   "id": "7565e52f-2ad7-4441-8f87-5ac615a492a6",
   "metadata": {},
   "outputs": [
    {
     "data": {
      "text/plain": [
       "'파이썬 python4'"
      ]
     },
     "execution_count": 3,
     "metadata": {},
     "output_type": "execute_result"
    }
   ],
   "source": [
    "text.__add__(\"4\")\n",
    "text + \"4\""
   ]
  },
  {
   "cell_type": "code",
   "execution_count": 11,
   "id": "deccc27b-f86f-484e-a994-febe9bb6019b",
   "metadata": {},
   "outputs": [
    {
     "data": {
      "text/plain": [
       "'파이썬 python파이썬 python파이썬 python파이썬 python'"
      ]
     },
     "execution_count": 11,
     "metadata": {},
     "output_type": "execute_result"
    }
   ],
   "source": [
    "text.__mul__(4)\n",
    "text * 4"
   ]
  },
  {
   "cell_type": "code",
   "execution_count": 4,
   "id": "9109cdbc-3b1f-4edf-9aac-23dac204e733",
   "metadata": {},
   "outputs": [
    {
     "data": {
      "text/plain": [
       "1"
      ]
     },
     "execution_count": 4,
     "metadata": {},
     "output_type": "execute_result"
    }
   ],
   "source": [
    "text.count(\"파이\")"
   ]
  },
  {
   "cell_type": "code",
   "execution_count": 2,
   "id": "e1d8ddcd-e71d-417c-b71a-ec5fde0b23e4",
   "metadata": {},
   "outputs": [
    {
     "data": {
      "text/plain": [
       "'파이선 python'"
      ]
     },
     "execution_count": 2,
     "metadata": {},
     "output_type": "execute_result"
    }
   ],
   "source": [
    "text.replace(\"썬\", \"선\")"
   ]
  },
  {
   "cell_type": "markdown",
   "id": "b604f543-fbdd-453d-997b-294aeceb977a",
   "metadata": {},
   "source": [
    "escape 문자   \n",
    "   \n",
    "\\ '역슬래시'"
   ]
  },
  {
   "cell_type": "code",
   "execution_count": 13,
   "id": "37525e08-a6b3-43f7-aa68-7c402a6ec38a",
   "metadata": {},
   "outputs": [
    {
     "name": "stdout",
     "output_type": "stream",
     "text": [
      "hello\n",
      "world's\n"
     ]
    }
   ],
   "source": [
    "print('hello\\nworld\\'s') #escape 문자는 특수문자를 그냥 텍스트로 인식하게 한다"
   ]
  },
  {
   "cell_type": "markdown",
   "id": "3fb345bf-ae15-4443-b34a-0529cdcb268f",
   "metadata": {},
   "source": [
    "raw-string   \n",
    "r'str?\\' 모두 다 문자열일때   \n",
    "f-string   \n",
    "f'str{text}' 형식 코드가 내포된 문자열"
   ]
  },
  {
   "cell_type": "code",
   "execution_count": 17,
   "id": "1ffdc6e7-6fb9-4028-9d62-afaa1a01915f",
   "metadata": {},
   "outputs": [
    {
     "name": "stdout",
     "output_type": "stream",
     "text": [
      "12\\4\n"
     ]
    }
   ],
   "source": [
    "str_1 = '12\\\\4'\n",
    "print(str_1)"
   ]
  },
  {
   "cell_type": "code",
   "execution_count": 18,
   "id": "3350fb4e-b8e2-4b6a-a974-f79f5f8e34a0",
   "metadata": {},
   "outputs": [
    {
     "name": "stdout",
     "output_type": "stream",
     "text": [
      "12\\4\n"
     ]
    }
   ],
   "source": [
    "raw_str = r'12\\4'\n",
    "print(raw_str)"
   ]
  },
  {
   "cell_type": "code",
   "execution_count": 19,
   "id": "a48e4ced-64d5-44e8-abf5-30339c187c32",
   "metadata": {},
   "outputs": [
    {
     "name": "stdout",
     "output_type": "stream",
     "text": [
      "Hello\\nWorld\n"
     ]
    }
   ],
   "source": [
    "raw_str_1 = r'Hello\\nWorld'\n",
    "print(raw_str_1)"
   ]
  },
  {
   "cell_type": "markdown",
   "id": "314149df-c202-443d-af60-34dc32d0abb0",
   "metadata": {},
   "source": [
    "f'{수식}문자열{변수}'"
   ]
  },
  {
   "cell_type": "code",
   "execution_count": 25,
   "id": "6a6d687d-2543-4818-a049-d50e09f3b0c7",
   "metadata": {},
   "outputs": [
    {
     "name": "stdout",
     "output_type": "stream",
     "text": [
      "제 이름은 csh 내 나이는 28\n"
     ]
    }
   ],
   "source": [
    "name = \"csh\"\n",
    "age = 28\n",
    "print('제 이름은', name, '내 나이는', age)"
   ]
  },
  {
   "cell_type": "code",
   "execution_count": 26,
   "id": "9b666aa1-9d63-498d-ba76-761aca310d2d",
   "metadata": {},
   "outputs": [
    {
     "name": "stdout",
     "output_type": "stream",
     "text": [
      "제 이름은 csh 내 나이는 28 입니다.\n"
     ]
    }
   ],
   "source": [
    "f_str_1 = f\"제 이름은 {name} 내 나이는 {age} 입니다.\"\n",
    "print(f_str_1)"
   ]
  },
  {
   "cell_type": "code",
   "execution_count": 28,
   "id": "d83f6a46-e1d0-49ac-a6da-64f8e99957cb",
   "metadata": {},
   "outputs": [
    {
     "name": "stdin",
     "output_type": "stream",
     "text": [
      "이름:  조설훈\n",
      "자기소개 :  피곤함\n"
     ]
    },
    {
     "name": "stdout",
     "output_type": "stream",
     "text": [
      "안녕하세요. 제 이름은 조설훈입니다.\n",
      "피곤함\n"
     ]
    }
   ],
   "source": [
    "name = input(\"이름: \")\n",
    "self_itd = input(\"자기소개 : \")\n",
    "f_str_2 = f\"안녕하세요. 제 이름은 {name}입니다.\\n{self_itd}\"\n",
    "print(f_str_2)"
   ]
  },
  {
   "cell_type": "markdown",
   "id": "a4602862-40f7-42b6-8f0a-dccf9ae78e25",
   "metadata": {},
   "source": [
    "문자열.format()      \n",
    "\n",
    "문자열에 위치 인덱스를 사용해 포맷한 값을 지정할 수 있다"
   ]
  },
  {
   "cell_type": "code",
   "execution_count": 39,
   "id": "c4adcf97-1342-467b-935d-f15972c51678",
   "metadata": {},
   "outputs": [
    {
     "data": {
      "text/plain": [
       "' 99.9900 dollars are worth US$ 100'"
      ]
     },
     "execution_count": 39,
     "metadata": {},
     "output_type": "execute_result"
    }
   ],
   "source": [
    "format_str = ' {0:.4f} {1:s} are worth US$ {2:d}' #template\n",
    "format_str.format(99.99,'dollars',100)"
   ]
  },
  {
   "cell_type": "code",
   "execution_count": 42,
   "id": "e44125df-f618-43c5-b41e-a922aeef83d9",
   "metadata": {},
   "outputs": [
    {
     "name": "stdin",
     "output_type": "stream",
     "text": [
      "주문할 메뉴를 입력하세요  라면\n",
      "한 개 가격이 얼마인가요?  5000\n",
      "몇 개나 주문하세요?  3\n"
     ]
    },
    {
     "name": "stdout",
     "output_type": "stream",
     "text": [
      "라면 메뉴의 3개 가격은 총 15,000 입니다.\n"
     ]
    }
   ],
   "source": [
    "menu = input(\"주문할 메뉴를 입력하세요 \")\n",
    "price = int(input(\"한 개 가격이 얼마인가요? \"))\n",
    "count = int(input(\"몇 개나 주문하세요? \"))\n",
    "total = price * count\n",
    "msg = '{} 메뉴의 {}개 가격은 총 {:,} 입니다.'\n",
    "print(msg.format(menu, count, total))"
   ]
  },
  {
   "cell_type": "code",
   "execution_count": 46,
   "id": "0e13431b-8daf-4437-86fc-d6cf615543b9",
   "metadata": {},
   "outputs": [
    {
     "name": "stdout",
     "output_type": "stream",
     "text": [
      "상품명               가격      수량          총액\n",
      "--------------------------------------------------\n",
      "아메리카노          3,000원       2개       6,000원\n",
      "카페라떼           4,000원       1개       4,000원\n",
      "샌드위치           5,500원       3개      16,500원\n"
     ]
    }
   ],
   "source": [
    "items = [\n",
    "    {\"name\": \"아메리카노\", \"price\": 3000, \"qty\": 2},\n",
    "    {\"name\": \"카페라떼\", \"price\": 4000, \"qty\": 1},\n",
    "    {\"name\": \"샌드위치\", \"price\": 5500, \"qty\": 3}\n",
    "]\n",
    "header_str = \"{:<10}{:>10}{:>8}{:>12}\"\n",
    "print(header_str.format(\"상품명\", \"가격\", \"수량\", \"총액\"))\n",
    "print(\"-\"*50)\n",
    "for i in items:\n",
    "    msg = \"{:<10}{:>10,}원{:>8}개{:>12,}원\"\n",
    "    print(msg.format(i[\"name\"], i[\"price\"], i[\"qty\"], i[\"price\"] * i[\"qty\"]))"
   ]
  },
  {
   "cell_type": "markdown",
   "id": "bb3aef21-f2f1-4c03-b6a4-448f21889a1d",
   "metadata": {},
   "source": [
    "| 함수                  | 설명                  | 예시                                        |\n",
    "| ------------------- | ------------------- | ----------------------------------------- |\n",
    "| lower()           | 모두 소문자로 변환          | \"Python\".lower() → \"python\"           |\n",
    "| upper()           | 모두 대문자로 변환          | \"python\".upper() → \"PYTHON\"           |\n",
    "| capitalize()      | 첫 글자만 대문자           | \"hello\".capitalize() → \"Hello\"        |\n",
    "| title()           | 각 단어의 첫 글자 대문자      | \"hello world\".title() → \"Hello World\" |\n",
    "| strip()           | 앞뒤 공백 제거            | \" hello \".strip() → \"hello\"           |\n",
    "| lstrip()          | 왼쪽 공백 제거            | \" hello\".lstrip()                       |\n",
    "| rstrip()          | 오른쪽 공백 제거           | \"hello \".rstrip()                       |\n",
    "| replace(old, new) | 문자열 바꾸기             | \"hello\".replace(\"l\", \"x\") → \"hexxo\"   |\n",
    "| split()           | 문자열 나누기 (기본: 공백)    | \"a b c\".split() → ['a', 'b', 'c']     |\n",
    "| join(list)        | 리스트를 문자열로 결합        | \" \".join(['a', 'b']) → \"a b\"          |\n",
    "| find(sub)         | 처음 등장하는 위치 (없으면 -1) | \"apple\".find(\"p\") → 1                 |\n",
    "| index(sub)        | 처음 등장하는 위치 (없으면 오류) | \"apple\".index(\"p\") → 1                |\n",
    "| count(sub)        | 부분 문자열 개수           | \"banana\".count(\"a\") → 3               |\n",
    "| startswith(sub)   | 해당 문자열로 시작?         | \"python\".startswith(\"py\") → True      |\n",
    "| endswith(sub)     | 해당 문자열로 끝남?         | \"python\".endswith(\"on\") → True        |\n",
    "| isalnum()         | 영문자+숫자인가?           | \"abc123\".isalnum() → True             |\n",
    "| isalpha()         | 영문자만인가?             | \"abc\".isalpha() → True                |\n",
    "| isdigit()         | 숫자만인가?              | \"123\".isdigit() → True                |\n",
    "| isspace()         | 공백문자만 있는가?          | \" \\t\\n\".isspace() → True              |"
   ]
  },
  {
   "cell_type": "code",
   "execution_count": 44,
   "id": "9ff7e79a-6152-4dd2-8f2e-c352b97f2517",
   "metadata": {},
   "outputs": [
    {
     "data": {
      "text/plain": [
       "'Dfge_Sdfsf'"
      ]
     },
     "execution_count": 44,
     "metadata": {},
     "output_type": "execute_result"
    }
   ],
   "source": [
    "\"DFGE_sdfsf\".lower().upper().capitalize().title()"
   ]
  },
  {
   "cell_type": "markdown",
   "id": "6c6ecb72-1d04-4a57-a181-45b68da94e9d",
   "metadata": {},
   "source": [
    "TypeError, ValueError"
   ]
  },
  {
   "cell_type": "code",
   "execution_count": 20,
   "id": "476681fe-1149-4c48-a250-0f0cfd3b8610",
   "metadata": {},
   "outputs": [
    {
     "data": {
      "text/plain": [
       "5"
      ]
     },
     "execution_count": 20,
     "metadata": {},
     "output_type": "execute_result"
    }
   ],
   "source": [
    "b = 2\n",
    "c = '3'\n",
    "#b + 3 #TypeError\n",
    "b + int(c)"
   ]
  },
  {
   "cell_type": "code",
   "execution_count": 24,
   "id": "7a628a7c-5a76-42b1-b1b4-4ea8b6156993",
   "metadata": {},
   "outputs": [
    {
     "data": {
      "text/plain": [
       "5"
      ]
     },
     "execution_count": 24,
     "metadata": {},
     "output_type": "execute_result"
    }
   ],
   "source": [
    "c = '3a'\n",
    "#b + int(c) #ValueError\n",
    "b + int(c[0])"
   ]
  },
  {
   "cell_type": "code",
   "execution_count": 50,
   "id": "bdd7bc6e-578f-49a5-beb9-57be9dd6906e",
   "metadata": {},
   "outputs": [
    {
     "name": "stdout",
     "output_type": "stream",
     "text": [
      "881120 1068234\n"
     ]
    }
   ],
   "source": [
    "# Q1. 홍길동 씨의 주민등록번호는 881120-1068234이다. 홍길동씨의 주민등록번호를 연월일 [YYYYMMDD] 부분과 그 뒤의 숫자 부분으로 나누어 출력해 보자.\n",
    "idnum = \"881120-1068234\"\n",
    "first_idnum, second_idnum = idnum.split(\"-\")\n",
    "print(first_idnum, second_idnum)"
   ]
  },
  {
   "cell_type": "code",
   "execution_count": 51,
   "id": "143a8694-a389-45f9-9bd0-6795080c0efe",
   "metadata": {},
   "outputs": [
    {
     "name": "stdout",
     "output_type": "stream",
     "text": [
      "1\n"
     ]
    }
   ],
   "source": [
    "# Q2. 주민등록번호 뒷자리의 맨 첫 번째 숫자는 성별을 나타낸다. 주민등록번호에서 성별을 나타내는 숫자를 출력해 보자\n",
    "idnum = \"881120-1068234\"\n",
    "print(idnum[7])"
   ]
  },
  {
   "cell_type": "code",
   "execution_count": 52,
   "id": "93ddfa5e-2d99-48c5-9a92-3e2fcf9bd6cf",
   "metadata": {},
   "outputs": [
    {
     "name": "stdout",
     "output_type": "stream",
     "text": [
      "20010331 Rainy\n"
     ]
    }
   ],
   "source": [
    "# Q3. 숫자와 문자를 나누어 a1,a2 변수에 넣으세요.\n",
    "\n",
    "a = '20010331Rainy'\n",
    "a1 = a[:8]\n",
    "a2 = a[8:]\n",
    "print(a1, a2)"
   ]
  },
  {
   "cell_type": "code",
   "execution_count": 53,
   "id": "4c929ca2-94d2-44ea-82b4-f737d2ff9cfe",
   "metadata": {},
   "outputs": [
    {
     "name": "stdout",
     "output_type": "stream",
     "text": [
      "HI\n",
      "hi\n"
     ]
    }
   ],
   "source": [
    "# Q4. 모두 대문자로, 모두 소문자로 바꾸세요.\n",
    "\n",
    "a = 'Hi'\n",
    "print(a.upper())\n",
    "print(a.lower())"
   ]
  },
  {
   "cell_type": "code",
   "execution_count": 55,
   "id": "dcc3f9a1-0487-48da-928c-24263a9789f8",
   "metadata": {},
   "outputs": [
    {
     "name": "stdout",
     "output_type": "stream",
     "text": [
      "hi\n"
     ]
    }
   ],
   "source": [
    "# Q5. 아래 변수의 화이트 스페이스를 제거하고 출력하세요.\n",
    "\n",
    "a = ' hi '\n",
    "a = a.strip()\n",
    "print(a)"
   ]
  },
  {
   "cell_type": "code",
   "execution_count": 56,
   "id": "25966bdb-251a-4a62-8a05-bfa11f001469",
   "metadata": {},
   "outputs": [
    {
     "name": "stdout",
     "output_type": "stream",
     "text": [
      "102\n"
     ]
    }
   ],
   "source": [
    "ly = '''\n",
    "아기상어\n",
    "뚜루루뚜루\n",
    "귀여운\n",
    "뚜루루뚜루\n",
    "바닷속\n",
    "뚜루루뚜루\n",
    "아기상어!\n",
    "엄마상어\n",
    "뚜루루뚜루\n",
    "어여쁜\n",
    "뚜루루뚜루\n",
    "바닷속\n",
    "뚜루루뚜루\n",
    "엄마상어!\n",
    "아빠상어\n",
    "뚜루루뚜루\n",
    "힘이 센\n",
    "뚜루루뚜루\n",
    "바닷속\n",
    "뚜루루뚜루\n",
    "아빠상어!\n",
    "할머니상어\n",
    "뚜루루뚜루\n",
    "자상한\n",
    "뚜루루뚜루\n",
    "바닷속\n",
    "뚜루루뚜루\n",
    "할머니상어!\n",
    "할아버지상어\n",
    "뚜루루뚜루\n",
    "멋있는\n",
    "뚜루루뚜루\n",
    "바닷속\n",
    "뚜루루뚜루\n",
    "할아버지상어!\n",
    "우리는\n",
    "뚜루루뚜루\n",
    "바다의\n",
    "뚜루루뚜루\n",
    "사냥꾼\n",
    "뚜루루뚜루\n",
    "상어가족!\n",
    "상어다\n",
    "뚜루루뚜루\n",
    "도망쳐\n",
    "뚜루루뚜루\n",
    "도망쳐\n",
    "뚜루루뚜루\n",
    "숨자! 으악!\n",
    "한번 더!\n",
    "상어다\n",
    "뚜루루뚜루\n",
    "도망쳐\n",
    "뚜루루뚜루\n",
    "도망쳐\n",
    "뚜루루뚜루\n",
    "숨자! 으악!\n",
    "아기상어\n",
    "뚜루루뚜루\n",
    "귀여운\n",
    "뚜루루뚜루\n",
    "바닷속\n",
    "뚜루루뚜루\n",
    "아기상어!\n",
    "엄마상어\n",
    "뚜루루뚜루\n",
    "어여쁜\n",
    "뚜루루뚜루\n",
    "바닷속\n",
    "뚜루루뚜루\n",
    "엄마상어!\n",
    "아빠상어\n",
    "뚜루루뚜루\n",
    "힘이 센\n",
    "뚜루루뚜루\n",
    "바닷속\n",
    "뚜루루뚜루\n",
    "아빠상어!\n",
    "할머니상어\n",
    "뚜루루뚜루\n",
    "자상한\n",
    "뚜루루뚜루\n",
    "바닷속\n",
    "뚜루루뚜루\n",
    "할머니상어!\n",
    "할아버지상어\n",
    "뚜루루뚜루\n",
    "멋있는\n",
    "뚜루루뚜루\n",
    "바닷속\n",
    "뚜루루뚜루\n",
    "할아버지상어!\n",
    "우리는\n",
    "뚜루루뚜루\n",
    "바다의\n",
    "뚜루루뚜루\n",
    "사냥꾼\n",
    "뚜루루뚜루\n",
    "상어가족!\n",
    "상어다\n",
    "뚜루루뚜루\n",
    "도망쳐\n",
    "뚜루루뚜루\n",
    "도망쳐\n",
    "뚜루루뚜루\n",
    "숨자! 으악!\n",
    "살았다\n",
    "뚜루루뚜루\n",
    "살았다\n",
    "뚜루루뚜루\n",
    "오늘도\n",
    "뚜루루뚜루\n",
    "살았다!\n",
    "신난다\n",
    "뚜루루뚜루\n",
    "신난다\n",
    "뚜루루뚜루\n",
    "춤을 춰\n",
    "뚜루루뚜루\n",
    "노래 끝!\n",
    "'''\n",
    "print(ly.count(\"뚜루\"))"
   ]
  }
 ],
 "metadata": {
  "kernelspec": {
   "display_name": "Python 3 (ipykernel)",
   "language": "python",
   "name": "python3"
  },
  "language_info": {
   "codemirror_mode": {
    "name": "ipython",
    "version": 3
   },
   "file_extension": ".py",
   "mimetype": "text/x-python",
   "name": "python",
   "nbconvert_exporter": "python",
   "pygments_lexer": "ipython3",
   "version": "3.12.9"
  }
 },
 "nbformat": 4,
 "nbformat_minor": 5
}
