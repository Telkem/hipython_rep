{
 "cells": [
  {
   "cell_type": "markdown",
   "id": "72fb59b4-c9b2-4419-a8bb-af6f538b3a6e",
   "metadata": {},
   "source": [
    "# 들어가기 : 주석"
   ]
  },
  {
   "cell_type": "code",
   "execution_count": 5,
   "id": "47cf6bbe-9fca-4304-88c1-ce8a4d7cf556",
   "metadata": {},
   "outputs": [],
   "source": [
    "# 이 코드는 실행되지 않습니다. ctrl + / 자동 주석\n",
    "# age = input()\n",
    "# age\n",
    "\n"
   ]
  },
  {
   "cell_type": "code",
   "execution_count": 6,
   "id": "0933b7ed-7e6c-4a2a-8c33-7e8a6d40faa5",
   "metadata": {},
   "outputs": [
    {
     "name": "stdout",
     "output_type": "stream",
     "text": [
      "11\n"
     ]
    }
   ],
   "source": [
    "def calculate_sum(a, b):\n",
    "    result = a + b\n",
    "    return result\n",
    "print(calculate_sum(5, 6))"
   ]
  },
  {
   "cell_type": "markdown",
   "id": "e1ea2cc5-1300-4d9d-8c9b-1e5336eaf57e",
   "metadata": {},
   "source": [
    "# 표준 입력과 표준 출력"
   ]
  },
  {
   "cell_type": "code",
   "execution_count": 11,
   "id": "fcb3d89e-2696-4d1a-99ff-ff405feab9e6",
   "metadata": {},
   "outputs": [
    {
     "data": {
      "text/plain": [
       "10"
      ]
     },
     "execution_count": 11,
     "metadata": {},
     "output_type": "execute_result"
    }
   ],
   "source": [
    "12345\n",
    "10\n",
    "# ipython 라이브러리의 기본 기능\n",
    "# 마지막에 있는 변수 출력"
   ]
  },
  {
   "cell_type": "code",
   "execution_count": 12,
   "id": "7149f8e6-4ded-41fa-adfc-461a6034081b",
   "metadata": {},
   "outputs": [
    {
     "name": "stdout",
     "output_type": "stream",
     "text": [
      "12345\n"
     ]
    },
    {
     "data": {
      "text/plain": [
       "10"
      ]
     },
     "execution_count": 12,
     "metadata": {},
     "output_type": "execute_result"
    }
   ],
   "source": [
    "print(12345)\n",
    "10"
   ]
  },
  {
   "cell_type": "code",
   "execution_count": 14,
   "id": "a52b4515-4041-48a7-816a-1b5594a9a072",
   "metadata": {},
   "outputs": [
    {
     "data": {
      "text/plain": [
       "'12345'"
      ]
     },
     "execution_count": 14,
     "metadata": {},
     "output_type": "execute_result"
    }
   ],
   "source": [
    "\"12345\" # 문자열 str"
   ]
  },
  {
   "cell_type": "code",
   "execution_count": 21,
   "id": "b9218c09-59d6-406a-a9b8-74c5bbdb48f4",
   "metadata": {},
   "outputs": [
    {
     "data": {
      "text/plain": [
       "str"
      ]
     },
     "execution_count": 21,
     "metadata": {},
     "output_type": "execute_result"
    }
   ],
   "source": [
    "type('12345')"
   ]
  },
  {
   "cell_type": "code",
   "execution_count": 18,
   "id": "ee36cfb6-9c35-4f41-8d5c-8c04120be19e",
   "metadata": {},
   "outputs": [
    {
     "data": {
      "text/plain": [
       "12355"
      ]
     },
     "execution_count": 18,
     "metadata": {},
     "output_type": "execute_result"
    }
   ],
   "source": [
    "12345 + 10"
   ]
  },
  {
   "cell_type": "code",
   "execution_count": 19,
   "id": "d13d0934-bff7-417f-a1d8-e66abc035d78",
   "metadata": {},
   "outputs": [
    {
     "data": {
      "text/plain": [
       "'1234510'"
      ]
     },
     "execution_count": 19,
     "metadata": {},
     "output_type": "execute_result"
    }
   ],
   "source": [
    "'12345' + '10'"
   ]
  },
  {
   "cell_type": "code",
   "execution_count": 22,
   "id": "6bb96631-6a67-4a18-93a2-74a97ae32e44",
   "metadata": {},
   "outputs": [
    {
     "data": {
      "text/plain": [
       "'123451234512345'"
      ]
     },
     "execution_count": 22,
     "metadata": {},
     "output_type": "execute_result"
    }
   ],
   "source": [
    "'12345' * 3"
   ]
  },
  {
   "cell_type": "code",
   "execution_count": 39,
   "id": "ec1958f6-98ce-4cc7-9bfc-a659f5034709",
   "metadata": {},
   "outputs": [
    {
     "name": "stdin",
     "output_type": "stream",
     "text": [
      "당신의 이름을 입력하세요 ㅈ\n"
     ]
    }
   ],
   "source": [
    "name = input(\"당신의 이름을 입력하세요\")"
   ]
  },
  {
   "cell_type": "code",
   "execution_count": 27,
   "id": "d16a75f0-1aa9-4c00-ad19-302e272aa53a",
   "metadata": {},
   "outputs": [
    {
     "name": "stdin",
     "output_type": "stream",
     "text": [
      "당신의 나이를 입력하세요 28\n"
     ]
    },
    {
     "data": {
      "text/plain": [
       "'28'"
      ]
     },
     "execution_count": 27,
     "metadata": {},
     "output_type": "execute_result"
    }
   ],
   "source": [
    "age = input(\"당신의 나이를 입력하세요\")\n",
    "age"
   ]
  },
  {
   "cell_type": "code",
   "execution_count": 28,
   "id": "74e26429-44ee-40c0-8ecd-22eac3e87dc6",
   "metadata": {},
   "outputs": [
    {
     "data": {
      "text/plain": [
       "'28'"
      ]
     },
     "execution_count": 28,
     "metadata": {},
     "output_type": "execute_result"
    }
   ],
   "source": [
    "age"
   ]
  },
  {
   "cell_type": "code",
   "execution_count": 30,
   "id": "2295c8a3-2101-477a-bebd-097a86736e2c",
   "metadata": {},
   "outputs": [
    {
     "data": {
      "text/plain": [
       "'조설훈'"
      ]
     },
     "execution_count": 30,
     "metadata": {},
     "output_type": "execute_result"
    }
   ],
   "source": [
    "name"
   ]
  },
  {
   "cell_type": "code",
   "execution_count": 32,
   "id": "ecf48f80-4132-4fc0-bf15-d4dfdcf971dc",
   "metadata": {},
   "outputs": [
    {
     "name": "stdout",
     "output_type": "stream",
     "text": [
      "28 조설훈\n"
     ]
    },
    {
     "data": {
      "text/plain": [
       "('28', '조설훈')"
      ]
     },
     "execution_count": 32,
     "metadata": {},
     "output_type": "execute_result"
    }
   ],
   "source": [
    "print(age, name)\n",
    "age, name"
   ]
  },
  {
   "cell_type": "code",
   "execution_count": 35,
   "id": "ec2f39cb-6d76-4f1d-b79c-a4ae3ca4790f",
   "metadata": {},
   "outputs": [
    {
     "name": "stdout",
     "output_type": "stream",
     "text": [
      "나는 조설훈이고, 나이는 28입니다.\n"
     ]
    }
   ],
   "source": [
    "print(\"나는 \" + name + \"이고, 나이는 \" + age + \"입니다.\") "
   ]
  },
  {
   "cell_type": "code",
   "execution_count": 37,
   "id": "803b0214-b4d5-404f-961d-b778ec0ba645",
   "metadata": {},
   "outputs": [
    {
     "data": {
      "text/plain": [
       "38"
      ]
     },
     "execution_count": 37,
     "metadata": {},
     "output_type": "execute_result"
    }
   ],
   "source": [
    "age = int(age)\n",
    "age + 10"
   ]
  },
  {
   "cell_type": "markdown",
   "id": "c5c905c1-61a2-4414-9b13-260fb3657cf4",
   "metadata": {},
   "source": [
    "# 연습"
   ]
  },
  {
   "cell_type": "code",
   "execution_count": 41,
   "id": "386c1530-481c-4925-8f96-0768ca906778",
   "metadata": {},
   "outputs": [
    {
     "name": "stdin",
     "output_type": "stream",
     "text": [
      "조 :  조용한 밤하늘 아래,\n",
      "설 :  설레는 마음으로 너를 떠올리며,\n",
      "훈 :  훈훈한 미소 하나로 세상이 따뜻해진다.\n"
     ]
    },
    {
     "name": "stdout",
     "output_type": "stream",
     "text": [
      "조용한 밤하늘 아래,\n",
      "설레는 마음으로 너를 떠올리며,\n",
      "훈훈한 미소 하나로 세상이 따뜻해진다.\n"
     ]
    }
   ],
   "source": [
    "first = input(\"조 : \")\n",
    "second = input(\"설 : \")\n",
    "third = input(\"훈 : \")\n",
    "print(first)\n",
    "print(second)\n",
    "print(third)"
   ]
  },
  {
   "cell_type": "code",
   "execution_count": 43,
   "id": "d1a97d67-b1d3-4e41-b744-38bcc17d6211",
   "metadata": {},
   "outputs": [
    {
     "name": "stdout",
     "output_type": "stream",
     "text": [
      "조용한 밤하늘 아래,\n",
      "설레는 마음으로 너를 떠올리며,\n",
      "훈훈한 미소 하나로 세상이 따뜻해진다.\n"
     ]
    }
   ],
   "source": [
    "print(first, second, third, sep=\"\\n\")"
   ]
  },
  {
   "cell_type": "code",
   "execution_count": 46,
   "id": "df5c2317-df1c-41ef-bcd0-fdcacb621bc5",
   "metadata": {},
   "outputs": [
    {
     "name": "stdout",
     "output_type": "stream",
     "text": [
      "조용한 밤하늘 아래,\n",
      "설레는 마음으로 너를 떠올리며,\n",
      "훈훈한 미소 하나로 세상이 따뜻해진다.\n"
     ]
    }
   ],
   "source": [
    "삼행시 = first + \"\\n\" + second + \"\\n\" + third\n",
    "print(삼행시)"
   ]
  },
  {
   "cell_type": "markdown",
   "id": "489aa2ef-a83d-4e1b-ad35-635e16f65fd9",
   "metadata": {},
   "source": [
    "# 변수"
   ]
  },
  {
   "cell_type": "markdown",
   "id": "c6ae789a-615d-4e6b-802c-7767d5b4620f",
   "metadata": {},
   "source": [
    "변수 type safe   \n",
    "변수를 선언할 때 type을 지정하지 않아도 됨   \n",
    "변수명 = 값   \n",
    "\n",
    "## 변수의 명명 규칙\n",
    "1. 문자, 숫자, 밑줄(_)을 가지고 만든다\n",
    "2. 숫자로 시작 X\n",
    "3. 대소문자 구분\n",
    "4. 예약어, 특수기호, 공백 X"
   ]
  },
  {
   "cell_type": "code",
   "execution_count": 47,
   "id": "45383f4c-dbca-4ae3-8428-4fe578c55920",
   "metadata": {},
   "outputs": [
    {
     "data": {
      "text/plain": [
       "(10, 'hello', 3.141592)"
      ]
     },
     "execution_count": 47,
     "metadata": {},
     "output_type": "execute_result"
    }
   ],
   "source": [
    "x = 10\n",
    "y = \"hello\"\n",
    "z = 3.141592\n",
    "x, y, z"
   ]
  },
  {
   "cell_type": "code",
   "execution_count": 49,
   "id": "73ca097d-9e94-4127-a47e-2e8713771dd3",
   "metadata": {},
   "outputs": [
    {
     "name": "stdout",
     "output_type": "stream",
     "text": [
      "<class 'int'> <class 'str'> <class 'float'>\n"
     ]
    }
   ],
   "source": [
    "print(type(x), type(y), type(z))"
   ]
  },
  {
   "cell_type": "code",
   "execution_count": 51,
   "id": "503b7d26-648c-4408-90e0-2b9893a75dde",
   "metadata": {},
   "outputs": [
    {
     "data": {
      "text/plain": [
       "(10, 20, 30)"
      ]
     },
     "execution_count": 51,
     "metadata": {},
     "output_type": "execute_result"
    }
   ],
   "source": [
    "a, b, c = 10, 20, 30\n",
    "a, b, c"
   ]
  },
  {
   "cell_type": "code",
   "execution_count": null,
   "id": "cd8e73f3-6fa7-4b3a-b2d0-b6a217cc2e47",
   "metadata": {},
   "outputs": [],
   "source": [
    "a = 10; b = 20; c= 30"
   ]
  },
  {
   "cell_type": "code",
   "execution_count": 52,
   "id": "8d02b103-c0b2-4192-8a64-0c826291c218",
   "metadata": {},
   "outputs": [
    {
     "data": {
      "text/plain": [
       "(40, 40, 40)"
      ]
     },
     "execution_count": 52,
     "metadata": {},
     "output_type": "execute_result"
    }
   ],
   "source": [
    "a = b = c = 40\n",
    "a,b,c"
   ]
  },
  {
   "cell_type": "code",
   "execution_count": 54,
   "id": "f248995c-4b48-4c98-89b7-0cfe06433dd6",
   "metadata": {},
   "outputs": [
    {
     "data": {
      "text/plain": [
       "(True, None)"
      ]
     },
     "execution_count": 54,
     "metadata": {},
     "output_type": "execute_result"
    }
   ],
   "source": [
    "d = True # bool형\n",
    "e = None # type이 없음 NoneType\n",
    "d, e"
   ]
  },
  {
   "cell_type": "code",
   "execution_count": 59,
   "id": "a6d9315c-1104-41d2-9ffa-67047f0bf8fc",
   "metadata": {},
   "outputs": [
    {
     "name": "stdout",
     "output_type": "stream",
     "text": [
      "10 10\n"
     ]
    },
    {
     "data": {
      "text/plain": [
       "(140721054755544, 140721054755544)"
      ]
     },
     "execution_count": 59,
     "metadata": {},
     "output_type": "execute_result"
    }
   ],
   "source": [
    "a = 10\n",
    "b = a\n",
    "print(a, b)\n",
    "id(a), id(b)"
   ]
  },
  {
   "cell_type": "code",
   "execution_count": 3,
   "id": "210b1da1-2190-4e15-9342-f3a0c5128cf8",
   "metadata": {},
   "outputs": [
    {
     "name": "stdout",
     "output_type": "stream",
     "text": [
      "10 20\n"
     ]
    },
    {
     "data": {
      "text/plain": [
       "(140721054755544, 140721054755864)"
      ]
     },
     "execution_count": 3,
     "metadata": {},
     "output_type": "execute_result"
    }
   ],
   "source": [
    "aa = 10\n",
    "bb = 20\n",
    "print(aa, bb)\n",
    "id(aa), id(bb)"
   ]
  },
  {
   "cell_type": "code",
   "execution_count": 4,
   "id": "d5e8164f-b063-4bee-8643-909bf678ca20",
   "metadata": {},
   "outputs": [],
   "source": [
    "#의미 부여가 어려운 변수명 > 수식이 아닌 경우는 사용하지 않음\n",
    "x = 100\n",
    "y = 100\n",
    "\n",
    "#의미 있는 변수명\n",
    "age = 20\n",
    "name = \"홍길동\"\n",
    "user_name = \"hong\"\n",
    "\n",
    "#대문자 UPPER-case 상수에 사용\n",
    "PI = 3.141592\n",
    "MAX_CONNECTIONS = 10 #최대 연결 수\n",
    "MIN_VALEU = 0 #최소값"
   ]
  },
  {
   "cell_type": "markdown",
   "id": "afb77c54-21df-415a-beb6-96e885296a79",
   "metadata": {},
   "source": [
    "## NAME_SPACE\n",
    "   \n",
    "변수가 최초로 정의된 영역에 따라 유효범위가 결정됨\n",
    "   \n",
    "-지역변수 : 함수 영역 내에서 선언한 변수   \n",
    "-전역변수 : 함수 영역 밖에서 선언한 변수, global 키워드를 사용   \n",
    "-정적변수 : 클래스에서 사용하는 변수   "
   ]
  },
  {
   "cell_type": "code",
   "execution_count": 13,
   "id": "09a19c59-19fe-491c-aec6-e2191b9de7c5",
   "metadata": {},
   "outputs": [
    {
     "name": "stdout",
     "output_type": "stream",
     "text": [
      "여기는 함수의 영역입니다. 100\n"
     ]
    }
   ],
   "source": [
    "#지역변수\n",
    "def local_example():\n",
    "    local_var = 100\n",
    "    print(\"여기는 함수의 영역입니다.\", local_var)\n",
    "\n",
    "#local_var NameError: name 'local_var' is not defined\n",
    "local_example()"
   ]
  },
  {
   "cell_type": "code",
   "execution_count": 14,
   "id": "b177dbe6-88e6-48ab-ba25-c343578a1eeb",
   "metadata": {},
   "outputs": [
    {
     "name": "stdout",
     "output_type": "stream",
     "text": [
      "나는 전역이다.\n",
      "나는 전역이다.\n"
     ]
    }
   ],
   "source": [
    "#전역변수\n",
    "global_var = \"나는 전역이다.\"\n",
    "print(global_var)\n",
    "\n",
    "def global_example():\n",
    "    print(global_var)\n",
    "\n",
    "global_example()"
   ]
  },
  {
   "cell_type": "code",
   "execution_count": 18,
   "id": "3d97893d-4ed5-47d4-8be1-5afc7234fe26",
   "metadata": {},
   "outputs": [
    {
     "name": "stdout",
     "output_type": "stream",
     "text": [
      "나는 전역이다.\n",
      "100\n",
      "100\n"
     ]
    }
   ],
   "source": [
    "#전역변수\n",
    "var_test = \"나는 전역이다.\"\n",
    "print(var_test)\n",
    "\n",
    "def global_example():\n",
    "    global var_test\n",
    "    var_test = 100\n",
    "    print(var_test)\n",
    "\n",
    "global_example()\n",
    "print(var_test)"
   ]
  },
  {
   "cell_type": "code",
   "execution_count": 21,
   "id": "aebab39e-4367-455b-a83d-b626227fcb3a",
   "metadata": {},
   "outputs": [
    {
     "name": "stdout",
     "output_type": "stream",
     "text": [
      "카운터 :  1\n",
      "카운터 :  2\n",
      "카운터 :  3\n"
     ]
    }
   ],
   "source": [
    "#변수 영역 연습\n",
    "\n",
    "counter = 0\n",
    "def increment_counter():\n",
    "    global counter\n",
    "    counter += 1\n",
    "    print(\"카운터 : \", counter)\n",
    "\n",
    "for i in range(3):\n",
    "    increment_counter()"
   ]
  },
  {
   "cell_type": "markdown",
   "id": "5d82320a-51a1-41af-b8aa-c2150431f5d3",
   "metadata": {},
   "source": [
    "# 교재 변수 연습"
   ]
  },
  {
   "cell_type": "code",
   "execution_count": 24,
   "id": "ad8010c6-0635-42f2-9086-b3f5546fd30c",
   "metadata": {},
   "outputs": [
    {
     "name": "stdout",
     "output_type": "stream",
     "text": [
      "1 python [1, 2, 3]\n"
     ]
    }
   ],
   "source": [
    "a = 1\n",
    "b = \"python\"\n",
    "c = [1,2,3]\n",
    "print(a, b,c )"
   ]
  },
  {
   "cell_type": "code",
   "execution_count": 26,
   "id": "da704a3d-b92e-447e-8992-097e2610fb90",
   "metadata": {},
   "outputs": [
    {
     "name": "stdout",
     "output_type": "stream",
     "text": [
      "[1, 2, 3, 4]\n"
     ]
    }
   ],
   "source": [
    "a = [1, 2, 3]\n",
    "b = a\n",
    "b.append(4)\n",
    "print(a)"
   ]
  },
  {
   "cell_type": "markdown",
   "id": "1ba6677b-a25b-465e-9348-c164ec83e900",
   "metadata": {},
   "source": [
    "# 자료형\n",
    "\n",
    "- 기본 자료형 : 숫자형, 문자열형, 부울형\n",
    "- 복합 자료형 : 리스트, 셋, 튜플, 딕셔너리"
   ]
  },
  {
   "cell_type": "markdown",
   "id": "f3c01c81-ccbd-466d-98c4-ed513894dbc6",
   "metadata": {},
   "source": [
    "| type | 설명 | 예 |\n",
    "|--------|--------|--------|\n",
    "| 정수형 (int) | 정수를 저장하는 자료형 | 1, 5, -100 |\n",
    "| 실수형 (float) | 실수를 저장하는 자료형 | 3.14, -0.1 |\n",
    "| 문자열 (str) | 텍스트를 저장하는 자료형 | \"Hello\", \"파이썬\" |\n",
    "| 논리형 (bool) | 참/거짓값을 저장하는 자료형 | True, False |"
   ]
  },
  {
   "cell_type": "markdown",
   "id": "a128fd2a-c770-46e1-a7fd-6615fa414b1e",
   "metadata": {},
   "source": [
    "- 수정 불가능한 데이터 타입 : 수치형, 부울형, 문자열, 튜플\n",
    "- 수정 가능한 데이터 타입 : 리스트, 딕셔너리, 셋"
   ]
  },
  {
   "cell_type": "code",
   "execution_count": 29,
   "id": "3b1fc2b5-9cbc-4ff7-833e-544c1bf7dfd4",
   "metadata": {},
   "outputs": [
    {
     "data": {
      "text/plain": [
       "(20, int)"
      ]
     },
     "execution_count": 29,
     "metadata": {},
     "output_type": "execute_result"
    }
   ],
   "source": [
    "#수치형 - int\n",
    "20, type(20)"
   ]
  },
  {
   "cell_type": "code",
   "execution_count": 30,
   "id": "d0f0a078-50ee-4c92-bc89-d0242e9362b0",
   "metadata": {},
   "outputs": [
    {
     "data": {
      "text/plain": [
       "int"
      ]
     },
     "execution_count": 30,
     "metadata": {},
     "output_type": "execute_result"
    }
   ],
   "source": [
    "age = 20\n",
    "type(age)"
   ]
  },
  {
   "cell_type": "markdown",
   "id": "d4c1d0ae-ce8f-4f4e-bb1f-9ccf61309719",
   "metadata": {},
   "source": [
    "1. 진법 : 10진수, 2진수, 8진수, 16진수\n",
    "2. 입력하는 방법은 다르지만. print로 출력하면 결과는 동일"
   ]
  },
  {
   "cell_type": "code",
   "execution_count": 37,
   "id": "d36d35e2-fc7b-47a9-92e4-a135c86eda3e",
   "metadata": {},
   "outputs": [
    {
     "data": {
      "text/plain": [
       "(10, 10, 10, 10)"
      ]
     },
     "execution_count": 37,
     "metadata": {},
     "output_type": "execute_result"
    }
   ],
   "source": [
    "a = 10\n",
    "b = 0b1010 # 2진수\n",
    "c = 0o12   # 8진수\n",
    "d = 0xA    # 16진수\n",
    "a,b,c,d"
   ]
  },
  {
   "cell_type": "code",
   "execution_count": 40,
   "id": "0d663f9d-0a24-47df-a822-3bc8e3b150d6",
   "metadata": {},
   "outputs": [
    {
     "data": {
      "text/plain": [
       "(3.14, float)"
      ]
     },
     "execution_count": 40,
     "metadata": {},
     "output_type": "execute_result"
    }
   ],
   "source": [
    "#float\n",
    "b = 3.14\n",
    "b, type(b)"
   ]
  },
  {
   "cell_type": "markdown",
   "id": "532bddf4-96d4-4ae8-9f9c-bb6007420546",
   "metadata": {},
   "source": [
    "지수의 표기      \n",
    "\n",
    "숫자e2 -> 10^2 10**2   \n",
    "숫자e-2 -> 10^-2 10**-2"
   ]
  },
  {
   "cell_type": "code",
   "execution_count": 42,
   "id": "4e71677f-fd93-4f05-9ea5-932eac3ef578",
   "metadata": {},
   "outputs": [
    {
     "data": {
      "text/plain": [
       "1000.0"
      ]
     },
     "execution_count": 42,
     "metadata": {},
     "output_type": "execute_result"
    }
   ],
   "source": [
    "fa = 10e2\n",
    "fa"
   ]
  },
  {
   "cell_type": "code",
   "execution_count": 44,
   "id": "5220c5c0-c52f-4871-b92e-8efc74415942",
   "metadata": {},
   "outputs": [
    {
     "data": {
      "text/plain": [
       "0.1"
      ]
     },
     "execution_count": 44,
     "metadata": {},
     "output_type": "execute_result"
    }
   ],
   "source": [
    "fb = 10e-2\n",
    "fb"
   ]
  },
  {
   "cell_type": "code",
   "execution_count": 45,
   "id": "0ddf5066-e049-443f-8209-78d1258aedd9",
   "metadata": {},
   "outputs": [
    {
     "data": {
      "text/plain": [
       "3141500000.0"
      ]
     },
     "execution_count": 45,
     "metadata": {},
     "output_type": "execute_result"
    }
   ],
   "source": [
    "fc = 3.1415e9\n",
    "fc"
   ]
  },
  {
   "cell_type": "code",
   "execution_count": null,
   "id": "c9fe7371-0cd3-41de-bd73-1a0504f9658f",
   "metadata": {},
   "outputs": [],
   "source": [
    "#BOOLEAN - True, False\n",
    "논리연산, 비교연산"
   ]
  },
  {
   "cell_type": "code",
   "execution_count": 2,
   "id": "7a9d73d2-d9c0-4a59-85ea-8b0db7eea860",
   "metadata": {},
   "outputs": [
    {
     "data": {
      "text/plain": [
       "bool"
      ]
     },
     "execution_count": 2,
     "metadata": {},
     "output_type": "execute_result"
    }
   ],
   "source": [
    "ba = True\n",
    "# bb = true\n",
    "type(ba)"
   ]
  },
  {
   "cell_type": "code",
   "execution_count": 3,
   "id": "394f3a23-0f87-4cdf-9fc3-db57be23d8a8",
   "metadata": {},
   "outputs": [
    {
     "data": {
      "text/plain": [
       "True"
      ]
     },
     "execution_count": 3,
     "metadata": {},
     "output_type": "execute_result"
    }
   ],
   "source": [
    "ba == 1"
   ]
  },
  {
   "cell_type": "code",
   "execution_count": 4,
   "id": "69b0eab3-9041-4ecb-930b-0cb0991aa9bd",
   "metadata": {},
   "outputs": [
    {
     "data": {
      "text/plain": [
       "1"
      ]
     },
     "execution_count": 4,
     "metadata": {},
     "output_type": "execute_result"
    }
   ],
   "source": [
    "#논리 연산자 - and, ,or, not\n",
    "\n",
    "bc = 1\n",
    "ba and bc"
   ]
  },
  {
   "cell_type": "code",
   "execution_count": 5,
   "id": "7fc66ffc-1a79-41e0-b419-4117c6c6530d",
   "metadata": {},
   "outputs": [],
   "source": [
    "#사칙연산 + - * / // %\n",
    "a = 2\n",
    "b = 3"
   ]
  },
  {
   "cell_type": "code",
   "execution_count": 8,
   "id": "910a0fbd-d801-4ae6-8d34-40974e361a19",
   "metadata": {},
   "outputs": [
    {
     "data": {
      "text/plain": [
       "(0.6666666666666666, 0, 2)"
      ]
     },
     "execution_count": 8,
     "metadata": {},
     "output_type": "execute_result"
    }
   ],
   "source": [
    "a + b\n",
    "a - b\n",
    "a * b\n",
    "a / b, a//b, a%b #//몫, %나머지"
   ]
  },
  {
   "cell_type": "code",
   "execution_count": 11,
   "id": "8de9ad64-b4b5-4a67-b764-1574d6027e5c",
   "metadata": {},
   "outputs": [
    {
     "data": {
      "text/plain": [
       "True"
      ]
     },
     "execution_count": 11,
     "metadata": {},
     "output_type": "execute_result"
    }
   ],
   "source": [
    "#비교연산자\n",
    "1 + 2 == 3\n",
    "1 + 2 != 3\n",
    "1 + 3 > 3\n",
    "1 + 3 <= 4"
   ]
  },
  {
   "cell_type": "code",
   "execution_count": 12,
   "id": "f00bda5b-32c7-493f-bf71-cd1c075f1efb",
   "metadata": {},
   "outputs": [
    {
     "data": {
      "text/plain": [
       "True"
      ]
     },
     "execution_count": 12,
     "metadata": {},
     "output_type": "execute_result"
    }
   ],
   "source": [
    "#비교연산자와 논리연산자의 결합\n",
    "10 % 2 == 0 and 12 % 3 == 0"
   ]
  },
  {
   "cell_type": "code",
   "execution_count": 13,
   "id": "bbbc95bf-998f-4085-b76a-af045c96aae9",
   "metadata": {},
   "outputs": [
    {
     "data": {
      "text/plain": [
       "('1234', '5678', 2407241980240, 2407266799456)"
      ]
     },
     "execution_count": 13,
     "metadata": {},
     "output_type": "execute_result"
    }
   ],
   "source": [
    "a = '1234'\n",
    "b = '5678'\n",
    "a, b, id(a), id(b)"
   ]
  },
  {
   "cell_type": "code",
   "execution_count": 14,
   "id": "3ac3da1e-3a4e-406d-a9fe-8c3da5647907",
   "metadata": {},
   "outputs": [
    {
     "data": {
      "text/plain": [
       "False"
      ]
     },
     "execution_count": 14,
     "metadata": {},
     "output_type": "execute_result"
    }
   ],
   "source": [
    "id(a) == id(b)"
   ]
  },
  {
   "cell_type": "code",
   "execution_count": 15,
   "id": "559f6ef4-e3a1-4b79-bd0c-9d9d1a128905",
   "metadata": {},
   "outputs": [
    {
     "data": {
      "text/plain": [
       "(10, 12)"
      ]
     },
     "execution_count": 15,
     "metadata": {},
     "output_type": "execute_result"
    }
   ],
   "source": [
    "#대입연산자\n",
    "a = 10\n",
    "b = a + 2\n",
    "a,b"
   ]
  },
  {
   "cell_type": "code",
   "execution_count": 20,
   "id": "fb5b971f-a682-4e54-bd32-52b065d0425f",
   "metadata": {},
   "outputs": [
    {
     "data": {
      "text/plain": [
       "21"
      ]
     },
     "execution_count": 20,
     "metadata": {},
     "output_type": "execute_result"
    }
   ],
   "source": [
    "a = 20\n",
    "a += 1\n",
    "a"
   ]
  },
  {
   "cell_type": "code",
   "execution_count": 21,
   "id": "e687313b-9878-4a8e-ac29-04ff4a6800ed",
   "metadata": {},
   "outputs": [
    {
     "data": {
      "text/plain": [
       "20"
      ]
     },
     "execution_count": 21,
     "metadata": {},
     "output_type": "execute_result"
    }
   ],
   "source": [
    "a -= 1\n",
    "a"
   ]
  },
  {
   "cell_type": "code",
   "execution_count": 22,
   "id": "b5cbfbd4-e303-485c-9f98-d9b399ce0dff",
   "metadata": {},
   "outputs": [
    {
     "data": {
      "text/plain": [
       "7"
      ]
     },
     "execution_count": 22,
     "metadata": {},
     "output_type": "execute_result"
    }
   ],
   "source": [
    "a = 3\n",
    "b = 2\n",
    "a += 2 + b\n",
    "a"
   ]
  },
  {
   "cell_type": "markdown",
   "id": "44c66087-fab3-46ac-a15d-2c5ee73dd075",
   "metadata": {},
   "source": [
    "문자열 str   \n",
    "' ', \" \", \"\"\" \"\"\", ''' ''' docstring"
   ]
  },
  {
   "cell_type": "code",
   "execution_count": 23,
   "id": "4c9e0825-de65-412e-89ef-7c682477528c",
   "metadata": {},
   "outputs": [
    {
     "data": {
      "text/plain": [
       "'hellopython'"
      ]
     },
     "execution_count": 23,
     "metadata": {},
     "output_type": "execute_result"
    }
   ],
   "source": [
    "a = \"hello\"\n",
    "b = \"python\"\n",
    "a + b"
   ]
  },
  {
   "cell_type": "code",
   "execution_count": 24,
   "id": "3f4ce4c3-2dcd-4006-a0a1-b4f622f5a9a3",
   "metadata": {},
   "outputs": [
    {
     "data": {
      "text/plain": [
       "'**********'"
      ]
     },
     "execution_count": 24,
     "metadata": {},
     "output_type": "execute_result"
    }
   ],
   "source": [
    "c = '*'\n",
    "c * 10"
   ]
  },
  {
   "cell_type": "code",
   "execution_count": 26,
   "id": "0d480e42-ca0f-4149-aecd-c940c8bdaa67",
   "metadata": {},
   "outputs": [
    {
     "data": {
      "text/plain": [
       "\"Kim's family\""
      ]
     },
     "execution_count": 26,
     "metadata": {},
     "output_type": "execute_result"
    }
   ],
   "source": [
    "d = \"Kim's family\"\n",
    "d"
   ]
  },
  {
   "cell_type": "code",
   "execution_count": 28,
   "id": "c83139f7-7611-49fd-a231-63b475d4651e",
   "metadata": {},
   "outputs": [
    {
     "data": {
      "text/plain": [
       "'1'"
      ]
     },
     "execution_count": 28,
     "metadata": {},
     "output_type": "execute_result"
    }
   ],
   "source": [
    "#문자열은 리스트, 열거형\n",
    "a = \"124i9r0weuf9\"\n",
    "a[0] #인덱싱"
   ]
  },
  {
   "cell_type": "code",
   "execution_count": 35,
   "id": "59113078-71f1-4778-8e7d-e4df925a42b5",
   "metadata": {},
   "outputs": [
    {
     "data": {
      "text/plain": [
       "'euf9'"
      ]
     },
     "execution_count": 35,
     "metadata": {},
     "output_type": "execute_result"
    }
   ],
   "source": [
    "a[0:4] #연속된 영역을 지정할 때 콜론(:) 사용, 슬라이싱\n",
    "a[:4]\n",
    "a[8:] #index는 0부터 시작한다"
   ]
  },
  {
   "cell_type": "code",
   "execution_count": 36,
   "id": "0d32e203-8fb6-44b8-b315-df5624b35ae1",
   "metadata": {},
   "outputs": [
    {
     "data": {
      "text/plain": [
       "False"
      ]
     },
     "execution_count": 36,
     "metadata": {},
     "output_type": "execute_result"
    }
   ],
   "source": [
    "s = \"i9r0\"\n",
    "s is a"
   ]
  },
  {
   "cell_type": "code",
   "execution_count": 38,
   "id": "e7faa551-8bd2-446a-89ca-5d9cf3935272",
   "metadata": {},
   "outputs": [
    {
     "data": {
      "text/plain": [
       "True"
      ]
     },
     "execution_count": 38,
     "metadata": {},
     "output_type": "execute_result"
    }
   ],
   "source": [
    "b = s[:]\n",
    "a = s\n",
    "a is s"
   ]
  },
  {
   "cell_type": "code",
   "execution_count": 39,
   "id": "70de9574-4d12-41c6-beb4-d89766fae7a0",
   "metadata": {},
   "outputs": [
    {
     "data": {
      "text/plain": [
       "True"
      ]
     },
     "execution_count": 39,
     "metadata": {},
     "output_type": "execute_result"
    }
   ],
   "source": [
    "b = s[:]\n",
    "a is b"
   ]
  },
  {
   "cell_type": "code",
   "execution_count": 41,
   "id": "c429e8e0-131e-4d7f-bfc7-bac27728a777",
   "metadata": {},
   "outputs": [
    {
     "data": {
      "text/plain": [
       "True"
      ]
     },
     "execution_count": 41,
     "metadata": {},
     "output_type": "execute_result"
    }
   ],
   "source": [
    "s1 = '1' * 10000\n",
    "b = s1[:]\n",
    "s1 is b"
   ]
  }
 ],
 "metadata": {
  "kernelspec": {
   "display_name": "Python 3 (ipykernel)",
   "language": "python",
   "name": "python3"
  },
  "language_info": {
   "codemirror_mode": {
    "name": "ipython",
    "version": 3
   },
   "file_extension": ".py",
   "mimetype": "text/x-python",
   "name": "python",
   "nbconvert_exporter": "python",
   "pygments_lexer": "ipython3",
   "version": "3.12.9"
  }
 },
 "nbformat": 4,
 "nbformat_minor": 5
}
