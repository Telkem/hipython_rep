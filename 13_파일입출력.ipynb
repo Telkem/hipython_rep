{
 "cells": [
  {
   "cell_type": "markdown",
   "id": "f62ee73c",
   "metadata": {},
   "source": [
    "# 파일 읽기"
   ]
  },
  {
   "cell_type": "code",
   "execution_count": 2,
   "id": "df65cf29",
   "metadata": {},
   "outputs": [],
   "source": [
    "with open('abc/text.txt','w') as f:\n",
    "    f.write(\"hello\")"
   ]
  },
  {
   "cell_type": "code",
   "execution_count": 3,
   "id": "b506fe25",
   "metadata": {},
   "outputs": [],
   "source": [
    "f = open('abc/text.txt','r')\n",
    "f.read()\n",
    "f.close()"
   ]
  },
  {
   "cell_type": "code",
   "execution_count": 14,
   "id": "5ff2a650",
   "metadata": {},
   "outputs": [],
   "source": [
    "with open('abc/text2.txt','w', encoding=\"UTF-8\") as f:\n",
    "    f.write('test\\n')\n",
    "    f.write('hello\\n')"
   ]
  },
  {
   "cell_type": "code",
   "execution_count": 16,
   "id": "6b864a73",
   "metadata": {},
   "outputs": [
    {
     "name": "stdout",
     "output_type": "stream",
     "text": [
      "test\n",
      "hello\n",
      "한글테스트\n",
      "\n"
     ]
    }
   ],
   "source": [
    "with open('abc/text2.txt','r', encoding=\"UTF-8\") as f:\n",
    "    text = f.read()\n",
    "print(text)"
   ]
  },
  {
   "cell_type": "code",
   "execution_count": 15,
   "id": "469de4df",
   "metadata": {},
   "outputs": [],
   "source": [
    "with open('abc/text2.txt','a', encoding=\"UTF-8\") as f:\n",
    "    f.write(\"한글테스트\\n\")\n"
   ]
  },
  {
   "cell_type": "code",
   "execution_count": 22,
   "id": "238d0163",
   "metadata": {},
   "outputs": [],
   "source": [
    "with open('abc/text3.txt','w') as f:\n",
    "    f.writelines(\"test1\\ntest2\\ntest3\")"
   ]
  },
  {
   "cell_type": "code",
   "execution_count": 23,
   "id": "cd6bceb7",
   "metadata": {},
   "outputs": [
    {
     "name": "stdout",
     "output_type": "stream",
     "text": [
      "test1\n",
      "\n",
      "test2\n",
      "\n",
      "test3\n"
     ]
    }
   ],
   "source": [
    "with open('abc/text3.txt','r') as f:\n",
    "    lines = f.readlines()\n",
    "for line in lines:\n",
    "    print(line)"
   ]
  },
  {
   "cell_type": "markdown",
   "id": "8c23c8d3",
   "metadata": {},
   "source": [
    "# pickle 직렬화/역직렬화"
   ]
  },
  {
   "cell_type": "code",
   "execution_count": 24,
   "id": "ee52e66b",
   "metadata": {},
   "outputs": [
    {
     "name": "stdout",
     "output_type": "stream",
     "text": [
      "{'name': '홍길동', 'age': 30, 'scores': [90, 85, 88]}\n"
     ]
    }
   ],
   "source": [
    "import pickle\n",
    "\n",
    "# 직렬화할 데이터\n",
    "data = {\n",
    "    'name': '홍길동',\n",
    "    'age': 30,\n",
    "    'scores': [90, 85, 88]\n",
    "}\n",
    "\n",
    "# 직렬화하여 파일에 저장\n",
    "with open('abc/data.pickle', 'wb') as f:\n",
    "    pickle.dump(data, f)\n",
    "\n",
    "# 파일에서 역직렬화하여 읽기\n",
    "with open('abc/data.pickle', 'rb') as f:\n",
    "    loaded_data = pickle.load(f)\n",
    "\n",
    "print(loaded_data)  # 원본 데이터가 그대로 복원됨"
   ]
  },
  {
   "cell_type": "code",
   "execution_count": 26,
   "id": "eef458a2",
   "metadata": {},
   "outputs": [],
   "source": [
    "import json"
   ]
  },
  {
   "cell_type": "code",
   "execution_count": 29,
   "id": "4d09bb1c",
   "metadata": {},
   "outputs": [],
   "source": [
    "with open('abc/data.json','w') as f:\n",
    "    json.dump(data, f, ensure_ascii=False)"
   ]
  },
  {
   "cell_type": "code",
   "execution_count": 30,
   "id": "75f8e142",
   "metadata": {},
   "outputs": [
    {
     "name": "stdout",
     "output_type": "stream",
     "text": [
      "{'name': '홍길동', 'age': 30, 'scores': [90, 85, 88]}\n"
     ]
    }
   ],
   "source": [
    "with open('abc/data.json','r') as f:\n",
    "    loaded_txt = json.load(f)\n",
    "print(loaded_txt)"
   ]
  },
  {
   "cell_type": "code",
   "execution_count": 33,
   "id": "db4cc26b",
   "metadata": {},
   "outputs": [],
   "source": [
    "import csv\n",
    "data = [['name','age'],['bob',20],['alice',15]]"
   ]
  },
  {
   "cell_type": "code",
   "execution_count": 35,
   "id": "9931c51c",
   "metadata": {},
   "outputs": [],
   "source": [
    "with open('abc/data.csv','w') as f:\n",
    "    wrt = csv.writer(f)\n",
    "    wrt.writerows(data)"
   ]
  },
  {
   "cell_type": "code",
   "execution_count": 36,
   "id": "62ad306f",
   "metadata": {},
   "outputs": [],
   "source": [
    "import pandas as pd\n",
    "\n",
    "df = pd.DataFrame(data)\n",
    "df.to_csv('abc/data_df.csv')"
   ]
  },
  {
   "cell_type": "code",
   "execution_count": null,
   "id": "63852409",
   "metadata": {},
   "outputs": [
    {
     "data": {
      "text/html": [
       "<div>\n",
       "<style scoped>\n",
       "    .dataframe tbody tr th:only-of-type {\n",
       "        vertical-align: middle;\n",
       "    }\n",
       "\n",
       "    .dataframe tbody tr th {\n",
       "        vertical-align: top;\n",
       "    }\n",
       "\n",
       "    .dataframe thead th {\n",
       "        text-align: right;\n",
       "    }\n",
       "</style>\n",
       "<table border=\"1\" class=\"dataframe\">\n",
       "  <thead>\n",
       "    <tr style=\"text-align: right;\">\n",
       "      <th></th>\n",
       "      <th>Unnamed: 0</th>\n",
       "      <th>0</th>\n",
       "      <th>1</th>\n",
       "    </tr>\n",
       "  </thead>\n",
       "  <tbody>\n",
       "    <tr>\n",
       "      <th>0</th>\n",
       "      <td>0</td>\n",
       "      <td>name</td>\n",
       "      <td>age</td>\n",
       "    </tr>\n",
       "    <tr>\n",
       "      <th>1</th>\n",
       "      <td>1</td>\n",
       "      <td>bob</td>\n",
       "      <td>20</td>\n",
       "    </tr>\n",
       "    <tr>\n",
       "      <th>2</th>\n",
       "      <td>2</td>\n",
       "      <td>alice</td>\n",
       "      <td>15</td>\n",
       "    </tr>\n",
       "  </tbody>\n",
       "</table>\n",
       "</div>"
      ],
      "text/plain": [
       "   Unnamed: 0      0    1\n",
       "0           0   name  age\n",
       "1           1    bob   20\n",
       "2           2  alice   15"
      ]
     },
     "execution_count": 37,
     "metadata": {},
     "output_type": "execute_result"
    }
   ],
   "source": [
    "pd.read_csv('abc/data_df.csv')"
   ]
  },
  {
   "cell_type": "code",
   "execution_count": 42,
   "id": "eb7303e7",
   "metadata": {},
   "outputs": [],
   "source": [
    "df1 = df.drop(0,axis=0)\n",
    "df1.columns = ['name','age']\n",
    "df1.to_csv('abc/data_df1.csv')"
   ]
  },
  {
   "cell_type": "code",
   "execution_count": 43,
   "id": "10de7594",
   "metadata": {},
   "outputs": [
    {
     "data": {
      "text/html": [
       "<div>\n",
       "<style scoped>\n",
       "    .dataframe tbody tr th:only-of-type {\n",
       "        vertical-align: middle;\n",
       "    }\n",
       "\n",
       "    .dataframe tbody tr th {\n",
       "        vertical-align: top;\n",
       "    }\n",
       "\n",
       "    .dataframe thead th {\n",
       "        text-align: right;\n",
       "    }\n",
       "</style>\n",
       "<table border=\"1\" class=\"dataframe\">\n",
       "  <thead>\n",
       "    <tr style=\"text-align: right;\">\n",
       "      <th></th>\n",
       "      <th>Unnamed: 0</th>\n",
       "      <th>name</th>\n",
       "      <th>age</th>\n",
       "    </tr>\n",
       "  </thead>\n",
       "  <tbody>\n",
       "    <tr>\n",
       "      <th>0</th>\n",
       "      <td>1</td>\n",
       "      <td>bob</td>\n",
       "      <td>20</td>\n",
       "    </tr>\n",
       "    <tr>\n",
       "      <th>1</th>\n",
       "      <td>2</td>\n",
       "      <td>alice</td>\n",
       "      <td>15</td>\n",
       "    </tr>\n",
       "  </tbody>\n",
       "</table>\n",
       "</div>"
      ],
      "text/plain": [
       "   Unnamed: 0   name  age\n",
       "0           1    bob   20\n",
       "1           2  alice   15"
      ]
     },
     "execution_count": 43,
     "metadata": {},
     "output_type": "execute_result"
    }
   ],
   "source": [
    "pd.read_csv('abc/data_df1.csv')"
   ]
  },
  {
   "cell_type": "code",
   "execution_count": 44,
   "id": "c0b28c2f",
   "metadata": {},
   "outputs": [
    {
     "data": {
      "text/html": [
       "<div>\n",
       "<style scoped>\n",
       "    .dataframe tbody tr th:only-of-type {\n",
       "        vertical-align: middle;\n",
       "    }\n",
       "\n",
       "    .dataframe tbody tr th {\n",
       "        vertical-align: top;\n",
       "    }\n",
       "\n",
       "    .dataframe thead th {\n",
       "        text-align: right;\n",
       "    }\n",
       "</style>\n",
       "<table border=\"1\" class=\"dataframe\">\n",
       "  <thead>\n",
       "    <tr style=\"text-align: right;\">\n",
       "      <th></th>\n",
       "      <th>name</th>\n",
       "      <th>age</th>\n",
       "    </tr>\n",
       "  </thead>\n",
       "  <tbody>\n",
       "    <tr>\n",
       "      <th>1</th>\n",
       "      <td>bob</td>\n",
       "      <td>20</td>\n",
       "    </tr>\n",
       "    <tr>\n",
       "      <th>2</th>\n",
       "      <td>alice</td>\n",
       "      <td>15</td>\n",
       "    </tr>\n",
       "  </tbody>\n",
       "</table>\n",
       "</div>"
      ],
      "text/plain": [
       "    name age\n",
       "1    bob  20\n",
       "2  alice  15"
      ]
     },
     "execution_count": 44,
     "metadata": {},
     "output_type": "execute_result"
    }
   ],
   "source": [
    "df1"
   ]
  }
 ],
 "metadata": {
  "kernelspec": {
   "display_name": "hipython",
   "language": "python",
   "name": "python3"
  },
  "language_info": {
   "codemirror_mode": {
    "name": "ipython",
    "version": 3
   },
   "file_extension": ".py",
   "mimetype": "text/x-python",
   "name": "python",
   "nbconvert_exporter": "python",
   "pygments_lexer": "ipython3",
   "version": "3.12.9"
  }
 },
 "nbformat": 4,
 "nbformat_minor": 5
}
