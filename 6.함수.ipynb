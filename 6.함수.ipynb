{
 "cells": [
  {
   "cell_type": "markdown",
   "id": "5aeeaa5a-3a6c-4456-ab6a-f1b52f45a3db",
   "metadata": {},
   "source": [
    "# 함수\n",
    "\n",
    "- 인자 = 매개변수, 입력, 파라미터\n",
    "- 반환값 = 리턴값, 결과값\n",
    "- 함수이름\n",
    "\n",
    "- 함수 정의 > 호출"
   ]
  },
  {
   "cell_type": "code",
   "execution_count": 17,
   "id": "4a2267b6-b180-4e7a-b415-3b5f024269b2",
   "metadata": {},
   "outputs": [
    {
     "name": "stdout",
     "output_type": "stream",
     "text": [
      "my first function\n"
     ]
    }
   ],
   "source": [
    "#함수정의\n",
    "def my_func():\n",
    "    print(\"my first function\")\n",
    "\n",
    "#함수호출\n",
    "my_func()"
   ]
  },
  {
   "cell_type": "code",
   "execution_count": 4,
   "id": "f0283592-7f06-492a-8a7d-d43cb22b9e1c",
   "metadata": {},
   "outputs": [
    {
     "data": {
      "text/plain": [
       "function"
      ]
     },
     "execution_count": 4,
     "metadata": {},
     "output_type": "execute_result"
    }
   ],
   "source": [
    "type(my_func)"
   ]
  },
  {
   "cell_type": "code",
   "execution_count": 23,
   "id": "fffa9b56-e431-4a3c-807b-a0593dd3469e",
   "metadata": {},
   "outputs": [
    {
     "name": "stdout",
     "output_type": "stream",
     "text": [
      "my first function\n"
     ]
    }
   ],
   "source": [
    "#리턴이 없는 경우\n",
    "my_func_var = my_func()"
   ]
  },
  {
   "cell_type": "code",
   "execution_count": 15,
   "id": "af99ed42-e629-4d5d-96b3-356ec27a4351",
   "metadata": {},
   "outputs": [
    {
     "name": "stdout",
     "output_type": "stream",
     "text": [
      "None\n"
     ]
    }
   ],
   "source": [
    "print(my_func_var)"
   ]
  },
  {
   "cell_type": "code",
   "execution_count": 18,
   "id": "b8e60b88-a03b-4b10-aee3-ea1ec93b293f",
   "metadata": {},
   "outputs": [],
   "source": [
    "def my_func1():\n",
    "    print(\"my first function\")\n",
    "    return \"hello\""
   ]
  },
  {
   "cell_type": "code",
   "execution_count": 19,
   "id": "41dc6fcf-ec63-4396-8e9f-0afcd72805f4",
   "metadata": {},
   "outputs": [
    {
     "name": "stdout",
     "output_type": "stream",
     "text": [
      "my first function\n"
     ]
    },
    {
     "data": {
      "text/plain": [
       "'hello'"
      ]
     },
     "execution_count": 19,
     "metadata": {},
     "output_type": "execute_result"
    }
   ],
   "source": [
    "my_func1()"
   ]
  },
  {
   "cell_type": "code",
   "execution_count": 22,
   "id": "b5349840-0ecd-40bc-9c06-d57069d00c57",
   "metadata": {},
   "outputs": [
    {
     "name": "stdout",
     "output_type": "stream",
     "text": [
      "my first function\n"
     ]
    }
   ],
   "source": [
    "#리턴이 있는 경우\n",
    "my_func_var1 = my_func1()"
   ]
  },
  {
   "cell_type": "code",
   "execution_count": 21,
   "id": "e7cac967-fddc-4dff-8223-b99e02ed0fd4",
   "metadata": {},
   "outputs": [
    {
     "name": "stdout",
     "output_type": "stream",
     "text": [
      "hello\n"
     ]
    }
   ],
   "source": [
    "print(my_func_var1)"
   ]
  },
  {
   "cell_type": "markdown",
   "id": "61b82088-7f0a-47a7-8a5c-8b92235c9534",
   "metadata": {},
   "source": [
    "# 입력값이 있는 함수"
   ]
  },
  {
   "cell_type": "code",
   "execution_count": 24,
   "id": "05b5dfeb-26c0-4b10-aeba-fef6524821ae",
   "metadata": {},
   "outputs": [],
   "source": [
    "def my_calc(x):\n",
    "    print(f\"{x}를 계산합니다.\")"
   ]
  },
  {
   "cell_type": "code",
   "execution_count": 25,
   "id": "7a60c92e-bfbf-446f-98d6-f946d6f3f954",
   "metadata": {},
   "outputs": [
    {
     "name": "stdout",
     "output_type": "stream",
     "text": [
      "10를 계산합니다.\n"
     ]
    }
   ],
   "source": [
    "my_calc(10)"
   ]
  },
  {
   "cell_type": "code",
   "execution_count": 26,
   "id": "c062d278-4834-4d28-92ec-7be90ea93997",
   "metadata": {},
   "outputs": [],
   "source": [
    "def my_calc1(x):\n",
    "    print(f\"{x}를 계산합니다.\")\n",
    "    z = x * 20\n",
    "    return z"
   ]
  },
  {
   "cell_type": "code",
   "execution_count": 27,
   "id": "ae784dd8-a763-4c7a-9ea1-0316d42b8d98",
   "metadata": {},
   "outputs": [
    {
     "name": "stdout",
     "output_type": "stream",
     "text": [
      "10를 계산합니다.\n",
      "200\n"
     ]
    }
   ],
   "source": [
    "result = my_calc1(10)\n",
    "print(result)"
   ]
  },
  {
   "cell_type": "code",
   "execution_count": 28,
   "id": "ff5aa0c9-556b-4aac-967c-223197e91677",
   "metadata": {},
   "outputs": [],
   "source": [
    "def my_calc2(x, y):\n",
    "    print(f\"{x}와 {y}를 계산합니다.\")\n",
    "    add_result = x + y\n",
    "    mul_result = x * y\n",
    "    return add_result, mul_result"
   ]
  },
  {
   "cell_type": "code",
   "execution_count": 31,
   "id": "fc69927d-db29-4853-9dbb-2d7ec3458fae",
   "metadata": {},
   "outputs": [
    {
     "name": "stdout",
     "output_type": "stream",
     "text": [
      "10와 20를 계산합니다.\n"
     ]
    },
    {
     "data": {
      "text/plain": [
       "(30, 200)"
      ]
     },
     "execution_count": 31,
     "metadata": {},
     "output_type": "execute_result"
    }
   ],
   "source": [
    "my_calc2(10, 20)"
   ]
  },
  {
   "cell_type": "code",
   "execution_count": 32,
   "id": "081dbad5-5528-48c4-a93b-ea1288b3b0d0",
   "metadata": {},
   "outputs": [
    {
     "name": "stdout",
     "output_type": "stream",
     "text": [
      "10와 20를 계산합니다.\n"
     ]
    },
    {
     "data": {
      "text/plain": [
       "30"
      ]
     },
     "execution_count": 32,
     "metadata": {},
     "output_type": "execute_result"
    }
   ],
   "source": [
    "func_result = my_calc2(10,20)\n",
    "func_result[0]"
   ]
  },
  {
   "cell_type": "code",
   "execution_count": 34,
   "id": "2183e7e8-63d0-4809-9e27-9f273778ff6f",
   "metadata": {},
   "outputs": [
    {
     "name": "stdout",
     "output_type": "stream",
     "text": [
      "10와 20를 계산합니다.\n",
      "30 200\n"
     ]
    }
   ],
   "source": [
    "func_result1, func_result2 = my_calc2(10,20)\n",
    "print(func_result1, func_result2)"
   ]
  },
  {
   "cell_type": "code",
   "execution_count": null,
   "id": "f1969188-fbc7-4bf5-b4c1-12b76228d4d7",
   "metadata": {},
   "outputs": [],
   "source": []
  },
  {
   "cell_type": "code",
   "execution_count": 37,
   "id": "a5187b0b-2409-4694-b5f9-372b1e432959",
   "metadata": {},
   "outputs": [],
   "source": [
    "#리스트 매개변수의 실행\n",
    "def my_calc3(a, list1):\n",
    "    a += 1\n",
    "    list1.append(a)\n",
    "    return a"
   ]
  },
  {
   "cell_type": "code",
   "execution_count": 38,
   "id": "805c115b-ef42-42ab-af7e-2fc83c3b7c68",
   "metadata": {},
   "outputs": [
    {
     "name": "stdout",
     "output_type": "stream",
     "text": [
      "before : 10, [1, 2, '12']\n",
      "after : 10, [1, 2, '12', 11]\n"
     ]
    }
   ],
   "source": [
    "num = 10\n",
    "list_num = [1,2,'12']\n",
    "\n",
    "print(f\"before : {num}, {list_num}\")\n",
    "\n",
    "my_calc3(num,list_num)\n",
    "print(f\"after : {num}, {list_num}\")"
   ]
  },
  {
   "cell_type": "code",
   "execution_count": 42,
   "id": "886b8cdf-3ee8-45a2-aa85-078ae33bf311",
   "metadata": {},
   "outputs": [],
   "source": [
    "# my_calc3(list_num, num) #TypeError"
   ]
  },
  {
   "cell_type": "markdown",
   "id": "5884b9a6-3057-460a-8dc5-963eeafbea6b",
   "metadata": {},
   "source": [
    "키워드매개변수 : 함수의 매개변수 목록은 변수명이 매개변수 명이다.   \n",
    "매개변수명을 이용한 호출은 매개변수의 순서와 무관하다."
   ]
  },
  {
   "cell_type": "code",
   "execution_count": 41,
   "id": "9510480d-fca3-4ad0-88dc-3a7a65ac9ae1",
   "metadata": {},
   "outputs": [
    {
     "data": {
      "text/plain": [
       "11"
      ]
     },
     "execution_count": 41,
     "metadata": {},
     "output_type": "execute_result"
    }
   ],
   "source": [
    "my_calc3(list1 = list_num, a = num)"
   ]
  },
  {
   "cell_type": "code",
   "execution_count": 44,
   "id": "ecfddc1d-dcfa-46b6-a861-145fbf93b699",
   "metadata": {},
   "outputs": [
    {
     "name": "stdout",
     "output_type": "stream",
     "text": [
      "hello, minsu님!\n"
     ]
    }
   ],
   "source": [
    "def greeting(name, greeting = \"hi\"):\n",
    "    print(f\"{greeting}, {name}님!\")\n",
    "\n",
    "greeting(\"minsu\",\"hello\")"
   ]
  },
  {
   "cell_type": "code",
   "execution_count": 45,
   "id": "16a73670-d279-4aa4-a11e-9db75ebda395",
   "metadata": {},
   "outputs": [
    {
     "name": "stdout",
     "output_type": "stream",
     "text": [
      "hi, alice님!\n"
     ]
    }
   ],
   "source": [
    "greeting(\"alice\")"
   ]
  },
  {
   "cell_type": "code",
   "execution_count": 48,
   "id": "f8a45905-12c4-49c5-9198-83b596415fb6",
   "metadata": {},
   "outputs": [],
   "source": [
    "#가변인자\n",
    "def sum_all(*args):\n",
    "    return sum(args)"
   ]
  },
  {
   "cell_type": "code",
   "execution_count": 47,
   "id": "5c970dc1-a99f-4254-93f9-7e2ebcb8fc1e",
   "metadata": {},
   "outputs": [
    {
     "data": {
      "text/plain": [
       "15"
      ]
     },
     "execution_count": 47,
     "metadata": {},
     "output_type": "execute_result"
    }
   ],
   "source": [
    "sum_all(1,2,3,4,5)"
   ]
  },
  {
   "cell_type": "code",
   "execution_count": 53,
   "id": "5b98a89b-131a-4ed1-96ba-79971297f7e4",
   "metadata": {},
   "outputs": [],
   "source": [
    "#def sum_all(arg1, *args, arg2): #불가능\n",
    "def sum_all(arg1, arg2, *args):\n",
    "    result = arg1 + arg2 + sum(args)\n",
    "    print(args)\n",
    "    return result"
   ]
  },
  {
   "cell_type": "code",
   "execution_count": 59,
   "id": "6b1336f7-6089-4e62-9260-bb013a581137",
   "metadata": {},
   "outputs": [
    {
     "name": "stdout",
     "output_type": "stream",
     "text": [
      "(3, 4)\n"
     ]
    },
    {
     "data": {
      "text/plain": [
       "10"
      ]
     },
     "execution_count": 59,
     "metadata": {},
     "output_type": "execute_result"
    }
   ],
   "source": [
    "sum_all(1,2,3,4)"
   ]
  },
  {
   "cell_type": "code",
   "execution_count": 55,
   "id": "44af823f-dbed-4aeb-a037-ab2b2ddf773b",
   "metadata": {},
   "outputs": [],
   "source": [
    "# **args\n",
    "def print_info(**kwargs):\n",
    "    for k, v, in kwargs.items():\n",
    "        print(k, v)"
   ]
  },
  {
   "cell_type": "code",
   "execution_count": 57,
   "id": "3718cc01-b636-46e8-92db-121fc6b6b8a2",
   "metadata": {},
   "outputs": [
    {
     "name": "stdout",
     "output_type": "stream",
     "text": [
      "name hgd\n",
      "age 20\n",
      "city seoul\n"
     ]
    }
   ],
   "source": [
    "print_info(name = \"hgd\", age = 20, city = \"seoul\")"
   ]
  },
  {
   "cell_type": "markdown",
   "id": "c7cad86f-95a2-49d2-9430-8c7e11c22ef8",
   "metadata": {},
   "source": [
    "# 요일 구하는 함수 정의\n",
    "- 입력 : year, month, day\n",
    "- 출력 : '월요일'\n",
    "- 함수명 : 요일찾기()"
   ]
  },
  {
   "cell_type": "code",
   "execution_count": 95,
   "id": "9e67b563-a0c7-4b7e-b966-20a3a95aee25",
   "metadata": {},
   "outputs": [
    {
     "data": {
      "text/plain": [
       "3"
      ]
     },
     "execution_count": 95,
     "metadata": {},
     "output_type": "execute_result"
    }
   ],
   "source": [
    "import datetime\n",
    "today = datetime.date(2025,6,5)\n",
    "today.weekday()"
   ]
  },
  {
   "cell_type": "code",
   "execution_count": 80,
   "id": "9f3728fb-3f89-4e79-8111-90b0dccf7913",
   "metadata": {},
   "outputs": [
    {
     "name": "stdin",
     "output_type": "stream",
     "text": [
      "년도를 입력해주세요 :  2025\n",
      "월을 입력해주세요 :  6\n",
      "일을 입력해주세요 :  5\n"
     ]
    }
   ],
   "source": [
    "year = int(input(\"년도를 입력해주세요 : \"))\n",
    "month = int(input(\"월을 입력해주세요 : \"))\n",
    "day = int(input(\"일을 입력해주세요 : \"))"
   ]
  },
  {
   "cell_type": "code",
   "execution_count": 84,
   "id": "34e28f5c-5c9b-4801-9d48-2f02c10ba0b8",
   "metadata": {},
   "outputs": [
    {
     "name": "stdout",
     "output_type": "stream",
     "text": [
      "739251\n",
      "739402\n",
      "739407\n",
      "목요일\n"
     ]
    }
   ],
   "source": [
    "# 날짜 - 년,월,일 year = 2025 month = 06 day = 05\n",
    "\n",
    "total_days = 0\n",
    "# 년도일수 (입력년도 - 1) * 365\n",
    "# 윤년인지 체크 +1\n",
    "\n",
    "for i in range(1,year):\n",
    "    #윤년: 400으로 나누어 나머지가 0, 4로 나누어 나머지가 0\n",
    "    #평년: 100으로 나누어 나머지가 0\n",
    "    if (i % 400 == 0) or (i % 4 == 0 and i % 100 != 0):\n",
    "        total_days += 366\n",
    "    else:\n",
    "        total_days += 365\n",
    "        \n",
    "print(total_days)\n",
    "# 월일수 (입력월 - 1) * 30\n",
    "# 월별로 날짜가 다름\n",
    "month_days = [0,31,28,31,30,31,30,31,31,30,31,30,31]\n",
    "for m in range(1, month):\n",
    "    total_days += month_days[m]\n",
    "\n",
    "if month >= 3:\n",
    "    if (year % 400 == 0) or (year % 4 == 0 and year % 100 != 0):\n",
    "        total_days + 1\n",
    "print(total_days)\n",
    "# 일수 입력한 일\n",
    "total_days += day\n",
    "print(total_days)\n",
    "\n",
    "remain_days = total_days % 7\n",
    "week = {1 : \"월요일\", 2 : \"화요일\", 3 : \"수요일\", 4 : \"목요일\", 5 : \"금요일\", 6 : \"토요일\", 0 : \"일요일\"}\n",
    "print(week[remain_days])"
   ]
  },
  {
   "cell_type": "code",
   "execution_count": 102,
   "id": "feedafa6-3a0e-4a5d-afab-4392dfc94c79",
   "metadata": {},
   "outputs": [],
   "source": [
    "def 윤년체크(year):\n",
    "    if (year % 400 == 0) or (year % 4 == 0 and year % 100 != 0):\n",
    "        return True\n",
    "    else:\n",
    "        return False\n",
    "\n",
    "def 요일찾기(year, month, day):\n",
    "    total_days = 0\n",
    "    \n",
    "    for i in range(1,year):\n",
    "        if 윤년체크(i):\n",
    "            total_days += 366\n",
    "        else:\n",
    "            total_days += 365\n",
    "            \n",
    "    month_days = [0,31,28,31,30,31,30,31,31,30,31,30,31]\n",
    "    for m in range(1, month):\n",
    "        total_days += month_days[m]\n",
    "    \n",
    "    if month >= 3:\n",
    "        if 윤년체크(year):\n",
    "            total_days + 1\n",
    "    total_days += day\n",
    "    \n",
    "    remain_days = total_days % 7\n",
    "    day_names = [\"일요일\", \"월요일\", \"화요일\", \"수요일\", \"목요일\", \"금요일\", \"토요일\"]\n",
    "    print(f\"입력하신 날짜는 {day_names[remain_days]}입니다.\")"
   ]
  },
  {
   "cell_type": "code",
   "execution_count": 103,
   "id": "543f660f-1c22-4bf7-8e31-68c5715f2cc4",
   "metadata": {},
   "outputs": [
    {
     "name": "stdin",
     "output_type": "stream",
     "text": [
      "년도를 입력해주세요 :  2025\n",
      "월을 입력해주세요 :  6\n",
      "일을 입력해주세요 :  5\n"
     ]
    },
    {
     "name": "stdout",
     "output_type": "stream",
     "text": [
      "입력하신 날짜는 목요일입니다.\n"
     ]
    }
   ],
   "source": [
    "year = int(input(\"년도를 입력해주세요 : \"))\n",
    "month = int(input(\"월을 입력해주세요 : \"))\n",
    "day = int(input(\"일을 입력해주세요 : \"))\n",
    "요일찾기(year, month, day)"
   ]
  },
  {
   "cell_type": "markdown",
   "id": "87f283c7-bef8-46a2-815c-e3c8993523a9",
   "metadata": {},
   "source": [
    "# 성적처리 시스템\n",
    "\n",
    "- calc_total()\n",
    "- calc_avg()\n",
    "- calc_order()\n",
    "- print_student(students) : 전 학생의 성적을 출력\n",
    "- print_class() : 반평균, 각 과목별 평균 출력"
   ]
  },
  {
   "cell_type": "code",
   "execution_count": 106,
   "id": "799a44b8-5252-4bf8-86f7-117ef6bd6843",
   "metadata": {},
   "outputs": [],
   "source": [
    "students = [\n",
    "               {'num':'1','name':'김철수','kor':90,'eng':80,'math':85,'total':0,'avg':0.0,'order':0 },\n",
    "               {'num':'2','name':'박제동','kor':90,'eng':85,'math':90,'total':0,'avg':0.0,'order':0 },\n",
    "               {'num':'3','name':'홍길동','kor':80,'eng':80,'math':80,'total':0,'avg':0.0,'order':0 }\n",
    "           ]"
   ]
  },
  {
   "cell_type": "code",
   "execution_count": 148,
   "id": "d88201d7-3da8-4988-8a38-ef5ce5e7b582",
   "metadata": {},
   "outputs": [],
   "source": [
    "def calc_total(students):\n",
    "    for student in students:\n",
    "        student[\"total\"] = student[\"kor\"] + student[\"eng\"] + student[\"math\"]\n",
    "\n",
    "def calc_avg(students):\n",
    "    for student in students:\n",
    "        student[\"avg\"] = round(student[\"total\"] / 3, 2)\n",
    "\n",
    "def calc_order(students):\n",
    "    for student in students:\n",
    "        rank = 1\n",
    "        for other in students:\n",
    "            if other['total'] > student[\"total\"]:\n",
    "                rank += 1\n",
    "        student[\"order\"] = rank\n",
    "\n",
    "def print_student(students):\n",
    "    for student in students:\n",
    "        print(f\"{student[\"num\"]}. {student[\"name\"]} - 국어 : {student[\"kor\"]} 영어 : {student[\"eng\"]} 수학 : {student[\"math\"]} 총점 : {student[\"total\"]} 평균 : {student[\"avg\"]} 등수 : {student[\"order\"]}\")\n",
    "\n",
    "def print_class(students):\n",
    "    # kor_avg = 0\n",
    "    # eng_avg = 0\n",
    "    # math_avg = 0\n",
    "    # class_avg = 0\n",
    "    # for student in students:\n",
    "    #     kor_avg += student[\"kor\"]\n",
    "    #     eng_avg += student[\"eng\"]\n",
    "    #     math_avg += student[\"math\"]\n",
    "    #     class_avg += student[\"total\"]\n",
    "\n",
    "    kor_avg = round(sum(student['kor'] for student in students) / len(students), 2)\n",
    "    eng_avg = round(sum(student['avg'] for student in students) / len(students), 2)\n",
    "    math_avg = round(sum(student['math'] for student in students) / len(students), 2)\n",
    "    class_avg = round(sum(student['total'] for student in students) / len(students) / 3, 2) # 총점 / 학생수 / 과목수\n",
    "    print(f\"반평균 : {class_avg} 국어평균 : {kor_avg} 영어평균 : {eng_avg} 수학평균 : {math_avg}\")"
   ]
  },
  {
   "cell_type": "code",
   "execution_count": 149,
   "id": "dbb16545-98ef-4793-b19c-76636a5615c6",
   "metadata": {},
   "outputs": [
    {
     "name": "stdout",
     "output_type": "stream",
     "text": [
      "1. 김철수 - 국어 : 90 영어 : 80 수학 : 85 총점 : 255 평균 : 85.0 등수 : 2\n",
      "2. 박제동 - 국어 : 90 영어 : 85 수학 : 90 총점 : 265 평균 : 88.33 등수 : 1\n",
      "3. 홍길동 - 국어 : 80 영어 : 80 수학 : 80 총점 : 240 평균 : 80.0 등수 : 3\n",
      "반평균 : 84.44 국어평균 : 86.67 영어평균 : 84.44 수학평균 : 85.0\n"
     ]
    }
   ],
   "source": [
    "calc_total(students)\n",
    "calc_avg(students)\n",
    "calc_order(students)\n",
    "print_student(students)\n",
    "print_class(students)"
   ]
  },
  {
   "cell_type": "markdown",
   "id": "bffdba3a-5435-4d8a-8f28-cfbe3f279554",
   "metadata": {},
   "source": [
    "# lambda 함수\n",
    "\n",
    "선언 >> lambda <매개변수> : 실행코드<br>\n",
    "호출 >> (lambda <매개변수> : 실행코드)(매개변수 값)"
   ]
  },
  {
   "cell_type": "code",
   "execution_count": 1,
   "id": "a76f0724-bd25-4b3b-962c-9a462996e4fa",
   "metadata": {},
   "outputs": [],
   "source": [
    "def aaa(a):\n",
    "    result = a + 1\n",
    "    return result"
   ]
  },
  {
   "cell_type": "code",
   "execution_count": 2,
   "id": "5dfea7fb-7537-4586-acef-5092a9420025",
   "metadata": {},
   "outputs": [
    {
     "data": {
      "text/plain": [
       "<function __main__.<lambda>(a)>"
      ]
     },
     "execution_count": 2,
     "metadata": {},
     "output_type": "execute_result"
    }
   ],
   "source": [
    "lambda a : a + 1"
   ]
  },
  {
   "cell_type": "code",
   "execution_count": 3,
   "id": "f0e2fa88-c323-4711-ac4d-ebf24d20d621",
   "metadata": {},
   "outputs": [
    {
     "data": {
      "text/plain": [
       "5"
      ]
     },
     "execution_count": 3,
     "metadata": {},
     "output_type": "execute_result"
    }
   ],
   "source": [
    "(lambda a : a + 1)(4)"
   ]
  },
  {
   "cell_type": "code",
   "execution_count": 4,
   "id": "6bdd5f6f-d35f-4bac-a1a5-f89acfae4561",
   "metadata": {},
   "outputs": [
    {
     "data": {
      "text/plain": [
       "6"
      ]
     },
     "execution_count": 4,
     "metadata": {},
     "output_type": "execute_result"
    }
   ],
   "source": [
    "my_lambda = lambda a : a + 1\n",
    "my_lambda(5)"
   ]
  },
  {
   "cell_type": "code",
   "execution_count": 5,
   "id": "753279a7-5e5e-47b6-b246-b90fb757560d",
   "metadata": {},
   "outputs": [
    {
     "data": {
      "text/plain": [
       "5"
      ]
     },
     "execution_count": 5,
     "metadata": {},
     "output_type": "execute_result"
    }
   ],
   "source": [
    "def sum1(a, b):\n",
    "    return a+ b\n",
    "sum1(2,3)"
   ]
  },
  {
   "cell_type": "code",
   "execution_count": 7,
   "id": "d72b8b9f-cec1-4228-a07b-793aba5b056b",
   "metadata": {},
   "outputs": [
    {
     "data": {
      "text/plain": [
       "6"
      ]
     },
     "execution_count": 7,
     "metadata": {},
     "output_type": "execute_result"
    }
   ],
   "source": [
    "(lambda a, b : a + b)(2,4)"
   ]
  },
  {
   "cell_type": "code",
   "execution_count": 8,
   "id": "43b7f469-d622-484b-a9a8-0ed339e9b94d",
   "metadata": {},
   "outputs": [],
   "source": [
    "def calc_func(a, b, opr_func):\n",
    "    result = opr_func(a, b)\n",
    "    return result"
   ]
  },
  {
   "cell_type": "code",
   "execution_count": 9,
   "id": "499f2ca9-3d90-4261-bdc4-a2dfa14292c7",
   "metadata": {},
   "outputs": [
    {
     "data": {
      "text/plain": [
       "3"
      ]
     },
     "execution_count": 9,
     "metadata": {},
     "output_type": "execute_result"
    }
   ],
   "source": [
    "calc_func(1,2,  lambda x, y : x + y)"
   ]
  },
  {
   "cell_type": "code",
   "execution_count": 12,
   "id": "ff3f13c2-254c-48c2-94d0-7fb6788d2d72",
   "metadata": {},
   "outputs": [
    {
     "data": {
      "text/plain": [
       "['APPLE', 'BANANA', 'CHERRY']"
      ]
     },
     "execution_count": 12,
     "metadata": {},
     "output_type": "execute_result"
    }
   ],
   "source": [
    "#map 함수\n",
    "fruits = [\"apple\", \"banana\", \"cherry\"]\n",
    "list(map(str.upper, fruits))"
   ]
  },
  {
   "cell_type": "code",
   "execution_count": 13,
   "id": "10722311-d411-4e70-8577-73e2b268212f",
   "metadata": {},
   "outputs": [
    {
     "data": {
      "text/plain": [
       "['1', '2', '3', '4', '5']"
      ]
     },
     "execution_count": 13,
     "metadata": {},
     "output_type": "execute_result"
    }
   ],
   "source": [
    "str_number = \"12345\"\n",
    "list(str_number)"
   ]
  },
  {
   "cell_type": "code",
   "execution_count": 15,
   "id": "9bc3ac4e-bc52-418a-a019-305132e34fb0",
   "metadata": {},
   "outputs": [
    {
     "data": {
      "text/plain": [
       "[1, 2, 3, 4, 5]"
      ]
     },
     "execution_count": 15,
     "metadata": {},
     "output_type": "execute_result"
    }
   ],
   "source": [
    "numbers = list(map(int, str_number))\n",
    "numbers"
   ]
  },
  {
   "cell_type": "code",
   "execution_count": 17,
   "id": "6873bf46-ea0b-47da-bbfe-c1009ead4fc5",
   "metadata": {},
   "outputs": [
    {
     "data": {
      "text/plain": [
       "[1, 4, 9, 16, 25]"
      ]
     },
     "execution_count": 17,
     "metadata": {},
     "output_type": "execute_result"
    }
   ],
   "source": [
    "list(map(lambda x : x ** 2,numbers))"
   ]
  },
  {
   "cell_type": "code",
   "execution_count": 19,
   "id": "7c33f7e4-ed91-480c-bc40-ad7ce58d1f19",
   "metadata": {},
   "outputs": [
    {
     "data": {
      "text/plain": [
       "[12, 15, 18]"
      ]
     },
     "execution_count": 19,
     "metadata": {},
     "output_type": "execute_result"
    }
   ],
   "source": [
    "kor_score = [1,2,3]\n",
    "eng_score = [4,5,6]\n",
    "math_score = [7,8,9]\n",
    "list(map(lambda x, y, z : x + y + z, kor_score, eng_score, math_score))"
   ]
  },
  {
   "cell_type": "code",
   "execution_count": 23,
   "id": "d988f3c7-c771-495b-b663-03a40e6424f8",
   "metadata": {},
   "outputs": [
    {
     "name": "stdout",
     "output_type": "stream",
     "text": [
      "[4.0, 5.0, 6.0]\n",
      "[1, 2, 3]\n",
      "[7, 8, 9]\n"
     ]
    }
   ],
   "source": [
    "#평균, 최소값, 최대값\n",
    "print(list(map(lambda x, y, z : (x + y + z) / 3, kor_score, eng_score, math_score)))\n",
    "print(list(map(lambda x, y, z : min(x, y, z), kor_score, eng_score, math_score)))\n",
    "print(list(map(lambda x, y, z : max(x, y, z), kor_score, eng_score, math_score)))"
   ]
  },
  {
   "cell_type": "code",
   "execution_count": 24,
   "id": "df535ad4-4f2e-4877-af3a-b7ba2bf99f20",
   "metadata": {},
   "outputs": [
    {
     "data": {
      "text/plain": [
       "[12, 15, 18]"
      ]
     },
     "execution_count": 24,
     "metadata": {},
     "output_type": "execute_result"
    }
   ],
   "source": [
    "list(map(lambda s : sum(s), zip(kor_score, eng_score, math_score)))"
   ]
  },
  {
   "cell_type": "code",
   "execution_count": 28,
   "id": "c337a976-1f0c-4349-88af-967050415c59",
   "metadata": {},
   "outputs": [
    {
     "name": "stdout",
     "output_type": "stream",
     "text": [
      "[4.0, 5.0, 6.0]\n",
      "[1, 2, 3]\n",
      "[7, 8, 9]\n"
     ]
    }
   ],
   "source": [
    "print(list(map(lambda s : sum(s)/len(s), zip(kor_score, eng_score, math_score))))\n",
    "print(list(map(lambda s : min(s), zip(kor_score, eng_score, math_score))))\n",
    "print(list(map(lambda s : max(s), zip(kor_score, eng_score, math_score))))"
   ]
  },
  {
   "cell_type": "code",
   "execution_count": 2,
   "id": "c1ad1d5a-f683-4e39-9f32-dd156489da26",
   "metadata": {},
   "outputs": [
    {
     "name": "stdout",
     "output_type": "stream",
     "text": [
      "15\n"
     ]
    }
   ],
   "source": [
    "#두 수를 입력 받아 그 곱을 반환하는 함수를 작성하세요.\n",
    "def multiply_numbers(a, b):\n",
    "    return a * b\n",
    "print(multiply_numbers(3, 5))"
   ]
  },
  {
   "cell_type": "code",
   "execution_count": 10,
   "id": "94ccf551-8bf6-4029-a083-c6d08b5b7f22",
   "metadata": {},
   "outputs": [
    {
     "name": "stdout",
     "output_type": "stream",
     "text": [
      "30.0\n",
      "30.0\n"
     ]
    }
   ],
   "source": [
    "#숫자 리스트를 입력 받아 평균을 반환하는 함수를 작성하세요.\n",
    "def calc_average(numbers):\n",
    "    avg = sum(numbers) / len(numbers)\n",
    "    return avg\n",
    "print(calc_average([10, 20, 30, 40, 50]))\n",
    "\n",
    "#람다로 정의\n",
    "print((lambda n : sum(n) / len(n))([10, 20, 30, 40, 50]))"
   ]
  },
  {
   "cell_type": "code",
   "execution_count": 12,
   "id": "4812dbd3-5a03-4b53-85f9-5743973c0d75",
   "metadata": {},
   "outputs": [
    {
     "name": "stdout",
     "output_type": "stream",
     "text": [
      "True\n",
      "False\n",
      "True\n",
      "False\n"
     ]
    }
   ],
   "source": [
    "#주어진 숫자가 짝수이면 True, 홀수이면 False를 반환하는 함수를 작성하세요.\n",
    "def is_even(n):\n",
    "    if n % 2 == 0:\n",
    "        return True\n",
    "    else:\n",
    "        return False\n",
    "print(is_even(14))  # True\n",
    "print(is_even(21))  # False\n",
    "\n",
    "#람다 버전\n",
    "print((lambda n : n % 2 == 0)(14))\n",
    "print((lambda n : n % 2 == 0)(21))"
   ]
  },
  {
   "cell_type": "code",
   "execution_count": 15,
   "id": "4d5dd7db-0159-46bd-8b1d-d4da74e2bc6d",
   "metadata": {},
   "outputs": [
    {
     "name": "stdout",
     "output_type": "stream",
     "text": [
      "['1', '2', '3', '4', '5']\n",
      "['1', '2', '3', '4', '5']\n"
     ]
    }
   ],
   "source": [
    "#주어진 리스트의 모든 요소를 문자열로 변환하여 반환하는 함수와, 람다 함수를 작성하세요.\n",
    "def to_string_list(lst):\n",
    "    for i in range(len(lst)):\n",
    "        lst[i] = str(lst[i])\n",
    "    return lst\n",
    "print(to_string_list([1, 2, 3, 4, 5]))\n",
    "\n",
    "#람다 버전\n",
    "print(list(map(str, [1, 2, 3, 4, 5])))"
   ]
  },
  {
   "cell_type": "code",
   "execution_count": 17,
   "id": "8515369a-0499-4f68-b84c-1383995fe5bf",
   "metadata": {},
   "outputs": [
    {
     "name": "stdout",
     "output_type": "stream",
     "text": [
      "Hello, World!\n",
      "Hello, World!\n"
     ]
    }
   ],
   "source": [
    "#두 문자열을 입력받아 합친 문자열을 반환하는 함수와 람다 함수를 작성하세요.\n",
    "def concat_strings(s1, s2):\n",
    "    return s1 + s2\n",
    "print(concat_strings(\"Hello, \", \"World!\"))\n",
    "\n",
    "#람다 버전\n",
    "print((lambda a, b: a + b)(\"Hello, \", \"World!\"))"
   ]
  },
  {
   "cell_type": "code",
   "execution_count": 5,
   "id": "2ee7ffbc-6cf7-429f-8864-ee226b994ba7",
   "metadata": {},
   "outputs": [
    {
     "name": "stdout",
     "output_type": "stream",
     "text": [
      "bcdfghjklmnpqrstvwxyz\n"
     ]
    }
   ],
   "source": [
    "#주어진 문자열에서 모든 모음(a,e,i,o,u)을 제거한 문자열을 반환하는 함수를 작성하세요.\n",
    "def remove_vowels(s):\n",
    "    collection = ['a', 'e', 'i', 'o', 'u']\n",
    "    for c in collection:\n",
    "        s = s.replace(c, '')\n",
    "    return s\n",
    "print(remove_vowels(\"abcdefghijklmnopqrstuvwxyz\"))  # \"bcdfghjklmnpqrstvwxyz\""
   ]
  },
  {
   "cell_type": "code",
   "execution_count": 21,
   "id": "f823cf3b-eaf9-438e-9266-53d52104c3c5",
   "metadata": {},
   "outputs": [
    {
     "name": "stdout",
     "output_type": "stream",
     "text": [
      "('generation', 10)\n"
     ]
    }
   ],
   "source": [
    "#문자열을 입력 받아, 해당 문자열에서 가장 긴 단어와 길이를 반환하는 함수를 작성하세요.\n",
    "def find_longest_word(s):\n",
    "    s_list = s.split()\n",
    "    max_len = 0\n",
    "    max_s = ''\n",
    "    for i in s_list:\n",
    "        if len(i) > max_len:\n",
    "            max_len = len(i)\n",
    "            max_s = i\n",
    "    return max_s, max_len\n",
    "print(find_longest_word(\"Life is for one generation a good name is forever.\"))"
   ]
  },
  {
   "cell_type": "code",
   "execution_count": 23,
   "id": "6aba09b3-fd04-4948-9788-40e812ab466d",
   "metadata": {},
   "outputs": [
    {
     "name": "stdout",
     "output_type": "stream",
     "text": [
      "([1, 2, 3, 4], ['a', 'b', 'c', 'd'])\n"
     ]
    }
   ],
   "source": [
    "#주어진 문자열에서 숫자와 문자를 분리하는 함수를 작성하세요.\n",
    "def split_numbers_letters(s):\n",
    "    numbers = []\n",
    "    letters = []\n",
    "    for i in s:\n",
    "        if i.isdecimal():\n",
    "            numbers.append(int(i))\n",
    "        else:\n",
    "            letters.append(i)\n",
    "    return numbers, letters\n",
    "\n",
    "print(split_numbers_letters(\"a1b2c3d4\"))"
   ]
  },
  {
   "cell_type": "code",
   "execution_count": 27,
   "id": "6b6aa904-a3cc-41e5-8cc7-1cf5536eeb64",
   "metadata": {},
   "outputs": [
    {
     "name": "stdout",
     "output_type": "stream",
     "text": [
      "{'h': 1, 'e': 1, 'l': 2, 'o': 1}\n"
     ]
    }
   ],
   "source": [
    "#주어진 문자열(알파벳)을 입력 받아, 각 알파벳의 종류와 개수를 dict형으로 반환하는 함수를 만드세요.\n",
    "def count_alphabets(s):\n",
    "    alph_dic = {}\n",
    "    for i in s:\n",
    "        if i in alph_dic:\n",
    "            alph_dic[i] += 1\n",
    "        else:\n",
    "            alph_dic[i] = 1\n",
    "    return alph_dic\n",
    "\n",
    "print(count_alphabets(\"hello\"))"
   ]
  }
 ],
 "metadata": {
  "kernelspec": {
   "display_name": "Python 3 (ipykernel)",
   "language": "python",
   "name": "python3"
  },
  "language_info": {
   "codemirror_mode": {
    "name": "ipython",
    "version": 3
   },
   "file_extension": ".py",
   "mimetype": "text/x-python",
   "name": "python",
   "nbconvert_exporter": "python",
   "pygments_lexer": "ipython3",
   "version": "3.12.9"
  }
 },
 "nbformat": 4,
 "nbformat_minor": 5
}
