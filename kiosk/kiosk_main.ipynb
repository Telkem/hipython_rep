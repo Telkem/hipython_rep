{
 "cells": [
  {
   "cell_type": "code",
   "execution_count": 2,
   "id": "83d6b744-fc69-4c54-94b7-f17acf8c40eb",
   "metadata": {},
   "outputs": [
    {
     "name": "stdout",
     "output_type": "stream",
     "text": [
      "****************************************\n",
      "어서오세요, ‘요렇게’에 오신 것을 환영합니다:)\n",
      "Menu\t\t\t\tPrice\n",
      "------------------------------\n",
      "요거트 아이스크림(250g)\t3,000\n",
      "------------------------------\n",
      "\n",
      "No. Topping\t\tPrice\n",
      "------------------------------\n",
      "1     바나나       \t4,000\n",
      "2     딸기        \t5,000\n",
      "3     벌집꿀       \t7,000\n",
      "4     그레놀라      \t7,000\n",
      "5     초코쉘       \t7,000\n",
      "6     요거트 아이스크림 \t3,000\n",
      "------------------------------\n",
      "****************************************\n",
      "\n",
      "========================================\n",
      "현재 장바구니\n",
      "1. 요거트 아이스크림 x 1 = 3,000원\n",
      "----------------------------------------\n",
      "Total = 3,000원\n",
      "메뉴를 확정하려면 o\n",
      "메뉴를 삭제하려면 d\n",
      "메뉴를 추가하려면 a\n",
      "메뉴를 취소하려면 c\n"
     ]
    },
    {
     "name": "stdin",
     "output_type": "stream",
     "text": [
      "알파벳을 입력해주세요 :  99\n"
     ]
    },
    {
     "name": "stdout",
     "output_type": "stream",
     "text": [
      "관리자 중지입니다.\n"
     ]
    }
   ],
   "source": [
    "import package\n",
    "# 멤버십 포인트 정보를 저장하는 딕셔너리\n",
    "membership_dict = {}\n",
    "\n",
    "# 메뉴 리스트: 이름과 가격 정보를 포함\n",
    "menu_list = [\n",
    "    {'name': '바나나', 'price': 4000},\n",
    "    {'name': '딸기', 'price': 5000},\n",
    "    {'name': '벌집꿀', 'price': 7000},\n",
    "    {'name': '그레놀라', 'price': 7000},\n",
    "    {'name': '초코쉘', 'price': 7000},\n",
    "    {'name': '요거트 아이스크림', 'price': 3000}\n",
    "]\n",
    "\n",
    "# 프로그램의 메인 루프\n",
    "def main(membership_dict):\n",
    "    num_order = 1\n",
    "    while True:\n",
    "        package.display_menu.display_menu(menu_list)\n",
    "        # 기본으로 요거트 아이스크림 1개가 장바구니에 들어감\n",
    "        cart = [{'name': menu_list[5]['name'], 'price': menu_list[5]['price'], 'quantity': 1}]\n",
    "        total_price = 3000\n",
    "        while True:\n",
    "            package.cart.display_cart(cart, total_price)\n",
    "            choice = package.select.select_pro()\n",
    "\n",
    "            if choice == 'o':  # 주문 확정\n",
    "                break\n",
    "            elif choice == 'd':  # 메뉴 삭제\n",
    "                total_price = package.cart.del_menu(cart, total_price)\n",
    "            elif choice == 'a':  # 메뉴 추가\n",
    "                total_price = package.cart.add_menu(cart, total_price, menu_list)\n",
    "            elif choice == 'c':  # 주문 취소\n",
    "                print(\"주문이 취소됩니다.\")\n",
    "                package.delay.end_screen_delay()\n",
    "                break\n",
    "            elif choice == '99':  # 관리자 중지 명령\n",
    "                print(\"관리자 중지입니다.\")\n",
    "                return\n",
    "            else:\n",
    "                print(\"입력이 올바르지 않습니다.\")\n",
    "\n",
    "        # 주문 취소 or 중지 시 다음 루프로 이동\n",
    "        if choice in ['c', '99']:\n",
    "            continue\n",
    "\n",
    "        # 장바구니 비었을 경우 처리\n",
    "        if total_price == 0:\n",
    "            print(\"장바구니가 비어있습니다.\")\n",
    "            package.delay.end_screen_delay()\n",
    "            continue\n",
    "\n",
    "        # 결제 처리\n",
    "        while True:\n",
    "            pay = package.pay.pay_deci()\n",
    "            if pay == 'y':\n",
    "                membership_dict = package.pay.pay_screen(total_price, num_order, membership_dict)\n",
    "                num_order += 1\n",
    "                break\n",
    "            elif pay == 'n':\n",
    "                print(\"결제가 취소되었습니다.\")\n",
    "                break\n",
    "            else:\n",
    "                print(\"y 또는 n을 입력해주세요.\")\n",
    "        package.delay.end_screen_delay()\n",
    "\n",
    "# 프로그램 시작\n",
    "main(membership_dict)\n"
   ]
  },
  {
   "cell_type": "code",
   "execution_count": null,
   "id": "cdaa06ee-5acd-49ca-8302-e7e9822d1b1e",
   "metadata": {},
   "outputs": [],
   "source": []
  }
 ],
 "metadata": {
  "kernelspec": {
   "display_name": "Python 3 (ipykernel)",
   "language": "python",
   "name": "python3"
  },
  "language_info": {
   "codemirror_mode": {
    "name": "ipython",
    "version": 3
   },
   "file_extension": ".py",
   "mimetype": "text/x-python",
   "name": "python",
   "nbconvert_exporter": "python",
   "pygments_lexer": "ipython3",
   "version": "3.12.9"
  }
 },
 "nbformat": 4,
 "nbformat_minor": 5
}
