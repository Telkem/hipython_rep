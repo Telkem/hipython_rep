{
 "cells": [
  {
   "cell_type": "code",
   "execution_count": 1,
   "id": "9a8eef91-38a5-4d19-a4c7-23ac7ec2ee72",
   "metadata": {},
   "outputs": [
    {
     "name": "stdin",
     "output_type": "stream",
     "text": [
      "먹고 싶은 간식을 추가하세요. 단, 쉼표(,)로 연결하세요 눈을감자\n"
     ]
    },
    {
     "name": "stdout",
     "output_type": "stream",
     "text": [
      "['초코파이', '눈을감자']\n"
     ]
    },
    {
     "name": "stdin",
     "output_type": "stream",
     "text": [
      "간식박스 몇 세트로 포장할까요? 예 : 2 -> 2box 2\n"
     ]
    },
    {
     "name": "stdout",
     "output_type": "stream",
     "text": [
      "['초코파이', '눈을감자', '초코파이', '눈을감자']\n",
      "주문하신 간식 상자는 초코파이, 눈을감자, 초코파이 등입니다. 확인해주세요.\n"
     ]
    },
    {
     "name": "stdin",
     "output_type": "stream",
     "text": [
      "혹시 빼고싶은 간식이 있으면 번호를 입력하세요(0~3) 0\n"
     ]
    },
    {
     "name": "stdout",
     "output_type": "stream",
     "text": [
      "['눈을감자', '초코파이', '눈을감자']\n"
     ]
    },
    {
     "name": "stdin",
     "output_type": "stream",
     "text": [
      "찾고 싶은 간식이름을 입력하세요 홈런볼\n"
     ]
    },
    {
     "name": "stdout",
     "output_type": "stream",
     "text": [
      "없어요.\n",
      "주문하신 간식박스는 뒤에서부터 다음과 같습니다.\n",
      "['눈을감자', '초코파이', '눈을감자'], 총 3개입니다.\n"
     ]
    }
   ],
   "source": [
    "snack_box = [\"초코파이\"]\n",
    "new_snack = input(\"먹고 싶은 간식을 추가하세요. 단, 쉼표(,)로 연결하세요\").split(\",\")\n",
    "snack_box += new_snack\n",
    "print(snack_box)\n",
    "\n",
    "qty = int(input(\"간식박스 몇 세트로 포장할까요? 예 : 2 -> 2box\"))\n",
    "snack_box *= qty\n",
    "print(snack_box)\n",
    "print(f\"주문하신 간식 상자는 {snack_box[0]}, {snack_box[1]}, {snack_box[2]} 등입니다. 확인해주세요.\")\n",
    "\n",
    "msg = f\"혹시 빼고싶은 간식이 있으면 번호를 입력하세요(0~{len(snack_box) - 1})\"\n",
    "snack_no = int(input(msg))\n",
    "del snack_box[snack_no]\n",
    "print(snack_box)\n",
    "\n",
    "snack_name = input(\"찾고 싶은 간식이름을 입력하세요\")\n",
    "if snack_name in snack_box:\n",
    "    print(\"있어요.\")\n",
    "else:\n",
    "    print(\"없어요.\")\n",
    "\n",
    "print(\"주문하신 간식박스는 뒤에서부터 다음과 같습니다.\")\n",
    "print(f'{snack_box[::-1]}, 총 {len(snack_box)}개입니다.')"
   ]
  },
  {
   "cell_type": "markdown",
   "id": "8da5aafc-df44-4d53-9b37-a4d670e60e42",
   "metadata": {},
   "source": [
    "# 함수기반"
   ]
  },
  {
   "cell_type": "code",
   "execution_count": 5,
   "id": "0676babe-ee5b-4ed4-ba4d-ff38f17f7d54",
   "metadata": {},
   "outputs": [],
   "source": [
    "# 관리프로그램 crud처리\n",
    "# 간식박스 생성 create\n",
    "# 간식세트 포장 *2 update\n",
    "# 간식박스 미리보기(3개만)  read\n",
    "# 간식삭제 delete\n",
    "# 간식찾기 search\n",
    "# 간식박스 전체보기 read"
   ]
  },
  {
   "cell_type": "code",
   "execution_count": 6,
   "id": "ea517892-2839-4621-a7a6-539b0799d8a6",
   "metadata": {},
   "outputs": [],
   "source": [
    "# 간식박스 생성 create\n",
    "def make_snack_box():\n",
    "    snack_box = ['초코파이']\n",
    "    new_snack = input(\"먹고 싶은 간식을 추가하세요. 단, 쉼표(,)로 연결하세요\").split(\",\")\n",
    "    snack_box += new_snack\n",
    "    return snack_box"
   ]
  },
  {
   "cell_type": "code",
   "execution_count": 7,
   "id": "5e7e0af0-4ae1-4928-954e-a146a01e65c4",
   "metadata": {},
   "outputs": [],
   "source": [
    "# 간식세트 포장 *2 update\n",
    "def multiply_snack_box(snack_box):\n",
    "    qty = int(input(\"간식박스 몇 세트로 포장할까요? 예 : 2 -> 2box\"))\n",
    "    return snack_box * qty"
   ]
  },
  {
   "cell_type": "code",
   "execution_count": 31,
   "id": "842964be-e63a-4919-8c23-61456cccdeee",
   "metadata": {},
   "outputs": [],
   "source": [
    "# 간식박스 전체보기 read\n",
    "def display_snack_box(snack_box):\n",
    "    print(f\"{snack_box[::-1]}, 총 {len(snack_box)}개 입니다.\")"
   ]
  },
  {
   "cell_type": "code",
   "execution_count": 29,
   "id": "4adb88b8-135e-4028-abfe-b81ce27d4916",
   "metadata": {},
   "outputs": [],
   "source": [
    "# 간식박스 미리보기(3개만)  read\n",
    "def preview_snack_box(snack_box):\n",
    "    preview = ', '.join(snack_box[:3])\n",
    "    print(f\"주문하신 간식 상자는 {preview} 등입니다. 확인해주세요.\")\n",
    "    # if len(snack_box) > 3:\n",
    "    #     print(f\"주문하신 간식 상자는 {snack_box[0]} {snack_box[1]} {snack_box[2]} 등입니다. 확인해주세요.\")\n",
    "    # else:\n",
    "    #     print(\"주문하신 간식 상자는 \", end = '')\n",
    "    #     for snack in snack_box:\n",
    "    #         print(snack, end = \" \")\n",
    "    #     print(\"입니다. 확인해주세요.\")"
   ]
  },
  {
   "cell_type": "code",
   "execution_count": 32,
   "id": "d6c99e6d-c51f-4d8a-a3f9-6a7f1a2010be",
   "metadata": {},
   "outputs": [],
   "source": [
    "# 간식삭제 delete\n",
    "def remove_snack_box(snack_box):\n",
    "    if not snack_box:\n",
    "        print(\"간식 박스가 비어있습니다.\")\n",
    "        return\n",
    "        \n",
    "    display_snack_box(snack_box[::-1])\n",
    "    msg = f\"혹시 빼고싶은 간식이 있으면 번호를 입력하세요(0~{len(snack_box) - 1})\"\n",
    "    snack_no = int(input(msg))\n",
    "    #snack_no validation\n",
    "    if snack_no >= 0 and snack_no < len(snack_box):\n",
    "        del snack_box[snack_no]\n",
    "    else:\n",
    "        print(\"올바르지 않은 번호입니다.\")"
   ]
  },
  {
   "cell_type": "code",
   "execution_count": 33,
   "id": "2a821a67-9447-4512-b358-3807c69c5d23",
   "metadata": {},
   "outputs": [],
   "source": [
    "# 간식찾기 search\n",
    "def search_snack_box(snack_box):\n",
    "    snack_name = input(\"찾고 싶은 간식이름을 입력하세요\")\n",
    "    print(\"있어요.\" if snack_name in snack_box else \"없어요.\")\n"
   ]
  },
  {
   "cell_type": "code",
   "execution_count": 35,
   "id": "3dc4ae0b-fbbc-4220-bd37-54541dbf3742",
   "metadata": {},
   "outputs": [],
   "source": [
    "# 간식박스 요약\n",
    "def summarize_snacks(snack_box):\n",
    "    summary = {}\n",
    "    for snack in snack_box:\n",
    "        summary[snack] = summary.get(snack,0)+1\n",
    "    print('간식 박스 정리')\n",
    "    for snack, qty in summary.items():\n",
    "        print(f\"{snack} : {qty}개\")"
   ]
  },
  {
   "cell_type": "code",
   "execution_count": 36,
   "id": "ce619e98-641c-4c8b-beea-5420386bd5ef",
   "metadata": {},
   "outputs": [
    {
     "name": "stdin",
     "output_type": "stream",
     "text": [
      "먹고 싶은 간식을 추가하세요. 단, 쉼표(,)로 연결하세요 새우깡,홈런볼\n"
     ]
    },
    {
     "name": "stdout",
     "output_type": "stream",
     "text": [
      "간식박스가 만들어졌습니다.\n",
      "['홈런볼', '새우깡', '초코파이'], 총 3개 입니다.\n"
     ]
    },
    {
     "name": "stdin",
     "output_type": "stream",
     "text": [
      "간식박스 몇 세트로 포장할까요? 예 : 2 -> 2box 2\n"
     ]
    },
    {
     "name": "stdout",
     "output_type": "stream",
     "text": [
      "주문하신 간식 상자는 초코파이, 새우깡, 홈런볼 등입니다. 확인해주세요.\n"
     ]
    },
    {
     "name": "stdin",
     "output_type": "stream",
     "text": [
      "찾고 싶은 간식이름을 입력하세요 새우깡\n"
     ]
    },
    {
     "name": "stdout",
     "output_type": "stream",
     "text": [
      "있어요.\n",
      "['초코파이', '새우깡', '홈런볼', '초코파이', '새우깡', '홈런볼'], 총 6개 입니다.\n"
     ]
    },
    {
     "name": "stdin",
     "output_type": "stream",
     "text": [
      "혹시 빼고싶은 간식이 있으면 번호를 입력하세요(0~5) 3\n"
     ]
    },
    {
     "name": "stdout",
     "output_type": "stream",
     "text": [
      "['홈런볼', '새우깡', '홈런볼', '새우깡', '초코파이'], 총 5개 입니다.\n",
      "간식 박스 정리\n",
      "초코파이 : 1개\n",
      "새우깡 : 2개\n",
      "홈런볼 : 2개\n"
     ]
    }
   ],
   "source": [
    "# 서비스의 흐름 - 순차\n",
    "box = make_snack_box()\n",
    "print(\"간식박스가 만들어졌습니다.\")\n",
    "display_snack_box(box)\n",
    "box = multiply_snack_box(box)\n",
    "preview_snack_box(box)\n",
    "\n",
    "search_snack_box(box)\n",
    "remove_snack_box(box)\n",
    "display_snack_box(box)\n",
    "summarize_snacks(box)"
   ]
  },
  {
   "cell_type": "markdown",
   "id": "dd421d3c-7dc7-4c71-9c9c-8cd23a4f5039",
   "metadata": {},
   "source": [
    "# 메뉴 형식으로 구조 개편"
   ]
  },
  {
   "cell_type": "code",
   "execution_count": null,
   "id": "bdfacc8d-3fbb-412a-a513-499032180158",
   "metadata": {},
   "outputs": [],
   "source": [
    "# 선택, 반복"
   ]
  },
  {
   "cell_type": "code",
   "execution_count": 48,
   "id": "b56e06fc-58d7-4cca-8950-2244f756e5ac",
   "metadata": {},
   "outputs": [],
   "source": [
    "#-- 공통 유틸리티 함수\n",
    "\n",
    "def get_valid_text_input(msg):\n",
    "    user_input = input(msg).strip()\n",
    "    if not user_input:\n",
    "        print(\"입력값을 확인하세요\")\n",
    "        return None\n",
    "    return user_input\n",
    "\n",
    "def get_valid_number_input(msg, min_no = 1, max_no = 5):\n",
    "    # 숫자체크\n",
    "    try:\n",
    "        number = int(input(msg))\n",
    "        if number < min_no:\n",
    "            print(f\"{min_no} 이상 숫자를 입력하세요\")\n",
    "            return None\n",
    "        elif number > max_no:\n",
    "            print(f\"{max_no} 이하 숫자를 입력하세요\")\n",
    "            return None\n",
    "        else:\n",
    "            return number\n",
    "    except ValueError:\n",
    "        print(\"숫자를 입력하세요\")\n",
    "        return None\n",
    "\n"
   ]
  },
  {
   "cell_type": "code",
   "execution_count": 50,
   "id": "514ede68-9b9a-4980-a3c0-094a3de415d6",
   "metadata": {},
   "outputs": [],
   "source": [
    "#--기본 함수 정의\n",
    "\n",
    "# 간식박스 생성 create\n",
    "def make_snack_box(snack_box):\n",
    "    new_snack = get_valid_text_input(\"먹고 싶은 간식을 추가하세요. 단, 쉼표(,)로 연결하세요\").replace(\" \", \"\").split(\",\")\n",
    "    snack_box += new_snack\n",
    "    return snack_box\n",
    "\n",
    "# 간식세트 포장 *2 update\n",
    "def multiply_snack_box(snack_box):\n",
    "    qty = get_valid_number_input(\"간식박스 몇 세트로 포장할까요? 예 : 2 -> 2box\", 2, 5)\n",
    "    if qty:\n",
    "        return snack_box * qty\n",
    "    else:\n",
    "        return snack_box\n",
    "\n",
    "# 간식박스 전체보기 read\n",
    "def display_snack_box(snack_box):\n",
    "    print(f\"{snack_box[::-1]}, 총 {len(snack_box)}개 입니다.\")\n",
    "\n",
    "# 간식박스 미리보기(3개만)  read\n",
    "def preview_snack_box(snack_box):\n",
    "    preview = ', '.join(snack_box[:3])\n",
    "    print(f\"주문하신 간식 상자는 {preview} 등입니다. 확인해주세요.\")\n",
    "\n",
    "# 간식삭제 delete\n",
    "def remove_snack_box(snack_box):\n",
    "    if not snack_box:\n",
    "        print(\"간식 박스가 비어있습니다.\")\n",
    "        return\n",
    "        \n",
    "    display_snack_box(snack_box[::-1])\n",
    "    msg = f\"혹시 빼고싶은 간식이 있으면 번호를 입력하세요(0~{len(snack_box) - 1})\"\n",
    "    snack_no = get_valid_number_input(msg, 0, len(snack_box) - 1)\n",
    "    #snack_no validation\n",
    "    if snack_no:\n",
    "        del snack_box[snack_no]\n",
    "    return snack_box\n",
    "\n",
    "# 간식찾기 search\n",
    "def search_snack_box(snack_box):\n",
    "    snack_name = get_valid_text_input(\"찾고 싶은 간식이름을 입력하세요\")\n",
    "    print(\"있어요.\" if snack_name in snack_box else \"없어요.\")\n",
    "\n",
    "# 간식박스 요약\n",
    "def summarize_snacks(snack_box):\n",
    "    summary = {}\n",
    "    for snack in snack_box:\n",
    "        summary[snack] = summary.get(snack,0)+1\n",
    "    print('간식 박스 정리')\n",
    "    for snack, qty in summary.items():\n",
    "        print(f\"{snack} : {qty}개\")\n",
    "\n",
    "def choice_menu():\n",
    "    print(\"간식박스 관리 프로그램 메뉴\")\n",
    "    print(\"1. 간식박스 생성\")\n",
    "    print(\"2. 세트 생성\")\n",
    "    print(\"3. 세트 미리보기\")\n",
    "    print(\"4. 간식 삭제\")\n",
    "    print(\"5. 간식 검색\")\n",
    "    print(\"6. 간식박스 요약\")\n",
    "    print(\"7. 최종 간식박스 확인\")\n",
    "    print(\"0. 프로그램 종료\")\n",
    "    choice = get_valid_number_input(\"원하는 메뉴 번호를 입력하세요.\",0, 7)\n",
    "    return choice\n",
    "    \n"
   ]
  },
  {
   "cell_type": "code",
   "execution_count": 51,
   "id": "ae267d4c-57fd-4436-a0d5-3156ac4fb7d0",
   "metadata": {},
   "outputs": [],
   "source": [
    "def run_menu_program():\n",
    "    snack_box = []\n",
    "    while True:\n",
    "        choice = choice_menu()\n",
    "        if choice == 1:\n",
    "            snack_box = make_snack_box(snack_box)\n",
    "        elif choice == 2:\n",
    "            snack_box = multiply_snack_box(snack_box)\n",
    "        elif choice == 3:\n",
    "            preview_snack_box(snack_box)\n",
    "        elif choice == 4:\n",
    "            snack_box = remove_snack_box(snack_box)\n",
    "        elif choice == 5:\n",
    "            search_snack_box(snack_box)\n",
    "        elif choice == 6:\n",
    "            summarize_snacks(snack_box)\n",
    "        elif choice == 7:\n",
    "            display_snack_box(snack_box)\n",
    "        elif choice == 0:\n",
    "            break\n"
   ]
  },
  {
   "cell_type": "code",
   "execution_count": 52,
   "id": "12e10d5f-c8b2-4f72-8af6-9402b52f9ae3",
   "metadata": {},
   "outputs": [
    {
     "name": "stdout",
     "output_type": "stream",
     "text": [
      "간식박스 관리 프로그램 메뉴\n",
      "1. 간식박스 생성\n",
      "2. 세트 생성\n",
      "3. 세트 미리보기\n",
      "4. 간식 삭제\n",
      "5. 간식 검색\n",
      "6. 간식박스 요약\n",
      "7. 최종 간식박스 확인\n",
      "0. 프로그램 종료\n"
     ]
    },
    {
     "name": "stdin",
     "output_type": "stream",
     "text": [
      "원하는 메뉴 번호를 입력하세요. 9\n"
     ]
    },
    {
     "name": "stdout",
     "output_type": "stream",
     "text": [
      "7 이하 숫자를 입력하세요\n",
      "간식박스 관리 프로그램 메뉴\n",
      "1. 간식박스 생성\n",
      "2. 세트 생성\n",
      "3. 세트 미리보기\n",
      "4. 간식 삭제\n",
      "5. 간식 검색\n",
      "6. 간식박스 요약\n",
      "7. 최종 간식박스 확인\n",
      "0. 프로그램 종료\n"
     ]
    },
    {
     "name": "stdin",
     "output_type": "stream",
     "text": [
      "원하는 메뉴 번호를 입력하세요. 1\n",
      "먹고 싶은 간식을 추가하세요. 단, 쉼표(,)로 연결하세요 z, x, c, v\n"
     ]
    },
    {
     "name": "stdout",
     "output_type": "stream",
     "text": [
      "간식박스 관리 프로그램 메뉴\n",
      "1. 간식박스 생성\n",
      "2. 세트 생성\n",
      "3. 세트 미리보기\n",
      "4. 간식 삭제\n",
      "5. 간식 검색\n",
      "6. 간식박스 요약\n",
      "7. 최종 간식박스 확인\n",
      "0. 프로그램 종료\n"
     ]
    },
    {
     "name": "stdin",
     "output_type": "stream",
     "text": [
      "원하는 메뉴 번호를 입력하세요. 2\n",
      "간식박스 몇 세트로 포장할까요? 예 : 2 -> 2box 1\n"
     ]
    },
    {
     "name": "stdout",
     "output_type": "stream",
     "text": [
      "2 이상 숫자를 입력하세요\n",
      "간식박스 관리 프로그램 메뉴\n",
      "1. 간식박스 생성\n",
      "2. 세트 생성\n",
      "3. 세트 미리보기\n",
      "4. 간식 삭제\n",
      "5. 간식 검색\n",
      "6. 간식박스 요약\n",
      "7. 최종 간식박스 확인\n",
      "0. 프로그램 종료\n"
     ]
    },
    {
     "name": "stdin",
     "output_type": "stream",
     "text": [
      "원하는 메뉴 번호를 입력하세요. 4\n"
     ]
    },
    {
     "name": "stdout",
     "output_type": "stream",
     "text": [
      "['z', 'x', 'c', 'v'], 총 4개 입니다.\n"
     ]
    },
    {
     "name": "stdin",
     "output_type": "stream",
     "text": [
      "혹시 빼고싶은 간식이 있으면 번호를 입력하세요(0~3) 3\n"
     ]
    },
    {
     "name": "stdout",
     "output_type": "stream",
     "text": [
      "간식박스 관리 프로그램 메뉴\n",
      "1. 간식박스 생성\n",
      "2. 세트 생성\n",
      "3. 세트 미리보기\n",
      "4. 간식 삭제\n",
      "5. 간식 검색\n",
      "6. 간식박스 요약\n",
      "7. 최종 간식박스 확인\n",
      "0. 프로그램 종료\n"
     ]
    },
    {
     "name": "stdin",
     "output_type": "stream",
     "text": [
      "원하는 메뉴 번호를 입력하세요. 7\n"
     ]
    },
    {
     "name": "stdout",
     "output_type": "stream",
     "text": [
      "['c', 'x', 'z'], 총 3개 입니다.\n",
      "간식박스 관리 프로그램 메뉴\n",
      "1. 간식박스 생성\n",
      "2. 세트 생성\n",
      "3. 세트 미리보기\n",
      "4. 간식 삭제\n",
      "5. 간식 검색\n",
      "6. 간식박스 요약\n",
      "7. 최종 간식박스 확인\n",
      "0. 프로그램 종료\n"
     ]
    },
    {
     "name": "stdin",
     "output_type": "stream",
     "text": [
      "원하는 메뉴 번호를 입력하세요. 0\n"
     ]
    }
   ],
   "source": [
    "run_menu_program()"
   ]
  },
  {
   "cell_type": "code",
   "execution_count": null,
   "id": "21f3756d-5b50-4625-9e16-44e6096b2131",
   "metadata": {},
   "outputs": [],
   "source": []
  }
 ],
 "metadata": {
  "kernelspec": {
   "display_name": "Python 3 (ipykernel)",
   "language": "python",
   "name": "python3"
  },
  "language_info": {
   "codemirror_mode": {
    "name": "ipython",
    "version": 3
   },
   "file_extension": ".py",
   "mimetype": "text/x-python",
   "name": "python",
   "nbconvert_exporter": "python",
   "pygments_lexer": "ipython3",
   "version": "3.12.9"
  }
 },
 "nbformat": 4,
 "nbformat_minor": 5
}
