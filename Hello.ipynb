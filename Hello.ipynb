{
 "cells": [
  {
   "cell_type": "code",
   "execution_count": 21,
   "id": "6dacb4b5-66e5-42bc-8ecd-b46ca36e7e8e",
   "metadata": {},
   "outputs": [
    {
     "name": "stdout",
     "output_type": "stream",
     "text": [
      "Hello jupyter\n",
      "Mary's cosmetics\n",
      "신씨가 소리질렀다. \"도둑이야\".\n",
      "C:\\Windows\n",
      "안녕하세요.\n",
      "만나서\t\t반갑습니다.\n",
      "오늘은 일요일\n",
      "naver;kakao;sk;samsung\n",
      "naver/kakao/sk/samsung\n",
      "firstsecond\n",
      "1.67\n"
     ]
    }
   ],
   "source": [
    "print(\"Hello jupyter\")\n",
    "print(\"Mary's cosmetics\")\n",
    "print('신씨가 소리질렀다. \"도둑이야\".')\n",
    "print(\"C:\\\\Windows\")\n",
    "print(\"안녕하세요.\\n만나서\\t\\t반갑습니다.\")\n",
    "print (\"오늘은\", \"일요일\")\n",
    "print(\"naver\", \"kakao\", \"sk\", \"samsung\", sep=\";\")\n",
    "print(\"naver\", \"kakao\", \"sk\", \"samsung\", sep=\"/\")\n",
    "print(\"first\", end=\"\")\n",
    "print(\"second\")\n",
    "print(round(5/3, 2))"
   ]
  },
  {
   "cell_type": "code",
   "execution_count": null,
   "id": "aa9bd1f4-404e-4b31-9313-2e7e8b273ff9",
   "metadata": {},
   "outputs": [],
   "source": [
    "num_str = \"15.79\"\n",
    "print(float(num_str), type(float(num_str)))\n",
    "num = 100\n",
    "print(str(num), type(str(num)))"
   ]
  },
  {
   "cell_type": "code",
   "execution_count": 10,
   "id": "fc160d48-5b33-4181-8a74-723761bcbcbd",
   "metadata": {},
   "outputs": [
    {
     "name": "stdout",
     "output_type": "stream",
     "text": [
      "p t\n",
      "2210\n",
      "홀홀홀\n",
      "NOHTYP\n",
      "010 1111 2222\n",
      "01011112222\n"
     ]
    }
   ],
   "source": [
    "letters = 'python'\n",
    "print(letters[0], letters[2])\n",
    "\n",
    "license_plate = \"24가 2210\"\n",
    "print(license_plate[4:])\n",
    "\n",
    "string = \"홀짝홀짝홀짝\"\n",
    "print(string[::2])\n",
    "\n",
    "string = \"PYTHON\"\n",
    "print(string[::-1])\n",
    "\n",
    "phone_number = \"010-1111-2222\"\n",
    "phone_number = phone_number.replace(\"-\", \" \")\n",
    "print(phone_number)\n",
    "\n",
    "phone_number = phone_number.replace(\" \", \"\")\n",
    "print(phone_number)"
   ]
  },
  {
   "cell_type": "code",
   "execution_count": 15,
   "id": "73e3a03d-fd93-4f35-bb24-09c6490c4074",
   "metadata": {},
   "outputs": [
    {
     "name": "stdout",
     "output_type": "stream",
     "text": [
      "python java python java python java \n",
      "이름: 김민수 나이: 10\n",
      "이름: 이철희 나이: 13\n"
     ]
    }
   ],
   "source": [
    "t1 = 'python'\n",
    "t2 = 'java'\n",
    "print((t1 + \" \" + t2 + \" \") * 3)\n",
    "\n",
    "name1 = \"김민수\" \n",
    "age1 = 10\n",
    "name2 = \"이철희\"\n",
    "age2 = 13\n",
    "print(\"이름: %s 나이: %d\" %(name1, age1))\n",
    "print(\"이름: %s 나이: %d\" %(name2, age2))"
   ]
  }
 ],
 "metadata": {
  "kernelspec": {
   "display_name": "Python 3 (ipykernel)",
   "language": "python",
   "name": "python3"
  },
  "language_info": {
   "codemirror_mode": {
    "name": "ipython",
    "version": 3
   },
   "file_extension": ".py",
   "mimetype": "text/x-python",
   "name": "python",
   "nbconvert_exporter": "python",
   "pygments_lexer": "ipython3",
   "version": "3.12.9"
  }
 },
 "nbformat": 4,
 "nbformat_minor": 5
}
