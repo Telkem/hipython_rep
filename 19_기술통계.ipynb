{
 "cells": [
  {
   "cell_type": "markdown",
   "id": "f7df1968",
   "metadata": {},
   "source": [
    "# 중심을 대표하는 값 - 평균"
   ]
  },
  {
   "cell_type": "code",
   "execution_count": 5,
   "id": "8299bad9",
   "metadata": {},
   "outputs": [
    {
     "name": "stdout",
     "output_type": "stream",
     "text": [
      "30.0\n"
     ]
    }
   ],
   "source": [
    "import numpy as np\n",
    "# 산술평균\n",
    "data = [10, 20, 30, 40, 50]\n",
    "mean_value = np.mean(data)\n",
    "print(mean_value)  # 30.0"
   ]
  },
  {
   "cell_type": "code",
   "execution_count": 6,
   "id": "21122501",
   "metadata": {},
   "outputs": [
    {
     "data": {
      "text/plain": [
       "np.float64(26.051710846973528)"
      ]
     },
     "execution_count": 6,
     "metadata": {},
     "output_type": "execute_result"
    }
   ],
   "source": [
    "from scipy.stats import hmean, gmean\n",
    "# 기하평균\n",
    "gmean(data)"
   ]
  },
  {
   "cell_type": "code",
   "execution_count": 6,
   "id": "73c933f0",
   "metadata": {},
   "outputs": [
    {
     "data": {
      "text/plain": [
       "np.float64(21.8978102189781)"
      ]
     },
     "execution_count": 6,
     "metadata": {},
     "output_type": "execute_result"
    }
   ],
   "source": [
    "# 조화평균\n",
    "hmean(data)"
   ]
  },
  {
   "cell_type": "code",
   "execution_count": 7,
   "id": "39b9e4ef",
   "metadata": {},
   "outputs": [
    {
     "data": {
      "text/plain": [
       "np.float64(5800.0)"
      ]
     },
     "execution_count": 7,
     "metadata": {},
     "output_type": "execute_result"
    }
   ],
   "source": [
    "# 가중평균\n",
    "prices = [5000, 9000]\n",
    "counts = [8, 2]\n",
    "\n",
    "np.average(prices, weights=counts)"
   ]
  },
  {
   "cell_type": "markdown",
   "id": "2896454b",
   "metadata": {},
   "source": [
    "# 대표값 - 중앙값"
   ]
  },
  {
   "cell_type": "code",
   "execution_count": null,
   "id": "901f673e",
   "metadata": {},
   "outputs": [
    {
     "name": "stdout",
     "output_type": "stream",
     "text": [
      "25.0\n"
     ]
    }
   ],
   "source": [
    "data = [10, 20, 25, 40, 50]\n",
    "median_value = np.median(data)\n",
    "print(median_value)  # 25"
   ]
  },
  {
   "cell_type": "markdown",
   "id": "ebe2841c",
   "metadata": {},
   "source": [
    "# 백분위수"
   ]
  },
  {
   "cell_type": "code",
   "execution_count": null,
   "id": "cb5895e3",
   "metadata": {},
   "outputs": [
    {
     "name": "stdout",
     "output_type": "stream",
     "text": [
      "75.0 80.0 85.0\n"
     ]
    }
   ],
   "source": [
    "# scores = [65, 75, 80, 85, 95]\n",
    "scores = [0, 75, 80, 85, 95]\n",
    "p25 = np.percentile(scores, 25) #Q1\n",
    "p50 = np.percentile(scores, 50) #Q2\n",
    "p75 = np.percentile(scores, 75) #Q3\n",
    "\n",
    "print(p25, p50, p75)"
   ]
  },
  {
   "cell_type": "code",
   "execution_count": 8,
   "id": "2ea2b21a",
   "metadata": {},
   "outputs": [
    {
     "data": {
      "text/plain": [
       "np.float64(16.25)"
      ]
     },
     "execution_count": 8,
     "metadata": {},
     "output_type": "execute_result"
    }
   ],
   "source": [
    "# IQR : 사분위범위 Q3-Q1 = 85 - 75 = 10\n",
    "p75 - p25"
   ]
  },
  {
   "cell_type": "markdown",
   "id": "1a28d03a",
   "metadata": {},
   "source": [
    "중앙값, 분위수는 개수(위치)를 중요시 하는 통계량\n",
    "이상값/극단적인 값이 중요하지 않다."
   ]
  },
  {
   "cell_type": "markdown",
   "id": "cd1a7064",
   "metadata": {},
   "source": [
    "# 대표값 - 최빈값"
   ]
  },
  {
   "cell_type": "code",
   "execution_count": 7,
   "id": "cd685bbf",
   "metadata": {},
   "outputs": [
    {
     "name": "stdout",
     "output_type": "stream",
     "text": [
      "0    3\n",
      "dtype: int64\n"
     ]
    }
   ],
   "source": [
    "import pandas as pd\n",
    "\n",
    "data = pd.Series([1, 2, 2, 3, 3, 3, 4, 4, 3])\n",
    "mode_value = data.mode()\n",
    "print(mode_value)  # 3 (가장 많이 등장한 값)"
   ]
  },
  {
   "cell_type": "markdown",
   "id": "d73f4092",
   "metadata": {},
   "source": [
    "# 범위의 계산 > 변동성을 측정\n",
    "지표 > 극단적인 값에 민감\n",
    "\n",
    "- 최대 / 최소 2개의 값만 사용\n",
    "- 개별점수들이 다른 점수들과 얼마나 차이가 있나 x\n",
    "- 실제 데이터가 어떤 값들로 구성되어 있는지는 설명할 수 없다"
   ]
  },
  {
   "cell_type": "code",
   "execution_count": 3,
   "id": "221c7f32",
   "metadata": {},
   "outputs": [
    {
     "name": "stdout",
     "output_type": "stream",
     "text": [
      "40\n"
     ]
    }
   ],
   "source": [
    "data = [10, 20, 30, 40, 50]\n",
    "range_value = max(data) - min(data)\n",
    "print(range_value)  # 40"
   ]
  },
  {
   "cell_type": "code",
   "execution_count": 8,
   "id": "e3f782b1",
   "metadata": {},
   "outputs": [
    {
     "data": {
      "text/plain": [
       "<matplotlib.collections.PathCollection at 0x1d0fbe0b170>"
      ]
     },
     "execution_count": 8,
     "metadata": {},
     "output_type": "execute_result"
    },
    {
     "data": {
      "image/png": "[encoded data removed]",
      "text/plain": [
       "<Figure size 640x480 with 1 Axes>"
      ]
     },
     "metadata": {},
     "output_type": "display_data"
    }
   ],
   "source": [
    "import matplotlib.pyplot as plt\n",
    "plt.scatter(data, np.zeros_like(data))"
   ]
  },
  {
   "cell_type": "code",
   "execution_count": 12,
   "id": "284eb7db",
   "metadata": {},
   "outputs": [
    {
     "data": {
      "text/html": [
       "<div>\n",
       "<style scoped>\n",
       "    .dataframe tbody tr th:only-of-type {\n",
       "        vertical-align: middle;\n",
       "    }\n",
       "\n",
       "    .dataframe tbody tr th {\n",
       "        vertical-align: top;\n",
       "    }\n",
       "\n",
       "    .dataframe thead th {\n",
       "        text-align: right;\n",
       "    }\n",
       "</style>\n",
       "<table border=\"1\" class=\"dataframe\">\n",
       "  <thead>\n",
       "    <tr style=\"text-align: right;\">\n",
       "      <th></th>\n",
       "      <th>sepal_length</th>\n",
       "      <th>sepal_width</th>\n",
       "      <th>petal_length</th>\n",
       "      <th>petal_width</th>\n",
       "      <th>species</th>\n",
       "    </tr>\n",
       "  </thead>\n",
       "  <tbody>\n",
       "    <tr>\n",
       "      <th>0</th>\n",
       "      <td>5.1</td>\n",
       "      <td>3.5</td>\n",
       "      <td>1.4</td>\n",
       "      <td>0.2</td>\n",
       "      <td>setosa</td>\n",
       "    </tr>\n",
       "    <tr>\n",
       "      <th>1</th>\n",
       "      <td>4.9</td>\n",
       "      <td>3.0</td>\n",
       "      <td>1.4</td>\n",
       "      <td>0.2</td>\n",
       "      <td>setosa</td>\n",
       "    </tr>\n",
       "    <tr>\n",
       "      <th>2</th>\n",
       "      <td>4.7</td>\n",
       "      <td>3.2</td>\n",
       "      <td>1.3</td>\n",
       "      <td>0.2</td>\n",
       "      <td>setosa</td>\n",
       "    </tr>\n",
       "    <tr>\n",
       "      <th>3</th>\n",
       "      <td>4.6</td>\n",
       "      <td>3.1</td>\n",
       "      <td>1.5</td>\n",
       "      <td>0.2</td>\n",
       "      <td>setosa</td>\n",
       "    </tr>\n",
       "    <tr>\n",
       "      <th>4</th>\n",
       "      <td>5.0</td>\n",
       "      <td>3.6</td>\n",
       "      <td>1.4</td>\n",
       "      <td>0.2</td>\n",
       "      <td>setosa</td>\n",
       "    </tr>\n",
       "  </tbody>\n",
       "</table>\n",
       "</div>"
      ],
      "text/plain": [
       "   sepal_length  sepal_width  petal_length  petal_width species\n",
       "0           5.1          3.5           1.4          0.2  setosa\n",
       "1           4.9          3.0           1.4          0.2  setosa\n",
       "2           4.7          3.2           1.3          0.2  setosa\n",
       "3           4.6          3.1           1.5          0.2  setosa\n",
       "4           5.0          3.6           1.4          0.2  setosa"
      ]
     },
     "execution_count": 12,
     "metadata": {},
     "output_type": "execute_result"
    }
   ],
   "source": [
    "import seaborn as sns\n",
    "vp_df = sns.load_dataset('iris')\n",
    "vp_df.head()"
   ]
  },
  {
   "cell_type": "code",
   "execution_count": null,
   "id": "fbe6cbc7",
   "metadata": {},
   "outputs": [
    {
     "data": {
      "text/plain": [
       "np.float64(3.6000000000000005)"
      ]
     },
     "execution_count": 10,
     "metadata": {},
     "output_type": "execute_result"
    }
   ],
   "source": [
    "# sepal_length의 범위\n",
    "vp_df['sepal_length'].max() - vp_df['sepal_length'].min()"
   ]
  },
  {
   "cell_type": "code",
   "execution_count": 16,
   "id": "b5120808",
   "metadata": {},
   "outputs": [
    {
     "name": "stdout",
     "output_type": "stream",
     "text": [
      "sepal_length의 범위 : 3.6000000000000005\n",
      "sepal_width의 범위 : 2.4000000000000004\n",
      "petal_length의 범위 : 5.9\n",
      "petal_width의 범위 : 2.4\n"
     ]
    }
   ],
   "source": [
    "# 모든속성의 범위\n",
    "for col in vp_df.columns:\n",
    "    if pd.api.types.is_numeric_dtype(vp_df[col]):\n",
    "        print(f\"{col}의 범위 : {vp_df[col].max() - vp_df[col].min()}\")"
   ]
  },
  {
   "cell_type": "markdown",
   "id": "42fd9e0d",
   "metadata": {},
   "source": [
    "변동성이 가장 큰 속성은 petal_length입니다.<br>\n",
    "petal_length와 petal_width가 sepal_length와 sepal_width보다 상대적으로 변동성이 큽니다.<br>\n",
    "<br>\n",
    "모델 생성시에 다루어야 하는 속성으로 볼 수 있습니다."
   ]
  },
  {
   "cell_type": "code",
   "execution_count": 22,
   "id": "a3d8b399",
   "metadata": {},
   "outputs": [],
   "source": [
    "from matplotlib import rcParams\n",
    "rcParams['font.family'] = 'Hancom Gothic'\n",
    "rcParams['axes.unicode_minus'] = False"
   ]
  },
  {
   "cell_type": "code",
   "execution_count": 27,
   "id": "918a8d6b",
   "metadata": {},
   "outputs": [
    {
     "data": {
      "image/png": "[encoded data removed]",
      "text/plain": [
       "<Figure size 1200x500 with 2 Axes>"
      ]
     },
     "metadata": {},
     "output_type": "display_data"
    }
   ],
   "source": [
    "# 산포도로 변동성 확인하기\n",
    "# petal_length와 petal_width\n",
    "# sepal_length와 sepal_width\n",
    "\n",
    "fig = plt.figure(figsize=[12,5])\n",
    "axes1 = fig.add_subplot(1,2,1)\n",
    "axes2 = fig.add_subplot(1,2,2)\n",
    "axes1.scatter(vp_df['petal_length'],vp_df['petal_width'])\n",
    "axes2.scatter(vp_df['sepal_length'],vp_df['sepal_width'])\n",
    "axes1.set_title('petal_length와 petal_width')\n",
    "axes2.set_title('sepal_length와 sepal_width')\n",
    "axes1.set_xlabel('petal_length')\n",
    "axes1.set_ylabel('petal_width')\n",
    "axes2.set_xlabel('sepal_length')\n",
    "axes2.set_ylabel('sepal_width')\n",
    "plt.show()"
   ]
  },
  {
   "cell_type": "markdown",
   "id": "df9d9177",
   "metadata": {},
   "source": [
    "산포도를 이용해 극단적으로 다른 데이터(이상치)가 있는지를 확인해야 한다."
   ]
  },
  {
   "cell_type": "code",
   "execution_count": null,
   "id": "22401da6",
   "metadata": {},
   "outputs": [],
   "source": []
  },
  {
   "cell_type": "code",
   "execution_count": null,
   "id": "500c331e",
   "metadata": {},
   "outputs": [],
   "source": []
  },
  {
   "cell_type": "code",
   "execution_count": null,
   "id": "953f3e47",
   "metadata": {},
   "outputs": [],
   "source": []
  },
  {
   "cell_type": "code",
   "execution_count": null,
   "id": "7936232b",
   "metadata": {},
   "outputs": [],
   "source": []
  },
  {
   "cell_type": "code",
   "execution_count": null,
   "id": "da38754b",
   "metadata": {},
   "outputs": [],
   "source": []
  },
  {
   "cell_type": "code",
   "execution_count": null,
   "id": "af92303a",
   "metadata": {},
   "outputs": [],
   "source": []
  },
  {
   "cell_type": "code",
   "execution_count": null,
   "id": "cfa66697",
   "metadata": {},
   "outputs": [],
   "source": []
  },
  {
   "cell_type": "code",
   "execution_count": null,
   "id": "32068b54",
   "metadata": {},
   "outputs": [],
   "source": []
  }
 ],
 "metadata": {
  "kernelspec": {
   "display_name": "hipython",
   "language": "python",
   "name": "python3"
  },
  "language_info": {
   "codemirror_mode": {
    "name": "ipython",
    "version": 3
   },
   "file_extension": ".py",
   "mimetype": "text/x-python",
   "name": "python",
   "nbconvert_exporter": "python",
   "pygments_lexer": "ipython3",
   "version": "3.12.9"
  }
 },
 "nbformat": 4,
 "nbformat_minor": 5
}
