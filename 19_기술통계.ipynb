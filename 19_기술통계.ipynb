{
 "cells": [
  {
   "cell_type": "markdown",
   "id": "f7df1968",
   "metadata": {},
   "source": [
    "# 중심을 대표하는 값 - 평균"
   ]
  },
  {
   "cell_type": "code",
   "execution_count": 5,
   "id": "8299bad9",
   "metadata": {},
   "outputs": [
    {
     "name": "stdout",
     "output_type": "stream",
     "text": [
      "30.0\n"
     ]
    }
   ],
   "source": [
    "import numpy as np\n",
    "# 산술평균\n",
    "data = [10, 20, 30, 40, 50]\n",
    "mean_value = np.mean(data)\n",
    "print(mean_value)  # 30.0"
   ]
  },
  {
   "cell_type": "code",
   "execution_count": 6,
   "id": "21122501",
   "metadata": {},
   "outputs": [
    {
     "data": {
      "text/plain": [
       "np.float64(26.051710846973528)"
      ]
     },
     "execution_count": 6,
     "metadata": {},
     "output_type": "execute_result"
    }
   ],
   "source": [
    "from scipy.stats import hmean, gmean\n",
    "# 기하평균\n",
    "gmean(data)"
   ]
  },
  {
   "cell_type": "code",
   "execution_count": 6,
   "id": "73c933f0",
   "metadata": {},
   "outputs": [
    {
     "data": {
      "text/plain": [
       "np.float64(21.8978102189781)"
      ]
     },
     "execution_count": 6,
     "metadata": {},
     "output_type": "execute_result"
    }
   ],
   "source": [
    "# 조화평균\n",
    "hmean(data)"
   ]
  },
  {
   "cell_type": "code",
   "execution_count": 7,
   "id": "39b9e4ef",
   "metadata": {},
   "outputs": [
    {
     "data": {
      "text/plain": [
       "np.float64(5800.0)"
      ]
     },
     "execution_count": 7,
     "metadata": {},
     "output_type": "execute_result"
    }
   ],
   "source": [
    "# 가중평균\n",
    "prices = [5000, 9000]\n",
    "counts = [8, 2]\n",
    "\n",
    "np.average(prices, weights=counts)"
   ]
  },
  {
   "cell_type": "markdown",
   "id": "2896454b",
   "metadata": {},
   "source": [
    "# 대표값 - 중앙값"
   ]
  },
  {
   "cell_type": "code",
   "execution_count": null,
   "id": "901f673e",
   "metadata": {},
   "outputs": [
    {
     "name": "stdout",
     "output_type": "stream",
     "text": [
      "25.0\n"
     ]
    }
   ],
   "source": [
    "data = [10, 20, 25, 40, 50]\n",
    "median_value = np.median(data)\n",
    "print(median_value)  # 25"
   ]
  },
  {
   "cell_type": "markdown",
   "id": "ebe2841c",
   "metadata": {},
   "source": [
    "# 백분위수"
   ]
  },
  {
   "cell_type": "code",
   "execution_count": null,
   "id": "cb5895e3",
   "metadata": {},
   "outputs": [
    {
     "name": "stdout",
     "output_type": "stream",
     "text": [
      "75.0 80.0 85.0\n"
     ]
    }
   ],
   "source": [
    "# scores = [65, 75, 80, 85, 95]\n",
    "scores = [0, 75, 80, 85, 95]\n",
    "p25 = np.percentile(scores, 25) #Q1\n",
    "p50 = np.percentile(scores, 50) #Q2\n",
    "p75 = np.percentile(scores, 75) #Q3\n",
    "\n",
    "print(p25, p50, p75)"
   ]
  },
  {
   "cell_type": "code",
   "execution_count": 8,
   "id": "2ea2b21a",
   "metadata": {},
   "outputs": [
    {
     "data": {
      "text/plain": [
       "np.float64(16.25)"
      ]
     },
     "execution_count": 8,
     "metadata": {},
     "output_type": "execute_result"
    }
   ],
   "source": [
    "# IQR : 사분위범위 Q3-Q1 = 85 - 75 = 10\n",
    "p75 - p25"
   ]
  },
  {
   "cell_type": "markdown",
   "id": "1a28d03a",
   "metadata": {},
   "source": [
    "중앙값, 분위수는 개수(위치)를 중요시 하는 통계량\n",
    "이상값/극단적인 값이 중요하지 않다."
   ]
  },
  {
   "cell_type": "markdown",
   "id": "cd1a7064",
   "metadata": {},
   "source": [
    "# 대표값 - 최빈값"
   ]
  },
  {
   "cell_type": "code",
   "execution_count": 7,
   "id": "cd685bbf",
   "metadata": {},
   "outputs": [
    {
     "name": "stdout",
     "output_type": "stream",
     "text": [
      "0    3\n",
      "dtype: int64\n"
     ]
    }
   ],
   "source": [
    "import pandas as pd\n",
    "\n",
    "data = pd.Series([1, 2, 2, 3, 3, 3, 4, 4, 3])\n",
    "mode_value = data.mode()\n",
    "print(mode_value)  # 3 (가장 많이 등장한 값)"
   ]
  },
  {
   "cell_type": "markdown",
   "id": "d73f4092",
   "metadata": {},
   "source": [
    "# 범위의 계산 > 변동성을 측정\n",
    "지표 > 극단적인 값에 민감\n",
    "\n",
    "- 최대 / 최소 2개의 값만 사용\n",
    "- 개별점수들이 다른 점수들과 얼마나 차이가 있나 x\n",
    "- 실제 데이터가 어떤 값들로 구성되어 있는지는 설명할 수 없다"
   ]
  },
  {
   "cell_type": "code",
   "execution_count": 3,
   "id": "221c7f32",
   "metadata": {},
   "outputs": [
    {
     "name": "stdout",
     "output_type": "stream",
     "text": [
      "40\n"
     ]
    }
   ],
   "source": [
    "data = [10, 20, 30, 40, 50]\n",
    "range_value = max(data) - min(data)\n",
    "print(range_value)  # 40"
   ]
  },
  {
   "cell_type": "code",
   "execution_count": 8,
   "id": "e3f782b1",
   "metadata": {},
   "outputs": [
    {
     "data": {
      "text/plain": [
       "<matplotlib.collections.PathCollection at 0x1d0fbe0b170>"
      ]
     },
     "execution_count": 8,
     "metadata": {},
     "output_type": "execute_result"
    },
    {
     "data": {
      "image/png": "[encoded data removed]",
      "text/plain": [
       "<Figure size 640x480 with 1 Axes>"
      ]
     },
     "metadata": {},
     "output_type": "display_data"
    }
   ],
   "source": [
    "import matplotlib.pyplot as plt\n",
    "plt.scatter(data, np.zeros_like(data))"
   ]
  },
  {
   "cell_type": "code",
   "execution_count": 12,
   "id": "284eb7db",
   "metadata": {},
   "outputs": [
    {
     "data": {
      "text/html": [
       "<div>\n",
       "<style scoped>\n",
       "    .dataframe tbody tr th:only-of-type {\n",
       "        vertical-align: middle;\n",
       "    }\n",
       "\n",
       "    .dataframe tbody tr th {\n",
       "        vertical-align: top;\n",
       "    }\n",
       "\n",
       "    .dataframe thead th {\n",
       "        text-align: right;\n",
       "    }\n",
       "</style>\n",
       "<table border=\"1\" class=\"dataframe\">\n",
       "  <thead>\n",
       "    <tr style=\"text-align: right;\">\n",
       "      <th></th>\n",
       "      <th>sepal_length</th>\n",
       "      <th>sepal_width</th>\n",
       "      <th>petal_length</th>\n",
       "      <th>petal_width</th>\n",
       "      <th>species</th>\n",
       "    </tr>\n",
       "  </thead>\n",
       "  <tbody>\n",
       "    <tr>\n",
       "      <th>0</th>\n",
       "      <td>5.1</td>\n",
       "      <td>3.5</td>\n",
       "      <td>1.4</td>\n",
       "      <td>0.2</td>\n",
       "      <td>setosa</td>\n",
       "    </tr>\n",
       "    <tr>\n",
       "      <th>1</th>\n",
       "      <td>4.9</td>\n",
       "      <td>3.0</td>\n",
       "      <td>1.4</td>\n",
       "      <td>0.2</td>\n",
       "      <td>setosa</td>\n",
       "    </tr>\n",
       "    <tr>\n",
       "      <th>2</th>\n",
       "      <td>4.7</td>\n",
       "      <td>3.2</td>\n",
       "      <td>1.3</td>\n",
       "      <td>0.2</td>\n",
       "      <td>setosa</td>\n",
       "    </tr>\n",
       "    <tr>\n",
       "      <th>3</th>\n",
       "      <td>4.6</td>\n",
       "      <td>3.1</td>\n",
       "      <td>1.5</td>\n",
       "      <td>0.2</td>\n",
       "      <td>setosa</td>\n",
       "    </tr>\n",
       "    <tr>\n",
       "      <th>4</th>\n",
       "      <td>5.0</td>\n",
       "      <td>3.6</td>\n",
       "      <td>1.4</td>\n",
       "      <td>0.2</td>\n",
       "      <td>setosa</td>\n",
       "    </tr>\n",
       "  </tbody>\n",
       "</table>\n",
       "</div>"
      ],
      "text/plain": [
       "   sepal_length  sepal_width  petal_length  petal_width species\n",
       "0           5.1          3.5           1.4          0.2  setosa\n",
       "1           4.9          3.0           1.4          0.2  setosa\n",
       "2           4.7          3.2           1.3          0.2  setosa\n",
       "3           4.6          3.1           1.5          0.2  setosa\n",
       "4           5.0          3.6           1.4          0.2  setosa"
      ]
     },
     "execution_count": 12,
     "metadata": {},
     "output_type": "execute_result"
    }
   ],
   "source": [
    "import seaborn as sns\n",
    "vp_df = sns.load_dataset('iris')\n",
    "vp_df.head()"
   ]
  },
  {
   "cell_type": "code",
   "execution_count": null,
   "id": "fbe6cbc7",
   "metadata": {},
   "outputs": [
    {
     "data": {
      "text/plain": [
       "np.float64(3.6000000000000005)"
      ]
     },
     "execution_count": 10,
     "metadata": {},
     "output_type": "execute_result"
    }
   ],
   "source": [
    "# sepal_length의 범위\n",
    "vp_df['sepal_length'].max() - vp_df['sepal_length'].min()"
   ]
  },
  {
   "cell_type": "code",
   "execution_count": 16,
   "id": "b5120808",
   "metadata": {},
   "outputs": [
    {
     "name": "stdout",
     "output_type": "stream",
     "text": [
      "sepal_length의 범위 : 3.6000000000000005\n",
      "sepal_width의 범위 : 2.4000000000000004\n",
      "petal_length의 범위 : 5.9\n",
      "petal_width의 범위 : 2.4\n"
     ]
    }
   ],
   "source": [
    "# 모든속성의 범위\n",
    "for col in vp_df.columns:\n",
    "    if pd.api.types.is_numeric_dtype(vp_df[col]):\n",
    "        print(f\"{col}의 범위 : {vp_df[col].max() - vp_df[col].min()}\")"
   ]
  },
  {
   "cell_type": "markdown",
   "id": "42fd9e0d",
   "metadata": {},
   "source": [
    "변동성이 가장 큰 속성은 petal_length입니다.<br>\n",
    "petal_length와 petal_width가 sepal_length와 sepal_width보다 상대적으로 변동성이 큽니다.<br>\n",
    "<br>\n",
    "모델 생성시에 다루어야 하는 속성으로 볼 수 있습니다."
   ]
  },
  {
   "cell_type": "code",
   "execution_count": 22,
   "id": "a3d8b399",
   "metadata": {},
   "outputs": [],
   "source": [
    "from matplotlib import rcParams\n",
    "rcParams['font.family'] = 'Hancom Gothic'\n",
    "rcParams['axes.unicode_minus'] = False"
   ]
  },
  {
   "cell_type": "code",
   "execution_count": 27,
   "id": "918a8d6b",
   "metadata": {},
   "outputs": [
    {
     "data": {
      "image/png": "[encoded data removed]",
      "text/plain": [
       "<Figure size 1200x500 with 2 Axes>"
      ]
     },
     "metadata": {},
     "output_type": "display_data"
    }
   ],
   "source": [
    "# 산포도로 변동성 확인하기\n",
    "# petal_length와 petal_width\n",
    "# sepal_length와 sepal_width\n",
    "\n",
    "fig = plt.figure(figsize=[12,5])\n",
    "axes1 = fig.add_subplot(1,2,1)\n",
    "axes2 = fig.add_subplot(1,2,2)\n",
    "axes1.scatter(vp_df['petal_length'],vp_df['petal_width'])\n",
    "axes2.scatter(vp_df['sepal_length'],vp_df['sepal_width'])\n",
    "axes1.set_title('petal_length와 petal_width')\n",
    "axes2.set_title('sepal_length와 sepal_width')\n",
    "axes1.set_xlabel('petal_length')\n",
    "axes1.set_ylabel('petal_width')\n",
    "axes2.set_xlabel('sepal_length')\n",
    "axes2.set_ylabel('sepal_width')\n",
    "plt.show()"
   ]
  },
  {
   "cell_type": "markdown",
   "id": "df9d9177",
   "metadata": {},
   "source": [
    "산포도를 이용해 극단적으로 다른 데이터(이상치)가 있는지를 확인해야 한다."
   ]
  },
  {
   "cell_type": "markdown",
   "id": "1e9eb9bf",
   "metadata": {},
   "source": [
    "# 분산"
   ]
  },
  {
   "cell_type": "code",
   "execution_count": null,
   "id": "22401da6",
   "metadata": {},
   "outputs": [
    {
     "name": "stdout",
     "output_type": "stream",
     "text": [
      "200.0\n"
     ]
    }
   ],
   "source": [
    "data = [10, 20, 30, 40, 50]\n",
    "variance_value = np.var(data)\n",
    "print(variance_value)  # 200.0"
   ]
  },
  {
   "cell_type": "code",
   "execution_count": 29,
   "id": "500c331e",
   "metadata": {},
   "outputs": [
    {
     "name": "stdout",
     "output_type": "stream",
     "text": [
      "14.142135623730951\n"
     ]
    }
   ],
   "source": [
    "std_dev = np.std(data)\n",
    "print(std_dev)  # 14.14"
   ]
  },
  {
   "cell_type": "code",
   "execution_count": null,
   "id": "953f3e47",
   "metadata": {},
   "outputs": [],
   "source": [
    "# sd의 비교\n",
    "# 평균과 표준편차 설정\n",
    "mu = 100\n",
    "sd1 = 10\n",
    "sd2 = 50\n",
    "\n",
    "# 정규분포 데이터 생성\n",
    "data1 = np.random.normal(mu, sd1, 10000)\n",
    "data2 = np.random.normal(mu, sd2, 10000)"
   ]
  },
  {
   "cell_type": "code",
   "execution_count": 31,
   "id": "88f9d1a6",
   "metadata": {},
   "outputs": [
    {
     "data": {
      "text/plain": [
       "array([  0,  10,  20,  30,  40,  50,  60,  70,  80,  90, 100, 110, 120,\n",
       "       130, 140, 150, 160, 170, 180, 190, 200, 210, 220, 230])"
      ]
     },
     "execution_count": 31,
     "metadata": {},
     "output_type": "execute_result"
    }
   ],
   "source": [
    "bins = np.arange(0,240,10)\n",
    "bins"
   ]
  },
  {
   "cell_type": "code",
   "execution_count": 38,
   "id": "7936232b",
   "metadata": {},
   "outputs": [
    {
     "data": {
      "text/plain": [
       "<matplotlib.lines.Line2D at 0x1d085a70f20>"
      ]
     },
     "execution_count": 38,
     "metadata": {},
     "output_type": "execute_result"
    },
    {
     "data": {
      "image/png": "[encoded data removed]",
      "text/plain": [
       "<Figure size 640x480 with 1 Axes>"
      ]
     },
     "metadata": {},
     "output_type": "display_data"
    }
   ],
   "source": [
    "plt.hist(data1, bins=bins, color='red', alpha=0.5)\n",
    "plt.hist(data2, bins=bins, color='blue', alpha=0.5)\n",
    "\n",
    "#평균선 표시\n",
    "plt.axvline(mu, color='black', linestyle='--')"
   ]
  },
  {
   "cell_type": "code",
   "execution_count": 60,
   "id": "da38754b",
   "metadata": {},
   "outputs": [
    {
     "data": {
      "text/plain": [
       "<matplotlib.lines.Line2D at 0x1d08748a420>"
      ]
     },
     "execution_count": 60,
     "metadata": {},
     "output_type": "execute_result"
    },
    {
     "data": {
      "image/png": "[encoded data removed]",
      "text/plain": [
       "<Figure size 640x480 with 1 Axes>"
      ]
     },
     "metadata": {},
     "output_type": "display_data"
    }
   ],
   "source": [
    "# iris dataset의 속성들의 표준편차 비교분석\n",
    "\n",
    "plt.hist(vp_df['petal_length'], bins=30, color='red', alpha=0.5)\n",
    "plt.axvline(vp_df['petal_length'].mean(), color='black', linestyle='--')"
   ]
  },
  {
   "cell_type": "code",
   "execution_count": 47,
   "id": "af92303a",
   "metadata": {},
   "outputs": [
    {
     "data": {
      "text/plain": [
       "<matplotlib.lines.Line2D at 0x1d08607f620>"
      ]
     },
     "execution_count": 47,
     "metadata": {},
     "output_type": "execute_result"
    },
    {
     "data": {
      "image/png": "[encoded data removed]",
      "text/plain": [
       "<Figure size 640x480 with 1 Axes>"
      ]
     },
     "metadata": {},
     "output_type": "display_data"
    }
   ],
   "source": [
    "plt.hist(vp_df['petal_width'], bins=30, color='blue', alpha=0.5)\n",
    "plt.axvline(vp_df['petal_width'].mean(), color='black', linestyle='--')"
   ]
  },
  {
   "cell_type": "code",
   "execution_count": 81,
   "id": "cfa66697",
   "metadata": {},
   "outputs": [
    {
     "data": {
      "text/plain": [
       "<matplotlib.lines.Line2D at 0x1d08acc7200>"
      ]
     },
     "execution_count": 81,
     "metadata": {},
     "output_type": "execute_result"
    },
    {
     "data": {
      "image/png": "[encoded data removed]",
      "text/plain": [
       "<Figure size 640x480 with 1 Axes>"
      ]
     },
     "metadata": {},
     "output_type": "display_data"
    }
   ],
   "source": [
    "plt.hist(vp_df['sepal_length'], bins=30, color='yellow', alpha=0.5)\n",
    "plt.axvline(vp_df['sepal_length'].mean(), color='black', linestyle='--')"
   ]
  },
  {
   "cell_type": "code",
   "execution_count": 82,
   "id": "32068b54",
   "metadata": {},
   "outputs": [
    {
     "data": {
      "text/plain": [
       "<matplotlib.lines.Line2D at 0x1d08f123a70>"
      ]
     },
     "execution_count": 82,
     "metadata": {},
     "output_type": "execute_result"
    },
    {
     "data": {
      "image/png": "[encoded data removed]",
      "text/plain": [
       "<Figure size 640x480 with 1 Axes>"
      ]
     },
     "metadata": {},
     "output_type": "display_data"
    }
   ],
   "source": [
    "plt.hist(vp_df['sepal_width'], bins=30, color='cyan', alpha=0.5)\n",
    "plt.axvline(vp_df['sepal_width'].mean(), color='black', linestyle='--')"
   ]
  },
  {
   "cell_type": "markdown",
   "id": "d566e48f",
   "metadata": {},
   "source": [
    "# 사분위범위"
   ]
  },
  {
   "cell_type": "code",
   "execution_count": 58,
   "id": "98319f50",
   "metadata": {},
   "outputs": [
    {
     "data": {
      "text/html": [
       "<div>\n",
       "<style scoped>\n",
       "    .dataframe tbody tr th:only-of-type {\n",
       "        vertical-align: middle;\n",
       "    }\n",
       "\n",
       "    .dataframe tbody tr th {\n",
       "        vertical-align: top;\n",
       "    }\n",
       "\n",
       "    .dataframe thead th {\n",
       "        text-align: right;\n",
       "    }\n",
       "</style>\n",
       "<table border=\"1\" class=\"dataframe\">\n",
       "  <thead>\n",
       "    <tr style=\"text-align: right;\">\n",
       "      <th></th>\n",
       "      <th>Q1</th>\n",
       "      <th>Q3</th>\n",
       "      <th>IQR</th>\n",
       "    </tr>\n",
       "  </thead>\n",
       "  <tbody>\n",
       "    <tr>\n",
       "      <th>sepal_length</th>\n",
       "      <td>5.1</td>\n",
       "      <td>6.4</td>\n",
       "      <td>1.3</td>\n",
       "    </tr>\n",
       "    <tr>\n",
       "      <th>sepal_width</th>\n",
       "      <td>2.8</td>\n",
       "      <td>3.3</td>\n",
       "      <td>0.5</td>\n",
       "    </tr>\n",
       "    <tr>\n",
       "      <th>petal_length</th>\n",
       "      <td>1.6</td>\n",
       "      <td>5.1</td>\n",
       "      <td>3.5</td>\n",
       "    </tr>\n",
       "    <tr>\n",
       "      <th>petal_width</th>\n",
       "      <td>0.3</td>\n",
       "      <td>1.8</td>\n",
       "      <td>1.5</td>\n",
       "    </tr>\n",
       "  </tbody>\n",
       "</table>\n",
       "</div>"
      ],
      "text/plain": [
       "               Q1   Q3  IQR\n",
       "sepal_length  5.1  6.4  1.3\n",
       "sepal_width   2.8  3.3  0.5\n",
       "petal_length  1.6  5.1  3.5\n",
       "petal_width   0.3  1.8  1.5"
      ]
     },
     "execution_count": 58,
     "metadata": {},
     "output_type": "execute_result"
    }
   ],
   "source": [
    "numeric_df = vp_df.select_dtypes(include=['float64', 'int'])\n",
    "\n",
    "Q1 = numeric_df.quantile(0.25)\n",
    "Q3 = numeric_df.quantile(0.75)\n",
    "IQR = Q3 - Q1\n",
    "\n",
    "summ = pd.DataFrame({'Q1' : Q1,\n",
    "                     'Q3' : Q3,\n",
    "                     'IQR' : IQR})\n",
    "summ"
   ]
  },
  {
   "cell_type": "markdown",
   "id": "021f4b39",
   "metadata": {},
   "source": [
    "가장 분산이 큰 변수 : petal_length<br>\n",
    "가장 분산이 작은 변수 : sepal_width<br>\n",
    "품종을 분류할 때 petal_length가 민감하게 작용할 것이다.<br>\n",
    "식별력이 크다.\n",
    "\n",
    "** IQR가 크다 > 이상치의 허용 범위가 크다"
   ]
  },
  {
   "cell_type": "markdown",
   "id": "64bab104",
   "metadata": {},
   "source": [
    "# 분포의 모양, 형태\n",
    "\n",
    "- 모양이 정규분포인지\n",
    "- 치우쳐져 있는가 - 좌/우, 위/아래\n",
    "- 특이한 패턴이 있는가 - 쌍봉"
   ]
  },
  {
   "cell_type": "code",
   "execution_count": 61,
   "id": "3a7e9ada",
   "metadata": {},
   "outputs": [
    {
     "data": {
      "text/html": [
       "<div>\n",
       "<style scoped>\n",
       "    .dataframe tbody tr th:only-of-type {\n",
       "        vertical-align: middle;\n",
       "    }\n",
       "\n",
       "    .dataframe tbody tr th {\n",
       "        vertical-align: top;\n",
       "    }\n",
       "\n",
       "    .dataframe thead th {\n",
       "        text-align: right;\n",
       "    }\n",
       "</style>\n",
       "<table border=\"1\" class=\"dataframe\">\n",
       "  <thead>\n",
       "    <tr style=\"text-align: right;\">\n",
       "      <th></th>\n",
       "      <th>A</th>\n",
       "      <th>B</th>\n",
       "      <th>C</th>\n",
       "      <th>D</th>\n",
       "      <th>E</th>\n",
       "    </tr>\n",
       "  </thead>\n",
       "  <tbody>\n",
       "    <tr>\n",
       "      <th>0</th>\n",
       "      <td>47</td>\n",
       "      <td>10</td>\n",
       "      <td>31</td>\n",
       "      <td>25</td>\n",
       "      <td>20</td>\n",
       "    </tr>\n",
       "    <tr>\n",
       "      <th>1</th>\n",
       "      <td>2</td>\n",
       "      <td>11</td>\n",
       "      <td>31</td>\n",
       "      <td>25</td>\n",
       "      <td>21</td>\n",
       "    </tr>\n",
       "    <tr>\n",
       "      <th>2</th>\n",
       "      <td>44</td>\n",
       "      <td>14</td>\n",
       "      <td>15</td>\n",
       "      <td>26</td>\n",
       "      <td>21</td>\n",
       "    </tr>\n",
       "    <tr>\n",
       "      <th>3</th>\n",
       "      <td>41</td>\n",
       "      <td>14</td>\n",
       "      <td>16</td>\n",
       "      <td>26</td>\n",
       "      <td>21</td>\n",
       "    </tr>\n",
       "    <tr>\n",
       "      <th>4</th>\n",
       "      <td>7</td>\n",
       "      <td>30</td>\n",
       "      <td>17</td>\n",
       "      <td>27</td>\n",
       "      <td>24</td>\n",
       "    </tr>\n",
       "    <tr>\n",
       "      <th>5</th>\n",
       "      <td>6</td>\n",
       "      <td>30</td>\n",
       "      <td>16</td>\n",
       "      <td>29</td>\n",
       "      <td>24</td>\n",
       "    </tr>\n",
       "    <tr>\n",
       "      <th>6</th>\n",
       "      <td>35</td>\n",
       "      <td>32</td>\n",
       "      <td>15</td>\n",
       "      <td>29</td>\n",
       "      <td>23</td>\n",
       "    </tr>\n",
       "    <tr>\n",
       "      <th>7</th>\n",
       "      <td>38</td>\n",
       "      <td>33</td>\n",
       "      <td>19</td>\n",
       "      <td>28</td>\n",
       "      <td>20</td>\n",
       "    </tr>\n",
       "    <tr>\n",
       "      <th>8</th>\n",
       "      <td>35</td>\n",
       "      <td>34</td>\n",
       "      <td>18</td>\n",
       "      <td>29</td>\n",
       "      <td>21</td>\n",
       "    </tr>\n",
       "    <tr>\n",
       "      <th>9</th>\n",
       "      <td>36</td>\n",
       "      <td>32</td>\n",
       "      <td>16</td>\n",
       "      <td>27</td>\n",
       "      <td>20</td>\n",
       "    </tr>\n",
       "  </tbody>\n",
       "</table>\n",
       "</div>"
      ],
      "text/plain": [
       "    A   B   C   D   E\n",
       "0  47  10  31  25  20\n",
       "1   2  11  31  25  21\n",
       "2  44  14  15  26  21\n",
       "3  41  14  16  26  21\n",
       "4   7  30  17  27  24\n",
       "5   6  30  16  29  24\n",
       "6  35  32  15  29  23\n",
       "7  38  33  19  28  20\n",
       "8  35  34  18  29  21\n",
       "9  36  32  16  27  20"
      ]
     },
     "execution_count": 61,
     "metadata": {},
     "output_type": "execute_result"
    }
   ],
   "source": [
    "# 데이터 입력\n",
    "data = [\n",
    "    [47, 10, 31, 25, 20],\n",
    "    [2, 11, 31, 25, 21],\n",
    "    [44, 14, 15, 26, 21],\n",
    "    [41, 14, 16, 26, 21],\n",
    "    [7, 30, 17, 27, 24],\n",
    "    [6, 30, 16, 29, 24],\n",
    "    [35, 32, 15, 29, 23],\n",
    "    [38, 33, 19, 28, 20],\n",
    "    [35, 34, 18, 29, 21],\n",
    "    [36, 32, 16, 27, 20],\n",
    "]\n",
    "\n",
    "# DataFrame으로 변환\n",
    "df = pd.DataFrame(data, columns=['A', 'B', 'C', 'D', 'E'])\n",
    "df"
   ]
  },
  {
   "cell_type": "markdown",
   "id": "8e8f2650",
   "metadata": {},
   "source": [
    "- 각 변수의 분포 형태 : 5개의 변수\n",
    "- 값의 범위, 도수가 많은 구간 (count) 빈도\n",
    "- 이상치 유무"
   ]
  },
  {
   "cell_type": "code",
   "execution_count": 68,
   "id": "d9f0675d",
   "metadata": {},
   "outputs": [
    {
     "data": {
      "image/png": "[encoded data removed]",
      "text/plain": [
       "<Figure size 640x480 with 1 Axes>"
      ]
     },
     "metadata": {},
     "output_type": "display_data"
    },
    {
     "data": {
      "image/png": "[encoded data removed]",
      "text/plain": [
       "<Figure size 640x480 with 1 Axes>"
      ]
     },
     "metadata": {},
     "output_type": "display_data"
    },
    {
     "data": {
      "image/png": "[encoded data removed]",
      "text/plain": [
       "<Figure size 640x480 with 1 Axes>"
      ]
     },
     "metadata": {},
     "output_type": "display_data"
    },
    {
     "data": {
      "image/png": "[encoded data removed]",
      "text/plain": [
       "<Figure size 640x480 with 1 Axes>"
      ]
     },
     "metadata": {},
     "output_type": "display_data"
    },
    {
     "data": {
      "image/png": "[encoded data removed]",
      "text/plain": [
       "<Figure size 640x480 with 1 Axes>"
      ]
     },
     "metadata": {},
     "output_type": "display_data"
    }
   ],
   "source": [
    "# 각 속성별로 히스토그램\n",
    "for col in df.columns:\n",
    "    plt.hist(df[col], bins='sturges')\n",
    "    plt.tight_layout()\n",
    "    plt.show()"
   ]
  },
  {
   "cell_type": "code",
   "execution_count": 69,
   "id": "e3943d7e",
   "metadata": {},
   "outputs": [
    {
     "name": "stdout",
     "output_type": "stream",
     "text": [
      "[-1.20858977 -1.72253932  0.04612341 -1.44440419 -1.05185185]\n"
     ]
    }
   ],
   "source": [
    "from scipy.stats import kurtosis\n",
    "\n",
    "kurtosis_value = kurtosis(data)\n",
    "print(kurtosis_value)"
   ]
  },
  {
   "cell_type": "code",
   "execution_count": 87,
   "id": "e2f09b7c",
   "metadata": {},
   "outputs": [
    {
     "name": "stdout",
     "output_type": "stream",
     "text": [
      "sepal_length의 첨도 : -0.5735679489249765\n",
      "sepal_width의 첨도 : 0.18097631752246768\n",
      "petal_length의 첨도 : -1.3955358863990055\n",
      "petal_width의 첨도 : -1.336067405231553\n"
     ]
    }
   ],
   "source": [
    "# iris data로 첨도 계산\n",
    "\n",
    "for col in vp_df.columns:\n",
    "    if pd.api.types.is_numeric_dtype(vp_df[col]):\n",
    "        print(f\"{col}의 첨도 : {kurtosis(vp_df[col])}\")"
   ]
  },
  {
   "cell_type": "markdown",
   "id": "9c2b8011",
   "metadata": {},
   "source": [
    "0 : 정규 분포<br>\n",
    "양수 첨도 : 정규분포보다 그만큼 뾰족하다 > 꼬리가 두껍다(길다)<br>\n",
    "음수 첨도 : 정규분포보다 그만큼 눌려있다 > 꼬리가 얇다(짧다) : 데이터가 평균 주변에 고르다"
   ]
  },
  {
   "cell_type": "code",
   "execution_count": 91,
   "id": "8d78a232",
   "metadata": {},
   "outputs": [
    {
     "data": {
      "text/plain": [
       "<matplotlib.lines.Line2D at 0x1d08f3eb1d0>"
      ]
     },
     "execution_count": 91,
     "metadata": {},
     "output_type": "execute_result"
    },
    {
     "data": {
      "image/png": "[encoded data removed]",
      "text/plain": [
       "<Figure size 640x480 with 1 Axes>"
      ]
     },
     "metadata": {},
     "output_type": "display_data"
    }
   ],
   "source": [
    "sns.kdeplot(vp_df['sepal_width'], fill=True)\n",
    "plt.axvline(vp_df['sepal_width'].mean())"
   ]
  },
  {
   "cell_type": "markdown",
   "id": "3c58a9d7",
   "metadata": {},
   "source": [
    "양의 첨도 > 3 : 정규분포보다 뾰족하고 꼬리가 두꺼워서 이상치가 극단적인 값이 더 많다.<br>\n",
    "음의 첨도 < 3 : 정규분포보다 평평하고 꼬리가 얇아서, 극단적인 값이 덜 발생한다."
   ]
  },
  {
   "cell_type": "code",
   "execution_count": 90,
   "id": "2d76ce57",
   "metadata": {},
   "outputs": [
    {
     "name": "stdout",
     "output_type": "stream",
     "text": [
      "1.1384199576606167\n"
     ]
    }
   ],
   "source": [
    "from scipy.stats import skew\n",
    "\n",
    "data = [10, 20, 30, 40, 100]  # 오른쪽으로 치우친 데이터\n",
    "skew_value = skew(data)\n",
    "print(skew_value)  # 양수 (오른쪽 꼬리)"
   ]
  }
 ],
 "metadata": {
  "kernelspec": {
   "display_name": "hipython",
   "language": "python",
   "name": "python3"
  },
  "language_info": {
   "codemirror_mode": {
    "name": "ipython",
    "version": 3
   },
   "file_extension": ".py",
   "mimetype": "text/x-python",
   "name": "python",
   "nbconvert_exporter": "python",
   "pygments_lexer": "ipython3",
   "version": "3.12.9"
  }
 },
 "nbformat": 4,
 "nbformat_minor": 5
}
