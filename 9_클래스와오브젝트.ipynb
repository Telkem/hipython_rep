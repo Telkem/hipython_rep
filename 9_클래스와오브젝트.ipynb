{
 "cells": [
  {
   "cell_type": "raw",
   "id": "a88ecdf6-30e3-4103-a4d5-029077c42a29",
   "metadata": {},
   "source": [
    "# 파이썬으로 객체지향프로그래밍 OOP\n",
    "Object Oriented Programming   \n",
    "\n",
    "파이썬으로 만드는 응용프로그램\n",
    "- 변수 : 전역, 지역\n",
    "- 함수 : 기능을 구현하는 도구\n",
    "- 모듈 : 함수의 모음, 변수의 모음 > .py\n",
    "- CRUD의 구현 : Create, Read, Update, Delete\n",
    "\n",
    "클래스 : 변수 + 함수를 하나로 묶어 주는 구조의 개념   \n",
    "객체 : 클래스를 이용해서 다수의 객체를 생성   \n",
    "객체지향 프로그램 : 객체를 이용하는 프로그램"
   ]
  },
  {
   "cell_type": "markdown",
   "id": "bfac3264-510a-40ab-b514-5f7da5f03f43",
   "metadata": {},
   "source": [
    "## 객체지향 프로그램을 만드는 법\n",
    "\n",
    "1. 클래스를 만들기\n",
    "2. 클래스를 이용해 객체를 생성\n",
    "3. 객체의 함수 : 메소드를 호출"
   ]
  },
  {
   "cell_type": "code",
   "execution_count": 27,
   "id": "a644fa31-d576-454c-b116-0b9f9fa13f44",
   "metadata": {},
   "outputs": [],
   "source": [
    "class Bicycle():\n",
    "    #속성추가 : 생성자\n",
    "    def __init__(self, color, wheelsize = 20):\n",
    "        self.color = color\n",
    "        self.wheelsize = wheelsize\n",
    "\n",
    "    #오버로딩 - 파이썬에서는 안됨\n",
    "    # def __init__(self, color):\n",
    "    #     self.color = color\n",
    "        \n",
    "    def move(self):\n",
    "        print(f\"{self.color} {self.wheelsize} 자전거가 움직입니다.\")\n",
    "    pass"
   ]
  },
  {
   "cell_type": "code",
   "execution_count": 28,
   "id": "bb3e3c48-acdd-4667-8b34-e655d7404100",
   "metadata": {},
   "outputs": [
    {
     "name": "stdout",
     "output_type": "stream",
     "text": [
      "검은색 20 자전거가 움직입니다.\n",
      "흰색 10 자전거가 움직입니다.\n"
     ]
    }
   ],
   "source": [
    "bi = Bicycle(\"검은색\") #객체 생성\n",
    "bi1 = Bicycle(\"흰색\", 10)\n",
    "bi.move() # 객체 메소드 호출\n",
    "bi1.move()"
   ]
  },
  {
   "cell_type": "code",
   "execution_count": 22,
   "id": "32c2c602-acf7-4b26-8de3-4501e1e7cae6",
   "metadata": {},
   "outputs": [
    {
     "data": {
      "text/plain": [
       "(__main__.Bicycle, __main__.Bicycle)"
      ]
     },
     "execution_count": 22,
     "metadata": {},
     "output_type": "execute_result"
    }
   ],
   "source": [
    "type(bi), type(bi1)"
   ]
  },
  {
   "cell_type": "code",
   "execution_count": 23,
   "id": "bf71ece5-417f-47c3-a31b-60f5f27ae739",
   "metadata": {
    "collapsed": true,
    "jupyter": {
     "outputs_hidden": true
    },
    "scrolled": true
   },
   "outputs": [
    {
     "data": {
      "text/plain": [
       "['__class__',\n",
       " '__delattr__',\n",
       " '__dict__',\n",
       " '__dir__',\n",
       " '__doc__',\n",
       " '__eq__',\n",
       " '__format__',\n",
       " '__ge__',\n",
       " '__getattribute__',\n",
       " '__getstate__',\n",
       " '__gt__',\n",
       " '__hash__',\n",
       " '__init__',\n",
       " '__init_subclass__',\n",
       " '__le__',\n",
       " '__lt__',\n",
       " '__module__',\n",
       " '__ne__',\n",
       " '__new__',\n",
       " '__reduce__',\n",
       " '__reduce_ex__',\n",
       " '__repr__',\n",
       " '__setattr__',\n",
       " '__sizeof__',\n",
       " '__str__',\n",
       " '__subclasshook__',\n",
       " '__weakref__',\n",
       " 'color',\n",
       " 'move',\n",
       " 'wheelsize']"
      ]
     },
     "execution_count": 23,
     "metadata": {},
     "output_type": "execute_result"
    }
   ],
   "source": [
    "dir(bi)"
   ]
  },
  {
   "cell_type": "code",
   "execution_count": 24,
   "id": "a862681f-df0e-4c4a-9bee-dc380e0d4ddf",
   "metadata": {},
   "outputs": [],
   "source": [
    "class Student:\n",
    "    def __init__(self, name, age):\n",
    "        self.name = name\n",
    "        self.age = age\n",
    "\n",
    "    def introduce(self):\n",
    "        print(f\"안녕하세요. 제 이름은 {self.name}이고, 나이는 {self.age}살입니다.\")\n"
   ]
  },
  {
   "cell_type": "code",
   "execution_count": 26,
   "id": "1c65fd9d-0e43-4d7f-9548-69a4c9bd25a9",
   "metadata": {},
   "outputs": [
    {
     "name": "stdout",
     "output_type": "stream",
     "text": [
      "안녕하세요. 제 이름은 지민이고, 나이는 20살입니다.\n",
      "안녕하세요. 제 이름은 유진이고, 나이는 22살입니다.\n"
     ]
    }
   ],
   "source": [
    "st1 = Student(\"지민\", 20)\n",
    "st2 = Student(\"유진\", 22)\n",
    "st1.introduce()\n",
    "st2.introduce()"
   ]
  },
  {
   "cell_type": "markdown",
   "id": "0f4b4507-c190-43cd-a1d7-4030c7ee245f",
   "metadata": {},
   "source": [
    "# 클래스의 속성 - 변수\n",
    "\n",
    "1. 인스턴스 변수\n",
    "2. 클래스 변수"
   ]
  },
  {
   "cell_type": "code",
   "execution_count": 33,
   "id": "fbd4c2cc-48cf-4904-a6be-e10d2abd7d6f",
   "metadata": {},
   "outputs": [],
   "source": [
    "class Car():\n",
    "    #클래스변수\n",
    "    instance_cnt = 0\n",
    "\n",
    "    def __init__(self, size):\n",
    "        self.size = size\n",
    "        Car.instance_cnt += 1\n",
    "        print(f\"자동차가 {Car.instance_cnt}대 생성되었습니다.\")\n",
    "\n",
    "    def move(self):\n",
    "        print(f\"{self.size}의 자동차가 움집입니다.\")"
   ]
  },
  {
   "cell_type": "code",
   "execution_count": 34,
   "id": "d52d217f-5a40-4c21-a895-79e158330241",
   "metadata": {},
   "outputs": [
    {
     "name": "stdout",
     "output_type": "stream",
     "text": [
      "자동차가 1대 생성되었습니다.\n",
      "자동차가 2대 생성되었습니다.\n",
      "자동차가 3대 생성되었습니다.\n",
      "20의 자동차가 움집입니다.\n",
      "40의 자동차가 움집입니다.\n",
      "80의 자동차가 움집입니다.\n"
     ]
    }
   ],
   "source": [
    "c1 = Car(20)\n",
    "c2 = Car(40)\n",
    "c3 = Car(80)\n",
    "c1.move()\n",
    "c2.move()\n",
    "c3.move()"
   ]
  },
  {
   "cell_type": "code",
   "execution_count": 35,
   "id": "d2ad9518-7687-4a23-8396-6a012e48e6de",
   "metadata": {},
   "outputs": [
    {
     "name": "stdout",
     "output_type": "stream",
     "text": [
      "영희\n",
      "철수\n",
      "파이썬 스쿨\n"
     ]
    }
   ],
   "source": [
    "class Student:\n",
    "    school = \"파이썬 스쿨\"  # 클래스 변수\n",
    "    \n",
    "    def __init__(self, name):\n",
    "        self.name = name  # 인스턴스 변수\n",
    "\n",
    "s1 = Student(\"영희\")\n",
    "s2 = Student(\"철수\")\n",
    "\n",
    "print(s1.name)  # 영희 (인스턴스 변수)\n",
    "print(s2.name)  # 철수 (인스턴스 변수)\n",
    "print(Student.school)  # 파이썬 고등학교 (클래스 변수)"
   ]
  },
  {
   "cell_type": "markdown",
   "id": "5b117beb-3534-40b4-bb87-7508db1f88c4",
   "metadata": {},
   "source": [
    "# method\n",
    "1. 인스턴스 메소드 : self\n",
    "2. 스태틱(정적) 메소드 : @staticmethod\n",
    "3. 클래스 메소드 @classmethod"
   ]
  },
  {
   "cell_type": "code",
   "execution_count": 36,
   "id": "ae8adab6-9e2f-40fc-b6f4-1de5e786aca4",
   "metadata": {},
   "outputs": [],
   "source": [
    "class Calculator:\n",
    "    def __init__(self, x, y): #instance method\n",
    "        self.x = x\n",
    "        self.y = y\n",
    "\n",
    "    def add(self): #instance method\n",
    "        return self.x + self.y\n",
    "\n",
    "    def multiply(self): #instance method\n",
    "        return self.x * self.y\n"
   ]
  },
  {
   "cell_type": "code",
   "execution_count": 41,
   "id": "1bb70bb4-c8af-4e26-9418-d8d737c57268",
   "metadata": {},
   "outputs": [
    {
     "data": {
      "text/plain": [
       "2"
      ]
     },
     "execution_count": 41,
     "metadata": {},
     "output_type": "execute_result"
    }
   ],
   "source": [
    "calc = Calculator(1,2) #__init__() 생성자 함수를 자동으로 호출\n",
    "calc.add() #instance method의 호출 > 객체의참조.메소드()\n",
    "calc.multiply()"
   ]
  },
  {
   "cell_type": "code",
   "execution_count": 95,
   "id": "7d37b8ad-c650-4de4-b426-24005acb6937",
   "metadata": {},
   "outputs": [],
   "source": [
    "class Car():\n",
    "    instance_cnt = 0 #클래스 속성\n",
    "\n",
    "    def __init__(self, size):\n",
    "        self.size = size\n",
    "        Car.instance_cnt += 1\n",
    "        print(f\"자동차가 {Car.instance_cnt}대 생성되었습니다.\")\n",
    "        \n",
    "    def auto_cruise(self): #instance method\n",
    "        print(\"자율주행중\")\n",
    "\n",
    "    @staticmethod\n",
    "    def check_type(code): #static method\n",
    "        if code > 20:\n",
    "            print(\"전기자동차\")\n",
    "        elif code > 10:\n",
    "            print(\"가솔린자동차\")\n",
    "        else:\n",
    "            print(\"디젤차\")\n",
    "    @classmethod\n",
    "    def count_instance(cls): #class method\n",
    "        print(f\"자동차 대수 :  {cls.instance_cnt}\")"
   ]
  },
  {
   "cell_type": "code",
   "execution_count": 99,
   "id": "cb09536d-f1bd-4071-8712-7091b3568171",
   "metadata": {},
   "outputs": [
    {
     "name": "stdout",
     "output_type": "stream",
     "text": [
      "자동차가 2대 생성되었습니다.\n",
      "전기자동차\n"
     ]
    }
   ],
   "source": [
    "c1 = Car(2000)\n",
    "Car.check_type(25)"
   ]
  },
  {
   "cell_type": "code",
   "execution_count": 100,
   "id": "53195b39-1105-4176-bd4e-ec17dc72a264",
   "metadata": {},
   "outputs": [
    {
     "name": "stdout",
     "output_type": "stream",
     "text": [
      "자동차 대수 :  2\n"
     ]
    }
   ],
   "source": [
    "Car.count_instance()"
   ]
  },
  {
   "cell_type": "markdown",
   "id": "588cefcd-ab7f-4193-b64e-ff4b8a3c5c01",
   "metadata": {},
   "source": [
    "# 성적 클래스"
   ]
  },
  {
   "cell_type": "code",
   "execution_count": 4,
   "id": "6739b32a-97e8-4c09-b6b4-2df0d29116d4",
   "metadata": {},
   "outputs": [],
   "source": [
    "import random"
   ]
  },
  {
   "cell_type": "code",
   "execution_count": 5,
   "id": "c496ef41-33c3-4660-918e-0187918ad9ed",
   "metadata": {},
   "outputs": [],
   "source": [
    "class Student():\n",
    "    def __init__(self,num, name, kor, eng, math):\n",
    "        self.num = num\n",
    "        self.name = name\n",
    "        self.kor = kor\n",
    "        self.eng = eng\n",
    "        self.math = math\n",
    "        self.total = kor + eng + math\n",
    "        self.avg = round(self.total / 3, 2)\n",
    "        self.order = 0\n",
    "\n",
    "    def s_info(self):\n",
    "        print(f\"{self.num}, {self.name}, {self.kor}, {self.eng}, {self.math}, {self.total}, {self.avg}, {self.order}\")\n",
    "\n",
    "    def set_order(self, order):\n",
    "        self.order = order\n",
    "\n",
    "    # Object 상속 받은 메소드 재정의 overriding\n",
    "    def __str__(self):\n",
    "        return f\"{self.num}. {self.name} : {self.order}등\""
   ]
  },
  {
   "cell_type": "code",
   "execution_count": 54,
   "id": "38cb4b51-7cc3-4781-9d56-fda62c1fb5e4",
   "metadata": {},
   "outputs": [],
   "source": [
    "class Classroom():\n",
    "    def __init__(self, student_list):\n",
    "        self.students = self.gen_student_data(student_list)\n",
    "        self.name = ''\n",
    "        self.class_score = 0\n",
    "        self.kor_avg = 0\n",
    "        self.eng_avg = 0\n",
    "        self.math_avg = 0\n",
    "\n",
    "\n",
    "    def set_name(self, class_name):\n",
    "        self.name = class_name\n",
    "    \n",
    "    #클래스의 학생 목록 생성\n",
    "    def gen_student_data(self, stu_list):\n",
    "        students = []\n",
    "        for i, s_name in enumerate(stu_list, start = 1):\n",
    "            s = Student(i, s_name,\n",
    "                        random.randint(50,100),\n",
    "                        random.randint(50,100),\n",
    "                        random.randint(50,100)\n",
    "                       )\n",
    "            students.append(s)\n",
    "        return students\n",
    "\n",
    "    #학급의 학생 순위를 계산해서 학생 객체를 설정\n",
    "    def calc_order(self):\n",
    "        for student in self.students:\n",
    "            rank = 1\n",
    "            for other in self.students:\n",
    "                if other.total > student.total:\n",
    "                    rank += 1\n",
    "            student.set_order(rank)\n",
    "            student.s_info()\n",
    "\n",
    "    def print_student_score(self):\n",
    "        for student in self.students:\n",
    "            print(student)\n",
    "\n",
    "    def print_class_score(self):\n",
    "        self.kor_avg = round(sum(student.kor for student in self.students) / len(self.students), 2)\n",
    "        self.eng_avg = round(sum(student.eng for student in self.students) / len(self.students), 2)\n",
    "        self.math_avg = round(sum(student.math for student in self.students) / len(self.students), 2)\n",
    "        self.class_score = round(sum(student.total for student in self.students) / len(self.students) / 3, 2)\n",
    "        print(f\"{self.name}반 평균 : {self.class_score} 국어평균 : {self.kor_avg} 영어평균 : {self.eng_avg} 수학평균 : {self.math_avg}\")\n",
    "        print(f\"이 반의 총 인원수는 {len(self.students)}명 입니다.\")\n",
    "\n",
    "    \n",
    "    def __str__(self):\n",
    "        return f\"학급 이름 : {self.name}\""
   ]
  },
  {
   "cell_type": "code",
   "execution_count": 55,
   "id": "b2d8aa49-9da5-4cba-ad02-7a92617db3dd",
   "metadata": {},
   "outputs": [
    {
     "name": "stdout",
     "output_type": "stream",
     "text": [
      "학급 이름 : WN7\n",
      "1, 홍길동, 77, 73, 56, 206, 68.67, 4\n",
      "2, 박제동, 53, 87, 92, 232, 77.33, 2\n",
      "3, 김영희, 100, 67, 72, 239, 79.67, 1\n",
      "4, 한사랑, 81, 65, 72, 218, 72.67, 3\n",
      "WN7반 평균 : 74.58 국어평균 : 77.75 영어평균 : 73.0 수학평균 : 73.0\n",
      "이 반의 총 인원수는 4명 입니다.\n"
     ]
    }
   ],
   "source": [
    "# main process\n",
    "a_class_stu = [\"홍길동\", \"박제동\", \"김영희\", \"한사랑\"]\n",
    "b_class_Stu = [\"김철수\", \"박길동\", \"이영희\", \"최사랑\", \"김민수\"]\n",
    "\n",
    "a_class = Classroom(a_class_stu)\n",
    "b_class = Classroom(b_class_Stu)\n",
    "\n",
    "a_class.set_name(\"WN7\")\n",
    "print(a_class)\n",
    "\n",
    "a_class.calc_order()\n",
    "# b_class.calc_order()\n",
    "\n",
    "# a_class.print_student_score()\n",
    "a_class.print_class_score()"
   ]
  },
  {
   "cell_type": "markdown",
   "id": "772a19f3-5de9-4820-8003-d87761d887bf",
   "metadata": {},
   "source": [
    "# 객체와 클래스를 사용하는 이유\n",
    "\n",
    "1. 코드 작성과 관리가 편하다\n",
    "2. 규모가 큰 프로그램(라이브러리)에서 사용한다\n",
    "3. 유사한 객체가 많은 프로그램에서 사용한다 (예. 게임)"
   ]
  },
  {
   "cell_type": "markdown",
   "id": "a6d430de-ac1b-4ad0-b5ed-1032b604e72e",
   "metadata": {},
   "source": [
    "# 객체 지향의 특징\n",
    "\n",
    "- 캡슐화 encapsulation\n",
    "- 상속 inheritance\n",
    "- 다형성 polymorphism"
   ]
  },
  {
   "cell_type": "code",
   "execution_count": 56,
   "id": "14280abe-59c9-434f-9815-71ae887a98fc",
   "metadata": {},
   "outputs": [],
   "source": [
    "class MyClass():\n",
    "    def __init__(self):\n",
    "        self.var1 = 10 #public\n",
    "        self._var2 = 20 #protected\n",
    "        self.__var3 = 30 #private"
   ]
  },
  {
   "cell_type": "code",
   "execution_count": 65,
   "id": "e760f5d9-5977-4572-96b9-71f5a4d7d925",
   "metadata": {},
   "outputs": [
    {
     "data": {
      "text/plain": [
       "10"
      ]
     },
     "execution_count": 65,
     "metadata": {},
     "output_type": "execute_result"
    }
   ],
   "source": [
    "c1 = MyClass()\n",
    "c1.var1"
   ]
  },
  {
   "cell_type": "code",
   "execution_count": 67,
   "id": "a2bedbda-21ae-4485-8add-aa3cf2f69800",
   "metadata": {},
   "outputs": [
    {
     "data": {
      "text/plain": [
       "20"
      ]
     },
     "execution_count": 67,
     "metadata": {},
     "output_type": "execute_result"
    }
   ],
   "source": [
    "c1._var2"
   ]
  },
  {
   "cell_type": "code",
   "execution_count": 68,
   "id": "2abaef67-973b-4be3-9502-b520dff555fb",
   "metadata": {
    "collapsed": true,
    "jupyter": {
     "outputs_hidden": true
    }
   },
   "outputs": [
    {
     "data": {
      "text/plain": [
       "['_MyClass__var3',\n",
       " '__class__',\n",
       " '__delattr__',\n",
       " '__dict__',\n",
       " '__dir__',\n",
       " '__doc__',\n",
       " '__eq__',\n",
       " '__format__',\n",
       " '__ge__',\n",
       " '__getattribute__',\n",
       " '__getstate__',\n",
       " '__gt__',\n",
       " '__hash__',\n",
       " '__init__',\n",
       " '__init_subclass__',\n",
       " '__le__',\n",
       " '__lt__',\n",
       " '__module__',\n",
       " '__ne__',\n",
       " '__new__',\n",
       " '__reduce__',\n",
       " '__reduce_ex__',\n",
       " '__repr__',\n",
       " '__setattr__',\n",
       " '__sizeof__',\n",
       " '__str__',\n",
       " '__subclasshook__',\n",
       " '__weakref__',\n",
       " '_var2',\n",
       " 'var1']"
      ]
     },
     "execution_count": 68,
     "metadata": {},
     "output_type": "execute_result"
    }
   ],
   "source": [
    "dir(c1)"
   ]
  },
  {
   "cell_type": "code",
   "execution_count": 71,
   "id": "da07acc2-ca91-4901-a68f-cd64a266288c",
   "metadata": {},
   "outputs": [
    {
     "data": {
      "text/plain": [
       "30"
      ]
     },
     "execution_count": 71,
     "metadata": {},
     "output_type": "execute_result"
    }
   ],
   "source": [
    "c1._MyClass__var3"
   ]
  },
  {
   "cell_type": "code",
   "execution_count": 72,
   "id": "79846c46-2628-44a6-b0ee-ebb99f7adc58",
   "metadata": {
    "collapsed": true,
    "jupyter": {
     "outputs_hidden": true
    }
   },
   "outputs": [
    {
     "data": {
      "text/plain": [
       "['__class__',\n",
       " '__delattr__',\n",
       " '__dict__',\n",
       " '__dir__',\n",
       " '__doc__',\n",
       " '__eq__',\n",
       " '__format__',\n",
       " '__ge__',\n",
       " '__getattribute__',\n",
       " '__getstate__',\n",
       " '__gt__',\n",
       " '__hash__',\n",
       " '__init__',\n",
       " '__init_subclass__',\n",
       " '__le__',\n",
       " '__lt__',\n",
       " '__module__',\n",
       " '__ne__',\n",
       " '__new__',\n",
       " '__reduce__',\n",
       " '__reduce_ex__',\n",
       " '__repr__',\n",
       " '__setattr__',\n",
       " '__sizeof__',\n",
       " '__str__',\n",
       " '__subclasshook__',\n",
       " '__weakref__']"
      ]
     },
     "execution_count": 72,
     "metadata": {},
     "output_type": "execute_result"
    }
   ],
   "source": [
    "dir(MyClass)"
   ]
  },
  {
   "cell_type": "markdown",
   "id": "4b16b3fc-ad20-49d2-98ab-892dad199dd0",
   "metadata": {},
   "source": [
    "## 상속"
   ]
  },
  {
   "cell_type": "code",
   "execution_count": 75,
   "id": "99c2019c-a1e7-4a20-a037-21b0b92ce181",
   "metadata": {},
   "outputs": [],
   "source": [
    "#부모클래스\n",
    "class Calculator():\n",
    "    def __init__(self, x, y):\n",
    "        self.x = x\n",
    "        self.y = y\n",
    "\n",
    "    def add(self):\n",
    "        return self.x + self.y"
   ]
  },
  {
   "cell_type": "code",
   "execution_count": 89,
   "id": "0aa22e2e-d62d-4489-86dc-ff91d52fe715",
   "metadata": {},
   "outputs": [],
   "source": [
    "#자식클래스\n",
    "class AdvancedCalculator(Calculator): #상속\n",
    "    #상속받은 기능 재사용\n",
    "    # def __init__(self, x, y):\n",
    "\n",
    "    #자식이 추가한 기능\n",
    "    def divide(self):\n",
    "        if self.y == 0:\n",
    "            return \"0으로 나누기 금지\"\n",
    "        return self.x / self.y\n",
    "        \n",
    "    #상속받은 기능의 재정의\n",
    "    def add(self): #overriding\n",
    "        print('advanced calculator 입니다.')\n",
    "        return super().add()\n",
    "\n",
    "    def multiply(self):\n",
    "        return self.x * self.y\n",
    "\n",
    "    def subtraction(self):\n",
    "        return self.x - self.y"
   ]
  },
  {
   "cell_type": "code",
   "execution_count": 90,
   "id": "45d16e49-69ec-4ea0-9ea4-5f8bdcb5a351",
   "metadata": {},
   "outputs": [
    {
     "name": "stdout",
     "output_type": "stream",
     "text": [
      "5.0\n",
      "advanced calculator 입니다.\n",
      "30\n",
      "125\n",
      "20\n"
     ]
    }
   ],
   "source": [
    "acalc = AdvancedCalculator(25,5)\n",
    "print(acalc.divide())\n",
    "print(acalc.add())\n",
    "print(acalc.multiply())\n",
    "print(acalc.subtraction())"
   ]
  },
  {
   "cell_type": "code",
   "execution_count": 91,
   "id": "190d1f31-312c-4912-bd51-1cf344baf2a1",
   "metadata": {
    "collapsed": true,
    "jupyter": {
     "outputs_hidden": true
    }
   },
   "outputs": [
    {
     "data": {
      "text/plain": [
       "['__class__',\n",
       " '__delattr__',\n",
       " '__dict__',\n",
       " '__dir__',\n",
       " '__doc__',\n",
       " '__eq__',\n",
       " '__format__',\n",
       " '__ge__',\n",
       " '__getattribute__',\n",
       " '__getstate__',\n",
       " '__gt__',\n",
       " '__hash__',\n",
       " '__init__',\n",
       " '__init_subclass__',\n",
       " '__le__',\n",
       " '__lt__',\n",
       " '__module__',\n",
       " '__ne__',\n",
       " '__new__',\n",
       " '__reduce__',\n",
       " '__reduce_ex__',\n",
       " '__repr__',\n",
       " '__setattr__',\n",
       " '__sizeof__',\n",
       " '__str__',\n",
       " '__subclasshook__',\n",
       " '__weakref__',\n",
       " 'add',\n",
       " 'divide',\n",
       " 'multiply',\n",
       " 'subtraction',\n",
       " 'x',\n",
       " 'y']"
      ]
     },
     "execution_count": 91,
     "metadata": {},
     "output_type": "execute_result"
    }
   ],
   "source": [
    "dir(acalc)"
   ]
  },
  {
   "cell_type": "code",
   "execution_count": null,
   "id": "f16345f8-f410-4e79-ac99-0d33d09774ec",
   "metadata": {},
   "outputs": [],
   "source": []
  }
 ],
 "metadata": {
  "kernelspec": {
   "display_name": "Python 3 (ipykernel)",
   "language": "python",
   "name": "python3"
  },
  "language_info": {
   "codemirror_mode": {
    "name": "ipython",
    "version": 3
   },
   "file_extension": ".py",
   "mimetype": "text/x-python",
   "name": "python",
   "nbconvert_exporter": "python",
   "pygments_lexer": "ipython3",
   "version": "3.12.9"
  }
 },
 "nbformat": 4,
 "nbformat_minor": 5
}
