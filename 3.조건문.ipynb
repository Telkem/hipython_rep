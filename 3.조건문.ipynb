{
 "cells": [
  {
   "cell_type": "markdown",
   "id": "a1d30004-c323-43c4-9df7-b4f647a438d3",
   "metadata": {},
   "source": [
    "# 연산자\n",
    "2 + 3 산술   \n",
    "a = 2 대입   \n",
    "a > 2 비교"
   ]
  },
  {
   "cell_type": "code",
   "execution_count": 3,
   "id": "23abeb59-3ef7-40ca-b98e-b9861c575cbf",
   "metadata": {},
   "outputs": [
    {
     "data": {
      "text/plain": [
       "(2, 2, 2, 2)"
      ]
     },
     "execution_count": 3,
     "metadata": {},
     "output_type": "execute_result"
    }
   ],
   "source": [
    "a = 2\n",
    "b = c = d = a\n",
    "b,c,d,a"
   ]
  },
  {
   "cell_type": "code",
   "execution_count": 4,
   "id": "3a57a6d9-aebb-4a1f-8e58-a35cbcddcdfb",
   "metadata": {},
   "outputs": [
    {
     "data": {
      "text/plain": [
       "True"
      ]
     },
     "execution_count": 4,
     "metadata": {},
     "output_type": "execute_result"
    }
   ],
   "source": [
    "id(b) == id(c)"
   ]
  },
  {
   "cell_type": "markdown",
   "id": "2f9a2c3e-0079-4702-a7cc-d6baf6f012e5",
   "metadata": {},
   "source": [
    "# 조건문:\n",
    "\n",
    "- 비교연산자를 이용한 부울값이 출력되어야 한다\n",
    "- : 이후 영역표시는 들여쓰기로 맞추어야 한다"
   ]
  },
  {
   "cell_type": "code",
   "execution_count": 12,
   "id": "7ef4df4d-89e0-45d3-b145-67e653e70542",
   "metadata": {},
   "outputs": [
    {
     "name": "stdout",
     "output_type": "stream",
     "text": [
      "pass\n"
     ]
    }
   ],
   "source": [
    "kor_score = 95\n",
    "if kor_score >= 90 :\n",
    "    print(\"pass\")"
   ]
  },
  {
   "cell_type": "code",
   "execution_count": 13,
   "id": "5b07c975-f0c5-44e0-90ae-646c87b7469d",
   "metadata": {},
   "outputs": [
    {
     "name": "stdout",
     "output_type": "stream",
     "text": [
      "pass\n"
     ]
    }
   ],
   "source": [
    "# 한줄 작성\n",
    "if kor_score >= 90 : print(\"pass\")"
   ]
  },
  {
   "cell_type": "code",
   "execution_count": 14,
   "id": "b0895b60-b20a-401d-9999-9ee481e827fe",
   "metadata": {},
   "outputs": [
    {
     "name": "stdout",
     "output_type": "stream",
     "text": [
      "fail\n"
     ]
    }
   ],
   "source": [
    "kor_score = 80\n",
    "if kor_score >= 90 :\n",
    "    print(\"pass\")\n",
    "else:\n",
    "    print(\"fail\")"
   ]
  },
  {
   "cell_type": "code",
   "execution_count": 17,
   "id": "fe950177-dc41-4269-94ff-416dc57f6450",
   "metadata": {},
   "outputs": [
    {
     "name": "stdout",
     "output_type": "stream",
     "text": [
      "fail\n"
     ]
    }
   ],
   "source": [
    "# 한줄 작성\n",
    "# if kor_score >= 90 : print(\"pass\") else : print(\"fail\") # Error\n",
    "#비교연산자, 논리연산자 > 조건식\n",
    "print(\"pass\") if kor_score >= 90 else print(\"fail\")"
   ]
  },
  {
   "cell_type": "code",
   "execution_count": 18,
   "id": "55405775-f448-4796-a12b-fda095c72bcf",
   "metadata": {},
   "outputs": [
    {
     "name": "stdin",
     "output_type": "stream",
     "text": [
      "점수를 입력하세요(숫자만) 62\n"
     ]
    },
    {
     "name": "stdout",
     "output_type": "stream",
     "text": [
      "양\n"
     ]
    }
   ],
   "source": [
    "#수우미양가\n",
    "score = int(input(\"점수를 입력하세요(숫자만)\"))\n",
    "if score >= 90:\n",
    "    print(\"수\")\n",
    "elif score >= 80:\n",
    "    print(\"우\")\n",
    "elif score >= 70:\n",
    "    print(\"미\")\n",
    "elif score >= 60:\n",
    "    print(\"양\")\n",
    "else:\n",
    "    print(\"가\")"
   ]
  },
  {
   "cell_type": "code",
   "execution_count": 26,
   "id": "636a2843-2873-458a-9557-c1795cf3a35a",
   "metadata": {},
   "outputs": [
    {
     "name": "stdin",
     "output_type": "stream",
     "text": [
      "수식을 입력하세요, (예 20 * 40) 2 s 2\n"
     ]
    },
    {
     "data": {
      "text/plain": [
       "('2', 's', '2')"
      ]
     },
     "execution_count": 26,
     "metadata": {},
     "output_type": "execute_result"
    }
   ],
   "source": [
    "formula = input(\"수식을 입력하세요, (예 20 * 40)\")\n",
    "num1, opr, num2 = formula.split(\" \")\n",
    "num1, opr, num2"
   ]
  },
  {
   "cell_type": "code",
   "execution_count": 37,
   "id": "dbb7fd4d-69b3-4782-9360-1054f25f05ea",
   "metadata": {},
   "outputs": [
    {
     "name": "stdin",
     "output_type": "stream",
     "text": [
      "수식을 입력하세요, (예 20 * 40) 5 . 5\n"
     ]
    },
    {
     "name": "stdout",
     "output_type": "stream",
     "text": [
      "지원하지 않는 연산입니다.\n"
     ]
    }
   ],
   "source": [
    "formula = input(\"수식을 입력하세요, (예 20 * 40)\")\n",
    "num1, opr, num2 = formula.split(\" \")\n",
    "num1, opr, num2\n",
    "\n",
    "num1 = float(num1)\n",
    "num2 = float(num2)\n",
    "opr_list = [\"+\", \"-\", \"*\", \"/\", \"%\"]\n",
    "if opr in opr_list:\n",
    "    if opr == \"+\":\n",
    "        result = num1 + num2\n",
    "    elif opr == \"-\":\n",
    "        result = num1 - num2\n",
    "    elif opr == \"*\":\n",
    "        result = num1 * num2\n",
    "    elif opr == \"/\":\n",
    "        result = num1 / num2\n",
    "    elif opr == \"%\":\n",
    "        result = num1 % num2\n",
    "    print(f'{num1} {opr} {num2} = {result}')\n",
    "else:\n",
    "    print(\"지원하지 않는 연산입니다.\")\n",
    "    "
   ]
  },
  {
   "cell_type": "markdown",
   "id": "c2674755-b33d-4c67-a407-90f86e9b8812",
   "metadata": {},
   "source": [
    "# 한줄로 쓰기\n",
    "\n"
   ]
  },
  {
   "cell_type": "code",
   "execution_count": 45,
   "id": "72f5af94-b2d6-4798-baed-63f44588aa8f",
   "metadata": {},
   "outputs": [
    {
     "name": "stdout",
     "output_type": "stream",
     "text": [
      "홀수\n"
     ]
    }
   ],
   "source": [
    "num = 7\n",
    "# print(\"짝수\") if num % 2 == 0 else print(\"홀수\")\n",
    "print(\"짝수\" if num % 2 == 0 else \"홀수\")"
   ]
  },
  {
   "cell_type": "code",
   "execution_count": 40,
   "id": "0b4ce979-ea65-42e3-9eb2-cd5166fa9dbe",
   "metadata": {},
   "outputs": [
    {
     "name": "stdout",
     "output_type": "stream",
     "text": [
      "쉽시다\n"
     ]
    }
   ],
   "source": [
    "졸려 = True\n",
    "print(\"쉽시다\" if 졸려 else \"파이팅\")"
   ]
  },
  {
   "cell_type": "code",
   "execution_count": 43,
   "id": "b1722a39-ce2f-4fd4-ba24-b8b7f6b0c6c8",
   "metadata": {},
   "outputs": [
    {
     "name": "stdout",
     "output_type": "stream",
     "text": [
      "패\n"
     ]
    }
   ],
   "source": [
    "player = \"가위\"\n",
    "cpu = \"바위\"\n",
    "# result = \"승\" \"무\" \"패\"\n",
    "result = \"승\" if player == \"가위\" and cpu == \"보\" else\\\n",
    "        \"무\" if player == cpu else \"패\"\n",
    "print(result)"
   ]
  },
  {
   "cell_type": "code",
   "execution_count": 44,
   "id": "5de4af1c-c24e-4021-a794-f80a0a6c04b9",
   "metadata": {},
   "outputs": [
    {
     "name": "stdout",
     "output_type": "stream",
     "text": [
      "C\n"
     ]
    }
   ],
   "source": [
    "#A, B, C, D 학점 출력\n",
    "score = 78\n",
    "grade = \"A\" if score >= 90 else \"B\" if score >= 80 else \"C\" if score >= 70 else \"D\"\n",
    "print(grade)"
   ]
  },
  {
   "cell_type": "markdown",
   "id": "2ce17b5b-c3a6-400a-b80b-e2aeaf8635e1",
   "metadata": {},
   "source": [
    "# break, continue, pass"
   ]
  },
  {
   "cell_type": "code",
   "execution_count": 46,
   "id": "4b4d2fe0-06b9-4be7-a4f9-160e4aa29677",
   "metadata": {},
   "outputs": [
    {
     "name": "stdout",
     "output_type": "stream",
     "text": [
      "현재 검사중인 숫자 : 1\n",
      "현재 검사중인 숫자 : 3\n",
      "현재 검사중인 숫자 : 5\n",
      "현재 검사중인 숫자 : 7\n",
      "9를 찾았습니다.\n"
     ]
    }
   ],
   "source": [
    "numbers = [1,3,5,7,9,11,13,15]\n",
    "search_number = 9\n",
    "\n",
    "for num in numbers:\n",
    "    if num == search_number:\n",
    "        print(f\"{search_number}를 찾았습니다.\")\n",
    "        break\n",
    "    print(f\"현재 검사중인 숫자 : {num}\")"
   ]
  },
  {
   "cell_type": "code",
   "execution_count": 47,
   "id": "b7ffd999-20d8-4c3f-b963-f9575ef70116",
   "metadata": {},
   "outputs": [
    {
     "name": "stdout",
     "output_type": "stream",
     "text": [
      "2\n",
      "4\n",
      "6\n",
      "8\n",
      "10\n"
     ]
    }
   ],
   "source": [
    "for i in range(1, 11):\n",
    "    if i % 2 != 0:\n",
    "        continue\n",
    "    print(i)"
   ]
  },
  {
   "cell_type": "code",
   "execution_count": 50,
   "id": "1854033a-52a4-4fef-9e4b-c0605db1cbb0",
   "metadata": {},
   "outputs": [],
   "source": [
    "condition = True\n",
    "if condition:\n",
    "    pass #나중에 구현 할 예정일때\n",
    "else:\n",
    "    print(\"else 구문 실행\")"
   ]
  }
 ],
 "metadata": {
  "kernelspec": {
   "display_name": "Python 3 (ipykernel)",
   "language": "python",
   "name": "python3"
  },
  "language_info": {
   "codemirror_mode": {
    "name": "ipython",
    "version": 3
   },
   "file_extension": ".py",
   "mimetype": "text/x-python",
   "name": "python",
   "nbconvert_exporter": "python",
   "pygments_lexer": "ipython3",
   "version": "3.12.9"
  }
 },
 "nbformat": 4,
 "nbformat_minor": 5
}
