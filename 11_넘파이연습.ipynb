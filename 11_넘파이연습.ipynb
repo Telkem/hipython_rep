{
 "cells": [
  {
   "cell_type": "markdown",
   "id": "1af46065",
   "metadata": {},
   "source": [
    "# 넘파이의 사용\n",
    "\n",
    "1. 데이터 분석 프로젝트 : 수치형 데이터의 요약, 통계, 시각화\n",
    "2. 이미지 처리 프로젝트 : 이미지 분석\n",
    "3. 게임, 시뮬레이션 프로그램 : 수치시뮬레이션 등을 구현\n",
    "4. 머신러닝/딥러닝 모델 프로젝트 : 금융데이터, 의료데이터, 실험데이터, 센서데이터"
   ]
  },
  {
   "cell_type": "code",
   "execution_count": 2,
   "id": "69fafdbb",
   "metadata": {},
   "outputs": [
    {
     "data": {
      "text/plain": [
       "[[120, 135, 150, 145], [100, 110, 140, 130], [90, 100, 95, 105]]"
      ]
     },
     "execution_count": 2,
     "metadata": {},
     "output_type": "execute_result"
    }
   ],
   "source": [
    "import numpy as np\n",
    "\n",
    "data = [\n",
    "    [120, 135, 150, 145],  # 제품A\n",
    "    [100, 110, 140, 130],  # 제품B\n",
    "    [90, 100, 95, 105] ]\n",
    "\n",
    "data\n"
   ]
  },
  {
   "cell_type": "code",
   "execution_count": 6,
   "id": "12166063",
   "metadata": {},
   "outputs": [
    {
     "data": {
      "text/plain": [
       "array([550, 480, 390])"
      ]
     },
     "execution_count": 6,
     "metadata": {},
     "output_type": "execute_result"
    }
   ],
   "source": [
    "sales_data = np.array(data)\n",
    "np.sum(sales_data, axis = 1) #총판매량"
   ]
  },
  {
   "cell_type": "code",
   "execution_count": 9,
   "id": "27fc5fce",
   "metadata": {},
   "outputs": [
    {
     "data": {
      "text/plain": [
       "array([7650, 8500, 9575, 9425])"
      ]
     },
     "execution_count": 9,
     "metadata": {},
     "output_type": "execute_result"
    }
   ],
   "source": [
    "profit_per_unit = np.array([20,30,25])\n",
    "total_sales = np.dot(profit_per_unit, sales_data)\n",
    "total_sales #총판매금액"
   ]
  },
  {
   "cell_type": "markdown",
   "id": "82789383",
   "metadata": {},
   "source": [
    "# 이미지처리"
   ]
  },
  {
   "cell_type": "code",
   "execution_count": 25,
   "id": "b133c9e1",
   "metadata": {},
   "outputs": [],
   "source": [
    "from PIL import Image\n",
    "img = Image.open('sample.jpg')\n",
    "img_ary = np.array(img)\n",
    "new_img = np.clip(img_ary + 100, 0, 255).astype(np.uint8)\n",
    "Image.fromarray(new_img).save('new_sample.jpg')"
   ]
  },
  {
   "cell_type": "code",
   "execution_count": 27,
   "id": "ec91893d",
   "metadata": {},
   "outputs": [],
   "source": [
    "inverted = 255 - img_ary\n",
    "Image.fromarray(inverted).save('new_sample1.jpg')"
   ]
  },
  {
   "cell_type": "markdown",
   "id": "77495184",
   "metadata": {},
   "source": [
    "# 데이터 시뮬레이션"
   ]
  },
  {
   "cell_type": "markdown",
   "id": "1fdd8097",
   "metadata": {},
   "source": [
    "1차원 배열의 랜덤워크 시뮬레이션"
   ]
  },
  {
   "cell_type": "code",
   "execution_count": 49,
   "id": "0edaa824",
   "metadata": {},
   "outputs": [
    {
     "data": {
      "text/plain": [
       "[<matplotlib.lines.Line2D at 0x1d45ecda180>]"
      ]
     },
     "execution_count": 49,
     "metadata": {},
     "output_type": "execute_result"
    },
    {
     "data": {
      "image/png": "[encoded data removed]",
      "text/plain": [
       "<Figure size 640x480 with 1 Axes>"
      ]
     },
     "metadata": {},
     "output_type": "display_data"
    }
   ],
   "source": [
    "import matplotlib.pyplot as plt\n",
    "\n",
    "n_step = 100000\n",
    "step = np.random.choice([-1,1], size = n_step)\n",
    "walk = np.cumsum(step)\n",
    "plt.plot(walk)"
   ]
  },
  {
   "cell_type": "code",
   "execution_count": 6,
   "id": "d28dbd92",
   "metadata": {},
   "outputs": [
    {
     "name": "stdout",
     "output_type": "stream",
     "text": [
      "배열의 차원 :  2\n",
      "배열의 형태 :  (3, 3)\n",
      "배열의 크기 :  9\n",
      "배열의 데이터 타입 :  int64\n",
      "배열 요소의 크기 :  8\n",
      "배열의 strides :  (24, 8)\n"
     ]
    }
   ],
   "source": [
    "arr = np.array([[1,2,3],[4,5,6],[7,8,9]])\n",
    "print('배열의 차원 : ', arr.ndim)\n",
    "print('배열의 형태 : ', arr.shape)\n",
    "print('배열의 크기 : ', arr.size)\n",
    "print('배열의 데이터 타입 : ', arr.dtype)\n",
    "print('배열 요소의 크기 : ', arr.itemsize)\n",
    "print('배열의 strides : ', arr.strides)"
   ]
  },
  {
   "cell_type": "code",
   "execution_count": null,
   "id": "e0b74473",
   "metadata": {},
   "outputs": [
    {
     "data": {
      "text/plain": [
       "list"
      ]
     },
     "execution_count": 12,
     "metadata": {},
     "output_type": "execute_result"
    }
   ],
   "source": [
    "tensor_list = [[[1,2,3,4],[1,2,3,4],[1,2,3,4]], # 4,3,4 > 2,3,4\n",
    "            #   [[1,2,3,4],[1,2,3,4],[1,2,3,4]],\n",
    "            #   [[1,2,3,4],[1,2,3,4],[1,2,3,4]],\n",
    "              [[1,2,3,4],[1,2,3,4],[1,2,3,4]]]\n",
    "type(tensor_list)"
   ]
  },
  {
   "cell_type": "code",
   "execution_count": 13,
   "id": "ef08a2e7",
   "metadata": {},
   "outputs": [
    {
     "data": {
      "text/plain": [
       "(2, 3, 4)"
      ]
     },
     "execution_count": 13,
     "metadata": {},
     "output_type": "execute_result"
    }
   ],
   "source": [
    "arr1 = np.array(tensor_list)\n",
    "arr1.shape"
   ]
  },
  {
   "cell_type": "code",
   "execution_count": null,
   "id": "b5945017",
   "metadata": {},
   "outputs": [],
   "source": []
  },
  {
   "cell_type": "code",
   "execution_count": null,
   "id": "5197cc92",
   "metadata": {},
   "outputs": [],
   "source": []
  }
 ],
 "metadata": {
  "kernelspec": {
   "display_name": "hipython",
   "language": "python",
   "name": "python3"
  },
  "language_info": {
   "codemirror_mode": {
    "name": "ipython",
    "version": 3
   },
   "file_extension": ".py",
   "mimetype": "text/x-python",
   "name": "python",
   "nbconvert_exporter": "python",
   "pygments_lexer": "ipython3",
   "version": "3.12.9"
  }
 },
 "nbformat": 4,
 "nbformat_minor": 5
}
