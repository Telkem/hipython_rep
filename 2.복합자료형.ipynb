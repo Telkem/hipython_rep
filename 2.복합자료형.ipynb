{
 "cells": [
  {
   "cell_type": "markdown",
   "id": "489cde00-51a8-4b85-ae53-fe5668577834",
   "metadata": {},
   "source": [
    "# 복합자료 리스트\n",
    "\n",
    "여러개의 값을 묶어서 하나의 변수로 다루는 자료형\n",
    "\n",
    "생성법\n",
    "1. '[ ]' 대괄호 사용\n",
    "2. 데이터는 , 쉼표로 구분\n",
    "3. '[ ]' 빈 대괄호는 초기화\n",
    "4. 숫자, 문자, 부울, 리스트 같은 객체를 모두 담을 수 있음\n",
    "5. 순서 index를 가진다 0부터 시작\n",
    "6. 음수 인덱스도 가진다"
   ]
  },
  {
   "cell_type": "code",
   "execution_count": 1,
   "id": "fe834ed6-f24f-4829-979d-5bf8992b07ae",
   "metadata": {},
   "outputs": [
    {
     "data": {
      "text/plain": [
       "30"
      ]
     },
     "execution_count": 1,
     "metadata": {},
     "output_type": "execute_result"
    }
   ],
   "source": [
    "score = [30, 50, 90, 80, 100]\n",
    "score[0] # 첫번째 학생의 점수"
   ]
  },
  {
   "cell_type": "code",
   "execution_count": 3,
   "id": "115dae10-6d8c-4621-a853-187f348aa929",
   "metadata": {},
   "outputs": [
    {
     "data": {
      "text/plain": [
       "(list, int)"
      ]
     },
     "execution_count": 3,
     "metadata": {},
     "output_type": "execute_result"
    }
   ],
   "source": [
    "type(score), type(score[0])"
   ]
  },
  {
   "cell_type": "code",
   "execution_count": 4,
   "id": "f8f4af53-d253-4520-8e90-b7fd77ef1e1e",
   "metadata": {
    "scrolled": true
   },
   "outputs": [
    {
     "data": {
      "text/plain": [
       "['__add__',\n",
       " '__class__',\n",
       " '__class_getitem__',\n",
       " '__contains__',\n",
       " '__delattr__',\n",
       " '__delitem__',\n",
       " '__dir__',\n",
       " '__doc__',\n",
       " '__eq__',\n",
       " '__format__',\n",
       " '__ge__',\n",
       " '__getattribute__',\n",
       " '__getitem__',\n",
       " '__getstate__',\n",
       " '__gt__',\n",
       " '__hash__',\n",
       " '__iadd__',\n",
       " '__imul__',\n",
       " '__init__',\n",
       " '__init_subclass__',\n",
       " '__iter__',\n",
       " '__le__',\n",
       " '__len__',\n",
       " '__lt__',\n",
       " '__mul__',\n",
       " '__ne__',\n",
       " '__new__',\n",
       " '__reduce__',\n",
       " '__reduce_ex__',\n",
       " '__repr__',\n",
       " '__reversed__',\n",
       " '__rmul__',\n",
       " '__setattr__',\n",
       " '__setitem__',\n",
       " '__sizeof__',\n",
       " '__str__',\n",
       " '__subclasshook__',\n",
       " 'append',\n",
       " 'clear',\n",
       " 'copy',\n",
       " 'count',\n",
       " 'extend',\n",
       " 'index',\n",
       " 'insert',\n",
       " 'pop',\n",
       " 'remove',\n",
       " 'reverse',\n",
       " 'sort']"
      ]
     },
     "execution_count": 4,
     "metadata": {},
     "output_type": "execute_result"
    }
   ],
   "source": [
    "dir(score)"
   ]
  },
  {
   "cell_type": "code",
   "execution_count": 16,
   "id": "47e98fd6-5860-4cd8-bc82-f2daa291293e",
   "metadata": {},
   "outputs": [
    {
     "name": "stdout",
     "output_type": "stream",
     "text": [
      "range(2, 20, 2)\n"
     ]
    }
   ],
   "source": [
    "ra = range(2,20,2)\n",
    "print(ra)"
   ]
  },
  {
   "cell_type": "code",
   "execution_count": 12,
   "id": "0a047477-c290-4233-af5f-3a93c96c65d8",
   "metadata": {},
   "outputs": [
    {
     "data": {
      "text/plain": [
       "[2, 4, 6, 8, 10, 12, 14, 16, 18]"
      ]
     },
     "execution_count": 12,
     "metadata": {},
     "output_type": "execute_result"
    }
   ],
   "source": [
    "num_list = list(ra) #생성자\n",
    "num_list"
   ]
  },
  {
   "cell_type": "code",
   "execution_count": 13,
   "id": "41b98e4a-3bc8-462e-8fd1-2f02516469e1",
   "metadata": {},
   "outputs": [
    {
     "data": {
      "text/plain": [
       "18"
      ]
     },
     "execution_count": 13,
     "metadata": {},
     "output_type": "execute_result"
    }
   ],
   "source": [
    "num_list[-1]"
   ]
  },
  {
   "cell_type": "code",
   "execution_count": 15,
   "id": "2baf356c-c58e-4980-80af-8ca365310476",
   "metadata": {},
   "outputs": [
    {
     "data": {
      "text/plain": [
       "9"
      ]
     },
     "execution_count": 15,
     "metadata": {},
     "output_type": "execute_result"
    }
   ],
   "source": [
    "ra.__len__()"
   ]
  },
  {
   "cell_type": "code",
   "execution_count": 17,
   "id": "c7c0595b-8a48-40e8-9b8d-1eabb0923022",
   "metadata": {},
   "outputs": [
    {
     "data": {
      "text/plain": [
       "1"
      ]
     },
     "execution_count": 17,
     "metadata": {},
     "output_type": "execute_result"
    }
   ],
   "source": [
    "num_list.count(4)"
   ]
  },
  {
   "cell_type": "markdown",
   "id": "67a86d38-047a-4c85-96b6-c1dd3f89f647",
   "metadata": {},
   "source": [
    "method와 function   \n",
    "\n",
    "1. method : 객체에 한해서 동작하는 함수 > 객체명.함수()\n",
    "2. function : 함수(매개변수) > 매개변수로 동작하는 함수\n",
    "\n",
    "dir() - function\n",
    "list_obj.__len__() - method"
   ]
  },
  {
   "cell_type": "code",
   "execution_count": 20,
   "id": "855851ce-38f3-40b3-a953-0f9053845062",
   "metadata": {},
   "outputs": [],
   "source": [
    "str_1 = \"hello\"\n",
    "#str_1[0] = \"H\" #TypeError > str Immutable"
   ]
  },
  {
   "cell_type": "code",
   "execution_count": 26,
   "id": "df57263e-540c-4baf-849f-2449453a6b1c",
   "metadata": {},
   "outputs": [
    {
     "name": "stdout",
     "output_type": "stream",
     "text": [
      "['H', 'e', 'l', 'l', 'o']\n"
     ]
    }
   ],
   "source": [
    "str_2 = list(str_1) # 문자열 > 문자열 리스트\n",
    "str_2[0] = \"H\"\n",
    "print(str_2)"
   ]
  },
  {
   "cell_type": "code",
   "execution_count": 27,
   "id": "02a4dcfc-5086-4aef-8149-69895098aae4",
   "metadata": {},
   "outputs": [
    {
     "data": {
      "text/plain": [
       "'Hello'"
      ]
     },
     "execution_count": 27,
     "metadata": {},
     "output_type": "execute_result"
    }
   ],
   "source": [
    "''.join(str_2)"
   ]
  },
  {
   "cell_type": "code",
   "execution_count": 28,
   "id": "43965949-d744-40a8-a6a2-d0e2adb944b9",
   "metadata": {},
   "outputs": [
    {
     "data": {
      "text/plain": [
       "[['aaa', 'bbb', 'ccc'], [1, 2, 'aaa', 'bbb']]"
      ]
     },
     "execution_count": 28,
     "metadata": {},
     "output_type": "execute_result"
    }
   ],
   "source": [
    "#리스트의 생성\n",
    "a = list()\n",
    "a = []\n",
    "b = [1, 2, 3, 4, 5]\n",
    "c = [\"aaa\", \"bbb\", \"ccc\"]\n",
    "d = [1, 2, 'aaa', 'bbb']\n",
    "e = [c, d]\n",
    "e"
   ]
  },
  {
   "cell_type": "code",
   "execution_count": 30,
   "id": "ce8653fb-4ed1-46de-acd1-58c5a2fac1ca",
   "metadata": {},
   "outputs": [
    {
     "data": {
      "text/plain": [
       "(['aaa', 'bbb', 'ccc'], list)"
      ]
     },
     "execution_count": 30,
     "metadata": {},
     "output_type": "execute_result"
    }
   ],
   "source": [
    "e[0], type(e[0])"
   ]
  },
  {
   "cell_type": "code",
   "execution_count": 31,
   "id": "71d8804b-edea-40f7-9e08-986814245f15",
   "metadata": {},
   "outputs": [
    {
     "data": {
      "text/plain": [
       "([1, 2, 'aaa', 'bbb'], [1, 2, 'aaa', 'bbb'])"
      ]
     },
     "execution_count": 31,
     "metadata": {},
     "output_type": "execute_result"
    }
   ],
   "source": [
    "e[1], e[-1]"
   ]
  },
  {
   "cell_type": "code",
   "execution_count": 32,
   "id": "3a48bec2-0303-401b-8a71-155dccc1da73",
   "metadata": {},
   "outputs": [
    {
     "data": {
      "text/plain": [
       "'aaa'"
      ]
     },
     "execution_count": 32,
     "metadata": {},
     "output_type": "execute_result"
    }
   ],
   "source": [
    "e[1][2]"
   ]
  },
  {
   "cell_type": "code",
   "execution_count": 33,
   "id": "5c3feff3-196e-44a0-ae7f-609167fa729e",
   "metadata": {},
   "outputs": [
    {
     "data": {
      "text/plain": [
       "[1, 2]"
      ]
     },
     "execution_count": 33,
     "metadata": {},
     "output_type": "execute_result"
    }
   ],
   "source": [
    "e[1][:2]"
   ]
  },
  {
   "cell_type": "code",
   "execution_count": 34,
   "id": "4668463d-93b1-44a5-ac8e-1dbc1fb2a0e1",
   "metadata": {},
   "outputs": [
    {
     "data": {
      "text/plain": [
       "'bbb'"
      ]
     },
     "execution_count": 34,
     "metadata": {},
     "output_type": "execute_result"
    }
   ],
   "source": [
    "e[1][3]"
   ]
  },
  {
   "cell_type": "code",
   "execution_count": 2,
   "id": "193bd928-b0ac-4202-a633-a7c6f11240e3",
   "metadata": {},
   "outputs": [
    {
     "data": {
      "text/plain": [
       "[[1, 2], [3, 4]]"
      ]
     },
     "execution_count": 2,
     "metadata": {},
     "output_type": "execute_result"
    }
   ],
   "source": [
    "score = [[1,2],[3,4]]\n",
    "score"
   ]
  },
  {
   "cell_type": "markdown",
   "id": "51a5fa8d-76b1-4385-a6f4-62a71dbbacd6",
   "metadata": {},
   "source": [
    "복사\n",
    "1. 얕은 복사 shallow copy\n",
    "2. 깊은 복사 deep copy"
   ]
  },
  {
   "cell_type": "code",
   "execution_count": 50,
   "id": "2eebe087-c570-49fe-abd8-5cf978e318b9",
   "metadata": {},
   "outputs": [
    {
     "data": {
      "text/plain": [
       "([[100, 2], [3, 4]], [[100, 2], [3, 4]])"
      ]
     },
     "execution_count": 50,
     "metadata": {},
     "output_type": "execute_result"
    }
   ],
   "source": [
    "new_score = score[:] #얕은카피\n",
    "new_score[0][0] = 100\n",
    "new_score, score"
   ]
  },
  {
   "cell_type": "code",
   "execution_count": 3,
   "id": "b8857111-6eac-4802-a322-6908d2203d5b",
   "metadata": {},
   "outputs": [
    {
     "data": {
      "text/plain": [
       "([[1, 90], [3, 4]], [[1, 90], [3, 4]])"
      ]
     },
     "execution_count": 3,
     "metadata": {},
     "output_type": "execute_result"
    }
   ],
   "source": [
    "import copy\n",
    "copied = copy.copy(score)\n",
    "copied[0][1] = 90\n",
    "copied, score"
   ]
  },
  {
   "cell_type": "code",
   "execution_count": 4,
   "id": "83373b3a-34fa-4b9d-820a-df27c3542b09",
   "metadata": {},
   "outputs": [
    {
     "data": {
      "text/plain": [
       "([[1, 90], [100, 4]], [[1, 90], [3, 4]])"
      ]
     },
     "execution_count": 4,
     "metadata": {},
     "output_type": "execute_result"
    }
   ],
   "source": [
    "deepcopied = copy.deepcopy(score)\n",
    "deepcopied[1][0] = 100\n",
    "deepcopied, score"
   ]
  },
  {
   "cell_type": "markdown",
   "id": "4be253e1-eea9-4c22-962b-e826099ee365",
   "metadata": {},
   "source": [
    "# 리스트의 연산\n",
    "\n",
    "- '+' __add__()\n",
    "- '*' __mul__()\n",
    "- del list[항목]\n",
    "- im list -> True/False"
   ]
  },
  {
   "cell_type": "code",
   "execution_count": 56,
   "id": "b716a695-69a9-4dfb-8abb-d99853c5648b",
   "metadata": {},
   "outputs": [
    {
     "data": {
      "text/plain": [
       "['해물라면', '샐러드', '떡볶이', '오므라이스', '볶음밥', '떡볶이', '제육볶음', '주먹밥']"
      ]
     },
     "execution_count": 56,
     "metadata": {},
     "output_type": "execute_result"
    }
   ],
   "source": [
    "lunch1 = [\"해물라면\", \"샐러드\", \"떡볶이\"]\n",
    "lunch2 = [\"오므라이스\", \"볶음밥\", \"떡볶이\", \"제육볶음\", \"주먹밥\"]\n",
    "lunch1 + lunch2"
   ]
  },
  {
   "cell_type": "code",
   "execution_count": 54,
   "id": "d2f8cbf3-ba5a-45b7-8c5c-13caf27ed0e8",
   "metadata": {},
   "outputs": [
    {
     "data": {
      "text/plain": [
       "['해물라면', '샐러드', '떡볶이', '해물라면', '샐러드', '떡볶이']"
      ]
     },
     "execution_count": 54,
     "metadata": {},
     "output_type": "execute_result"
    }
   ],
   "source": [
    "lunch1 * 2"
   ]
  },
  {
   "cell_type": "code",
   "execution_count": 55,
   "id": "2bf0e763-a882-4b23-bde8-8d1432bb8a1a",
   "metadata": {},
   "outputs": [
    {
     "data": {
      "text/plain": [
       "['샐러드', '떡볶이']"
      ]
     },
     "execution_count": 55,
     "metadata": {},
     "output_type": "execute_result"
    }
   ],
   "source": [
    "del lunch1[0]\n",
    "lunch1"
   ]
  },
  {
   "cell_type": "code",
   "execution_count": 57,
   "id": "ee690b13-e3bc-4656-9678-81a196c3d920",
   "metadata": {},
   "outputs": [
    {
     "name": "stdout",
     "output_type": "stream",
     "text": [
      "['해물라면', '샐러드', '오므라이스', '볶음밥', '떡볶이', '제육볶음', '주먹밥']\n"
     ]
    }
   ],
   "source": [
    "lunch3 = lunch1 + lunch2\n",
    "del lunch3[2]\n",
    "print(lunch3)"
   ]
  },
  {
   "cell_type": "code",
   "execution_count": 58,
   "id": "71fa0560-855c-461d-97a7-123ef0bb8ffa",
   "metadata": {},
   "outputs": [
    {
     "data": {
      "text/plain": [
       "True"
      ]
     },
     "execution_count": 58,
     "metadata": {},
     "output_type": "execute_result"
    }
   ],
   "source": [
    "'떡볶이' in lunch3"
   ]
  },
  {
   "cell_type": "code",
   "execution_count": 65,
   "id": "db747782-65bb-4f41-b586-51ad2617fc6b",
   "metadata": {},
   "outputs": [
    {
     "name": "stdin",
     "output_type": "stream",
     "text": [
      "먹고 싶은 간식을 추가하세요. 단, 쉼표(,)로 연결하세요 콜라,사이다,홈런볼\n"
     ]
    },
    {
     "name": "stdout",
     "output_type": "stream",
     "text": [
      "['초코파이', '콜라', '사이다', '홈런볼']\n"
     ]
    }
   ],
   "source": [
    "#간식박스 관리 프로그램\n",
    "snack_box = [\"초코파이\"]\n",
    "new_snack = input(\"먹고 싶은 간식을 추가하세요. 단, 쉼표(,)로 연결하세요\").split(\",\")\n",
    "snack_box += new_snack\n",
    "print(snack_box)"
   ]
  },
  {
   "cell_type": "code",
   "execution_count": 66,
   "id": "dce2b52f-81d3-4a3b-a7be-86439584c29e",
   "metadata": {},
   "outputs": [
    {
     "name": "stdin",
     "output_type": "stream",
     "text": [
      "간식박스 몇 세트로 포장할까요? 예 : 2 -> 2box 2\n"
     ]
    },
    {
     "name": "stdout",
     "output_type": "stream",
     "text": [
      "['초코파이', '콜라', '사이다', '홈런볼', '초코파이', '콜라', '사이다', '홈런볼']\n"
     ]
    }
   ],
   "source": [
    "qty = int(input(\"간식박스 몇 세트로 포장할까요? 예 : 2 -> 2box\"))\n",
    "snack_box *= qty\n",
    "print(snack_box)"
   ]
  },
  {
   "cell_type": "code",
   "execution_count": 67,
   "id": "0692f5d2-9a15-4f13-8953-d0570858a332",
   "metadata": {},
   "outputs": [
    {
     "name": "stdout",
     "output_type": "stream",
     "text": [
      "주문하신 간식 상자는 초코파이, 콜라, 사이다 등입니다. 확인해주세요.\n"
     ]
    }
   ],
   "source": [
    "print(f\"주문하신 간식 상자는 {snack_box[0]}, {snack_box[1]}, {snack_box[2]} 등입니다. 확인해주세요.\")"
   ]
  },
  {
   "cell_type": "code",
   "execution_count": 70,
   "id": "fc0ff6c0-2dbc-4a6b-9aad-22a421b93890",
   "metadata": {},
   "outputs": [
    {
     "name": "stdout",
     "output_type": "stream",
     "text": [
      "['초코파이', '콜라', '사이다', '홈런볼', '초코파이', '콜라', '사이다', '홈런볼']\n"
     ]
    },
    {
     "name": "stdin",
     "output_type": "stream",
     "text": [
      "혹시 빼고싶은 간식이 있으면 번호를 입력하세요(0~7) 3\n"
     ]
    },
    {
     "name": "stdout",
     "output_type": "stream",
     "text": [
      "['초코파이', '콜라', '사이다', '초코파이', '콜라', '사이다', '홈런볼']\n"
     ]
    }
   ],
   "source": [
    "print(snack_box)\n",
    "msg = f\"혹시 빼고싶은 간식이 있으면 번호를 입력하세요(0~{len(snack_box) - 1})\"\n",
    "snack_no = int(input(msg))\n",
    "del snack_box[snack_no]\n",
    "print(snack_box)"
   ]
  },
  {
   "cell_type": "code",
   "execution_count": 72,
   "id": "2132a875-41e8-4151-b5c0-7f44ea457989",
   "metadata": {},
   "outputs": [
    {
     "name": "stdin",
     "output_type": "stream",
     "text": [
      "찾고 싶은 간식이름을 입력하세요 아이스크림\n"
     ]
    },
    {
     "name": "stdout",
     "output_type": "stream",
     "text": [
      "없어요.\n"
     ]
    }
   ],
   "source": [
    "# 착고 싶은 간식이름을 입력하세요\n",
    "snack_name = input(\"찾고 싶은 간식이름을 입력하세요\")\n",
    "if snack_name in snack_box:\n",
    "    print(\"있어요.\")\n",
    "else:\n",
    "    print(\"없어요.\")"
   ]
  },
  {
   "cell_type": "code",
   "execution_count": 76,
   "id": "1a0e8d4c-f171-4a0f-a979-934ba3babedd",
   "metadata": {},
   "outputs": [
    {
     "name": "stdout",
     "output_type": "stream",
     "text": [
      "주문하신 간식박스는 뒤에서부터 다음과 같습니다.\n",
      "['홈런볼', '사이다', '콜라', '초코파이', '사이다', '콜라', '초코파이'], 총 7개입니다.\n"
     ]
    }
   ],
   "source": [
    "print(\"주문하신 간식박스는 뒤에서부터 다음과 같습니다.\")\n",
    "print(f'{snack_box[::-1]}, 총 {len(snack_box)}개입니다.')"
   ]
  },
  {
   "cell_type": "markdown",
   "id": "f77ee194-a121-46e3-88c5-101af66f3439",
   "metadata": {},
   "source": [
    "| 메서드                  | 사용 예시                    | 설명                |\n",
    "| -------------------- | ------------------------ | ----------------- |\n",
    "| append(x)          | lst.append(4)          | 맨 뒤에 x 추가       |\n",
    "| insert(i, x)       | lst.insert(1, \"a\")     | i 위치에 x 삽입    |\n",
    "| extend(iter)       | lst.extend([4, 5])     | 리스트에 여러 값 추가      |\n",
    "| remove(x)          | lst.remove(\"a\")        | x와 일치하는 첫 항목 삭제 |\n",
    "| pop()              | lst.pop()              | 마지막 항목 제거하고 반환    |\n",
    "| pop(i)             | lst.pop(0)             | i번째 항목 제거하고 반환  |\n",
    "| clear()            | lst.clear()            | 리스트 전체 비우기        |\n",
    "| index(x)           | lst.index(\"a\")         | x의 위치(인덱스) 반환   |\n",
    "| count(x)           | lst.count(\"a\")         | x의 개수 세기        |\n",
    "| sort()             | lst.sort()             | 오름차순 정렬 (원본 변경)   |\n",
    "| sort(reverse=True) | lst.sort(reverse=True) | 내림차순 정렬           |\n",
    "| reverse()          | lst.reverse()          | 항목 순서 뒤집기         |\n",
    "| copy()             | lst2 = lst.copy()      | 리스트 복사            |"
   ]
  },
  {
   "cell_type": "markdown",
   "id": "37596f63-186d-46d2-b3df-8fe098104c2f",
   "metadata": {},
   "source": [
    "# 연산자\n",
    "\n",
    "- 비식별연산자\n",
    "1. 수치연산 : 사칙연산\n",
    "   add() -> 특별메소드를 정의하고 객체에서 쓸 수 있다\n",
    "   숫자일때는 기본연산\n",
    "   형변환이 자동으로 일어난다 int + float -> float, int / int -> float\n",
    "2. 대입연산 : assign, 할당 '='\n",
    "   변수 = 값\n",
    "   자기 자신에게 대입하는 연산 > +=, -=, *=, /= > ()가 자동으로 적용\n",
    "3. 비교연산\n",
    "   '=' 와 '=='은 다르다\n",
    "   '!=', '<', '>=' 등\n",
    "   리스트의 비교 '==' > 내용이 같은가? > 리스트의 주소'id()'가 같은가? X\n",
    "4. 논리연산\n",
    "   and, or, not\n",
    "   &, &&, |, ||\n",
    "- 식별연산자\n",
    "1. is, is not"
   ]
  },
  {
   "cell_type": "code",
   "execution_count": 19,
   "id": "8b0a14fd-a0e5-418b-9f57-b684fb78ffae",
   "metadata": {},
   "outputs": [
    {
     "name": "stdout",
     "output_type": "stream",
     "text": [
      "True\n",
      "False\n"
     ]
    }
   ],
   "source": [
    "lunch1 = ['주먹밥', '치킨', '칼국수']\n",
    "lunch2 = ['주먹밥', '치킨', '칼국수']\n",
    "print(lunch1 == lunch2) #값의 비교\n",
    "print(id(lunch1) == id(lunch2))"
   ]
  },
  {
   "cell_type": "code",
   "execution_count": 21,
   "id": "9de1c45d-93c9-42d2-9cd0-80b40100f645",
   "metadata": {},
   "outputs": [
    {
     "data": {
      "text/plain": [
       "False"
      ]
     },
     "execution_count": 21,
     "metadata": {},
     "output_type": "execute_result"
    }
   ],
   "source": [
    "lunch1 is lunch2 #주소의 비교"
   ]
  },
  {
   "cell_type": "code",
   "execution_count": 1,
   "id": "bbbbd5d8-5b29-4c7d-8973-085750e560a8",
   "metadata": {},
   "outputs": [
    {
     "data": {
      "text/plain": [
       "20"
      ]
     },
     "execution_count": 1,
     "metadata": {},
     "output_type": "execute_result"
    }
   ],
   "source": [
    "a = 5\n",
    "b = 2\n",
    "a *= 2 + b # a = a * (2 + b)\n",
    "a"
   ]
  },
  {
   "cell_type": "code",
   "execution_count": 13,
   "id": "54f3efe1-422e-4839-bebc-1e3936a0ab01",
   "metadata": {},
   "outputs": [
    {
     "name": "stdout",
     "output_type": "stream",
     "text": [
      "{'num': '1', 'name': '김철수', 'kor': 90, 'eng': 80, 'math': 85, 'total': 255, 'avg': 85.0, 'order': 0}\n",
      "{'num': '2', 'name': '박제동', 'kor': 90, 'eng': 85, 'math': 90, 'total': 265, 'avg': 88.33, 'order': 0}\n",
      "{'num': '3', 'name': '홍길동', 'kor': 80, 'eng': 80, 'math': 80, 'total': 240, 'avg': 80.0, 'order': 0}\n"
     ]
    }
   ],
   "source": [
    "students = [\n",
    "               {'num':'1','name':'김철수','kor':90,'eng':80,'math':85,'total':0,'avg':0.0,'order':0 },\n",
    "               {'num':'2','name':'박제동','kor':90,'eng':85,'math':90,'total':0,'avg':0.0,'order':0 },\n",
    "               {'num':'3','name':'홍길동','kor':80,'eng':80,'math':80,'total':0,'avg':0.0,'order':0 }\n",
    "           ]\n",
    "for student in students:\n",
    "    student[\"total\"] = student[\"kor\"] + student[\"eng\"] + student[\"math\"]\n",
    "    student[\"avg\"] = round(student[\"total\"] / 3, 2)\n",
    "    print(student)"
   ]
  },
  {
   "cell_type": "code",
   "execution_count": 14,
   "id": "abbf734c-f434-494a-8b6b-4e8c4227ab91",
   "metadata": {},
   "outputs": [
    {
     "name": "stdout",
     "output_type": "stream",
     "text": [
      "{'num': '1', 'name': '김철수', 'kor': 90, 'eng': 80, 'math': 85, 'total': 255, 'avg': 85.0, 'order': 2}\n",
      "{'num': '2', 'name': '박제동', 'kor': 90, 'eng': 85, 'math': 90, 'total': 265, 'avg': 88.33, 'order': 1}\n",
      "{'num': '3', 'name': '홍길동', 'kor': 80, 'eng': 80, 'math': 80, 'total': 240, 'avg': 80.0, 'order': 3}\n"
     ]
    }
   ],
   "source": [
    "for student in students:\n",
    "    rank = 1\n",
    "    for other in students:\n",
    "        if other['total'] > student[\"total\"]:\n",
    "            rank += 1\n",
    "    student[\"order\"] = rank\n",
    "    print(student)\n"
   ]
  },
  {
   "cell_type": "markdown",
   "id": "ac06d29f-a43c-4387-a581-f4aafd6426b9",
   "metadata": {},
   "source": [
    "# 리스트에 많이 쓰이는 내장함수들"
   ]
  },
  {
   "cell_type": "markdown",
   "id": "24af5814-a768-4968-91cb-f7ca84d4666d",
   "metadata": {},
   "source": [
    "- type(),\n",
    "- sorted(),\n",
    "- dir(),\n",
    "- id(),\n",
    "- len(),\n",
    "- sum(), max(), min()"
   ]
  },
  {
   "cell_type": "code",
   "execution_count": 35,
   "id": "057d85ed-3fce-49e1-bf81-a1085fb26893",
   "metadata": {},
   "outputs": [
    {
     "name": "stdout",
     "output_type": "stream",
     "text": [
      "2\n",
      "0\n",
      "4\n"
     ]
    }
   ],
   "source": [
    "a = [1, 2, 1]\n",
    "b = [1, 0, 4]\n",
    "print(max(a))\n",
    "print(min(b))\n",
    "print(sum(a))"
   ]
  },
  {
   "cell_type": "code",
   "execution_count": 38,
   "id": "0a1242be-975e-4805-b062-0b02166f4a9d",
   "metadata": {},
   "outputs": [
    {
     "name": "stdout",
     "output_type": "stream",
     "text": [
      "[5, 4, 3, 2, 1]\n"
     ]
    }
   ],
   "source": [
    "# Q1. [1,3,5,4,2]라는 리스트를 [5,4,3,2,1]로 만들어보자\n",
    "a = [1,3,5,4,2]\n",
    "a.sort(reverse=True)\n",
    "print(a)"
   ]
  },
  {
   "cell_type": "code",
   "execution_count": 42,
   "id": "807408f9-a717-4aa1-8662-57adfdcae339",
   "metadata": {},
   "outputs": [
    {
     "name": "stdout",
     "output_type": "stream",
     "text": [
      "Life is too short\n"
     ]
    }
   ],
   "source": [
    "# Q2. ['Life','is','too','short']라는 리스트를 Life is too short라는 문자열로 만들어 출력해 보자\n",
    "life = ['Life','is','too','short']\n",
    "life_str = ' '.join(life)\n",
    "print(life_str)"
   ]
  },
  {
   "cell_type": "code",
   "execution_count": 47,
   "id": "20322a2d-021a-4664-83fb-daab4635b7e2",
   "metadata": {},
   "outputs": [
    {
     "name": "stdout",
     "output_type": "stream",
     "text": [
      "[3, 5, 7, 9, 1]\n"
     ]
    }
   ],
   "source": [
    "# Q3. 다음 리스트 L의 순서를 아래와 같이 변경하시오. (힌트: pop())\n",
    "# 변경 전\n",
    "# [1, 3, 5, 7, 9]\n",
    "# 변경 후\n",
    "# [3, 5, 7, 9, 1]\n",
    "L  = [1, 3, 5, 7, 9]\n",
    "L.append(L.pop(0))\n",
    "print(L)"
   ]
  },
  {
   "cell_type": "markdown",
   "id": "2f02e9d7-8ad0-4eee-9bba-d1125fdf7cdf",
   "metadata": {},
   "source": [
    "# 딕셔너리\n",
    "\n",
    "{키:값, 키:값}"
   ]
  },
  {
   "cell_type": "code",
   "execution_count": 57,
   "id": "4734c6bd-0707-4a02-b737-8fad57b92c77",
   "metadata": {},
   "outputs": [
    {
     "data": {
      "text/plain": [
       "{'이름': 'alice', '나이': 25, '도시': '서울'}"
      ]
     },
     "execution_count": 57,
     "metadata": {},
     "output_type": "execute_result"
    }
   ],
   "source": [
    "person = { \"이름\" : \"alice\", \"나이\" : 25, \"도시\" : \"서울\"}\n",
    "person"
   ]
  },
  {
   "cell_type": "code",
   "execution_count": 54,
   "id": "e9123df6-3dc1-4cd8-8345-4ba3057f6e6b",
   "metadata": {},
   "outputs": [
    {
     "data": {
      "text/plain": [
       "{'이름': 'csh', '나이': 28, '도시': '서울'}"
      ]
     },
     "execution_count": 54,
     "metadata": {},
     "output_type": "execute_result"
    }
   ],
   "source": [
    "person2 = dict(이름=\"csh\", 나이= 28, 도시= \"서울\")\n",
    "person2"
   ]
  },
  {
   "cell_type": "code",
   "execution_count": 58,
   "id": "5cba6c8c-871d-4481-a812-2365cb9e4264",
   "metadata": {},
   "outputs": [
    {
     "data": {
      "text/plain": [
       "{'이름': 'hgd', '나이': 25, '도시': '서울'}"
      ]
     },
     "execution_count": 58,
     "metadata": {},
     "output_type": "execute_result"
    }
   ],
   "source": [
    "person[\"이름\"] = \"hgd\"\n",
    "person"
   ]
  },
  {
   "cell_type": "code",
   "execution_count": 59,
   "id": "b0b80df5-5fe9-41f9-a4f7-a03abdfee962",
   "metadata": {},
   "outputs": [
    {
     "data": {
      "text/plain": [
       "{'이름': 'hgd', '나이': 25, '도시': '서울', 0: 'Bob'}"
      ]
     },
     "execution_count": 59,
     "metadata": {},
     "output_type": "execute_result"
    }
   ],
   "source": [
    "person[0] = \"Bob\" # key create\n",
    "person"
   ]
  },
  {
   "cell_type": "code",
   "execution_count": 61,
   "id": "f33c4860-e807-4fa7-b855-27f354aeac7d",
   "metadata": {},
   "outputs": [],
   "source": [
    "#person[2] # KeyError"
   ]
  },
  {
   "cell_type": "code",
   "execution_count": 62,
   "id": "ec70ebaa-ba3c-4f22-9561-81759a10e310",
   "metadata": {},
   "outputs": [
    {
     "data": {
      "text/plain": [
       "dict"
      ]
     },
     "execution_count": 62,
     "metadata": {},
     "output_type": "execute_result"
    }
   ],
   "source": [
    "type(person)"
   ]
  },
  {
   "cell_type": "code",
   "execution_count": 63,
   "id": "7d1ee8b6-225e-4b67-bd00-0210cb350139",
   "metadata": {
    "collapsed": true,
    "jupyter": {
     "outputs_hidden": true
    }
   },
   "outputs": [
    {
     "data": {
      "text/plain": [
       "['__class__',\n",
       " '__class_getitem__',\n",
       " '__contains__',\n",
       " '__delattr__',\n",
       " '__delitem__',\n",
       " '__dir__',\n",
       " '__doc__',\n",
       " '__eq__',\n",
       " '__format__',\n",
       " '__ge__',\n",
       " '__getattribute__',\n",
       " '__getitem__',\n",
       " '__getstate__',\n",
       " '__gt__',\n",
       " '__hash__',\n",
       " '__init__',\n",
       " '__init_subclass__',\n",
       " '__ior__',\n",
       " '__iter__',\n",
       " '__le__',\n",
       " '__len__',\n",
       " '__lt__',\n",
       " '__ne__',\n",
       " '__new__',\n",
       " '__or__',\n",
       " '__reduce__',\n",
       " '__reduce_ex__',\n",
       " '__repr__',\n",
       " '__reversed__',\n",
       " '__ror__',\n",
       " '__setattr__',\n",
       " '__setitem__',\n",
       " '__sizeof__',\n",
       " '__str__',\n",
       " '__subclasshook__',\n",
       " 'clear',\n",
       " 'copy',\n",
       " 'fromkeys',\n",
       " 'get',\n",
       " 'items',\n",
       " 'keys',\n",
       " 'pop',\n",
       " 'popitem',\n",
       " 'setdefault',\n",
       " 'update',\n",
       " 'values']"
      ]
     },
     "execution_count": 63,
     "metadata": {},
     "output_type": "execute_result"
    }
   ],
   "source": [
    "dir(person)"
   ]
  },
  {
   "cell_type": "code",
   "execution_count": 69,
   "id": "f3f2eb3e-ade8-4d34-ab50-da28290cdda5",
   "metadata": {},
   "outputs": [
    {
     "name": "stdout",
     "output_type": "stream",
     "text": [
      "dict_items([('이름', 'hgd'), ('나이', 25), ('도시', '서울'), (0, 'Bob')])\n",
      "('이름', 'hgd')\n",
      "('나이', 25)\n",
      "('도시', '서울')\n",
      "(0, 'Bob')\n"
     ]
    }
   ],
   "source": [
    "print(person.items())\n",
    "for i in person.items():\n",
    "    print(i)"
   ]
  },
  {
   "cell_type": "code",
   "execution_count": 70,
   "id": "b42ae67b-092c-4308-a5c7-3506b3399d86",
   "metadata": {},
   "outputs": [
    {
     "name": "stdout",
     "output_type": "stream",
     "text": [
      "dict_keys(['이름', '나이', '도시', 0])\n",
      "이름\n",
      "나이\n",
      "도시\n",
      "0\n"
     ]
    }
   ],
   "source": [
    "print(person.keys())\n",
    "for k in person.keys():\n",
    "    print(k)"
   ]
  },
  {
   "cell_type": "code",
   "execution_count": 71,
   "id": "047cecc3-a380-45b2-a40e-a53f319b8a0c",
   "metadata": {},
   "outputs": [
    {
     "name": "stdout",
     "output_type": "stream",
     "text": [
      "dict_values(['hgd', 25, '서울', 'Bob'])\n",
      "hgd\n",
      "25\n",
      "서울\n",
      "Bob\n"
     ]
    }
   ],
   "source": [
    "print(person.values())\n",
    "for v in person.values():\n",
    "    print(v)"
   ]
  },
  {
   "cell_type": "code",
   "execution_count": 74,
   "id": "fdf4a655-0fb9-4eb1-afde-770ffb217b2d",
   "metadata": {},
   "outputs": [
    {
     "data": {
      "text/plain": [
       "{'이름': 'csh', '나이': 28, '도시': '서울', 0: 'Bob'}"
      ]
     },
     "execution_count": 74,
     "metadata": {},
     "output_type": "execute_result"
    }
   ],
   "source": [
    "# update는 딕셔너리에 딕셔너리를 추가합니다.\n",
    "person.update(person2)\n",
    "person"
   ]
  },
  {
   "cell_type": "code",
   "execution_count": 77,
   "id": "158970de-ca28-4e3b-9cec-90b9a394d365",
   "metadata": {},
   "outputs": [
    {
     "data": {
      "text/plain": [
       "{'이름': 'csh', '나이': 28, '도시': '서울', 0: 'Bob', '성별': '남자', '취미': '게임'}"
      ]
     },
     "execution_count": 77,
     "metadata": {},
     "output_type": "execute_result"
    }
   ],
   "source": [
    "#키가 다르면 추가, 키가 같으면 교체\n",
    "person3 = {\"성별\" : \"남자\", \"취미\" : \"게임\"}\n",
    "person.update(person3)\n",
    "person"
   ]
  },
  {
   "cell_type": "markdown",
   "id": "c8fe5108-55ac-4249-9c50-dab9c00e193f",
   "metadata": {},
   "source": [
    "# 메뉴판 만들기"
   ]
  },
  {
   "cell_type": "code",
   "execution_count": 93,
   "id": "13c9a432-4e35-4aeb-a606-4586ed5b033b",
   "metadata": {},
   "outputs": [
    {
     "name": "stdout",
     "output_type": "stream",
     "text": [
      "************************************************************\n",
      "어서오세요. 바리스타 엘리's 카페에 오신것을 환영합니다.\n",
      "1. 에스프레소 : 3,000원\n",
      "2. 아메리카노 : 4,000원\n",
      "3. 카페라떼 : 5,000원\n"
     ]
    },
    {
     "name": "stdin",
     "output_type": "stream",
     "text": [
      "주문할 메뉴 번호를 입력하세요 :  2\n",
      "몇 개를 구매하시겠습니까? :  3\n"
     ]
    },
    {
     "name": "stdout",
     "output_type": "stream",
     "text": [
      "주문하신 메뉴는 아메리카노이고 갯수는 3개 입니다. 가격은 12,000원 입니다.\n"
     ]
    }
   ],
   "source": [
    "store_name = \"바리스타 엘리\\'s 카페\"\n",
    "menu_list = [\"에스프레소\", \"아메리카노\", \"카페라떼\"]\n",
    "price_list = [3000, 4000, 5000]\n",
    "\n",
    "print(\"*\" * 60)\n",
    "print(f\"어서오세요. {store_name}에 오신것을 환영합니다.\")\n",
    "menu_msg = \"{}. {} : {:,}원\"\n",
    "for i in range(len(menu_list)):\n",
    "    print(menu_msg.format(i + 1, menu_list[i], price_list[i]))\n",
    "    # print(f\"{i + 1}. {menu_list[i]} : {price_list[i]}원\")\n",
    "\n",
    "order_num = int(input(\"주문할 메뉴 번호를 입력하세요 : \")) - 1\n",
    "qty = int(input(\"몇 개를 구매하시겠습니까? : \"))\n",
    "order_msg = \"주문하신 메뉴는 {}이고 갯수는 {}개 입니다. 가격은 {:,}원 입니다.\"\n",
    "print(order_msg.format(menu_list[order_num], qty, price_list[order_num] * qty))\n",
    "# print(f\"주문하신 메뉴는 {menu_list[order_num]}이고 갯수는 {qty}개 입니다. 가격은 {price_list[order_num] * qty}원 입니다.\")"
   ]
  },
  {
   "cell_type": "code",
   "execution_count": 99,
   "id": "12ade5a9-74f8-4d22-861a-cd11d488916b",
   "metadata": {},
   "outputs": [
    {
     "name": "stdout",
     "output_type": "stream",
     "text": [
      "************************************************************\n",
      "어서오세요. 바리스타 엘리's 카페에 오신것을 환영합니다.\n",
      "1. 에스프레소 : 3,000원\n",
      "2. 아메리카노 : 4,000원\n",
      "3. 카페라떼 : 5,000원\n",
      "4. 말차프라프치노 : 7,000원\n"
     ]
    },
    {
     "name": "stdin",
     "output_type": "stream",
     "text": [
      "주문할 메뉴 번호를 입력하세요 :  3\n",
      "몇 개를 구매하시겠습니까? :  4\n"
     ]
    },
    {
     "name": "stdout",
     "output_type": "stream",
     "text": [
      "주문하신 메뉴는 카페라떼이고 갯수는 4개 입니다. 가격은 20,000원 입니다.\n"
     ]
    }
   ],
   "source": [
    "store_name = \"바리스타 엘리\\'s 카페\"\n",
    "print(\"*\" * 60)\n",
    "print(f\"어서오세요. {store_name}에 오신것을 환영합니다.\")\n",
    "menu_list = [{\"name\" : \"에스프레소\", \"price\" : 3000}, {\"name\" : \"아메리카노\", \"price\" : 4000}, {\"name\" : \"카페라떼\", \"price\" : 5000}, {\"name\" : \"말차프라프치노\", \"price\" : 7000}]\n",
    "menu_msg = \"{}. {} : {:,}원\"\n",
    "for i, menu in enumerate(menu_list):\n",
    "    print(menu_msg.format(i + 1, menu[\"name\"], menu[\"price\"]))\n",
    "\n",
    "order_num = int(input(\"주문할 메뉴 번호를 입력하세요 : \")) - 1\n",
    "qty = int(input(\"몇 개를 구매하시겠습니까? : \"))\n",
    "order_msg = \"주문하신 메뉴는 {}이고 갯수는 {}개 입니다. 가격은 {:,}원 입니다.\"\n",
    "print(order_msg.format(menu_list[order_num][\"name\"], qty, menu_list[order_num][\"price\"] * qty))"
   ]
  },
  {
   "cell_type": "markdown",
   "id": "d83dc716-9b21-4c4c-a01e-54bb0adaa187",
   "metadata": {},
   "source": [
    "# 튜플\n",
    "\n",
    "리스트랑 비슷, 변경 안되는 특징을 갖는다."
   ]
  },
  {
   "cell_type": "code",
   "execution_count": 100,
   "id": "ca635348-f5d8-483a-9981-7ae22cd88d8c",
   "metadata": {},
   "outputs": [
    {
     "data": {
      "text/plain": [
       "tuple"
      ]
     },
     "execution_count": 100,
     "metadata": {},
     "output_type": "execute_result"
    }
   ],
   "source": [
    "a = tuple()\n",
    "type(a)"
   ]
  },
  {
   "cell_type": "code",
   "execution_count": 101,
   "id": "76164159-4fb7-4abf-a628-711964e4ebab",
   "metadata": {},
   "outputs": [
    {
     "data": {
      "text/plain": [
       "(1, int)"
      ]
     },
     "execution_count": 101,
     "metadata": {},
     "output_type": "execute_result"
    }
   ],
   "source": [
    "b = (1)\n",
    "b, type(1)"
   ]
  },
  {
   "cell_type": "code",
   "execution_count": 102,
   "id": "99a1932f-df10-4aac-8ca1-3276b6029030",
   "metadata": {},
   "outputs": [
    {
     "data": {
      "text/plain": [
       "((1,), tuple)"
      ]
     },
     "execution_count": 102,
     "metadata": {},
     "output_type": "execute_result"
    }
   ],
   "source": [
    "bb = (1,)\n",
    "bb, type(bb)"
   ]
  },
  {
   "cell_type": "code",
   "execution_count": 104,
   "id": "78113dc7-1c61-4b20-baff-82f78403e276",
   "metadata": {},
   "outputs": [
    {
     "data": {
      "text/plain": [
       "(1, 2, (3, 4), '5', [1, 2, 3])"
      ]
     },
     "execution_count": 104,
     "metadata": {},
     "output_type": "execute_result"
    }
   ],
   "source": [
    "c = (1,2,(3,4),'5',[1,2,3])\n",
    "c"
   ]
  },
  {
   "cell_type": "code",
   "execution_count": 108,
   "id": "e90c36ba-d672-4ed1-a296-4b6014137541",
   "metadata": {},
   "outputs": [
    {
     "data": {
      "text/plain": [
       "(1, 2, (3, 4), '5', [2, 2, 3])"
      ]
     },
     "execution_count": 108,
     "metadata": {},
     "output_type": "execute_result"
    }
   ],
   "source": [
    "c[4][0] = 2\n",
    "c"
   ]
  },
  {
   "cell_type": "code",
   "execution_count": 110,
   "id": "d81fa825-0259-4889-a42b-e0d5728df00e",
   "metadata": {},
   "outputs": [
    {
     "data": {
      "text/plain": [
       "(('사과', '복숭아', '딸기'), tuple)"
      ]
     },
     "execution_count": 110,
     "metadata": {},
     "output_type": "execute_result"
    }
   ],
   "source": [
    "#튜플의 ()는 생략 할 수 있다.\n",
    "fruits = '사과', '복숭아', '딸기'\n",
    "fruits, type(fruits)"
   ]
  },
  {
   "cell_type": "code",
   "execution_count": 115,
   "id": "d4dcd68c-4406-4599-ad83-efe8e90f8730",
   "metadata": {},
   "outputs": [
    {
     "data": {
      "text/plain": [
       "(('a',), tuple)"
      ]
     },
     "execution_count": 115,
     "metadata": {},
     "output_type": "execute_result"
    }
   ],
   "source": [
    "#쉼표가 하나 이상 있어야 함\n",
    "a = 'a',\n",
    "a,type(a)"
   ]
  },
  {
   "cell_type": "code",
   "execution_count": 118,
   "id": "e0b2fc97-618d-4c07-a0dd-b1bf81da4134",
   "metadata": {},
   "outputs": [
    {
     "data": {
      "text/plain": [
       "(1, 2, 3)"
      ]
     },
     "execution_count": 118,
     "metadata": {},
     "output_type": "execute_result"
    }
   ],
   "source": [
    "nums = [1,2,3]\n",
    "a,b,c = nums #list unpacking\n",
    "a,b,c"
   ]
  },
  {
   "cell_type": "code",
   "execution_count": 121,
   "id": "a221f1c6-94a4-48f9-a392-508dba6597de",
   "metadata": {},
   "outputs": [
    {
     "data": {
      "text/plain": [
       "('h', 'e', 'l', 'l', 'o')"
      ]
     },
     "execution_count": 121,
     "metadata": {},
     "output_type": "execute_result"
    }
   ],
   "source": [
    "s = 'hello'\n",
    "a,b,c,d,e = s #string unpacking\n",
    "a,b,c,d,e"
   ]
  },
  {
   "cell_type": "code",
   "execution_count": 123,
   "id": "b3e414c2-db97-43a3-8d27-c78865e73a6a",
   "metadata": {},
   "outputs": [
    {
     "data": {
      "text/plain": [
       "('h', ['e', 'l', 'l'], 'o')"
      ]
     },
     "execution_count": 123,
     "metadata": {},
     "output_type": "execute_result"
    }
   ],
   "source": [
    "s = 'hello' #packing\n",
    "a, *b, c = s #unpacking에서 *는 rest의 의미\n",
    "a,b,c"
   ]
  },
  {
   "cell_type": "code",
   "execution_count": 125,
   "id": "d557cce1-4208-493e-bb4e-e9fb14a88ec1",
   "metadata": {},
   "outputs": [],
   "source": [
    "student = ['홍길동', 20, '1학년']"
   ]
  },
  {
   "cell_type": "code",
   "execution_count": 126,
   "id": "6f9314ac-00ec-4e5b-b9f9-bd80f2cc8d96",
   "metadata": {},
   "outputs": [
    {
     "data": {
      "text/plain": [
       "'이름은 홍길동이고, 나이는 20, 학년은 1학년입니다.'"
      ]
     },
     "execution_count": 126,
     "metadata": {},
     "output_type": "execute_result"
    }
   ],
   "source": [
    "name, age, grade = student\n",
    "f'이름은 {name}이고, 나이는 {age}, 학년은 {grade}입니다.'"
   ]
  },
  {
   "cell_type": "code",
   "execution_count": 133,
   "id": "221947b8-9600-47ac-a447-f467b620aae3",
   "metadata": {},
   "outputs": [
    {
     "data": {
      "text/plain": [
       "(2, 1)"
      ]
     },
     "execution_count": 133,
     "metadata": {},
     "output_type": "execute_result"
    }
   ],
   "source": [
    "x = 1\n",
    "y = 2\n",
    "x, y = y, x\n",
    "x, y"
   ]
  },
  {
   "cell_type": "code",
   "execution_count": 135,
   "id": "bac4a95c-fff6-429b-9553-2971a1901bd7",
   "metadata": {},
   "outputs": [
    {
     "name": "stdout",
     "output_type": "stream",
     "text": [
      "5 4 3\n",
      "(3, 4, 5)\n"
     ]
    }
   ],
   "source": [
    "#함수의 정의\n",
    "def func_a(a, b, c):\n",
    "    print(a,b,c)\n",
    "    return c,b,a\n",
    "#함수의 호출\n",
    "result = func_a(5,4,3)\n",
    "print(result)"
   ]
  },
  {
   "cell_type": "code",
   "execution_count": 136,
   "id": "45517039-82b9-43a3-a850-e13faa898531",
   "metadata": {},
   "outputs": [
    {
     "name": "stdout",
     "output_type": "stream",
     "text": [
      "1 2 3\n",
      "3 2 1\n"
     ]
    }
   ],
   "source": [
    "a1, b1, c1 = func_a(1,2,3)\n",
    "print(a1, b1, c1)"
   ]
  },
  {
   "cell_type": "code",
   "execution_count": 139,
   "id": "5cc84dc7-2478-4d21-92b2-35a11c849f6b",
   "metadata": {},
   "outputs": [
    {
     "name": "stdout",
     "output_type": "stream",
     "text": [
      "('가연', '지훈', '지희')\n",
      "('가연', '지훈', '지희', '유석')\n"
     ]
    }
   ],
   "source": [
    "#tuple에 값을 추가하려면?\n",
    "#형변환 > 리스트\n",
    "name_tuple = (\"가연\", \"지훈\", \"지희\")\n",
    "print(name_tuple)\n",
    "name_list = list(name_tuple)\n",
    "name_list.append(\"유석\")\n",
    "name_tuple = tuple(name_list)\n",
    "print(name_tuple)"
   ]
  },
  {
   "cell_type": "code",
   "execution_count": 140,
   "id": "45706a0e-e998-4afa-915e-9ebdefb11b21",
   "metadata": {
    "collapsed": true,
    "jupyter": {
     "outputs_hidden": true
    }
   },
   "outputs": [
    {
     "data": {
      "text/plain": [
       "['__add__',\n",
       " '__class__',\n",
       " '__class_getitem__',\n",
       " '__contains__',\n",
       " '__delattr__',\n",
       " '__dir__',\n",
       " '__doc__',\n",
       " '__eq__',\n",
       " '__format__',\n",
       " '__ge__',\n",
       " '__getattribute__',\n",
       " '__getitem__',\n",
       " '__getnewargs__',\n",
       " '__getstate__',\n",
       " '__gt__',\n",
       " '__hash__',\n",
       " '__init__',\n",
       " '__init_subclass__',\n",
       " '__iter__',\n",
       " '__le__',\n",
       " '__len__',\n",
       " '__lt__',\n",
       " '__mul__',\n",
       " '__ne__',\n",
       " '__new__',\n",
       " '__reduce__',\n",
       " '__reduce_ex__',\n",
       " '__repr__',\n",
       " '__rmul__',\n",
       " '__setattr__',\n",
       " '__sizeof__',\n",
       " '__str__',\n",
       " '__subclasshook__',\n",
       " 'count',\n",
       " 'index']"
      ]
     },
     "execution_count": 140,
     "metadata": {},
     "output_type": "execute_result"
    }
   ],
   "source": [
    "dir(name_tuple)"
   ]
  },
  {
   "cell_type": "code",
   "execution_count": 144,
   "id": "9cc00eee-6aa8-4d75-b57d-5c451c907bc9",
   "metadata": {},
   "outputs": [
    {
     "name": "stdout",
     "output_type": "stream",
     "text": [
      "('a', 'b', 'c', 'd')\n",
      "('a', 'b', 'c', 'd', 'a', 'b', 'c', 'd')\n"
     ]
    }
   ],
   "source": [
    "a_tuple = 'a','b','c'\n",
    "a_tuple += 'd',\n",
    "print(a_tuple)\n",
    "a_tuple *= 2\n",
    "print(a_tuple)"
   ]
  },
  {
   "cell_type": "markdown",
   "id": "45ddcf39-f251-4398-9f72-6fa870094cc2",
   "metadata": {},
   "source": [
    "# 집합\n",
    "\n",
    "- set(), {}\n",
    "- 중복이 안된다. 순서도 없다. 키도 없다.\n",
    "- 속도가 빠르다, 해싱을 하는 자료형(딕셔너리, 집합)"
   ]
  },
  {
   "cell_type": "code",
   "execution_count": 147,
   "id": "2b0653d8-ea68-443e-ad71-0558a3cd7c7c",
   "metadata": {},
   "outputs": [
    {
     "data": {
      "text/plain": [
       "{1, 2, 3}"
      ]
     },
     "execution_count": 147,
     "metadata": {},
     "output_type": "execute_result"
    }
   ],
   "source": [
    "s = set([1,2,3])\n",
    "s"
   ]
  },
  {
   "cell_type": "code",
   "execution_count": 149,
   "id": "a54258d8-4455-4e88-9114-e19471cd8c15",
   "metadata": {},
   "outputs": [
    {
     "data": {
      "text/plain": [
       "{1, 2, 3}"
      ]
     },
     "execution_count": 149,
     "metadata": {},
     "output_type": "execute_result"
    }
   ],
   "source": [
    "s1 = {1,2,3}\n",
    "s1"
   ]
  },
  {
   "cell_type": "code",
   "execution_count": 181,
   "id": "c0f8549a-3f01-4373-96bd-c7b20133c89e",
   "metadata": {},
   "outputs": [
    {
     "data": {
      "text/plain": [
       "[1, 2, 3, 1, 2, 3]"
      ]
     },
     "execution_count": 181,
     "metadata": {},
     "output_type": "execute_result"
    }
   ],
   "source": [
    "l2 = [1,2,3]\n",
    "l2 = l2*2\n",
    "l2"
   ]
  },
  {
   "cell_type": "code",
   "execution_count": 182,
   "id": "6a2288d9-be0a-45fc-b462-5f7bf3b5b1f6",
   "metadata": {},
   "outputs": [
    {
     "data": {
      "text/plain": [
       "{1, 2, 3}"
      ]
     },
     "execution_count": 182,
     "metadata": {},
     "output_type": "execute_result"
    }
   ],
   "source": [
    "#set으로 중복 제거\n",
    "s3 = set(l2)\n",
    "s3"
   ]
  },
  {
   "cell_type": "code",
   "execution_count": 161,
   "id": "d61d44ca-cb20-44a7-a485-64feac2e0b5b",
   "metadata": {},
   "outputs": [
    {
     "data": {
      "text/plain": [
       "[1, 2, 3, 1, 2, 3, [4, 5, 6]]"
      ]
     },
     "execution_count": 161,
     "metadata": {},
     "output_type": "execute_result"
    }
   ],
   "source": [
    "l2.append([4,5,6])\n",
    "l2"
   ]
  },
  {
   "cell_type": "code",
   "execution_count": 179,
   "id": "2ea64cd4-7372-4e8d-9f28-29039fcbd855",
   "metadata": {},
   "outputs": [],
   "source": [
    "# set(l2) # set에 넣는 데이터는 해싱 가능해야 함"
   ]
  },
  {
   "cell_type": "code",
   "execution_count": 165,
   "id": "78e5c433-3b72-4fb1-b3e2-b583d1ae5080",
   "metadata": {},
   "outputs": [
    {
     "data": {
      "text/plain": [
       "9202297244391480672"
      ]
     },
     "execution_count": 165,
     "metadata": {},
     "output_type": "execute_result"
    }
   ],
   "source": [
    "hash('hi')"
   ]
  },
  {
   "cell_type": "code",
   "execution_count": 166,
   "id": "b9a91b1c-fe52-49c7-ad26-7450f21f43dd",
   "metadata": {},
   "outputs": [
    {
     "data": {
      "text/plain": [
       "123"
      ]
     },
     "execution_count": 166,
     "metadata": {},
     "output_type": "execute_result"
    }
   ],
   "source": [
    "hash(123)"
   ]
  },
  {
   "cell_type": "code",
   "execution_count": 171,
   "id": "7887a7ae-5394-4ed4-a415-efc1a88eb330",
   "metadata": {},
   "outputs": [],
   "source": [
    "l1 = [1,2,3]\n",
    "# hash(l1) TypeError: unhashable type: 'list'"
   ]
  },
  {
   "cell_type": "code",
   "execution_count": 169,
   "id": "cb8ea0b9-a0bc-473d-b1fb-2d82e99ced52",
   "metadata": {},
   "outputs": [
    {
     "data": {
      "text/plain": [
       "529344067295497451"
      ]
     },
     "execution_count": 169,
     "metadata": {},
     "output_type": "execute_result"
    }
   ],
   "source": [
    "hash((1,2,3))"
   ]
  },
  {
   "cell_type": "code",
   "execution_count": 172,
   "id": "cdfb137a-be15-43b1-9d18-c54fb6c0f4fe",
   "metadata": {},
   "outputs": [],
   "source": [
    "# hash({1,2,3})"
   ]
  },
  {
   "cell_type": "markdown",
   "id": "0b72e46b-5c89-4ad3-aaa7-3ec64682164b",
   "metadata": {},
   "source": [
    "# set 집합 연산\n",
    "\n",
    "- 교집합 &, intersection()\n",
    "- 합집합 |, union()\n",
    "- 차집합 -, difference()"
   ]
  },
  {
   "cell_type": "code",
   "execution_count": 173,
   "id": "60011d4e-13cd-42ef-a255-e3ba7017a047",
   "metadata": {},
   "outputs": [],
   "source": [
    "s = set([1,2,3,4])\n",
    "x = {2,3,4}\n",
    "y = {3,4,5}"
   ]
  },
  {
   "cell_type": "code",
   "execution_count": 175,
   "id": "718cfea2-fcd7-4169-8da6-7897eebdb587",
   "metadata": {},
   "outputs": [
    {
     "name": "stdout",
     "output_type": "stream",
     "text": [
      "{3, 4}\n",
      "{3, 4}\n"
     ]
    }
   ],
   "source": [
    "print(x & y)\n",
    "print(x.intersection(y))"
   ]
  },
  {
   "cell_type": "code",
   "execution_count": 176,
   "id": "dad93556-5734-4332-8baf-d77435e541a3",
   "metadata": {},
   "outputs": [
    {
     "name": "stdout",
     "output_type": "stream",
     "text": [
      "{2, 3, 4, 5}\n",
      "{2, 3, 4, 5}\n"
     ]
    }
   ],
   "source": [
    "print(x | y)\n",
    "print(x.union(y))"
   ]
  },
  {
   "cell_type": "code",
   "execution_count": 177,
   "id": "4036dfa3-07eb-4bef-8033-b070946140a7",
   "metadata": {},
   "outputs": [
    {
     "name": "stdout",
     "output_type": "stream",
     "text": [
      "{2}\n",
      "{2}\n"
     ]
    }
   ],
   "source": [
    "print(x - y)\n",
    "print(x.difference(y))"
   ]
  },
  {
   "cell_type": "code",
   "execution_count": 178,
   "id": "7b8be5b6-84e4-4085-ba42-fef76a8f7015",
   "metadata": {
    "collapsed": true,
    "jupyter": {
     "outputs_hidden": true
    }
   },
   "outputs": [
    {
     "data": {
      "text/plain": [
       "['__and__',\n",
       " '__class__',\n",
       " '__class_getitem__',\n",
       " '__contains__',\n",
       " '__delattr__',\n",
       " '__dir__',\n",
       " '__doc__',\n",
       " '__eq__',\n",
       " '__format__',\n",
       " '__ge__',\n",
       " '__getattribute__',\n",
       " '__getstate__',\n",
       " '__gt__',\n",
       " '__hash__',\n",
       " '__iand__',\n",
       " '__init__',\n",
       " '__init_subclass__',\n",
       " '__ior__',\n",
       " '__isub__',\n",
       " '__iter__',\n",
       " '__ixor__',\n",
       " '__le__',\n",
       " '__len__',\n",
       " '__lt__',\n",
       " '__ne__',\n",
       " '__new__',\n",
       " '__or__',\n",
       " '__rand__',\n",
       " '__reduce__',\n",
       " '__reduce_ex__',\n",
       " '__repr__',\n",
       " '__ror__',\n",
       " '__rsub__',\n",
       " '__rxor__',\n",
       " '__setattr__',\n",
       " '__sizeof__',\n",
       " '__str__',\n",
       " '__sub__',\n",
       " '__subclasshook__',\n",
       " '__xor__',\n",
       " 'add',\n",
       " 'clear',\n",
       " 'copy',\n",
       " 'difference',\n",
       " 'difference_update',\n",
       " 'discard',\n",
       " 'intersection',\n",
       " 'intersection_update',\n",
       " 'isdisjoint',\n",
       " 'issubset',\n",
       " 'issuperset',\n",
       " 'pop',\n",
       " 'remove',\n",
       " 'symmetric_difference',\n",
       " 'symmetric_difference_update',\n",
       " 'union',\n",
       " 'update']"
      ]
     },
     "execution_count": 178,
     "metadata": {},
     "output_type": "execute_result"
    }
   ],
   "source": [
    "dir(x)"
   ]
  },
  {
   "cell_type": "code",
   "execution_count": 183,
   "id": "d0b3e232-e3ed-49da-ab08-ba973f65445c",
   "metadata": {},
   "outputs": [
    {
     "name": "stdout",
     "output_type": "stream",
     "text": [
      "110\n"
     ]
    }
   ],
   "source": [
    "#리스트 numbers가 다음과 같을 때, 첫 번째 원소와 마지막 원소의 합을 구하는 코드를 작성하세요.\n",
    "numbers = [10, 20,  30,  40,  50,  60, 70, 80, 90, 100]\n",
    "print(numbers[0] + numbers[-1])"
   ]
  },
  {
   "cell_type": "code",
   "execution_count": 185,
   "id": "2a92fc42-7c66-41bc-8fea-45dc96057cab",
   "metadata": {},
   "outputs": [
    {
     "name": "stdout",
     "output_type": "stream",
     "text": [
      "['red', 'green', 'blue', 'orange', 'black']\n"
     ]
    }
   ],
   "source": [
    "#리스트 colors가 다음과 같을 때, 첫 3개 원소와 마지막 2개 원소를 슬라이싱을 사용하여 출력하는 코드를 작성하세요.\n",
    "colors = [\"red\", \"green\", \"blue\", \"yellow\", \"purple\", \"orange\", \"black\"]\n",
    "print(colors[:3] + colors[5:])"
   ]
  },
  {
   "cell_type": "code",
   "execution_count": 190,
   "id": "246e8d6c-a533-4e18-96eb-2a292e39b655",
   "metadata": {},
   "outputs": [
    {
     "name": "stdout",
     "output_type": "stream",
     "text": [
      "korean\n"
     ]
    }
   ],
   "source": [
    "#다음 리스트에서 \"korean\"이라는 문자열을 찾아 출력하는 코드를 작성하세요. - indexing\n",
    "list_a = [\n",
    "    [1, 2, 3],\n",
    "    [\"red\", \"green\", \"blue\"],\n",
    "    [False, \"korean\", True]\n",
    "]\n",
    "for l in list_a:\n",
    "    if \"korean\" in l:\n",
    "        print(l[l.index(\"korean\")])"
   ]
  },
  {
   "cell_type": "code",
   "execution_count": 191,
   "id": "77eb5e4a-040a-4bec-bbcb-86be40e236ae",
   "metadata": {},
   "outputs": [
    {
     "name": "stdout",
     "output_type": "stream",
     "text": [
      "[1, 2, 3, 4, 5, 6]\n"
     ]
    }
   ],
   "source": [
    "#리스트 list_a과 list_b가 다음과 같을 때, 두 리스트를 합쳐서 새로운 리스트 list_c를 만드는 코드를 작성하세요.\n",
    "list_a = [1, 2, 3]\n",
    "list_b = [4, 5, 6]\n",
    "list_c = list_a + list_b\n",
    "print(list_c)"
   ]
  },
  {
   "cell_type": "code",
   "execution_count": 192,
   "id": "c10ed840-a2d1-48a3-8925-4ed3001f9b14",
   "metadata": {},
   "outputs": [
    {
     "name": "stdout",
     "output_type": "stream",
     "text": [
      "('apple', 'blueberry', 'cherry')\n"
     ]
    }
   ],
   "source": [
    "#아래의 튜플 tuple_a에서 \"banana\"를 \"blueberry\"로 변경하는 코드를 작성하세요.\n",
    "tuple_a = (\"apple\", \"banana\", \"cherry\")\n",
    "list_a = list(tuple_a)\n",
    "list_a[1] = \"blueberry\"\n",
    "tuple_a = tuple(list_a)\n",
    "print(tuple_a)"
   ]
  },
  {
   "cell_type": "code",
   "execution_count": 194,
   "id": "223e5390-fc00-442d-bd3c-c3211629bf85",
   "metadata": {},
   "outputs": [
    {
     "name": "stdout",
     "output_type": "stream",
     "text": [
      "(5, 10, 15)\n"
     ]
    }
   ],
   "source": [
    "#변수 a, b, c의 값을 사용하여 튜플 tuple_a를 생성하고 출력하는 코드를 작성하세요.\n",
    "a = 5\n",
    "b = 10\n",
    "c = 15\n",
    "tuple_a = tuple([a,b,c])\n",
    "print(tuple_a)"
   ]
  },
  {
   "cell_type": "code",
   "execution_count": 197,
   "id": "f223b4cf-278a-4abb-8989-1aabd19b3224",
   "metadata": {},
   "outputs": [
    {
     "name": "stdout",
     "output_type": "stream",
     "text": [
      "92 19\n"
     ]
    }
   ],
   "source": [
    "#튜플 numbers가 주어졌을 때, 튜플의 최대값과 최소값을 출력하는 코드를 작성하세요.\n",
    "numbers = (92, 89, 72, 31, 71, 33, 19)\n",
    "print(max(numbers), min(numbers))"
   ]
  },
  {
   "cell_type": "code",
   "execution_count": 214,
   "id": "1374f8a6-21ac-4f41-975d-19708c3911f5",
   "metadata": {},
   "outputs": [],
   "source": [
    "#dict 타입의 student(변수명)를 생성하고, 아래의 키-값 쌍을 추가하는 코드를 작성하세요.\n",
    "# name: \"Alice\"\n",
    "# age: 24\n",
    "# major: \"Computer Science\"\n",
    "\n",
    "# student = {\"name\" : \"Alice\", \"age\" : 24, \"major\" : \"Computer Science\"}\n",
    "student = {}\n",
    "student[\"name\"] = \"alice\"\n",
    "student[\"age\"] = 24\n",
    "student[\"major\"] = \"Computer Science\"\n"
   ]
  },
  {
   "cell_type": "code",
   "execution_count": 216,
   "id": "d40076cd-d24b-46c6-a81b-f91748c9c5ca",
   "metadata": {},
   "outputs": [
    {
     "name": "stdout",
     "output_type": "stream",
     "text": [
      "name : alice\n",
      "age : 24\n",
      "major : Computer Science\n"
     ]
    }
   ],
   "source": [
    "#위에서 생성한 student에서, 모든 키와 값을 출력하는 코드를 작성하세요\n",
    "\n",
    "for k, v in student.items():\n",
    "    print(f\"{k} : {v}\")"
   ]
  },
  {
   "cell_type": "code",
   "execution_count": 204,
   "id": "23983af1-8923-44ca-bcfe-8e12c922b533",
   "metadata": {},
   "outputs": [
    {
     "name": "stdout",
     "output_type": "stream",
     "text": [
      "{'name': 'alice', 'age': 26, 'major': 'Computer Science'}\n"
     ]
    }
   ],
   "source": [
    "#위에서 생성한 student에서, age(나이)를 26으로 변경하세요.\n",
    "student[\"age\"] = 26\n",
    "print(student)"
   ]
  },
  {
   "cell_type": "code",
   "execution_count": 210,
   "id": "31246cb3-af34-4c58-a28e-11b44b49df88",
   "metadata": {},
   "outputs": [
    {
     "name": "stdout",
     "output_type": "stream",
     "text": [
      "['Alice', 'Bob', 'Charlie']\n",
      "(24, 22, 23)\n"
     ]
    }
   ],
   "source": [
    "#다음 딕셔너리 students에서 name의 값을 리스트(name_list)로, age의 값을 튜플(age_tuple) 만드는 코드를 작성하세요\n",
    "students = {\n",
    "    \"student1\": {\"name\": \"Alice\", \"age\": 24},\n",
    "    \"student2\": {\"name\": \"Bob\", \"age\": 22},\n",
    "    \"student3\": {\"name\": \"Charlie\", \"age\": 23}\n",
    "}\n",
    "name_list = []\n",
    "age_tuple = ()\n",
    "for i in range(len(students)):\n",
    "    temp = \"student\" + str(i + 1)\n",
    "    name_list.append(students[temp][\"name\"])\n",
    "    age_tuple += (students[temp][\"age\"],)\n",
    "\n",
    "print(name_list)\n",
    "print(age_tuple)"
   ]
  },
  {
   "cell_type": "code",
   "execution_count": 217,
   "id": "f4828485-028d-4cdc-a2be-019d87dbc2ed",
   "metadata": {},
   "outputs": [
    {
     "name": "stdout",
     "output_type": "stream",
     "text": [
      "['Alice', 'Bob', 'Charlie']\n",
      "(24, 22, 23)\n"
     ]
    }
   ],
   "source": [
    "name_list = []\n",
    "age_tuple = ()\n",
    "for key in students.keys():\n",
    "    stu = students[key]\n",
    "    name_list.append(stu[\"name\"])\n",
    "    age_tuple += (stu[\"age\"],)\n",
    "\n",
    "print(name_list)\n",
    "print(age_tuple)"
   ]
  }
 ],
 "metadata": {
  "kernelspec": {
   "display_name": "Python 3 (ipykernel)",
   "language": "python",
   "name": "python3"
  },
  "language_info": {
   "codemirror_mode": {
    "name": "ipython",
    "version": 3
   },
   "file_extension": ".py",
   "mimetype": "text/x-python",
   "name": "python",
   "nbconvert_exporter": "python",
   "pygments_lexer": "ipython3",
   "version": "3.12.9"
  }
 },
 "nbformat": 4,
 "nbformat_minor": 5
}
