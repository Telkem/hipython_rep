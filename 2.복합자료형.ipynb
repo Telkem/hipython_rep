{
 "cells": [
  {
   "cell_type": "markdown",
   "id": "489cde00-51a8-4b85-ae53-fe5668577834",
   "metadata": {},
   "source": [
    "# 복합자료 리스트\n",
    "\n",
    "여러개의 값을 묶어서 하나의 변수로 다루는 자료형\n",
    "\n",
    "생성법\n",
    "1. [] 대괄호 사용\n",
    "2. 데이터는 , 쉼표로 구분\n",
    "3. [] 빈 대괄호는 초기화\n",
    "4. 숫자, 문자, 부울, 리스트 같은 객체를 모두 담을 수 있음\n",
    "5. 순서 index를 가진다 0부터 시작\n",
    "6. 음수 인덱스도 가진다"
   ]
  },
  {
   "cell_type": "code",
   "execution_count": 1,
   "id": "fe834ed6-f24f-4829-979d-5bf8992b07ae",
   "metadata": {},
   "outputs": [
    {
     "data": {
      "text/plain": [
       "30"
      ]
     },
     "execution_count": 1,
     "metadata": {},
     "output_type": "execute_result"
    }
   ],
   "source": [
    "score = [30, 50, 90, 80, 100]\n",
    "score[0] # 첫번째 학생의 점수"
   ]
  },
  {
   "cell_type": "code",
   "execution_count": 3,
   "id": "115dae10-6d8c-4621-a853-187f348aa929",
   "metadata": {},
   "outputs": [
    {
     "data": {
      "text/plain": [
       "(list, int)"
      ]
     },
     "execution_count": 3,
     "metadata": {},
     "output_type": "execute_result"
    }
   ],
   "source": [
    "type(score), type(score[0])"
   ]
  },
  {
   "cell_type": "code",
   "execution_count": 4,
   "id": "f8f4af53-d253-4520-8e90-b7fd77ef1e1e",
   "metadata": {
    "collapsed": true,
    "jupyter": {
     "outputs_hidden": true
    }
   },
   "outputs": [
    {
     "data": {
      "text/plain": [
       "['__add__',\n",
       " '__class__',\n",
       " '__class_getitem__',\n",
       " '__contains__',\n",
       " '__delattr__',\n",
       " '__delitem__',\n",
       " '__dir__',\n",
       " '__doc__',\n",
       " '__eq__',\n",
       " '__format__',\n",
       " '__ge__',\n",
       " '__getattribute__',\n",
       " '__getitem__',\n",
       " '__getstate__',\n",
       " '__gt__',\n",
       " '__hash__',\n",
       " '__iadd__',\n",
       " '__imul__',\n",
       " '__init__',\n",
       " '__init_subclass__',\n",
       " '__iter__',\n",
       " '__le__',\n",
       " '__len__',\n",
       " '__lt__',\n",
       " '__mul__',\n",
       " '__ne__',\n",
       " '__new__',\n",
       " '__reduce__',\n",
       " '__reduce_ex__',\n",
       " '__repr__',\n",
       " '__reversed__',\n",
       " '__rmul__',\n",
       " '__setattr__',\n",
       " '__setitem__',\n",
       " '__sizeof__',\n",
       " '__str__',\n",
       " '__subclasshook__',\n",
       " 'append',\n",
       " 'clear',\n",
       " 'copy',\n",
       " 'count',\n",
       " 'extend',\n",
       " 'index',\n",
       " 'insert',\n",
       " 'pop',\n",
       " 'remove',\n",
       " 'reverse',\n",
       " 'sort']"
      ]
     },
     "execution_count": 4,
     "metadata": {},
     "output_type": "execute_result"
    }
   ],
   "source": [
    "dir(score)"
   ]
  },
  {
   "cell_type": "code",
   "execution_count": 16,
   "id": "47e98fd6-5860-4cd8-bc82-f2daa291293e",
   "metadata": {},
   "outputs": [
    {
     "name": "stdout",
     "output_type": "stream",
     "text": [
      "range(2, 20, 2)\n"
     ]
    }
   ],
   "source": [
    "ra = range(2,20,2)\n",
    "print(ra)"
   ]
  },
  {
   "cell_type": "code",
   "execution_count": 12,
   "id": "0a047477-c290-4233-af5f-3a93c96c65d8",
   "metadata": {},
   "outputs": [
    {
     "data": {
      "text/plain": [
       "[2, 4, 6, 8, 10, 12, 14, 16, 18]"
      ]
     },
     "execution_count": 12,
     "metadata": {},
     "output_type": "execute_result"
    }
   ],
   "source": [
    "num_list = list(ra) #생성자\n",
    "num_list"
   ]
  },
  {
   "cell_type": "code",
   "execution_count": 13,
   "id": "41b98e4a-3bc8-462e-8fd1-2f02516469e1",
   "metadata": {},
   "outputs": [
    {
     "data": {
      "text/plain": [
       "18"
      ]
     },
     "execution_count": 13,
     "metadata": {},
     "output_type": "execute_result"
    }
   ],
   "source": [
    "num_list[-1]"
   ]
  },
  {
   "cell_type": "code",
   "execution_count": 15,
   "id": "2baf356c-c58e-4980-80af-8ca365310476",
   "metadata": {},
   "outputs": [
    {
     "data": {
      "text/plain": [
       "9"
      ]
     },
     "execution_count": 15,
     "metadata": {},
     "output_type": "execute_result"
    }
   ],
   "source": [
    "ra.__len__()"
   ]
  },
  {
   "cell_type": "code",
   "execution_count": 17,
   "id": "c7c0595b-8a48-40e8-9b8d-1eabb0923022",
   "metadata": {},
   "outputs": [
    {
     "data": {
      "text/plain": [
       "1"
      ]
     },
     "execution_count": 17,
     "metadata": {},
     "output_type": "execute_result"
    }
   ],
   "source": [
    "num_list.count(4)"
   ]
  },
  {
   "cell_type": "markdown",
   "id": "67a86d38-047a-4c85-96b6-c1dd3f89f647",
   "metadata": {},
   "source": [
    "method와 function   \n",
    "\n",
    "1. method : 객체에 한해서 동작하는 함수 > 객체명.함수()\n",
    "2. function : 함수(매개변수) > 매개변수로 동작하는 함수\n",
    "\n",
    "dir() - function\n",
    "list_obj.__len__() - method"
   ]
  },
  {
   "cell_type": "code",
   "execution_count": 20,
   "id": "855851ce-38f3-40b3-a953-0f9053845062",
   "metadata": {},
   "outputs": [],
   "source": [
    "str_1 = \"hello\"\n",
    "#str_1[0] = \"H\" #TypeError > str Immutable"
   ]
  },
  {
   "cell_type": "code",
   "execution_count": 26,
   "id": "df57263e-540c-4baf-849f-2449453a6b1c",
   "metadata": {},
   "outputs": [
    {
     "name": "stdout",
     "output_type": "stream",
     "text": [
      "['H', 'e', 'l', 'l', 'o']\n"
     ]
    }
   ],
   "source": [
    "str_2 = list(str_1) # 문자열 > 문자열 리스트\n",
    "str_2[0] = \"H\"\n",
    "print(str_2)"
   ]
  },
  {
   "cell_type": "code",
   "execution_count": 27,
   "id": "02a4dcfc-5086-4aef-8149-69895098aae4",
   "metadata": {},
   "outputs": [
    {
     "data": {
      "text/plain": [
       "'Hello'"
      ]
     },
     "execution_count": 27,
     "metadata": {},
     "output_type": "execute_result"
    }
   ],
   "source": [
    "''.join(str_2)"
   ]
  },
  {
   "cell_type": "code",
   "execution_count": 28,
   "id": "43965949-d744-40a8-a6a2-d0e2adb944b9",
   "metadata": {},
   "outputs": [
    {
     "data": {
      "text/plain": [
       "[['aaa', 'bbb', 'ccc'], [1, 2, 'aaa', 'bbb']]"
      ]
     },
     "execution_count": 28,
     "metadata": {},
     "output_type": "execute_result"
    }
   ],
   "source": [
    "#리스트의 생성\n",
    "a = list()\n",
    "a = []\n",
    "b = [1, 2, 3, 4, 5]\n",
    "c = [\"aaa\", \"bbb\", \"ccc\"]\n",
    "d = [1, 2, 'aaa', 'bbb']\n",
    "e = [c, d]\n",
    "e"
   ]
  },
  {
   "cell_type": "code",
   "execution_count": 30,
   "id": "ce8653fb-4ed1-46de-acd1-58c5a2fac1ca",
   "metadata": {},
   "outputs": [
    {
     "data": {
      "text/plain": [
       "(['aaa', 'bbb', 'ccc'], list)"
      ]
     },
     "execution_count": 30,
     "metadata": {},
     "output_type": "execute_result"
    }
   ],
   "source": [
    "e[0], type(e[0])"
   ]
  },
  {
   "cell_type": "code",
   "execution_count": 31,
   "id": "71d8804b-edea-40f7-9e08-986814245f15",
   "metadata": {},
   "outputs": [
    {
     "data": {
      "text/plain": [
       "([1, 2, 'aaa', 'bbb'], [1, 2, 'aaa', 'bbb'])"
      ]
     },
     "execution_count": 31,
     "metadata": {},
     "output_type": "execute_result"
    }
   ],
   "source": [
    "e[1], e[-1]"
   ]
  },
  {
   "cell_type": "code",
   "execution_count": 32,
   "id": "3a48bec2-0303-401b-8a71-155dccc1da73",
   "metadata": {},
   "outputs": [
    {
     "data": {
      "text/plain": [
       "'aaa'"
      ]
     },
     "execution_count": 32,
     "metadata": {},
     "output_type": "execute_result"
    }
   ],
   "source": [
    "e[1][2]"
   ]
  },
  {
   "cell_type": "code",
   "execution_count": 33,
   "id": "5c3feff3-196e-44a0-ae7f-609167fa729e",
   "metadata": {},
   "outputs": [
    {
     "data": {
      "text/plain": [
       "[1, 2]"
      ]
     },
     "execution_count": 33,
     "metadata": {},
     "output_type": "execute_result"
    }
   ],
   "source": [
    "e[1][:2]"
   ]
  },
  {
   "cell_type": "code",
   "execution_count": 34,
   "id": "4668463d-93b1-44a5-ac8e-1dbc1fb2a0e1",
   "metadata": {},
   "outputs": [
    {
     "data": {
      "text/plain": [
       "'bbb'"
      ]
     },
     "execution_count": 34,
     "metadata": {},
     "output_type": "execute_result"
    }
   ],
   "source": [
    "e[1][3]"
   ]
  },
  {
   "cell_type": "code",
   "execution_count": 49,
   "id": "193bd928-b0ac-4202-a633-a7c6f11240e3",
   "metadata": {},
   "outputs": [
    {
     "data": {
      "text/plain": [
       "[[1, 2], [3, 4]]"
      ]
     },
     "execution_count": 49,
     "metadata": {},
     "output_type": "execute_result"
    }
   ],
   "source": [
    "score = [[1,2],[3,4]]\n",
    "score"
   ]
  },
  {
   "cell_type": "markdown",
   "id": "51a5fa8d-76b1-4385-a6f4-62a71dbbacd6",
   "metadata": {},
   "source": [
    "복사\n",
    "1. 얕은 복사 shallow copy\n",
    "2. 깊은 복사 deep copy"
   ]
  },
  {
   "cell_type": "code",
   "execution_count": 50,
   "id": "2eebe087-c570-49fe-abd8-5cf978e318b9",
   "metadata": {},
   "outputs": [
    {
     "data": {
      "text/plain": [
       "([[100, 2], [3, 4]], [[100, 2], [3, 4]])"
      ]
     },
     "execution_count": 50,
     "metadata": {},
     "output_type": "execute_result"
    }
   ],
   "source": [
    "new_score = score[:] #얕은카피\n",
    "new_score[0][0] = 100\n",
    "new_score, score"
   ]
  },
  {
   "cell_type": "code",
   "execution_count": 51,
   "id": "b8857111-6eac-4802-a322-6908d2203d5b",
   "metadata": {},
   "outputs": [
    {
     "data": {
      "text/plain": [
       "([[100, 90], [3, 4]], [[100, 90], [3, 4]])"
      ]
     },
     "execution_count": 51,
     "metadata": {},
     "output_type": "execute_result"
    }
   ],
   "source": [
    "import copy\n",
    "copied = copy.copy(score)\n",
    "copied[0][1] = 90\n",
    "copied, score"
   ]
  },
  {
   "cell_type": "code",
   "execution_count": 52,
   "id": "83373b3a-34fa-4b9d-820a-df27c3542b09",
   "metadata": {},
   "outputs": [
    {
     "data": {
      "text/plain": [
       "([[100, 90], [100, 4]], [[100, 90], [3, 4]])"
      ]
     },
     "execution_count": 52,
     "metadata": {},
     "output_type": "execute_result"
    }
   ],
   "source": [
    "deepcopied = copy.deepcopy(score)\n",
    "deepcopied[1][0] = 100\n",
    "deepcopied, score"
   ]
  },
  {
   "cell_type": "markdown",
   "id": "4be253e1-eea9-4c22-962b-e826099ee365",
   "metadata": {},
   "source": [
    "# 리스트의 연산\n",
    "\n",
    "- '+' __add__()\n",
    "- '*' __mul__()\n",
    "- del list[항목]\n",
    "- im list -> True/False"
   ]
  },
  {
   "cell_type": "code",
   "execution_count": 56,
   "id": "b716a695-69a9-4dfb-8abb-d99853c5648b",
   "metadata": {},
   "outputs": [
    {
     "data": {
      "text/plain": [
       "['해물라면', '샐러드', '떡볶이', '오므라이스', '볶음밥', '떡볶이', '제육볶음', '주먹밥']"
      ]
     },
     "execution_count": 56,
     "metadata": {},
     "output_type": "execute_result"
    }
   ],
   "source": [
    "lunch1 = [\"해물라면\", \"샐러드\", \"떡볶이\"]\n",
    "lunch2 = [\"오므라이스\", \"볶음밥\", \"떡볶이\", \"제육볶음\", \"주먹밥\"]\n",
    "lunch1 + lunch2"
   ]
  },
  {
   "cell_type": "code",
   "execution_count": 54,
   "id": "d2f8cbf3-ba5a-45b7-8c5c-13caf27ed0e8",
   "metadata": {},
   "outputs": [
    {
     "data": {
      "text/plain": [
       "['해물라면', '샐러드', '떡볶이', '해물라면', '샐러드', '떡볶이']"
      ]
     },
     "execution_count": 54,
     "metadata": {},
     "output_type": "execute_result"
    }
   ],
   "source": [
    "lunch1 * 2"
   ]
  },
  {
   "cell_type": "code",
   "execution_count": 55,
   "id": "2bf0e763-a882-4b23-bde8-8d1432bb8a1a",
   "metadata": {},
   "outputs": [
    {
     "data": {
      "text/plain": [
       "['샐러드', '떡볶이']"
      ]
     },
     "execution_count": 55,
     "metadata": {},
     "output_type": "execute_result"
    }
   ],
   "source": [
    "del lunch1[0]\n",
    "lunch1"
   ]
  },
  {
   "cell_type": "code",
   "execution_count": 57,
   "id": "ee690b13-e3bc-4656-9678-81a196c3d920",
   "metadata": {},
   "outputs": [
    {
     "name": "stdout",
     "output_type": "stream",
     "text": [
      "['해물라면', '샐러드', '오므라이스', '볶음밥', '떡볶이', '제육볶음', '주먹밥']\n"
     ]
    }
   ],
   "source": [
    "lunch3 = lunch1 + lunch2\n",
    "del lunch3[2]\n",
    "print(lunch3)"
   ]
  },
  {
   "cell_type": "code",
   "execution_count": 58,
   "id": "71fa0560-855c-461d-97a7-123ef0bb8ffa",
   "metadata": {},
   "outputs": [
    {
     "data": {
      "text/plain": [
       "True"
      ]
     },
     "execution_count": 58,
     "metadata": {},
     "output_type": "execute_result"
    }
   ],
   "source": [
    "'떡볶이' in lunch3"
   ]
  },
  {
   "cell_type": "code",
   "execution_count": 65,
   "id": "db747782-65bb-4f41-b586-51ad2617fc6b",
   "metadata": {},
   "outputs": [
    {
     "name": "stdin",
     "output_type": "stream",
     "text": [
      "먹고 싶은 간식을 추가하세요. 단, 쉼표(,)로 연결하세요 콜라,사이다,홈런볼\n"
     ]
    },
    {
     "name": "stdout",
     "output_type": "stream",
     "text": [
      "['초코파이', '콜라', '사이다', '홈런볼']\n"
     ]
    }
   ],
   "source": [
    "#간식박스 관리 프로그램\n",
    "snack_box = [\"초코파이\"]\n",
    "new_snack = input(\"먹고 싶은 간식을 추가하세요. 단, 쉼표(,)로 연결하세요\").split(\",\")\n",
    "snack_box += new_snack\n",
    "print(snack_box)"
   ]
  },
  {
   "cell_type": "code",
   "execution_count": 66,
   "id": "dce2b52f-81d3-4a3b-a7be-86439584c29e",
   "metadata": {},
   "outputs": [
    {
     "name": "stdin",
     "output_type": "stream",
     "text": [
      "간식박스 몇 세트로 포장할까요? 예 : 2 -> 2box 2\n"
     ]
    },
    {
     "name": "stdout",
     "output_type": "stream",
     "text": [
      "['초코파이', '콜라', '사이다', '홈런볼', '초코파이', '콜라', '사이다', '홈런볼']\n"
     ]
    }
   ],
   "source": [
    "qty = int(input(\"간식박스 몇 세트로 포장할까요? 예 : 2 -> 2box\"))\n",
    "snack_box *= qty\n",
    "print(snack_box)"
   ]
  },
  {
   "cell_type": "code",
   "execution_count": 67,
   "id": "0692f5d2-9a15-4f13-8953-d0570858a332",
   "metadata": {},
   "outputs": [
    {
     "name": "stdout",
     "output_type": "stream",
     "text": [
      "주문하신 간식 상자는 초코파이, 콜라, 사이다 등입니다. 확인해주세요.\n"
     ]
    }
   ],
   "source": [
    "print(f\"주문하신 간식 상자는 {snack_box[0]}, {snack_box[1]}, {snack_box[2]} 등입니다. 확인해주세요.\")"
   ]
  },
  {
   "cell_type": "code",
   "execution_count": 70,
   "id": "fc0ff6c0-2dbc-4a6b-9aad-22a421b93890",
   "metadata": {},
   "outputs": [
    {
     "name": "stdout",
     "output_type": "stream",
     "text": [
      "['초코파이', '콜라', '사이다', '홈런볼', '초코파이', '콜라', '사이다', '홈런볼']\n"
     ]
    },
    {
     "name": "stdin",
     "output_type": "stream",
     "text": [
      "혹시 빼고싶은 간식이 있으면 번호를 입력하세요(0~7) 3\n"
     ]
    },
    {
     "name": "stdout",
     "output_type": "stream",
     "text": [
      "['초코파이', '콜라', '사이다', '초코파이', '콜라', '사이다', '홈런볼']\n"
     ]
    }
   ],
   "source": [
    "print(snack_box)\n",
    "msg = f\"혹시 빼고싶은 간식이 있으면 번호를 입력하세요(0~{len(snack_box) - 1})\"\n",
    "snack_no = int(input(msg))\n",
    "del snack_box[snack_no]\n",
    "print(snack_box)"
   ]
  },
  {
   "cell_type": "code",
   "execution_count": 72,
   "id": "2132a875-41e8-4151-b5c0-7f44ea457989",
   "metadata": {},
   "outputs": [
    {
     "name": "stdin",
     "output_type": "stream",
     "text": [
      "찾고 싶은 간식이름을 입력하세요 아이스크림\n"
     ]
    },
    {
     "name": "stdout",
     "output_type": "stream",
     "text": [
      "없어요.\n"
     ]
    }
   ],
   "source": [
    "# 착고 싶은 간식이름을 입력하세요\n",
    "snack_name = input(\"찾고 싶은 간식이름을 입력하세요\")\n",
    "if snack_name in snack_box:\n",
    "    print(\"있어요.\")\n",
    "else:\n",
    "    print(\"없어요.\")"
   ]
  },
  {
   "cell_type": "code",
   "execution_count": 76,
   "id": "1a0e8d4c-f171-4a0f-a979-934ba3babedd",
   "metadata": {},
   "outputs": [
    {
     "name": "stdout",
     "output_type": "stream",
     "text": [
      "주문하신 간식박스는 뒤에서부터 다음과 같습니다.\n",
      "['홈런볼', '사이다', '콜라', '초코파이', '사이다', '콜라', '초코파이'], 총 7개입니다.\n"
     ]
    }
   ],
   "source": [
    "print(\"주문하신 간식박스는 뒤에서부터 다음과 같습니다.\")\n",
    "print(f'{snack_box[::-1]}, 총 {len(snack_box)}개입니다.')"
   ]
  },
  {
   "cell_type": "markdown",
   "id": "f77ee194-a121-46e3-88c5-101af66f3439",
   "metadata": {},
   "source": [
    "| 메서드                  | 사용 예시                    | 설명                |\n",
    "| -------------------- | ------------------------ | ----------------- |\n",
    "| append(x)          | lst.append(4)          | 맨 뒤에 x 추가       |\n",
    "| insert(i, x)       | lst.insert(1, \"a\")     | i 위치에 x 삽입    |\n",
    "| extend(iter)       | lst.extend([4, 5])     | 리스트에 여러 값 추가      |\n",
    "| remove(x)          | lst.remove(\"a\")        | x와 일치하는 첫 항목 삭제 |\n",
    "| pop()              | lst.pop()              | 마지막 항목 제거하고 반환    |\n",
    "| pop(i)             | lst.pop(0)             | i번째 항목 제거하고 반환  |\n",
    "| clear()            | lst.clear()            | 리스트 전체 비우기        |\n",
    "| index(x)           | lst.index(\"a\")         | x의 위치(인덱스) 반환   |\n",
    "| count(x)           | lst.count(\"a\")         | x의 개수 세기        |\n",
    "| sort()             | lst.sort()             | 오름차순 정렬 (원본 변경)   |\n",
    "| sort(reverse=True) | lst.sort(reverse=True) | 내림차순 정렬           |\n",
    "| reverse()          | lst.reverse()          | 항목 순서 뒤집기         |\n",
    "| copy()             | lst2 = lst.copy()      | 리스트 복사            |"
   ]
  },
  {
   "cell_type": "code",
   "execution_count": null,
   "id": "7d0fe5e6-b681-4894-8aff-aa9f4727e112",
   "metadata": {},
   "outputs": [],
   "source": []
  },
  {
   "cell_type": "code",
   "execution_count": null,
   "id": "bbbbd5d8-5b29-4c7d-8973-085750e560a8",
   "metadata": {},
   "outputs": [],
   "source": []
  },
  {
   "cell_type": "code",
   "execution_count": null,
   "id": "54f3efe1-422e-4839-bebc-1e3936a0ab01",
   "metadata": {},
   "outputs": [],
   "source": []
  },
  {
   "cell_type": "code",
   "execution_count": null,
   "id": "abbf734c-f434-494a-8b6b-4e8c4227ab91",
   "metadata": {},
   "outputs": [],
   "source": []
  },
  {
   "cell_type": "code",
   "execution_count": null,
   "id": "b6f947ca-00f3-4c77-bd3f-90cab8655b04",
   "metadata": {},
   "outputs": [],
   "source": []
  }
 ],
 "metadata": {
  "kernelspec": {
   "display_name": "Python 3 (ipykernel)",
   "language": "python",
   "name": "python3"
  },
  "language_info": {
   "codemirror_mode": {
    "name": "ipython",
    "version": 3
   },
   "file_extension": ".py",
   "mimetype": "text/x-python",
   "name": "python",
   "nbconvert_exporter": "python",
   "pygments_lexer": "ipython3",
   "version": "3.12.9"
  }
 },
 "nbformat": 4,
 "nbformat_minor": 5
}
