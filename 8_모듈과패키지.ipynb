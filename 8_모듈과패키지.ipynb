{
 "cells": [
  {
   "cell_type": "markdown",
   "id": "cf9e7298-3f62-4a35-8c13-3e9b010c2d19",
   "metadata": {},
   "source": [
    "모듈은 파이썬 파일이다. 확장자가 `.py`여야 한다."
   ]
  },
  {
   "cell_type": "code",
   "execution_count": 1,
   "id": "1730fc91-0e5b-40a2-b764-24a19de069e4",
   "metadata": {},
   "outputs": [
    {
     "name": "stdout",
     "output_type": "stream",
     "text": [
      "first 모듈입니다.\n",
      "the end\n",
      "hello\n",
      "2nd hello\n"
     ]
    }
   ],
   "source": [
    "import first\n",
    "first.my_func()\n",
    "first.my_func1()"
   ]
  },
  {
   "cell_type": "code",
   "execution_count": 2,
   "id": "b03966c6-8723-4432-8f3c-4219b57d5c1f",
   "metadata": {},
   "outputs": [
    {
     "name": "stdout",
     "output_type": "stream",
     "text": [
      "hello\n"
     ]
    }
   ],
   "source": [
    "import first as st\n",
    "st.my_func()"
   ]
  },
  {
   "cell_type": "code",
   "execution_count": 3,
   "id": "c0e39b88-5d62-4d56-9fb4-2d494f808840",
   "metadata": {},
   "outputs": [
    {
     "name": "stdout",
     "output_type": "stream",
     "text": [
      "3rd hello\n"
     ]
    }
   ],
   "source": [
    "st.my_func2()"
   ]
  },
  {
   "cell_type": "code",
   "execution_count": 1,
   "id": "e984aeb1-df65-4ac3-89a4-4d9294a1b3d2",
   "metadata": {},
   "outputs": [
    {
     "name": "stdout",
     "output_type": "stream",
     "text": [
      "first 모듈입니다.\n",
      "the end\n",
      "hello\n",
      "hello\n"
     ]
    }
   ],
   "source": [
    "from first import my_func\n",
    "my_func()"
   ]
  },
  {
   "cell_type": "code",
   "execution_count": 4,
   "id": "4b434c69-1c15-4b4d-ad0b-d852db4d277f",
   "metadata": {
    "collapsed": true,
    "jupyter": {
     "outputs_hidden": true
    }
   },
   "outputs": [
    {
     "data": {
      "text/plain": [
       "['__builtins__',\n",
       " '__cached__',\n",
       " '__doc__',\n",
       " '__file__',\n",
       " '__loader__',\n",
       " '__name__',\n",
       " '__package__',\n",
       " '__spec__',\n",
       " 'my_func',\n",
       " 'my_func1',\n",
       " 'my_func2']"
      ]
     },
     "execution_count": 4,
     "metadata": {},
     "output_type": "execute_result"
    }
   ],
   "source": [
    "dir(first)"
   ]
  },
  {
   "cell_type": "code",
   "execution_count": 5,
   "id": "f5977193-25e6-44fd-b22e-edbb12a46124",
   "metadata": {
    "collapsed": true,
    "jupyter": {
     "outputs_hidden": true
    },
    "scrolled": true
   },
   "outputs": [
    {
     "data": {
      "text/plain": [
       "['__annotations__',\n",
       " '__builtins__',\n",
       " '__call__',\n",
       " '__class__',\n",
       " '__closure__',\n",
       " '__code__',\n",
       " '__defaults__',\n",
       " '__delattr__',\n",
       " '__dict__',\n",
       " '__dir__',\n",
       " '__doc__',\n",
       " '__eq__',\n",
       " '__format__',\n",
       " '__ge__',\n",
       " '__get__',\n",
       " '__getattribute__',\n",
       " '__getstate__',\n",
       " '__globals__',\n",
       " '__gt__',\n",
       " '__hash__',\n",
       " '__init__',\n",
       " '__init_subclass__',\n",
       " '__kwdefaults__',\n",
       " '__le__',\n",
       " '__lt__',\n",
       " '__module__',\n",
       " '__name__',\n",
       " '__ne__',\n",
       " '__new__',\n",
       " '__qualname__',\n",
       " '__reduce__',\n",
       " '__reduce_ex__',\n",
       " '__repr__',\n",
       " '__setattr__',\n",
       " '__sizeof__',\n",
       " '__str__',\n",
       " '__subclasshook__',\n",
       " '__type_params__']"
      ]
     },
     "execution_count": 5,
     "metadata": {},
     "output_type": "execute_result"
    }
   ],
   "source": [
    "dir(my_func)"
   ]
  },
  {
   "cell_type": "markdown",
   "id": "12d09629-3629-470d-a59f-6a07ea08a0c6",
   "metadata": {},
   "source": [
    "# 모듈의 실행과 모듈의 import 구분\n",
    "\n",
    "- 모듈 단독 실행시에만 호출되는 코드\n",
    "\n",
    "```\n",
    "if __name__ == \"__main__\":\n",
    "    실행함수\n",
    "else:\n",
    "    변수 설정\n",
    "```\n",
    "- 임포트 할 때는 실행되지 않는다."
   ]
  },
  {
   "cell_type": "markdown",
   "id": "0cad68d2-b109-4e7c-af96-61fad0897f03",
   "metadata": {},
   "source": [
    "# 패키지"
   ]
  },
  {
   "cell_type": "code",
   "execution_count": 6,
   "id": "dc7278d3-08dc-4bb2-9b06-f20ec7be24c9",
   "metadata": {},
   "outputs": [
    {
     "name": "stdout",
     "output_type": "stream",
     "text": [
      "first 모듈입니다.\n",
      "the end\n",
      "hello\n"
     ]
    }
   ],
   "source": [
    "import my_first_package.second"
   ]
  },
  {
   "cell_type": "code",
   "execution_count": null,
   "id": "ecc4e747-851e-4641-846c-2d47784b7073",
   "metadata": {},
   "outputs": [],
   "source": [
    "%%writefile my_first_package.magic_calc.basic_ops.py"
   ]
  },
  {
   "cell_type": "code",
   "execution_count": null,
   "id": "d93156a4-1b00-4787-8869-ac325b1c7a9d",
   "metadata": {},
   "outputs": [],
   "source": []
  },
  {
   "cell_type": "code",
   "execution_count": null,
   "id": "24966ee6-09fd-4430-bfb3-f87fbf11cf2c",
   "metadata": {},
   "outputs": [],
   "source": []
  },
  {
   "cell_type": "code",
   "execution_count": null,
   "id": "58b2e11c-4c58-4e15-b977-38cb690388b7",
   "metadata": {},
   "outputs": [],
   "source": []
  },
  {
   "cell_type": "code",
   "execution_count": null,
   "id": "2369695d-3fa7-4cb4-a359-c2bf6809765f",
   "metadata": {},
   "outputs": [],
   "source": []
  }
 ],
 "metadata": {
  "kernelspec": {
   "display_name": "Python 3 (ipykernel)",
   "language": "python",
   "name": "python3"
  },
  "language_info": {
   "codemirror_mode": {
    "name": "ipython",
    "version": 3
   },
   "file_extension": ".py",
   "mimetype": "text/x-python",
   "name": "python",
   "nbconvert_exporter": "python",
   "pygments_lexer": "ipython3",
   "version": "3.12.9"
  }
 },
 "nbformat": 4,
 "nbformat_minor": 5
}
