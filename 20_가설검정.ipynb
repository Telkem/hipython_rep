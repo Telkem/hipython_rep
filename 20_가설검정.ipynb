{
 "cells": [
  {
   "cell_type": "code",
   "execution_count": 10,
   "id": "2efe3cc5",
   "metadata": {},
   "outputs": [],
   "source": [
    "import numpy as np\n",
    "import pandas as pd\n",
    "import matplotlib.pyplot as plt\n",
    "import scipy.stats as stats\n",
    "%matplotlib inline\n",
    "plt.rc('figure', figsize=(10, 6))\n",
    "from matplotlib import rcParams\n",
    "rcParams['font.family'] = 'Hancom Gothic'\n",
    "rcParams['font.size'] = 10\n",
    "rcParams['axes.unicode_minus'] = False"
   ]
  },
  {
   "cell_type": "markdown",
   "id": "b7bd2b58",
   "metadata": {},
   "source": [
    "# 가설검정 단계"
   ]
  },
  {
   "cell_type": "markdown",
   "id": "d6100bfe",
   "metadata": {},
   "source": [
    "대한민국 남성의 평균 몸무게는 70킬로 그램이다."
   ]
  },
  {
   "cell_type": "code",
   "execution_count": 74,
   "id": "27a3d000",
   "metadata": {},
   "outputs": [
    {
     "name": "stdout",
     "output_type": "stream",
     "text": [
      "평균 : 70.08573280308887\n",
      "p-value : 0.953913826658112\n",
      "검정결과 : 귀무가설 채택\n",
      "대한민국 남성의 평균 몸무게는 70kg이다.\n"
     ]
    }
   ],
   "source": [
    "# 1. 가설수립\n",
    "# H0 : 대한민국 남성의 평균 몸무게는 70킬로그램이다(차이가 없다)\n",
    "# H1 : 대한민국 남성의 평균 몸무게는 70킬로그램이 아니다\n",
    "\n",
    "# 2. 통계량 산출 - 데이터 수집\n",
    "np.random.seed(123)\n",
    "weight = np.random.uniform(40, 100, 100)\n",
    "\n",
    "test_result = stats.ttest_1samp(weight, 70)\n",
    "print(f\"평균 : {np.mean(weight)}\")\n",
    "print(f\"p-value : {test_result.pvalue}\")\n",
    "\n",
    "# 3. 기각/채택 여부 판단\n",
    "print(f\"검정결과 : {'귀무가설 기각' if test_result.pvalue < 0.05 else '귀무가설 채택'}\")\n",
    "\n",
    "# 4. 결정\n",
    "if test_result.pvalue < 0.05:\n",
    "    print('대한민국 남성의 평균 몸무게는 70kg이 아니다.')\n",
    "else:\n",
    "    print(\"대한민국 남성의 평균 몸무게는 70kg이다.\")"
   ]
  },
  {
   "cell_type": "code",
   "execution_count": 79,
   "id": "be11a685",
   "metadata": {},
   "outputs": [
    {
     "name": "stdout",
     "output_type": "stream",
     "text": [
      "t값 = 7.031, p값 = 0.000\n",
      "하루 평균 커피 섭취량은 2.5잔이 아니다.\n"
     ]
    }
   ],
   "source": [
    "# 표본 데이터 (30명)\n",
    "coffee_data = [2.9, 2.4, 2.7, 3.0, 2.6, 2.8, 2.9, 3.1, 2.7, 2.6,\n",
    "               2.8, 2.5, 3.2, 3.0, 2.4, 2.6, 2.7, 3.1, 2.8, 2.7,\n",
    "               2.5, 2.9, 2.6, 2.8, 2.9, 2.5, 2.7, 2.8, 3.0, 2.9]\n",
    "\n",
    "# 단일표본 t-검정\n",
    "t_stat, p_value = stats.ttest_1samp(coffee_data, popmean=2.5)\n",
    "\n",
    "print(f\"t값 = {t_stat:.3f}, p값 = {p_value:.3f}\")\n",
    "\n",
    "if p_value < 0.05:\n",
    "    print(\"하루 평균 커피 섭취량은 2.5잔이 아니다.\")\n",
    "else:\n",
    "    print(\"하루 평균 커피 섭취량은 2.5잔이다.\")"
   ]
  },
  {
   "cell_type": "markdown",
   "id": "27e65325",
   "metadata": {},
   "source": [
    "t값 = 7.031은 표본과 모집단 평균 간 차이가 표준오차의 7배라는 통계량<br>\n",
    "-> 표본의 평균이 모집단 평균 2.5에서 +*표준오차 만큼 떨어져 있다 -> 매우 큰 차이를 보인다.<br>\n",
    "<br>\n",
    "이 통계량은 p-value <= 0.05이므로 통계적으로 유의한 차이가 있다고 할 수 있습니다."
   ]
  },
  {
   "cell_type": "code",
   "execution_count": 81,
   "id": "9b3e51d2",
   "metadata": {},
   "outputs": [
    {
     "name": "stdout",
     "output_type": "stream",
     "text": [
      "t값 = 5.331, p값 = 0.000\n",
      "A반과 B반의 평균 성적은 차이가 있다.\n"
     ]
    }
   ],
   "source": [
    "group_A = [78, 85, 82, 88, 76, 81, 79, 84, 82, 80]\n",
    "group_B = [72, 75, 78, 74, 71, 77, 70, 76, 75, 73]\n",
    "\n",
    "t_stat, p_value = stats.ttest_ind(group_A, group_B, equal_var=False)\n",
    "print(f\"t값 = {t_stat:.3f}, p값 = {p_value:.3f}\")\n",
    "\n",
    "if p_value < 0.05:\n",
    "    print(\"A반과 B반의 평균 성적은 차이가 있다.\")\n",
    "else:\n",
    "    print(\"A반과 B반의 평균 성적은 차이가 없다.\")"
   ]
  },
  {
   "cell_type": "code",
   "execution_count": null,
   "id": "3ccdea78",
   "metadata": {},
   "outputs": [],
   "source": []
  },
  {
   "cell_type": "code",
   "execution_count": null,
   "id": "1b91b38e",
   "metadata": {},
   "outputs": [],
   "source": []
  },
  {
   "cell_type": "code",
   "execution_count": null,
   "id": "5b5f6f3a",
   "metadata": {},
   "outputs": [],
   "source": []
  },
  {
   "cell_type": "code",
   "execution_count": null,
   "id": "6c5be5dc",
   "metadata": {},
   "outputs": [],
   "source": []
  },
  {
   "cell_type": "code",
   "execution_count": null,
   "id": "d5f1abee",
   "metadata": {},
   "outputs": [],
   "source": []
  },
  {
   "cell_type": "code",
   "execution_count": null,
   "id": "ef378731",
   "metadata": {},
   "outputs": [],
   "source": []
  },
  {
   "cell_type": "code",
   "execution_count": null,
   "id": "18d96e62",
   "metadata": {},
   "outputs": [],
   "source": []
  },
  {
   "cell_type": "code",
   "execution_count": null,
   "id": "7f7751b7",
   "metadata": {},
   "outputs": [],
   "source": []
  },
  {
   "cell_type": "code",
   "execution_count": null,
   "id": "fa005095",
   "metadata": {},
   "outputs": [],
   "source": []
  },
  {
   "cell_type": "code",
   "execution_count": null,
   "id": "68f1e1db",
   "metadata": {},
   "outputs": [],
   "source": []
  },
  {
   "cell_type": "code",
   "execution_count": null,
   "id": "0e4379bf",
   "metadata": {},
   "outputs": [],
   "source": []
  }
 ],
 "metadata": {
  "kernelspec": {
   "display_name": "hipython",
   "language": "python",
   "name": "python3"
  },
  "language_info": {
   "codemirror_mode": {
    "name": "ipython",
    "version": 3
   },
   "file_extension": ".py",
   "mimetype": "text/x-python",
   "name": "python",
   "nbconvert_exporter": "python",
   "pygments_lexer": "ipython3",
   "version": "3.12.9"
  }
 },
 "nbformat": 4,
 "nbformat_minor": 5
}
