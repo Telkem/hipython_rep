{
 "cells": [
  {
   "cell_type": "markdown",
   "id": "5cb8c36d-79fb-43a2-86f4-14dd2f04e014",
   "metadata": {},
   "source": [
    "# 예외의 종류\n",
    "\n",
    "1. 문법오류 : SyntaxError, NameError, TypeError 등\n",
    "2. 논리오류\n",
    "3. 예외상황"
   ]
  },
  {
   "cell_type": "code",
   "execution_count": 3,
   "id": "70f54fd0-3f57-4ee3-9f37-d3973bdb2dff",
   "metadata": {},
   "outputs": [
    {
     "ename": "SyntaxError",
     "evalue": "expected ':' (2999277992.py, line 2)",
     "output_type": "error",
     "traceback": [
      "  \u001b[36mCell\u001b[39m\u001b[36m \u001b[39m\u001b[32mIn[3]\u001b[39m\u001b[32m, line 2\u001b[39m\n\u001b[31m    \u001b[39m\u001b[31mwhile True\u001b[39m\n              ^\n\u001b[31mSyntaxError\u001b[39m\u001b[31m:\u001b[39m expected ':'\n"
     ]
    }
   ],
   "source": [
    "#문법오류\n",
    "while True\n",
    "    print(\"hello\")\n",
    "\n",
    "1 + 2 * am"
   ]
  },
  {
   "cell_type": "markdown",
   "id": "75cf0b1d-b014-49d5-8a2f-34a290530aff",
   "metadata": {},
   "source": [
    "# try:\n",
    "except"
   ]
  },
  {
   "cell_type": "code",
   "execution_count": 5,
   "id": "8c1a0078-0e5c-4356-8be8-d37b047dc626",
   "metadata": {},
   "outputs": [],
   "source": [
    "# 10/0 #ZeroDivisionError"
   ]
  },
  {
   "cell_type": "code",
   "execution_count": 6,
   "id": "9a94435e-7805-469c-aaa8-1c5b2e4b4c98",
   "metadata": {},
   "outputs": [],
   "source": [
    "def divide(m, n):\n",
    "    return m / n"
   ]
  },
  {
   "cell_type": "code",
   "execution_count": 7,
   "id": "01c1195f-d07d-4797-b28b-0cf4406d3cf8",
   "metadata": {},
   "outputs": [
    {
     "name": "stdout",
     "output_type": "stream",
     "text": [
      "1.5\n"
     ]
    }
   ],
   "source": [
    "result = divide(3, 2)\n",
    "print(result)"
   ]
  },
  {
   "cell_type": "code",
   "execution_count": 8,
   "id": "5e2de444-d6ef-459b-9bde-cf3291f0f858",
   "metadata": {},
   "outputs": [
    {
     "ename": "ZeroDivisionError",
     "evalue": "division by zero",
     "output_type": "error",
     "traceback": [
      "\u001b[31m---------------------------------------------------------------------------\u001b[39m",
      "\u001b[31mZeroDivisionError\u001b[39m                         Traceback (most recent call last)",
      "\u001b[36mCell\u001b[39m\u001b[36m \u001b[39m\u001b[32mIn[8]\u001b[39m\u001b[32m, line 1\u001b[39m\n\u001b[32m----> \u001b[39m\u001b[32m1\u001b[39m result = divide(\u001b[32m3\u001b[39m, \u001b[32m0\u001b[39m)\n\u001b[32m      2\u001b[39m \u001b[38;5;28mprint\u001b[39m(result)\n",
      "\u001b[36mCell\u001b[39m\u001b[36m \u001b[39m\u001b[32mIn[6]\u001b[39m\u001b[32m, line 2\u001b[39m, in \u001b[36mdivide\u001b[39m\u001b[34m(m, n)\u001b[39m\n\u001b[32m      1\u001b[39m \u001b[38;5;28;01mdef\u001b[39;00m\u001b[38;5;250m \u001b[39m\u001b[34mdivide\u001b[39m(m, n):\n\u001b[32m----> \u001b[39m\u001b[32m2\u001b[39m     \u001b[38;5;28;01mreturn\u001b[39;00m m / n\n",
      "\u001b[31mZeroDivisionError\u001b[39m: division by zero"
     ]
    }
   ],
   "source": [
    "result = divide(3, 0)\n",
    "print(result)"
   ]
  },
  {
   "cell_type": "code",
   "execution_count": 34,
   "id": "cec3b4f0-1ff4-41b4-8e44-f24187d4731f",
   "metadata": {},
   "outputs": [],
   "source": [
    "def divide(m, n):\n",
    "    try:\n",
    "        result = m / n\n",
    "        return result\n",
    "    except (TypeError, ZeroDivisionError):\n",
    "        print('나누기가 되지않는 값입니다.')\n",
    "        return None\n",
    "    \n",
    "    except : #나머지 모든 에러 받기\n",
    "        print(\"다른 에러가 발생했습니다.\")\n",
    "        return None\n",
    "    finally:\n",
    "        print(\"무조건 실행되는 코드입니다.\")"
   ]
  },
  {
   "cell_type": "code",
   "execution_count": 36,
   "id": "c7767ed4-438d-4f57-898b-9f24995b9a8e",
   "metadata": {},
   "outputs": [
    {
     "name": "stdout",
     "output_type": "stream",
     "text": [
      "나누기가 되지않는 값입니다.\n",
      "무조건 실행되는 코드입니다.\n",
      "None\n"
     ]
    }
   ],
   "source": [
    "result = divide(3, 0)\n",
    "print(result)"
   ]
  },
  {
   "cell_type": "code",
   "execution_count": 38,
   "id": "7d8f1890-72bc-4df5-9cd2-00fed000b17a",
   "metadata": {},
   "outputs": [
    {
     "name": "stdout",
     "output_type": "stream",
     "text": [
      "무조건 실행되는 코드입니다.\n",
      "0.6666666666666666\n"
     ]
    }
   ],
   "source": [
    "result = divide(2, 3)\n",
    "print(result)"
   ]
  },
  {
   "cell_type": "code",
   "execution_count": 39,
   "id": "1a885985-f1bd-49ba-aeda-66266591bf83",
   "metadata": {},
   "outputs": [
    {
     "ename": "TypeError",
     "evalue": "입력값오류",
     "output_type": "error",
     "traceback": [
      "\u001b[31m---------------------------------------------------------------------------\u001b[39m",
      "\u001b[31mTypeError\u001b[39m                                 Traceback (most recent call last)",
      "\u001b[36mCell\u001b[39m\u001b[36m \u001b[39m\u001b[32mIn[39]\u001b[39m\u001b[32m, line 1\u001b[39m\n\u001b[32m----> \u001b[39m\u001b[32m1\u001b[39m \u001b[38;5;28;01mraise\u001b[39;00m \u001b[38;5;167;01mTypeError\u001b[39;00m(\u001b[33m\"\u001b[39m\u001b[33m입력값오류\u001b[39m\u001b[33m\"\u001b[39m)\n",
      "\u001b[31mTypeError\u001b[39m: 입력값오류"
     ]
    }
   ],
   "source": [
    "raise TypeError(\"입력값오류\")"
   ]
  },
  {
   "cell_type": "code",
   "execution_count": 41,
   "id": "b9d3d3fa-2c59-43b0-bcef-f95b03b3f670",
   "metadata": {},
   "outputs": [
    {
     "name": "stdout",
     "output_type": "stream",
     "text": [
      "('입력값오류',)\n"
     ]
    }
   ],
   "source": [
    "try:\n",
    "    raise TypeError(\"입력값오류\")\n",
    "except TypeError as e:\n",
    "    print(e.args)"
   ]
  },
  {
   "cell_type": "markdown",
   "id": "f72ca247-45da-43be-8f87-aae047db3a3a",
   "metadata": {},
   "source": [
    "# 내가 정의하는 예외\n",
    "\n",
    "1. 예외 클래스 작성 : 각 예외상황에 맞는 메시지를 작성\n",
    "2. 호출할 때 try: except로 받아줍니다."
   ]
  },
  {
   "cell_type": "code",
   "execution_count": 43,
   "id": "5bff61dd-6ca1-496a-bc86-0d297e57135d",
   "metadata": {},
   "outputs": [],
   "source": [
    "class AgeException(Exception):\n",
    "    def __init__(self, msg):\n",
    "        self._message = msg\n",
    "\n",
    "def input_age():\n",
    "    age = int(input(\"나이를 입력하세요 : \"))\n",
    "    if age < 0:\n",
    "        raise AgeException(\"나이는 양수여야 합니다.\")\n",
    "    elif age > 150:\n",
    "        raise AgeException(\"150세 초과?\")\n",
    "    else:\n",
    "        return age"
   ]
  },
  {
   "cell_type": "code",
   "execution_count": 51,
   "id": "5af24cef-2d4f-41f9-bcae-b8249adc3674",
   "metadata": {},
   "outputs": [
    {
     "name": "stdin",
     "output_type": "stream",
     "text": [
      "나이를 입력하세요 :  20\n"
     ]
    },
    {
     "name": "stdout",
     "output_type": "stream",
     "text": [
      "입력하신 나이는 20입니다.\n"
     ]
    }
   ],
   "source": [
    "try:\n",
    "    age = input_age()\n",
    "except AgeException as e:\n",
    "    print(e.args[0])\n",
    "else:\n",
    "    print(f'입력하신 나이는 {age}입니다.')"
   ]
  },
  {
   "cell_type": "code",
   "execution_count": null,
   "id": "f092076b-be6c-45de-8bcf-0594a903fdea",
   "metadata": {},
   "outputs": [],
   "source": []
  },
  {
   "cell_type": "code",
   "execution_count": null,
   "id": "58decce7-5672-4520-a36a-950d23dfec2a",
   "metadata": {},
   "outputs": [],
   "source": []
  },
  {
   "cell_type": "code",
   "execution_count": null,
   "id": "32f32cf3-8220-4829-a605-7d402a7c75b1",
   "metadata": {},
   "outputs": [],
   "source": []
  },
  {
   "cell_type": "code",
   "execution_count": null,
   "id": "6dc45018-9ec5-4a3a-b36d-0f1643a09175",
   "metadata": {},
   "outputs": [],
   "source": []
  }
 ],
 "metadata": {
  "kernelspec": {
   "display_name": "Python 3 (ipykernel)",
   "language": "python",
   "name": "python3"
  },
  "language_info": {
   "codemirror_mode": {
    "name": "ipython",
    "version": 3
   },
   "file_extension": ".py",
   "mimetype": "text/x-python",
   "name": "python",
   "nbconvert_exporter": "python",
   "pygments_lexer": "ipython3",
   "version": "3.12.9"
  }
 },
 "nbformat": 4,
 "nbformat_minor": 5
}
