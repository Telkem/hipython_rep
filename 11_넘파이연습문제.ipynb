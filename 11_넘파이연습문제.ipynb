{
 "cells": [
  {
   "cell_type": "code",
   "execution_count": 2,
   "id": "2b8ad553",
   "metadata": {},
   "outputs": [],
   "source": [
    "import numpy as np"
   ]
  },
  {
   "cell_type": "code",
   "execution_count": 1,
   "id": "45fa79e6",
   "metadata": {},
   "outputs": [],
   "source": [
    "# 1단계 문제\n",
    "# 크기가 10인 null 벡터를 만드세요. (힌트: np.zeros())\n",
    "# numpy 버전과 설정을 출력하세요. (힌트: np.__version__, np.show_config())\n",
    "# 값이 10에서 49까지인 벡터를 만드세요. (힌트: np.arange(10, 50))\n",
    "# 벡터를 역순으로 만드세요 (첫 번째 요소가 마지막이 됩니다). (힌트: 배열을 뒤집기 위해 [::-1])\n",
    "# 크기가 3x3이고 0에서 8까지의 값을 갖는 행렬을 만드세요. (힌트: np.arange()와 reshape())"
   ]
  },
  {
   "cell_type": "code",
   "execution_count": 7,
   "id": "a411790a",
   "metadata": {},
   "outputs": [
    {
     "data": {
      "text/plain": [
       "array([0., 0., 0., 0., 0., 0., 0., 0., 0., 0.])"
      ]
     },
     "execution_count": 7,
     "metadata": {},
     "output_type": "execute_result"
    }
   ],
   "source": [
    "na = np.zeros(10)\n",
    "na"
   ]
  },
  {
   "cell_type": "code",
   "execution_count": 6,
   "id": "130ed978",
   "metadata": {},
   "outputs": [
    {
     "name": "stdout",
     "output_type": "stream",
     "text": [
      "Build Dependencies:\n",
      "  blas:\n",
      "    detection method: pkgconfig\n",
      "    found: true\n",
      "    include directory: C:/Users/runneradmin/AppData/Local/Temp/cibw-run-ly2cw5el/cp312-win_amd64/build/venv/Lib/site-packages/scipy_openblas64/include\n",
      "    lib directory: C:/Users/runneradmin/AppData/Local/Temp/cibw-run-ly2cw5el/cp312-win_amd64/build/venv/Lib/site-packages/scipy_openblas64/lib\n",
      "    name: scipy-openblas\n",
      "    openblas configuration: OpenBLAS 0.3.29  USE64BITINT DYNAMIC_ARCH NO_AFFINITY\n",
      "      Haswell MAX_THREADS=24\n",
      "    pc file directory: C:/a/numpy/numpy/.openblas\n",
      "    version: 0.3.29\n",
      "  lapack:\n",
      "    detection method: pkgconfig\n",
      "    found: true\n",
      "    include directory: C:/Users/runneradmin/AppData/Local/Temp/cibw-run-ly2cw5el/cp312-win_amd64/build/venv/Lib/site-packages/scipy_openblas64/include\n",
      "    lib directory: C:/Users/runneradmin/AppData/Local/Temp/cibw-run-ly2cw5el/cp312-win_amd64/build/venv/Lib/site-packages/scipy_openblas64/lib\n",
      "    name: scipy-openblas\n",
      "    openblas configuration: OpenBLAS 0.3.29  USE64BITINT DYNAMIC_ARCH NO_AFFINITY\n",
      "      Haswell MAX_THREADS=24\n",
      "    pc file directory: C:/a/numpy/numpy/.openblas\n",
      "    version: 0.3.29\n",
      "Compilers:\n",
      "  c:\n",
      "    commands: cl\n",
      "    linker: link\n",
      "    name: msvc\n",
      "    version: 19.43.34808\n",
      "  c++:\n",
      "    commands: cl\n",
      "    linker: link\n",
      "    name: msvc\n",
      "    version: 19.43.34808\n",
      "  cython:\n",
      "    commands: cython\n",
      "    linker: cython\n",
      "    name: cython\n",
      "    version: 3.1.1\n",
      "Machine Information:\n",
      "  build:\n",
      "    cpu: x86_64\n",
      "    endian: little\n",
      "    family: x86_64\n",
      "    system: windows\n",
      "  host:\n",
      "    cpu: x86_64\n",
      "    endian: little\n",
      "    family: x86_64\n",
      "    system: windows\n",
      "Python Information:\n",
      "  path: C:\\Users\\runneradmin\\AppData\\Local\\Temp\\build-env-5mlc73_a\\Scripts\\python.exe\n",
      "  version: '3.12'\n",
      "SIMD Extensions:\n",
      "  baseline:\n",
      "  - SSE\n",
      "  - SSE2\n",
      "  - SSE3\n",
      "  found:\n",
      "  - SSSE3\n",
      "  - SSE41\n",
      "  - POPCNT\n",
      "  - SSE42\n",
      "  - AVX\n",
      "  - F16C\n",
      "  - FMA3\n",
      "  - AVX2\n",
      "  not found:\n",
      "  - AVX512F\n",
      "  - AVX512CD\n",
      "  - AVX512_SKX\n",
      "  - AVX512_CLX\n",
      "  - AVX512_CNL\n",
      "  - AVX512_ICL\n",
      "\n"
     ]
    },
    {
     "data": {
      "text/plain": [
       "('2.3.0', None)"
      ]
     },
     "execution_count": 6,
     "metadata": {},
     "output_type": "execute_result"
    }
   ],
   "source": [
    "np.__version__, np.show_config()"
   ]
  },
  {
   "cell_type": "code",
   "execution_count": 8,
   "id": "24b20da8",
   "metadata": {},
   "outputs": [
    {
     "data": {
      "text/plain": [
       "array([10, 11, 12, 13, 14, 15, 16, 17, 18, 19, 20, 21, 22, 23, 24, 25, 26,\n",
       "       27, 28, 29, 30, 31, 32, 33, 34, 35, 36, 37, 38, 39, 40, 41, 42, 43,\n",
       "       44, 45, 46, 47, 48, 49])"
      ]
     },
     "execution_count": 8,
     "metadata": {},
     "output_type": "execute_result"
    }
   ],
   "source": [
    "na1 = np.arange(10,50)\n",
    "na1"
   ]
  },
  {
   "cell_type": "code",
   "execution_count": 9,
   "id": "3855b1b1",
   "metadata": {},
   "outputs": [
    {
     "data": {
      "text/plain": [
       "array([49, 48, 47, 46, 45, 44, 43, 42, 41, 40, 39, 38, 37, 36, 35, 34, 33,\n",
       "       32, 31, 30, 29, 28, 27, 26, 25, 24, 23, 22, 21, 20, 19, 18, 17, 16,\n",
       "       15, 14, 13, 12, 11, 10])"
      ]
     },
     "execution_count": 9,
     "metadata": {},
     "output_type": "execute_result"
    }
   ],
   "source": [
    "na1 = na1[::-1]\n",
    "na1"
   ]
  },
  {
   "cell_type": "code",
   "execution_count": 10,
   "id": "41b98907",
   "metadata": {},
   "outputs": [
    {
     "data": {
      "text/plain": [
       "array([[0, 1, 2],\n",
       "       [3, 4, 5],\n",
       "       [6, 7, 8]])"
      ]
     },
     "execution_count": 10,
     "metadata": {},
     "output_type": "execute_result"
    }
   ],
   "source": [
    "na2 = np.arange(9).reshape(3,3)\n",
    "na2"
   ]
  },
  {
   "cell_type": "code",
   "execution_count": null,
   "id": "ef136977",
   "metadata": {},
   "outputs": [],
   "source": [
    "# 2단계 문제\n",
    "# 1D 배열을 3x3 행렬로 변환하세요. (힌트: reshape())\n",
    "# 0에서 1 사이의 랜덤한 값으로 채워진 3x3 배열을 만드세요. (힌트: np.random.random())\n",
    "# 5x5 단위 행렬을 만드세요. (힌트: np.eye(5))\n",
    "# 임의의 1D 배열에서 가장 큰 값의 인덱스를 찾으세요. (힌트: np.argmax())\n",
    "# 크기가 10인 배열을 생성하고, 3에서 8까지의 값을 0으로 바꾸세요. (힌트: 슬라이싱과 배열 인덱싱)"
   ]
  },
  {
   "cell_type": "code",
   "execution_count": 12,
   "id": "a9cd9e52",
   "metadata": {},
   "outputs": [
    {
     "data": {
      "text/plain": [
       "array([[0, 1, 2],\n",
       "       [3, 4, 5],\n",
       "       [6, 7, 8]])"
      ]
     },
     "execution_count": 12,
     "metadata": {},
     "output_type": "execute_result"
    }
   ],
   "source": [
    "na = np.arange(9)\n",
    "na = na.reshape(3,3)\n",
    "na"
   ]
  },
  {
   "cell_type": "code",
   "execution_count": 14,
   "id": "ae355508",
   "metadata": {},
   "outputs": [
    {
     "data": {
      "text/plain": [
       "array([[0.17484675, 0.47351091, 0.46182468],\n",
       "       [0.15618681, 0.96514791, 0.66467146],\n",
       "       [0.84018929, 0.58366005, 0.39453181]])"
      ]
     },
     "execution_count": 14,
     "metadata": {},
     "output_type": "execute_result"
    }
   ],
   "source": [
    "na1 = np.random.random(9).reshape(3,3)\n",
    "na1"
   ]
  },
  {
   "cell_type": "code",
   "execution_count": 15,
   "id": "a53108ed",
   "metadata": {},
   "outputs": [
    {
     "data": {
      "text/plain": [
       "array([[1., 0., 0., 0., 0.],\n",
       "       [0., 1., 0., 0., 0.],\n",
       "       [0., 0., 1., 0., 0.],\n",
       "       [0., 0., 0., 1., 0.],\n",
       "       [0., 0., 0., 0., 1.]])"
      ]
     },
     "execution_count": 15,
     "metadata": {},
     "output_type": "execute_result"
    }
   ],
   "source": [
    "na2 = np.eye(5)\n",
    "na2"
   ]
  },
  {
   "cell_type": "code",
   "execution_count": 16,
   "id": "4be2ab84",
   "metadata": {},
   "outputs": [
    {
     "data": {
      "text/plain": [
       "np.int64(9)"
      ]
     },
     "execution_count": 16,
     "metadata": {},
     "output_type": "execute_result"
    }
   ],
   "source": [
    "na3 = np.random.random(10)\n",
    "na3.argmax()"
   ]
  },
  {
   "cell_type": "code",
   "execution_count": 17,
   "id": "c10e4726",
   "metadata": {},
   "outputs": [
    {
     "data": {
      "text/plain": [
       "array([0, 1, 2, 0, 0, 0, 0, 0, 0, 9])"
      ]
     },
     "execution_count": 17,
     "metadata": {},
     "output_type": "execute_result"
    }
   ],
   "source": [
    "na4 = np.arange(10)\n",
    "na4[3:9] = 0\n",
    "na4"
   ]
  },
  {
   "cell_type": "code",
   "execution_count": null,
   "id": "8106546c",
   "metadata": {},
   "outputs": [],
   "source": [
    "# 3단계 문제\n",
    "# 임의의 배열에서 가장 작은 값과 가장 큰 값을 교환하세요. (힌트: np.min(), np.max()와 인덱싱)\n",
    "# 3차원 배열의 각 슬라이스마다 평균값을 계산하세요. (힌트: np.mean()과 축 설정)\n",
    "# 크기가 100인 배열을 생성하고 평균, 표준편차를 계산하세요. (힌트: np.mean(), np.std())\n",
    "# 주어진 2D 배열에서 고유한 행을 찾으세요. (힌트: np.unique()와 axis 설정)\n",
    "# 임의의 10x10 배열에서 가장 큰 값 5개를 찾으세요. (힌트: np.argsort()와 슬라이싱)"
   ]
  },
  {
   "cell_type": "code",
   "execution_count": 20,
   "id": "df655d5d",
   "metadata": {},
   "outputs": [
    {
     "name": "stdout",
     "output_type": "stream",
     "text": [
      "[0.90990651 0.94972986 0.82709807 0.25708301 0.66360964 0.99726529\n",
      " 0.63620442 0.04055788 0.69939431 0.78992245]\n",
      "[0.90990651 0.94972986 0.82709807 0.25708301 0.66360964 0.04055788\n",
      " 0.63620442 0.99726529 0.69939431 0.78992245]\n"
     ]
    }
   ],
   "source": [
    "na = np.random.random(10)\n",
    "print(na)\n",
    "max_i, min_i = na.argmax(), na.argmin()\n",
    "na[max_i], na[min_i] = na.min(), na.max()\n",
    "print(na)"
   ]
  },
  {
   "cell_type": "code",
   "execution_count": 39,
   "id": "ae5db8ca",
   "metadata": {},
   "outputs": [
    {
     "name": "stdout",
     "output_type": "stream",
     "text": [
      "[[[ 0  1  2  3  4]\n",
      "  [ 5  6  7  8  9]]\n",
      "\n",
      " [[10 11 12 13 14]\n",
      "  [15 16 17 18 19]]\n",
      "\n",
      " [[20 21 22 23 24]\n",
      "  [25 26 27 28 29]]]\n"
     ]
    },
    {
     "data": {
      "text/plain": [
       "array([[ 2.,  7.],\n",
       "       [12., 17.],\n",
       "       [22., 27.]])"
      ]
     },
     "execution_count": 39,
     "metadata": {},
     "output_type": "execute_result"
    }
   ],
   "source": [
    "na1 = np.arange(30).reshape(3,2,5)\n",
    "print(na1)\n",
    "np.mean(na1, axis=2)"
   ]
  },
  {
   "cell_type": "code",
   "execution_count": 41,
   "id": "3268d8bb",
   "metadata": {},
   "outputs": [
    {
     "name": "stdout",
     "output_type": "stream",
     "text": [
      "49.5 28.86607004772212\n"
     ]
    }
   ],
   "source": [
    "na2 = np.arange(100)\n",
    "print(na2.mean(), na2.std())"
   ]
  },
  {
   "cell_type": "code",
   "execution_count": 50,
   "id": "2a92d86e",
   "metadata": {},
   "outputs": [
    {
     "data": {
      "text/plain": [
       "array([99, 98, 97, 96, 95])"
      ]
     },
     "execution_count": 50,
     "metadata": {},
     "output_type": "execute_result"
    }
   ],
   "source": [
    "na3 = np.arange(100).reshape(10,10)\n",
    "flat_na3 = na3.flatten()\n",
    "sorted_na3 = np.argsort(flat_na3)[::-1]\n",
    "sorted_na3[:5]"
   ]
  },
  {
   "cell_type": "code",
   "execution_count": 266,
   "id": "7bdb4a36",
   "metadata": {},
   "outputs": [
    {
     "data": {
      "text/plain": [
       "array([[ 8,  8,  8,  6,  6],\n",
       "       [14, 19, 12, 14, 13],\n",
       "       [15,  7,  7,  4, 10],\n",
       "       [18, 17, 18, 13, 18]], dtype=int32)"
      ]
     },
     "execution_count": 266,
     "metadata": {},
     "output_type": "execute_result"
    }
   ],
   "source": [
    "na4 = np.random.randint(1,21, (4,5))\n",
    "np.unique(na4,axis=0)"
   ]
  }
 ],
 "metadata": {
  "kernelspec": {
   "display_name": "hipython",
   "language": "python",
   "name": "python3"
  },
  "language_info": {
   "codemirror_mode": {
    "name": "ipython",
    "version": 3
   },
   "file_extension": ".py",
   "mimetype": "text/x-python",
   "name": "python",
   "nbconvert_exporter": "python",
   "pygments_lexer": "ipython3",
   "version": "3.12.9"
  }
 },
 "nbformat": 4,
 "nbformat_minor": 5
}
